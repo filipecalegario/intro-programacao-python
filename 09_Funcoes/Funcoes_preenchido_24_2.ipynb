{
 "cells": [
  {
   "cell_type": "markdown",
   "metadata": {},
   "source": [
    "# Funções\n",
    "\n",
    "Imagine que você criou um código para imprimir todos os dados pessoais de uma pessoa."
   ]
  },
  {
   "cell_type": "code",
   "execution_count": null,
   "metadata": {},
   "outputs": [],
   "source": []
  },
  {
   "cell_type": "markdown",
   "metadata": {},
   "source": [
    "<img  src=\"./imgs/funcoes01.png\" width=\"350\" />\n",
    "\n",
    "### Poderíamos usar força bruta e replicar o código ...\n",
    "\n",
    "<img  src=\"./imgs/funcoes02a.png\" width=\"600\" />\n",
    "\n",
    "### ...  ou atribuir um nome ao nosso \"pedaço de código\"\n",
    "\n",
    "<img  src=\"./imgs/funcoes02.png\" width=\"600\" />\n",
    "\n",
    "### O efeito final será o seguinte:\n",
    "\n",
    "<img  src=\"./imgs/funcoes03.png\" width=\"600\" />\n",
    "\n",
    "A essa capacidade de atribuir um nome a um bloco de código, que pode ser reutilizado em diversas partes do programa, é conhecida como **definição de funções**.\n",
    "\n",
    "Após **definida**, uma função pode ser **chamada**, escrevendo o seu nome onde desejarmos executar o bloco de código que ela representa.\n",
    "\n",
    "<img  src=\"./imgs/funcoes04.png\" width=\"500\" />\n",
    "\n"
   ]
  },
  {
   "cell_type": "code",
   "execution_count": null,
   "metadata": {},
   "outputs": [],
   "source": []
  },
  {
   "cell_type": "markdown",
   "metadata": {},
   "source": [
    "**Obs:** note que a definição da função, por si só, não executa nada; é preciso **chamar** a função! Por exemplo, o código a seguir não imprime os dados pessoais, pois a função `imprime_dados_pessoais()` não é chamada no corpo do programa."
   ]
  },
  {
   "cell_type": "code",
   "execution_count": null,
   "metadata": {},
   "outputs": [],
   "source": []
  },
  {
   "cell_type": "markdown",
   "metadata": {},
   "source": [
    "Vamos chamar a função ```imprimir_dados_pessoais```"
   ]
  },
  {
   "cell_type": "code",
   "execution_count": null,
   "metadata": {},
   "outputs": [],
   "source": []
  },
  {
   "cell_type": "markdown",
   "metadata": {},
   "source": [
    "### Estrutura de funções\n",
    "\n",
    "A definição de uma função utiliza a seguinte estrutura:\n",
    "\n",
    "<img  src=\"./imgs/funcoes05.png\" width=\"350\" />\n",
    "\n",
    "### Exercício\n",
    "\n",
    "<img  src=\"./imgs/funcoes06.png\" width=\"700\" />\n"
   ]
  },
  {
   "cell_type": "code",
   "execution_count": null,
   "metadata": {},
   "outputs": [],
   "source": []
  },
  {
   "cell_type": "markdown",
   "metadata": {},
   "source": [
    "### Passagem de Parâmetros\n",
    "\n",
    "Passagem de parâmetros é um mecanismo utilizado pelas linguagens de programação para **passar valores para uma função no momento de sua chamada**.\n",
    "\n",
    "Tais valores são **armazenados** em variáveis, que formam a **lista de parâmetros** da função e que são **criadas** quando a função inicia sua execução e **destruídas** quando ela finaliza.\n"
   ]
  },
  {
   "cell_type": "code",
   "execution_count": null,
   "metadata": {},
   "outputs": [],
   "source": []
  },
  {
   "cell_type": "markdown",
   "metadata": {},
   "source": [
    "### Variáveis Locais\n",
    "\n",
    "Variáveis declaradas dentro de uma função são chamadas de variáveis locais\n",
    "- O escopo de uma variável local está limitado ao bloco de código pertencente à função\n",
    "- É possível definir uma variável local com o mesmo nome de uma variável externa à função\n",
    "\n"
   ]
  },
  {
   "cell_type": "code",
   "execution_count": null,
   "metadata": {},
   "outputs": [],
   "source": []
  },
  {
   "cell_type": "code",
   "execution_count": null,
   "metadata": {},
   "outputs": [],
   "source": []
  },
  {
   "cell_type": "markdown",
   "metadata": {},
   "source": [
    "### Variáveis Globais\n",
    "\n",
    "Variáveis cujo escopo não está limitado a blocos internos de funções ou classes.\n",
    "\n",
    "Para usar uma variável global dentro de uma função, deve-se dizer ao Python que a variável não é local, usando o comando `global`."
   ]
  },
  {
   "cell_type": "code",
   "execution_count": null,
   "metadata": {},
   "outputs": [],
   "source": []
  },
  {
   "cell_type": "markdown",
   "metadata": {},
   "source": [
    "### Argumento Default\n",
    "\n",
    "É possível tornar alguns parâmetros opcionais, atribuindo a eles valores default."
   ]
  },
  {
   "cell_type": "code",
   "execution_count": null,
   "metadata": {},
   "outputs": [],
   "source": []
  },
  {
   "cell_type": "markdown",
   "metadata": {},
   "source": [
    "### Argumento Keyword\n",
    "\n",
    "Se a função possuir muitos argumentos default, é possível definir quais serão passados usando o nome do parâmetro (argumentos keyword) ao invés de sua posição."
   ]
  },
  {
   "cell_type": "code",
   "execution_count": null,
   "metadata": {},
   "outputs": [],
   "source": []
  },
  {
   "cell_type": "markdown",
   "metadata": {},
   "source": [
    "### Comando `return`\n",
    "\n",
    "Utilizado para que a função **retorne** algum resultado para quem a chamou."
   ]
  },
  {
   "cell_type": "code",
   "execution_count": null,
   "metadata": {},
   "outputs": [],
   "source": []
  }
 ],
 "metadata": {
  "kernelspec": {
   "display_name": "Python 3.10.8 64-bit",
   "language": "python",
   "name": "python3"
  },
  "language_info": {
   "codemirror_mode": {
    "name": "ipython",
    "version": 3
   },
   "file_extension": ".py",
   "mimetype": "text/x-python",
   "name": "python",
   "nbconvert_exporter": "python",
   "pygments_lexer": "ipython3",
   "version": "3.10.8"
  },
  "vscode": {
   "interpreter": {
    "hash": "949777d72b0d2535278d3dc13498b2535136f6dfe0678499012e853ee9abcab1"
   }
  }
 },
 "nbformat": 4,
 "nbformat_minor": 2
}
