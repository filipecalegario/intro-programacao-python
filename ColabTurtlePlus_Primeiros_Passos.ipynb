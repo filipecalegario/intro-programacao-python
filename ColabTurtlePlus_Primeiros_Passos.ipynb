{
  "nbformat": 4,
  "nbformat_minor": 0,
  "metadata": {
    "colab": {
      "provenance": [],
      "authorship_tag": "ABX9TyPZhrFvmZmHXWRl6FHzR+ba",
      "include_colab_link": true
    },
    "kernelspec": {
      "name": "python3",
      "display_name": "Python 3"
    },
    "language_info": {
      "name": "python"
    }
  },
  "cells": [
    {
      "cell_type": "markdown",
      "metadata": {
        "id": "view-in-github",
        "colab_type": "text"
      },
      "source": [
        "<a href=\"https://colab.research.google.com/github/filipecalegario/intro-programacao-python/blob/main/ColabTurtlePlus_Primeiros_Passos.ipynb\" target=\"_parent\"><img src=\"https://colab.research.google.com/assets/colab-badge.svg\" alt=\"Open In Colab\"/></a>"
      ]
    },
    {
      "cell_type": "markdown",
      "source": [
        "### Instalação da Biblioteca ColabTurtle"
      ],
      "metadata": {
        "id": "e6v3z4G5qYJI"
      }
    },
    {
      "cell_type": "code",
      "execution_count": 7,
      "metadata": {
        "id": "HDnH76v7p0e8"
      },
      "outputs": [],
      "source": [
        "!pip install -q ColabTurtlePlus"
      ]
    },
    {
      "cell_type": "markdown",
      "source": [
        "### Configurações Iniciais"
      ],
      "metadata": {
        "id": "GDZTlTTkqcq9"
      }
    },
    {
      "cell_type": "code",
      "source": [
        "from ColabTurtlePlus.Turtle import *"
      ],
      "metadata": {
        "id": "L6DdovakqQHb"
      },
      "execution_count": 20,
      "outputs": []
    },
    {
      "cell_type": "markdown",
      "source": [
        "### Código Principal"
      ],
      "metadata": {
        "id": "AwoNZhxZqfXs"
      }
    },
    {
      "cell_type": "code",
      "source": [
        "clearscreen()\n",
        "showborder()\n",
        "t = Turtle()\n",
        "t.shape('turtle2')\n",
        "setup(400, 400)\n",
        "\n",
        "for c in range(4):\n",
        "  t.forward(50)\n",
        "  t.right(90)"
      ],
      "metadata": {
        "id": "P3f-5AgwqhYF"
      },
      "execution_count": null,
      "outputs": []
    }
  ]
}