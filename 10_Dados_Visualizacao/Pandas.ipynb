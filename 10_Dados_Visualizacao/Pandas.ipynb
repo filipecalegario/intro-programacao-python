{
 "cells": [
  {
   "cell_type": "markdown",
   "metadata": {
    "slideshow": {
     "slide_type": "slide"
    }
   },
   "source": [
    "# Pandas\n",
    "\n",
    "Pandas é biblioteca construída a partir de NumPy para prover uma implementação eficiente de uma estrutrura de dados conhecida como DataFrame. FALAR MAIS SOBRE PANDAS...\n",
    "\n",
    "\n",
    "<img  src=\"./imagens/pandas.jpeg\" width=\"200\" />"
   ]
  },
  {
   "cell_type": "markdown",
   "metadata": {
    "slideshow": {
     "slide_type": "slide"
    }
   },
   "source": [
    "Para trabalharmos com o pandas, precisamos importar a biblioteca, utilizando o comando: "
   ]
  },
  {
   "cell_type": "code",
   "execution_count": 1,
   "metadata": {
    "slideshow": {
     "slide_type": "-"
    }
   },
   "outputs": [],
   "source": [
    "import pandas as pd"
   ]
  },
  {
   "cell_type": "markdown",
   "metadata": {},
   "source": [
    "A partir de agora, sempre que você utilizar ```pd.``` dentro do código, estará referenciado a biblioteca pandas."
   ]
  },
  {
   "cell_type": "markdown",
   "metadata": {
    "slideshow": {
     "slide_type": "slide"
    }
   },
   "source": [
    "### Carregando os Dados\n",
    "\n",
    "Vamos iniciar com um arquivo CSV. A biblioteca Pandas carrega os dados em uma estrutura de dados própria, indexando cada linha, separando variáveis com delimitadores customizáveis, inferindo qual o tipo de dado de cada coluna, convertendo os dados (se necessário, por exemplo, texto para número), fazendo o tratamento de datas, valores ausentes e valores incorretos.\n",
    "\n",
    "Para isso, utilizaremos uma base com o histórico de cotação das ações preferenciais da Petrobras no período de 07/03/2020 até 07/04/2020, que está no arquivo PETR4 Dados ``PETR4 Dados Históricos.csv``. Para tanto, utilizaremos os seguintes comandos:"
   ]
  },
  {
   "cell_type": "code",
   "execution_count": 3,
   "metadata": {},
   "outputs": [],
   "source": [
    "nome_acao = 'PETR4 Dados Históricos.csv'\n",
    "petr4 = pd.read_csv(nome_acao, decimal=\",\")"
   ]
  },
  {
   "cell_type": "markdown",
   "metadata": {},
   "source": [
    "O resultado é um objeto, chamado ``petr4``, que armazena um ``DataFrame`` Pandas. Note o uso de ``decimal=\",\"`` para indicar que o arquivo está utilizando o separador decimal brasileiro.  Para ter uma ideia de sua estrutura, vamos imprimir as primeiras linhas do DataFrame, usando o seguinte comando para isso:"
   ]
  },
  {
   "cell_type": "markdown",
   "metadata": {},
   "source": [
    "Um ``DataFrame`` Pandas possu é estrutura de dados tem algumas características que serão estudadas mais adiante. Por enquanto, basta saber que ela possui uma estrutura de matriz. Cada linha da matriz possui um índice, que aparece na coluna mais à esquerda. Cada coluna, possui um índice, que é o próprio nome da coluna. \n",
    "\n",
    "Se quiséssemos imprimir as últimas linhas do Data Frame ``petr4``, poderíamos usar a função ``tail``.\n",
    "\n",
    "A função ``head``/``tail`` imprime a 5 primeiras/últimas linhas. É possível controlar o número de linhas impressas, passando um parâmetro. Por exemplo, vamos imprimir apenas as duas primeiras linhas."
   ]
  },
  {
   "cell_type": "code",
   "execution_count": 4,
   "metadata": {},
   "outputs": [
    {
     "data": {
      "text/html": [
       "<div>\n",
       "<style scoped>\n",
       "    .dataframe tbody tr th:only-of-type {\n",
       "        vertical-align: middle;\n",
       "    }\n",
       "\n",
       "    .dataframe tbody tr th {\n",
       "        vertical-align: top;\n",
       "    }\n",
       "\n",
       "    .dataframe thead th {\n",
       "        text-align: right;\n",
       "    }\n",
       "</style>\n",
       "<table border=\"1\" class=\"dataframe\">\n",
       "  <thead>\n",
       "    <tr style=\"text-align: right;\">\n",
       "      <th></th>\n",
       "      <th>Data</th>\n",
       "      <th>Último</th>\n",
       "      <th>Abertura</th>\n",
       "      <th>Máxima</th>\n",
       "      <th>Mínima</th>\n",
       "      <th>Vol.</th>\n",
       "      <th>Var%</th>\n",
       "    </tr>\n",
       "  </thead>\n",
       "  <tbody>\n",
       "    <tr>\n",
       "      <th>0</th>\n",
       "      <td>11.11.2022</td>\n",
       "      <td>26.99</td>\n",
       "      <td>25.86</td>\n",
       "      <td>27.34</td>\n",
       "      <td>25.70</td>\n",
       "      <td>146,36M</td>\n",
       "      <td>3,33%</td>\n",
       "    </tr>\n",
       "    <tr>\n",
       "      <th>1</th>\n",
       "      <td>10.11.2022</td>\n",
       "      <td>26.12</td>\n",
       "      <td>26.08</td>\n",
       "      <td>26.89</td>\n",
       "      <td>25.61</td>\n",
       "      <td>145,47M</td>\n",
       "      <td>-2,90%</td>\n",
       "    </tr>\n",
       "  </tbody>\n",
       "</table>\n",
       "</div>"
      ],
      "text/plain": [
       "         Data  Último  Abertura  Máxima  Mínima     Vol.    Var%\n",
       "0  11.11.2022   26.99     25.86   27.34   25.70  146,36M   3,33%\n",
       "1  10.11.2022   26.12     26.08   26.89   25.61  145,47M  -2,90%"
      ]
     },
     "execution_count": 4,
     "metadata": {},
     "output_type": "execute_result"
    }
   ],
   "source": [
    "petr4.head(2)"
   ]
  },
  {
   "cell_type": "code",
   "execution_count": 6,
   "metadata": {},
   "outputs": [
    {
     "data": {
      "text/html": [
       "<div>\n",
       "<style scoped>\n",
       "    .dataframe tbody tr th:only-of-type {\n",
       "        vertical-align: middle;\n",
       "    }\n",
       "\n",
       "    .dataframe tbody tr th {\n",
       "        vertical-align: top;\n",
       "    }\n",
       "\n",
       "    .dataframe thead th {\n",
       "        text-align: right;\n",
       "    }\n",
       "</style>\n",
       "<table border=\"1\" class=\"dataframe\">\n",
       "  <thead>\n",
       "    <tr style=\"text-align: right;\">\n",
       "      <th></th>\n",
       "      <th>Data</th>\n",
       "      <th>Último</th>\n",
       "      <th>Abertura</th>\n",
       "      <th>Máxima</th>\n",
       "      <th>Mínima</th>\n",
       "      <th>Vol.</th>\n",
       "      <th>Var%</th>\n",
       "    </tr>\n",
       "  </thead>\n",
       "  <tbody>\n",
       "    <tr>\n",
       "      <th>0</th>\n",
       "      <td>11.11.2022</td>\n",
       "      <td>26,99</td>\n",
       "      <td>25,86</td>\n",
       "      <td>27,34</td>\n",
       "      <td>25,70</td>\n",
       "      <td>146,36M</td>\n",
       "      <td>3,33%</td>\n",
       "    </tr>\n",
       "    <tr>\n",
       "      <th>1</th>\n",
       "      <td>10.11.2022</td>\n",
       "      <td>26,12</td>\n",
       "      <td>26,08</td>\n",
       "      <td>26,89</td>\n",
       "      <td>25,61</td>\n",
       "      <td>145,47M</td>\n",
       "      <td>-2,90%</td>\n",
       "    </tr>\n",
       "    <tr>\n",
       "      <th>2</th>\n",
       "      <td>09.11.2022</td>\n",
       "      <td>26,90</td>\n",
       "      <td>27,15</td>\n",
       "      <td>27,95</td>\n",
       "      <td>26,64</td>\n",
       "      <td>103,30M</td>\n",
       "      <td>-1,65%</td>\n",
       "    </tr>\n",
       "    <tr>\n",
       "      <th>3</th>\n",
       "      <td>08.11.2022</td>\n",
       "      <td>27,35</td>\n",
       "      <td>27,06</td>\n",
       "      <td>27,53</td>\n",
       "      <td>26,75</td>\n",
       "      <td>94,75M</td>\n",
       "      <td>0,74%</td>\n",
       "    </tr>\n",
       "    <tr>\n",
       "      <th>4</th>\n",
       "      <td>07.11.2022</td>\n",
       "      <td>27,15</td>\n",
       "      <td>27,96</td>\n",
       "      <td>28,30</td>\n",
       "      <td>27,07</td>\n",
       "      <td>117,21M</td>\n",
       "      <td>-4,06%</td>\n",
       "    </tr>\n",
       "  </tbody>\n",
       "</table>\n",
       "</div>"
      ],
      "text/plain": [
       "         Data Último Abertura Máxima Mínima     Vol.    Var%\n",
       "0  11.11.2022  26,99    25,86  27,34  25,70  146,36M   3,33%\n",
       "1  10.11.2022  26,12    26,08  26,89  25,61  145,47M  -2,90%\n",
       "2  09.11.2022  26,90    27,15  27,95  26,64  103,30M  -1,65%\n",
       "3  08.11.2022  27,35    27,06  27,53  26,75   94,75M   0,74%\n",
       "4  07.11.2022  27,15    27,96  28,30  27,07  117,21M  -4,06%"
      ]
     },
     "execution_count": 6,
     "metadata": {},
     "output_type": "execute_result"
    }
   ],
   "source": [
    "nome_acao = 'PETR4 Dados Históricos.csv'\n",
    "petr4 = pd.read_csv(nome_acao)\n",
    "petr4.head(5)"
   ]
  },
  {
   "cell_type": "markdown",
   "metadata": {},
   "source": [
    "Se desejarmos visualizar apenas os nomes das colunas, podemos usar:"
   ]
  },
  {
   "cell_type": "code",
   "execution_count": 7,
   "metadata": {},
   "outputs": [
    {
     "data": {
      "text/plain": [
       "Index(['Data', 'Último', 'Abertura', 'Máxima', 'Mínima', 'Vol.', 'Var%'], dtype='object')"
      ]
     },
     "execution_count": 7,
     "metadata": {},
     "output_type": "execute_result"
    }
   ],
   "source": [
    "petr4.columns"
   ]
  },
  {
   "cell_type": "code",
   "execution_count": 8,
   "metadata": {},
   "outputs": [
    {
     "data": {
      "text/plain": [
       "0     11.11.2022\n",
       "1     10.11.2022\n",
       "2     09.11.2022\n",
       "3     08.11.2022\n",
       "4     07.11.2022\n",
       "5     04.11.2022\n",
       "6     03.11.2022\n",
       "7     01.11.2022\n",
       "8     31.10.2022\n",
       "9     28.10.2022\n",
       "10    27.10.2022\n",
       "11    26.10.2022\n",
       "12    25.10.2022\n",
       "13    24.10.2022\n",
       "14    21.10.2022\n",
       "15    20.10.2022\n",
       "16    19.10.2022\n",
       "17    18.10.2022\n",
       "18    17.10.2022\n",
       "19    14.10.2022\n",
       "20    13.10.2022\n",
       "21    11.10.2022\n",
       "22    10.10.2022\n",
       "Name: Data, dtype: object"
      ]
     },
     "execution_count": 8,
     "metadata": {},
     "output_type": "execute_result"
    }
   ],
   "source": [
    "datas = petr4['Data']\n",
    "datas"
   ]
  },
  {
   "cell_type": "markdown",
   "metadata": {},
   "source": [
    "Note que, ao extaírmos os dados referenciados pela coluna ``Datas``, obtivemos um conjunto de valores em uma estrutura unidimensional. Cada um desses valores possuem um índice associado. No caso acima, os índices variam de 0 até 21. Essa estrutura de dados é fundamental para trabalharmos com Pandas e se chama `Series`. Então, vamos estudá-la.\n",
    "\n",
    "### Series\n",
    "\n",
    "Trata-se de um array de ```dados``` unidimensional, que possui um array de rótulos chamado ```index```. Cada elemento do array de dados possui uma associação com um elemento do *index*. Por exemplo, vamos criar uma série com um array contendo algumas ações da bolsa de valores de São Paulo."
   ]
  },
  {
   "cell_type": "code",
   "execution_count": 9,
   "metadata": {},
   "outputs": [
    {
     "data": {
      "text/plain": [
       "0    Vale do Rio Doce\n",
       "1           Petrobras\n",
       "2            Usiminas\n",
       "dtype: object"
      ]
     },
     "execution_count": 9,
     "metadata": {},
     "output_type": "execute_result"
    }
   ],
   "source": [
    "\n",
    "serie_acoes = pd.Series(['Vale do Rio Doce', 'Petrobras', 'Usiminas'])\n",
    "serie_acoes"
   ]
  },
  {
   "cell_type": "markdown",
   "metadata": {},
   "source": [
    "O índices são apresentados na coluna esquerda e os dados são mostrados na coluna direita. Nesse caso específico, como não definimos quais índices serão associados a cada dado, são utilizados valores inteiros, de 0 à N, para representar os índices. Porém, poderíamos definir os índices explicitamente.\n",
    "\n",
    "No exemplo abaixo, os índices são *VALE3*, *PETR4* e *USIM5*. Eles foram explicitamente definidos."
   ]
  },
  {
   "cell_type": "code",
   "execution_count": 16,
   "metadata": {},
   "outputs": [
    {
     "data": {
      "text/plain": [
       "VALE3    Vale do Rio Doce\n",
       "PETR4           Petrobras\n",
       "USIM5            Usiminas\n",
       "dtype: object"
      ]
     },
     "execution_count": 16,
     "metadata": {},
     "output_type": "execute_result"
    }
   ],
   "source": [
    "serie_acoes = pd.Series(['Vale do Rio Doce', 'Petrobras', 'Usiminas'],index=['VALE3','PETR4','USIM5'])\n",
    "serie_acoes"
   ]
  },
  {
   "cell_type": "markdown",
   "metadata": {},
   "source": [
    "Para acessar os valores dos dados, utilizamos:"
   ]
  },
  {
   "cell_type": "code",
   "execution_count": 11,
   "metadata": {},
   "outputs": [
    {
     "data": {
      "text/plain": [
       "array(['Vale do Rio Doce', 'Petrobras', 'Usiminas'], dtype=object)"
      ]
     },
     "execution_count": 11,
     "metadata": {},
     "output_type": "execute_result"
    }
   ],
   "source": [
    "serie_acoes.values"
   ]
  },
  {
   "cell_type": "markdown",
   "metadata": {},
   "source": [
    "Para acessar os valores dos índices, utilizamos:"
   ]
  },
  {
   "cell_type": "code",
   "execution_count": 12,
   "metadata": {},
   "outputs": [
    {
     "data": {
      "text/plain": [
       "Index(['VALE3', 'PETR4', 'USIM5'], dtype='object')"
      ]
     },
     "execution_count": 12,
     "metadata": {},
     "output_type": "execute_result"
    }
   ],
   "source": [
    "serie_acoes.index"
   ]
  },
  {
   "cell_type": "markdown",
   "metadata": {},
   "source": [
    "Tanto o objeto Series quanto os seus índices possuem um atributo chamado ``name``:"
   ]
  },
  {
   "cell_type": "code",
   "execution_count": 13,
   "metadata": {},
   "outputs": [
    {
     "data": {
      "text/plain": [
       "Símbolo\n",
       "VALE3    Vale do Rio Doce\n",
       "PETR4           Petrobras\n",
       "USIM5            Usiminas\n",
       "Name: Ações, dtype: object"
      ]
     },
     "execution_count": 13,
     "metadata": {},
     "output_type": "execute_result"
    }
   ],
   "source": [
    "serie_acoes.name = 'Ações'\n",
    "serie_acoes.index.name = 'Símbolo'\n",
    "serie_acoes"
   ]
  },
  {
   "cell_type": "markdown",
   "metadata": {},
   "source": [
    "É possível forçar a mudança dos índices por meio de atribuição:"
   ]
  },
  {
   "cell_type": "code",
   "execution_count": 14,
   "metadata": {},
   "outputs": [
    {
     "data": {
      "text/plain": [
       "Idx1    Vale do Rio Doce\n",
       "Idx2           Petrobras\n",
       "Idx3            Usiminas\n",
       "Name: Ações, dtype: object"
      ]
     },
     "execution_count": 14,
     "metadata": {},
     "output_type": "execute_result"
    }
   ],
   "source": [
    "serie_acoes.index = ['Idx1','Idx2','Idx3']\n",
    "serie_acoes"
   ]
  },
  {
   "cell_type": "markdown",
   "metadata": {},
   "source": [
    "#### Operações básicas com Series\n",
    "A seguir, apresentamos algumas operações básicas que podem ser realizadas utilizando Series.\n",
    "\n",
    "##### Acessando dados"
   ]
  },
  {
   "cell_type": "code",
   "execution_count": 17,
   "metadata": {},
   "outputs": [
    {
     "data": {
      "text/plain": [
       "'Petrobras'"
      ]
     },
     "execution_count": 17,
     "metadata": {},
     "output_type": "execute_result"
    }
   ],
   "source": [
    "serie_acoes['PETR4']"
   ]
  },
  {
   "cell_type": "code",
   "execution_count": 18,
   "metadata": {},
   "outputs": [
    {
     "data": {
      "text/plain": [
       "VALE3    Vale do Rio Doce\n",
       "PETR4           Petrobras\n",
       "dtype: object"
      ]
     },
     "execution_count": 18,
     "metadata": {},
     "output_type": "execute_result"
    }
   ],
   "source": [
    "serie_acoes[['VALE3','PETR4']]"
   ]
  },
  {
   "cell_type": "markdown",
   "metadata": {},
   "source": [
    "##### Filtrando dados"
   ]
  },
  {
   "cell_type": "code",
   "execution_count": 19,
   "metadata": {},
   "outputs": [
    {
     "name": "stdout",
     "output_type": "stream",
     "text": [
      "todos\n",
      "n1    1\n",
      "n2    2\n",
      "n3    3\n",
      "n4    4\n",
      "n5    5\n",
      "n6    6\n",
      "dtype: int64\n",
      "pares:\n",
      "n2    2\n",
      "n4    4\n",
      "n6    6\n",
      "dtype: int64\n",
      "impares:\n",
      "n1    1\n",
      "n3    3\n",
      "n5    5\n",
      "dtype: int64\n"
     ]
    }
   ],
   "source": [
    "# cria a série\n",
    "num = pd.Series([1,2,3,4,5,6],index=['n1','n2','n3','n4','n5','n6'])\n",
    "\n",
    "# filtra números pares\n",
    "par = num[num%2 == 0]\n",
    "\n",
    "# filtra números impares\n",
    "impar = num[num%2 != 0]\n",
    "\n",
    "print('todos')\n",
    "print(num)\n",
    "print('pares:')\n",
    "print(par)\n",
    "print('impares:')\n",
    "print(impar)"
   ]
  },
  {
   "cell_type": "markdown",
   "metadata": {},
   "source": [
    "Vamos selecionar todas as datas armazenada na Series ``Datas``, que são menores que *07.03.2020*: "
   ]
  },
  {
   "cell_type": "markdown",
   "metadata": {},
   "source": [
    "# Aqui está errado!"
   ]
  },
  {
   "cell_type": "code",
   "execution_count": 20,
   "metadata": {},
   "outputs": [
    {
     "data": {
      "text/plain": [
       "5    04.11.2022\n",
       "6    03.11.2022\n",
       "7    01.11.2022\n",
       "Name: Data, dtype: object"
      ]
     },
     "execution_count": 20,
     "metadata": {},
     "output_type": "execute_result"
    }
   ],
   "source": [
    "datas[datas<'07.03.2020']"
   ]
  },
  {
   "cell_type": "markdown",
   "metadata": {},
   "source": [
    "##### Operações escalares"
   ]
  },
  {
   "cell_type": "code",
   "execution_count": 21,
   "metadata": {},
   "outputs": [
    {
     "data": {
      "text/plain": [
       "n2     4\n",
       "n4     8\n",
       "n6    12\n",
       "dtype: int64"
      ]
     },
     "execution_count": 21,
     "metadata": {},
     "output_type": "execute_result"
    }
   ],
   "source": [
    "mult = par * 2\n",
    "mult"
   ]
  },
  {
   "cell_type": "code",
   "execution_count": 27,
   "metadata": {},
   "outputs": [
    {
     "data": {
      "text/plain": [
       "n2    4\n",
       "n4    6\n",
       "n6    8\n",
       "dtype: int64"
      ]
     },
     "execution_count": 27,
     "metadata": {},
     "output_type": "execute_result"
    }
   ],
   "source": [
    "add = par + 2\n",
    "add"
   ]
  },
  {
   "cell_type": "code",
   "execution_count": 28,
   "metadata": {},
   "outputs": [],
   "source": [
    "### Transformando dicionário em Series\n",
    "Para transformar um dicionário em uma série é bastante simples. "
   ]
  },
  {
   "cell_type": "code",
   "execution_count": 84,
   "metadata": {},
   "outputs": [
    {
     "name": "stdout",
     "output_type": "stream",
     "text": [
      "{'VALE3': 42, 'PETR4': 16, 'USMI5': 5}\n"
     ]
    }
   ],
   "source": [
    "# criando o dicionário\n",
    "dict_bolsa = {'VALE3': 42, 'PETR4': 16, 'USMI5': 5}\n",
    "print(dict_bolsa)"
   ]
  },
  {
   "cell_type": "code",
   "execution_count": 85,
   "metadata": {},
   "outputs": [
    {
     "name": "stdout",
     "output_type": "stream",
     "text": [
      "VALE3    42\n",
      "PETR4    16\n",
      "USMI5     5\n",
      "dtype: int64\n"
     ]
    }
   ],
   "source": [
    "# transformando o dicionário em Series\n",
    "series_bolsa = pd.Series(dict_bolsa)\n",
    "print(series_bolsa)"
   ]
  },
  {
   "cell_type": "markdown",
   "metadata": {},
   "source": [
    "Se durante a conversão de dicionário para Series utilizarmos índices que não tenham correspondência, o valor do índice ficará vazio na Série (veja o caso do índice ``BBAS3``). Se, por outro lado, utilizarmos um índice mais de uma vez duante a conversão, o valor associado ao índice aparecerá diversas mais de uma vez na Série (veja o caso de ``PETR4``)."
   ]
  },
  {
   "cell_type": "code",
   "execution_count": 86,
   "metadata": {},
   "outputs": [
    {
     "name": "stdout",
     "output_type": "stream",
     "text": [
      "PETR4    16.0\n",
      "VALE3    42.0\n",
      "PETR4    16.0\n",
      "BBAS3     NaN\n",
      "USIM5     NaN\n",
      "dtype: float64\n"
     ]
    }
   ],
   "source": [
    "# criando o dicionário\n",
    "dict_bolsa = {'VALE3': 42, 'PETR4': 16, 'USMI5': 5}\n",
    "series_bolsa = pd.Series(dict_bolsa,index=['PETR4','VALE3', 'PETR4', 'BBAS3', 'USIM5'])\n",
    "print(series_bolsa)"
   ]
  },
  {
   "cell_type": "markdown",
   "metadata": {},
   "source": [
    "O símbolo ``NaN`` indica que o valor está faltando para ``BBAS``. A função ``isnull`` (retorna True se estiver faltando e False, caso contrário) ou ``notnul`` (retorna False se estiver faltando e True, caso contrário) podem ser utilizadas para saber quais são os valores faltando na Serie ou em um Data Frame. Mais adiante discutiremos como tratar com dados ausentes."
   ]
  },
  {
   "cell_type": "code",
   "execution_count": 81,
   "metadata": {},
   "outputs": [
    {
     "data": {
      "text/plain": [
       "VALE3    False\n",
       "PETR4    False\n",
       "PETR4    False\n",
       "BBAS3     True\n",
       "USIM5    False\n",
       "dtype: bool"
      ]
     },
     "execution_count": 81,
     "metadata": {},
     "output_type": "execute_result"
    }
   ],
   "source": [
    "pd.isnull(series_bolsa)"
   ]
  },
  {
   "cell_type": "code",
   "execution_count": 83,
   "metadata": {},
   "outputs": [
    {
     "data": {
      "text/plain": [
       "PETR4     True\n",
       "VALE3     True\n",
       "PETR4     True\n",
       "BBAS3    False\n",
       "USIM5     True\n",
       "dtype: bool"
      ]
     },
     "execution_count": 83,
     "metadata": {},
     "output_type": "execute_result"
    }
   ],
   "source": [
    "pd.notnull(series_bolsa)"
   ]
  },
  {
   "cell_type": "markdown",
   "metadata": {},
   "source": [
    "Vamos agora criar duas séries. Se somarmos as duas, os valores com índices iguais serão somados. Caso uma das séries contenha um valor ``NaN`` associado a um determinado índice (``USIM5``, na ``serie_bolsa1`` e ``BBAS3`` na ``serie_bolsa2``), o resultado da soma para esse índice será ``NaN``. O mesmo acontecerá se o índice não tiver um índice correspondente para ser somado na outra série (``BBAS3``, na ``serie_bolsa2`` não tem um correspondente na ``serie_bolsa1``)."
   ]
  },
  {
   "cell_type": "code",
   "execution_count": 101,
   "metadata": {},
   "outputs": [
    {
     "name": "stdout",
     "output_type": "stream",
     "text": [
      "series_bolsa1\n",
      "PETR4    16.0\n",
      "VALE3    42.0\n",
      "USIM5     NaN\n",
      "dtype: float64\n",
      "series_bolsa2\n",
      "PETR4    20.0\n",
      "VALE3    50.0\n",
      "USIM5     8.0\n",
      "BBAS3     NaN\n",
      "dtype: float64\n",
      "preco_medio\n",
      "BBAS3     NaN\n",
      "PETR4    18.0\n",
      "USIM5     NaN\n",
      "VALE3    46.0\n",
      "dtype: float64\n"
     ]
    }
   ],
   "source": [
    "# criação e impressão da série 1 (USIM5 não terá valor)\n",
    "dict_bolsa1 = {'VALE3': 42, 'PETR4': 16}\n",
    "series_bolsa1 = pd.Series(dict_bolsa1,index=['PETR4','VALE3', 'USIM5'])\n",
    "print('series_bolsa1')\n",
    "print(series_bolsa1)\n",
    "\n",
    "# criação e impressão da série 2 (BBAS3 não terá valor)\n",
    "dict_bolsa2 = {'VALE3': 50, 'PETR4': 20, 'USIM5': 8}\n",
    "series_bolsa2 = pd.Series(dict_bolsa2,index=['PETR4','VALE3', 'USIM5','BBAS3'])\n",
    "print('series_bolsa2')\n",
    "print(series_bolsa2)\n",
    "\n",
    "# cálculo do preço médio das ações \n",
    "# USIM5 retornará NaN, pois não tem um valor correspondente na série 1\n",
    "# BBAS3 retornará NaN, pois seu valor é NaN na série 2\n",
    "preco_medio = (series_bolsa1 + series_bolsa2)/2\n",
    "print('preco_medio')\n",
    "print(preco_medio)"
   ]
  },
  {
   "cell_type": "markdown",
   "metadata": {},
   "source": [
    "Para saber mais sobre ``Series``, acesse a documentação do Pandas em: \n",
    "\n",
    "https://pandas.pydata.org/pandas-docs/stable/reference/series.html\n",
    "\n",
    "### DataFrame\n",
    "\n",
    "Um DataFrame é uma estrutura de dados similar a uma planilha, com linhas e colunas indexadas. Cada coluna é ordenada e pode conter armazena valores de um determinado tipo. Vamos retornar ao arquivo com as cotações da Petrobras. "
   ]
  },
  {
   "cell_type": "code",
   "execution_count": 108,
   "metadata": {},
   "outputs": [
    {
     "data": {
      "text/html": [
       "<div>\n",
       "<style scoped>\n",
       "    .dataframe tbody tr th:only-of-type {\n",
       "        vertical-align: middle;\n",
       "    }\n",
       "\n",
       "    .dataframe tbody tr th {\n",
       "        vertical-align: top;\n",
       "    }\n",
       "\n",
       "    .dataframe thead th {\n",
       "        text-align: right;\n",
       "    }\n",
       "</style>\n",
       "<table border=\"1\" class=\"dataframe\">\n",
       "  <thead>\n",
       "    <tr style=\"text-align: right;\">\n",
       "      <th></th>\n",
       "      <th>Data</th>\n",
       "      <th>Último</th>\n",
       "      <th>Abertura</th>\n",
       "      <th>Máxima</th>\n",
       "      <th>Mínima</th>\n",
       "      <th>Vol.</th>\n",
       "      <th>Var%</th>\n",
       "    </tr>\n",
       "  </thead>\n",
       "  <tbody>\n",
       "    <tr>\n",
       "      <th>0</th>\n",
       "      <td>07.04.2020</td>\n",
       "      <td>16,66</td>\n",
       "      <td>15,77</td>\n",
       "      <td>16,98</td>\n",
       "      <td>15,77</td>\n",
       "      <td>-</td>\n",
       "      <td>5,64%</td>\n",
       "    </tr>\n",
       "    <tr>\n",
       "      <th>1</th>\n",
       "      <td>06.04.2020</td>\n",
       "      <td>15,77</td>\n",
       "      <td>16,05</td>\n",
       "      <td>16,10</td>\n",
       "      <td>15,18</td>\n",
       "      <td>122,54M</td>\n",
       "      <td>2,80%</td>\n",
       "    </tr>\n",
       "    <tr>\n",
       "      <th>2</th>\n",
       "      <td>03.04.2020</td>\n",
       "      <td>15,34</td>\n",
       "      <td>16,30</td>\n",
       "      <td>16,36</td>\n",
       "      <td>14,93</td>\n",
       "      <td>142,01M</td>\n",
       "      <td>-1,10%</td>\n",
       "    </tr>\n",
       "    <tr>\n",
       "      <th>3</th>\n",
       "      <td>02.04.2020</td>\n",
       "      <td>15,51</td>\n",
       "      <td>15,40</td>\n",
       "      <td>16,55</td>\n",
       "      <td>15,01</td>\n",
       "      <td>233,81M</td>\n",
       "      <td>8,46%</td>\n",
       "    </tr>\n",
       "    <tr>\n",
       "      <th>4</th>\n",
       "      <td>01.04.2020</td>\n",
       "      <td>14,30</td>\n",
       "      <td>13,45</td>\n",
       "      <td>14,55</td>\n",
       "      <td>13,32</td>\n",
       "      <td>113,48M</td>\n",
       "      <td>2,22%</td>\n",
       "    </tr>\n",
       "  </tbody>\n",
       "</table>\n",
       "</div>"
      ],
      "text/plain": [
       "         Data Último Abertura Máxima Mínima     Vol.    Var%\n",
       "0  07.04.2020  16,66    15,77  16,98  15,77        -   5,64%\n",
       "1  06.04.2020  15,77    16,05  16,10  15,18  122,54M   2,80%\n",
       "2  03.04.2020  15,34    16,30  16,36  14,93  142,01M  -1,10%\n",
       "3  02.04.2020  15,51    15,40  16,55  15,01  233,81M   8,46%\n",
       "4  01.04.2020  14,30    13,45  14,55  13,32  113,48M   2,22%"
      ]
     },
     "execution_count": 108,
     "metadata": {},
     "output_type": "execute_result"
    }
   ],
   "source": [
    "import pandas as pd\n",
    "nome_acao = 'PETR4 Dados Históricos.csv'\n",
    "petr4 = pd.read_csv(nome_acao)\n",
    "petr4.head()"
   ]
  },
  {
   "cell_type": "markdown",
   "metadata": {},
   "source": [
    "*Obs:* todas as colunas devem ter tamanhos iguais.\n",
    "\n",
    "Pode-se pensar em um DataFrame como um Dicionário de Series."
   ]
  },
  {
   "cell_type": "code",
   "execution_count": 110,
   "metadata": {},
   "outputs": [
    {
     "data": {
      "text/html": [
       "<div>\n",
       "<style scoped>\n",
       "    .dataframe tbody tr th:only-of-type {\n",
       "        vertical-align: middle;\n",
       "    }\n",
       "\n",
       "    .dataframe tbody tr th {\n",
       "        vertical-align: top;\n",
       "    }\n",
       "\n",
       "    .dataframe thead th {\n",
       "        text-align: right;\n",
       "    }\n",
       "</style>\n",
       "<table border=\"1\" class=\"dataframe\">\n",
       "  <thead>\n",
       "    <tr style=\"text-align: right;\">\n",
       "      <th></th>\n",
       "      <th>Data</th>\n",
       "      <th>Último</th>\n",
       "      <th>Abertura</th>\n",
       "      <th>Máxima</th>\n",
       "      <th>Mínima</th>\n",
       "    </tr>\n",
       "  </thead>\n",
       "  <tbody>\n",
       "    <tr>\n",
       "      <th>0</th>\n",
       "      <td>07.04.2020</td>\n",
       "      <td>16.66</td>\n",
       "      <td>15.77</td>\n",
       "      <td>16.98</td>\n",
       "      <td>15.77</td>\n",
       "    </tr>\n",
       "    <tr>\n",
       "      <th>1</th>\n",
       "      <td>06.04.2020</td>\n",
       "      <td>15.77</td>\n",
       "      <td>16.05</td>\n",
       "      <td>16.10</td>\n",
       "      <td>15.18</td>\n",
       "    </tr>\n",
       "    <tr>\n",
       "      <th>2</th>\n",
       "      <td>03.05.2020</td>\n",
       "      <td>15.34</td>\n",
       "      <td>16.30</td>\n",
       "      <td>16.36</td>\n",
       "      <td>14.93</td>\n",
       "    </tr>\n",
       "    <tr>\n",
       "      <th>3</th>\n",
       "      <td>02.04.2020</td>\n",
       "      <td>15.51</td>\n",
       "      <td>15.40</td>\n",
       "      <td>16.55</td>\n",
       "      <td>15.01</td>\n",
       "    </tr>\n",
       "  </tbody>\n",
       "</table>\n",
       "</div>"
      ],
      "text/plain": [
       "         Data  Último  Abertura  Máxima  Mínima\n",
       "0  07.04.2020   16.66     15.77   16.98   15.77\n",
       "1  06.04.2020   15.77     16.05   16.10   15.18\n",
       "2  03.05.2020   15.34     16.30   16.36   14.93\n",
       "3  02.04.2020   15.51     15.40   16.55   15.01"
      ]
     },
     "execution_count": 110,
     "metadata": {},
     "output_type": "execute_result"
    }
   ],
   "source": [
    "petr4_data = {  'Data':['07.04.2020', '06.04.2020', '03.05.2020', '02.04.2020'],\n",
    "                'Último':[16.66, 15.77, 15.34, 15.51],\n",
    "                'Abertura':[15.77, 16.05, 16.30, 15.40],\n",
    "                'Máxima':[16.98, 16.10, 16.36, 16.55],\n",
    "                'Mínima':[15.77, 15.18, 14.93, 15.01]}\n",
    "petr4 = pd.DataFrame(petr4_data)\n",
    "petr4"
   ]
  },
  {
   "cell_type": "markdown",
   "metadata": {},
   "source": [
    "É possível selecionar um subconjunto das colunas e apresentá-las na ordem desejada:"
   ]
  },
  {
   "cell_type": "code",
   "execution_count": 111,
   "metadata": {},
   "outputs": [
    {
     "data": {
      "text/html": [
       "<div>\n",
       "<style scoped>\n",
       "    .dataframe tbody tr th:only-of-type {\n",
       "        vertical-align: middle;\n",
       "    }\n",
       "\n",
       "    .dataframe tbody tr th {\n",
       "        vertical-align: top;\n",
       "    }\n",
       "\n",
       "    .dataframe thead th {\n",
       "        text-align: right;\n",
       "    }\n",
       "</style>\n",
       "<table border=\"1\" class=\"dataframe\">\n",
       "  <thead>\n",
       "    <tr style=\"text-align: right;\">\n",
       "      <th></th>\n",
       "      <th>Abertura</th>\n",
       "      <th>Último</th>\n",
       "      <th>Data</th>\n",
       "    </tr>\n",
       "  </thead>\n",
       "  <tbody>\n",
       "    <tr>\n",
       "      <th>0</th>\n",
       "      <td>15.77</td>\n",
       "      <td>16.66</td>\n",
       "      <td>07.04.2020</td>\n",
       "    </tr>\n",
       "    <tr>\n",
       "      <th>1</th>\n",
       "      <td>16.05</td>\n",
       "      <td>15.77</td>\n",
       "      <td>06.04.2020</td>\n",
       "    </tr>\n",
       "    <tr>\n",
       "      <th>2</th>\n",
       "      <td>16.30</td>\n",
       "      <td>15.34</td>\n",
       "      <td>03.05.2020</td>\n",
       "    </tr>\n",
       "    <tr>\n",
       "      <th>3</th>\n",
       "      <td>15.40</td>\n",
       "      <td>15.51</td>\n",
       "      <td>02.04.2020</td>\n",
       "    </tr>\n",
       "  </tbody>\n",
       "</table>\n",
       "</div>"
      ],
      "text/plain": [
       "   Abertura  Último        Data\n",
       "0     15.77   16.66  07.04.2020\n",
       "1     16.05   15.77  06.04.2020\n",
       "2     16.30   15.34  03.05.2020\n",
       "3     15.40   15.51  02.04.2020"
      ]
     },
     "execution_count": 111,
     "metadata": {},
     "output_type": "execute_result"
    }
   ],
   "source": [
    "petr4_data = {  'Data':['07.04.2020', '06.04.2020', '03.05.2020', '02.04.2020'],\n",
    "                'Último':[16.66, 15.77, 15.34, 15.51],\n",
    "                'Abertura':[15.77, 16.05, 16.30, 15.40],\n",
    "                'Máxima':[16.98, 16.10, 16.36, 16.55],\n",
    "                'Mínima':[15.77, 15.18, 14.93, 15.01]}\n",
    "petr4 = pd.DataFrame(petr4_data, columns=['Abertura','Último','Data'])\n",
    "petr4"
   ]
  },
  {
   "cell_type": "markdown",
   "metadata": {},
   "source": [
    "Caso seja selecionada para apresentação uma coluna inexistente, os valores para essa coluna serão todos nulos (NaN):"
   ]
  },
  {
   "cell_type": "code",
   "execution_count": 112,
   "metadata": {},
   "outputs": [
    {
     "data": {
      "text/html": [
       "<div>\n",
       "<style scoped>\n",
       "    .dataframe tbody tr th:only-of-type {\n",
       "        vertical-align: middle;\n",
       "    }\n",
       "\n",
       "    .dataframe tbody tr th {\n",
       "        vertical-align: top;\n",
       "    }\n",
       "\n",
       "    .dataframe thead th {\n",
       "        text-align: right;\n",
       "    }\n",
       "</style>\n",
       "<table border=\"1\" class=\"dataframe\">\n",
       "  <thead>\n",
       "    <tr style=\"text-align: right;\">\n",
       "      <th></th>\n",
       "      <th>Data</th>\n",
       "      <th>Abertura</th>\n",
       "      <th>Último</th>\n",
       "      <th>Percentual</th>\n",
       "    </tr>\n",
       "  </thead>\n",
       "  <tbody>\n",
       "    <tr>\n",
       "      <th>0</th>\n",
       "      <td>07.04.2020</td>\n",
       "      <td>15.77</td>\n",
       "      <td>16.66</td>\n",
       "      <td>NaN</td>\n",
       "    </tr>\n",
       "    <tr>\n",
       "      <th>1</th>\n",
       "      <td>06.04.2020</td>\n",
       "      <td>16.05</td>\n",
       "      <td>15.77</td>\n",
       "      <td>NaN</td>\n",
       "    </tr>\n",
       "    <tr>\n",
       "      <th>2</th>\n",
       "      <td>03.05.2020</td>\n",
       "      <td>16.30</td>\n",
       "      <td>15.34</td>\n",
       "      <td>NaN</td>\n",
       "    </tr>\n",
       "    <tr>\n",
       "      <th>3</th>\n",
       "      <td>02.04.2020</td>\n",
       "      <td>15.40</td>\n",
       "      <td>15.51</td>\n",
       "      <td>NaN</td>\n",
       "    </tr>\n",
       "  </tbody>\n",
       "</table>\n",
       "</div>"
      ],
      "text/plain": [
       "         Data  Abertura  Último Percentual\n",
       "0  07.04.2020     15.77   16.66        NaN\n",
       "1  06.04.2020     16.05   15.77        NaN\n",
       "2  03.05.2020     16.30   15.34        NaN\n",
       "3  02.04.2020     15.40   15.51        NaN"
      ]
     },
     "execution_count": 112,
     "metadata": {},
     "output_type": "execute_result"
    }
   ],
   "source": [
    "petr4_data = {  'Data':['07.04.2020', '06.04.2020', '03.05.2020', '02.04.2020'],\n",
    "                'Último':[16.66, 15.77, 15.34, 15.51],\n",
    "                'Abertura':[15.77, 16.05, 16.30, 15.40],\n",
    "                'Máxima':[16.98, 16.10, 16.36, 16.55],\n",
    "                'Mínima':[15.77, 15.18, 14.93, 15.01]}\n",
    "petr4 = pd.DataFrame(petr4_data, columns=['Data','Abertura','Último','Percentual'])\n",
    "petr4"
   ]
  },
  {
   "cell_type": "markdown",
   "metadata": {},
   "source": [
    "Assim como fizemos com a Series, podemos modificar os nomes dos índices:"
   ]
  },
  {
   "cell_type": "code",
   "execution_count": 120,
   "metadata": {},
   "outputs": [
    {
     "data": {
      "text/html": [
       "<div>\n",
       "<style scoped>\n",
       "    .dataframe tbody tr th:only-of-type {\n",
       "        vertical-align: middle;\n",
       "    }\n",
       "\n",
       "    .dataframe tbody tr th {\n",
       "        vertical-align: top;\n",
       "    }\n",
       "\n",
       "    .dataframe thead th {\n",
       "        text-align: right;\n",
       "    }\n",
       "</style>\n",
       "<table border=\"1\" class=\"dataframe\">\n",
       "  <thead>\n",
       "    <tr style=\"text-align: right;\">\n",
       "      <th></th>\n",
       "      <th>Data</th>\n",
       "      <th>Último</th>\n",
       "      <th>Abertura</th>\n",
       "    </tr>\n",
       "  </thead>\n",
       "  <tbody>\n",
       "    <tr>\n",
       "      <th>Primeiro</th>\n",
       "      <td>07.04.2020</td>\n",
       "      <td>16.66</td>\n",
       "      <td>15.77</td>\n",
       "    </tr>\n",
       "    <tr>\n",
       "      <th>Segundo</th>\n",
       "      <td>06.04.2020</td>\n",
       "      <td>15.77</td>\n",
       "      <td>16.05</td>\n",
       "    </tr>\n",
       "    <tr>\n",
       "      <th>Terceiro</th>\n",
       "      <td>03.05.2020</td>\n",
       "      <td>15.34</td>\n",
       "      <td>16.30</td>\n",
       "    </tr>\n",
       "    <tr>\n",
       "      <th>Quarto</th>\n",
       "      <td>02.04.2020</td>\n",
       "      <td>15.51</td>\n",
       "      <td>15.40</td>\n",
       "    </tr>\n",
       "  </tbody>\n",
       "</table>\n",
       "</div>"
      ],
      "text/plain": [
       "                Data  Último  Abertura\n",
       "Primeiro  07.04.2020   16.66     15.77\n",
       "Segundo   06.04.2020   15.77     16.05\n",
       "Terceiro  03.05.2020   15.34     16.30\n",
       "Quarto    02.04.2020   15.51     15.40"
      ]
     },
     "execution_count": 120,
     "metadata": {},
     "output_type": "execute_result"
    }
   ],
   "source": [
    "petr4_data = {  'Data':['07.04.2020', '06.04.2020', '03.05.2020', '02.04.2020'],\n",
    "                'Último':[16.66, 15.77, 15.34, 15.51],\n",
    "                'Abertura':[15.77, 16.05, 16.30, 15.40]}\n",
    "petr4 = pd.DataFrame(petr4_data, index=['Primeiro','Segundo','Terceiro','Quarto'])\n",
    "petr4"
   ]
  },
  {
   "cell_type": "markdown",
   "metadata": {},
   "source": [
    "Se desejarmos atribuir um nome a aos índices ou colunas, basta utilizar o atributo ``name``"
   ]
  },
  {
   "cell_type": "code",
   "execution_count": 156,
   "metadata": {},
   "outputs": [
    {
     "data": {
      "text/html": [
       "<div>\n",
       "<style scoped>\n",
       "    .dataframe tbody tr th:only-of-type {\n",
       "        vertical-align: middle;\n",
       "    }\n",
       "\n",
       "    .dataframe tbody tr th {\n",
       "        vertical-align: top;\n",
       "    }\n",
       "\n",
       "    .dataframe thead th {\n",
       "        text-align: right;\n",
       "    }\n",
       "</style>\n",
       "<table border=\"1\" class=\"dataframe\">\n",
       "  <thead>\n",
       "    <tr style=\"text-align: right;\">\n",
       "      <th>Cabeçalho</th>\n",
       "      <th>Data</th>\n",
       "      <th>Último</th>\n",
       "      <th>Abertura</th>\n",
       "    </tr>\n",
       "    <tr>\n",
       "      <th>Índices</th>\n",
       "      <th></th>\n",
       "      <th></th>\n",
       "      <th></th>\n",
       "    </tr>\n",
       "  </thead>\n",
       "  <tbody>\n",
       "    <tr>\n",
       "      <th>Primeiro</th>\n",
       "      <td>07.04.2020</td>\n",
       "      <td>16.66</td>\n",
       "      <td>15.77</td>\n",
       "    </tr>\n",
       "    <tr>\n",
       "      <th>Segundo</th>\n",
       "      <td>06.04.2020</td>\n",
       "      <td>15.77</td>\n",
       "      <td>16.05</td>\n",
       "    </tr>\n",
       "    <tr>\n",
       "      <th>Terceiro</th>\n",
       "      <td>03.05.2020</td>\n",
       "      <td>15.34</td>\n",
       "      <td>16.30</td>\n",
       "    </tr>\n",
       "    <tr>\n",
       "      <th>Quarto</th>\n",
       "      <td>02.04.2020</td>\n",
       "      <td>15.51</td>\n",
       "      <td>15.40</td>\n",
       "    </tr>\n",
       "  </tbody>\n",
       "</table>\n",
       "</div>"
      ],
      "text/plain": [
       "Cabeçalho        Data  Último  Abertura\n",
       "Índices                                \n",
       "Primeiro   07.04.2020   16.66     15.77\n",
       "Segundo    06.04.2020   15.77     16.05\n",
       "Terceiro   03.05.2020   15.34     16.30\n",
       "Quarto     02.04.2020   15.51     15.40"
      ]
     },
     "execution_count": 156,
     "metadata": {},
     "output_type": "execute_result"
    }
   ],
   "source": [
    "# atribuindo o nome às colunas\n",
    "petr4.columns.name = 'Cabeçalho'\n",
    "\n",
    "# atribuindo o nome aos índices\n",
    "petr4.index.name = 'Índices'\n",
    "\n",
    "petr4"
   ]
  },
  {
   "cell_type": "markdown",
   "metadata": {},
   "source": [
    "Os valores de uma coluna podem ser acessados utilizando a notação de Series ou a notação de atributos:"
   ]
  },
  {
   "cell_type": "code",
   "execution_count": 157,
   "metadata": {},
   "outputs": [
    {
     "data": {
      "text/plain": [
       "Primeiro    16.66\n",
       "Segundo     15.77\n",
       "Terceiro    15.34\n",
       "Quarto      15.51\n",
       "Name: Último, dtype: float64"
      ]
     },
     "execution_count": 157,
     "metadata": {},
     "output_type": "execute_result"
    }
   ],
   "source": [
    "petr4_data = {  'Data':['07.04.2020', '06.04.2020', '03.05.2020', '02.04.2020'],\n",
    "                'Último':[16.66, 15.77, 15.34, 15.51],\n",
    "                'Abertura':[15.77, 16.05, 16.30, 15.40]}\n",
    "petr4 = pd.DataFrame(petr4_data, index=['Primeiro','Segundo','Terceiro','Quarto'])\n",
    "\n",
    "# acessando com notação de uma série\n",
    "petr4['Último']"
   ]
  },
  {
   "cell_type": "code",
   "execution_count": 158,
   "metadata": {},
   "outputs": [
    {
     "data": {
      "text/plain": [
       "Primeiro    16.66\n",
       "Segundo     15.77\n",
       "Terceiro    15.34\n",
       "Quarto      15.51\n",
       "Name: Último, dtype: float64"
      ]
     },
     "execution_count": 158,
     "metadata": {},
     "output_type": "execute_result"
    }
   ],
   "source": [
    "# acessando com notação de atributo\n",
    "petr4.Último"
   ]
  },
  {
   "cell_type": "markdown",
   "metadata": {},
   "source": [
    "É possível acessar os dados em uma linha utilizando o método ``loc`` para índices rotulados ou ``iloc`` para índices posicionais:"
   ]
  },
  {
   "cell_type": "code",
   "execution_count": 159,
   "metadata": {},
   "outputs": [
    {
     "data": {
      "text/plain": [
       "Data        06.04.2020\n",
       "Último           15.77\n",
       "Abertura         16.05\n",
       "Name: Segundo, dtype: object"
      ]
     },
     "execution_count": 159,
     "metadata": {},
     "output_type": "execute_result"
    }
   ],
   "source": [
    "# índice rotulado\n",
    "petr4.loc['Segundo']"
   ]
  },
  {
   "cell_type": "code",
   "execution_count": 160,
   "metadata": {},
   "outputs": [
    {
     "data": {
      "text/plain": [
       "Data        06.04.2020\n",
       "Último           15.77\n",
       "Abertura         16.05\n",
       "Name: Segundo, dtype: object"
      ]
     },
     "execution_count": 160,
     "metadata": {},
     "output_type": "execute_result"
    }
   ],
   "source": [
    "# índice posicional\n",
    "petr4.iloc[1]"
   ]
  },
  {
   "cell_type": "markdown",
   "metadata": {},
   "source": [
    "Para acessar apenas os valores, podemos usar o atributo ``values``, que retorna os dados em forma de array bidimensional:"
   ]
  },
  {
   "cell_type": "code",
   "execution_count": 161,
   "metadata": {},
   "outputs": [
    {
     "data": {
      "text/plain": [
       "array([['07.04.2020', 16.66, 15.77],\n",
       "       ['06.04.2020', 15.77, 16.05],\n",
       "       ['03.05.2020', 15.34, 16.3],\n",
       "       ['02.04.2020', 15.51, 15.4]], dtype=object)"
      ]
     },
     "execution_count": 161,
     "metadata": {},
     "output_type": "execute_result"
    }
   ],
   "source": [
    "petr4.values"
   ]
  },
  {
   "cell_type": "markdown",
   "metadata": {},
   "source": [
    "Colunas podem ser modificadas por meio de atribuição de um valor escalar ou uma lista com tamanho igual ao do DataFrame:"
   ]
  },
  {
   "cell_type": "code",
   "execution_count": 162,
   "metadata": {},
   "outputs": [
    {
     "data": {
      "text/html": [
       "<div>\n",
       "<style scoped>\n",
       "    .dataframe tbody tr th:only-of-type {\n",
       "        vertical-align: middle;\n",
       "    }\n",
       "\n",
       "    .dataframe tbody tr th {\n",
       "        vertical-align: top;\n",
       "    }\n",
       "\n",
       "    .dataframe thead th {\n",
       "        text-align: right;\n",
       "    }\n",
       "</style>\n",
       "<table border=\"1\" class=\"dataframe\">\n",
       "  <thead>\n",
       "    <tr style=\"text-align: right;\">\n",
       "      <th></th>\n",
       "      <th>Data</th>\n",
       "      <th>Último</th>\n",
       "      <th>Abertura</th>\n",
       "    </tr>\n",
       "  </thead>\n",
       "  <tbody>\n",
       "    <tr>\n",
       "      <th>Primeiro</th>\n",
       "      <td>07.04.2020</td>\n",
       "      <td>17.55</td>\n",
       "      <td>15.77</td>\n",
       "    </tr>\n",
       "    <tr>\n",
       "      <th>Segundo</th>\n",
       "      <td>06.04.2020</td>\n",
       "      <td>17.55</td>\n",
       "      <td>16.05</td>\n",
       "    </tr>\n",
       "    <tr>\n",
       "      <th>Terceiro</th>\n",
       "      <td>03.05.2020</td>\n",
       "      <td>17.55</td>\n",
       "      <td>16.30</td>\n",
       "    </tr>\n",
       "    <tr>\n",
       "      <th>Quarto</th>\n",
       "      <td>02.04.2020</td>\n",
       "      <td>17.55</td>\n",
       "      <td>15.40</td>\n",
       "    </tr>\n",
       "  </tbody>\n",
       "</table>\n",
       "</div>"
      ],
      "text/plain": [
       "                Data  Último  Abertura\n",
       "Primeiro  07.04.2020   17.55     15.77\n",
       "Segundo   06.04.2020   17.55     16.05\n",
       "Terceiro  03.05.2020   17.55     16.30\n",
       "Quarto    02.04.2020   17.55     15.40"
      ]
     },
     "execution_count": 162,
     "metadata": {},
     "output_type": "execute_result"
    }
   ],
   "source": [
    "# atribuindo valor escalar\n",
    "petr4['Último'] = 17.55\n",
    "petr4"
   ]
  },
  {
   "cell_type": "code",
   "execution_count": 163,
   "metadata": {},
   "outputs": [
    {
     "data": {
      "text/html": [
       "<div>\n",
       "<style scoped>\n",
       "    .dataframe tbody tr th:only-of-type {\n",
       "        vertical-align: middle;\n",
       "    }\n",
       "\n",
       "    .dataframe tbody tr th {\n",
       "        vertical-align: top;\n",
       "    }\n",
       "\n",
       "    .dataframe thead th {\n",
       "        text-align: right;\n",
       "    }\n",
       "</style>\n",
       "<table border=\"1\" class=\"dataframe\">\n",
       "  <thead>\n",
       "    <tr style=\"text-align: right;\">\n",
       "      <th></th>\n",
       "      <th>Data</th>\n",
       "      <th>Último</th>\n",
       "      <th>Abertura</th>\n",
       "    </tr>\n",
       "  </thead>\n",
       "  <tbody>\n",
       "    <tr>\n",
       "      <th>Primeiro</th>\n",
       "      <td>07.04.2020</td>\n",
       "      <td>17.55</td>\n",
       "      <td>15.77</td>\n",
       "    </tr>\n",
       "    <tr>\n",
       "      <th>Segundo</th>\n",
       "      <td>06.04.2020</td>\n",
       "      <td>16.67</td>\n",
       "      <td>16.05</td>\n",
       "    </tr>\n",
       "    <tr>\n",
       "      <th>Terceiro</th>\n",
       "      <td>03.05.2020</td>\n",
       "      <td>14.00</td>\n",
       "      <td>16.30</td>\n",
       "    </tr>\n",
       "    <tr>\n",
       "      <th>Quarto</th>\n",
       "      <td>02.04.2020</td>\n",
       "      <td>15.78</td>\n",
       "      <td>15.40</td>\n",
       "    </tr>\n",
       "  </tbody>\n",
       "</table>\n",
       "</div>"
      ],
      "text/plain": [
       "                Data  Último  Abertura\n",
       "Primeiro  07.04.2020   17.55     15.77\n",
       "Segundo   06.04.2020   16.67     16.05\n",
       "Terceiro  03.05.2020   14.00     16.30\n",
       "Quarto    02.04.2020   15.78     15.40"
      ]
     },
     "execution_count": 163,
     "metadata": {},
     "output_type": "execute_result"
    }
   ],
   "source": [
    "# atribuindo array\n",
    "petr4['Último'] = [17.55, 16.67, 14.00, 15.78]\n",
    "petr4"
   ]
  },
  {
   "cell_type": "markdown",
   "metadata": {},
   "source": [
    "Utiliza-se o método `isin` para testar se um conjunto de valores pertence ao DataFrame."
   ]
  },
  {
   "cell_type": "code",
   "execution_count": 171,
   "metadata": {},
   "outputs": [
    {
     "data": {
      "text/html": [
       "<div>\n",
       "<style scoped>\n",
       "    .dataframe tbody tr th:only-of-type {\n",
       "        vertical-align: middle;\n",
       "    }\n",
       "\n",
       "    .dataframe tbody tr th {\n",
       "        vertical-align: top;\n",
       "    }\n",
       "\n",
       "    .dataframe thead th {\n",
       "        text-align: right;\n",
       "    }\n",
       "</style>\n",
       "<table border=\"1\" class=\"dataframe\">\n",
       "  <thead>\n",
       "    <tr style=\"text-align: right;\">\n",
       "      <th></th>\n",
       "      <th>Data</th>\n",
       "      <th>Último</th>\n",
       "      <th>Abertura</th>\n",
       "    </tr>\n",
       "  </thead>\n",
       "  <tbody>\n",
       "    <tr>\n",
       "      <th>Primeiro</th>\n",
       "      <td>False</td>\n",
       "      <td>False</td>\n",
       "      <td>True</td>\n",
       "    </tr>\n",
       "    <tr>\n",
       "      <th>Segundo</th>\n",
       "      <td>False</td>\n",
       "      <td>False</td>\n",
       "      <td>False</td>\n",
       "    </tr>\n",
       "    <tr>\n",
       "      <th>Terceiro</th>\n",
       "      <td>False</td>\n",
       "      <td>True</td>\n",
       "      <td>False</td>\n",
       "    </tr>\n",
       "    <tr>\n",
       "      <th>Quarto</th>\n",
       "      <td>False</td>\n",
       "      <td>False</td>\n",
       "      <td>False</td>\n",
       "    </tr>\n",
       "  </tbody>\n",
       "</table>\n",
       "</div>"
      ],
      "text/plain": [
       "           Data  Último  Abertura\n",
       "Primeiro  False   False      True\n",
       "Segundo   False   False     False\n",
       "Terceiro  False    True     False\n",
       "Quarto    False   False     False"
      ]
     },
     "execution_count": 171,
     "metadata": {},
     "output_type": "execute_result"
    }
   ],
   "source": [
    "petr4.isin([15.77, 14.00])"
   ]
  },
  {
   "cell_type": "markdown",
   "metadata": {},
   "source": [
    "Também é possível atribuir uma Series a uma coluna de um DataFrame. Nesse, caso, porém, o tamanho da Series pode ser menor, havendo um casamento exato com os índices do DataFrame, deixando os demais índices sem valor (NaN):"
   ]
  },
  {
   "cell_type": "code",
   "execution_count": 66,
   "metadata": {},
   "outputs": [
    {
     "data": {
      "text/html": [
       "<div>\n",
       "<style scoped>\n",
       "    .dataframe tbody tr th:only-of-type {\n",
       "        vertical-align: middle;\n",
       "    }\n",
       "\n",
       "    .dataframe tbody tr th {\n",
       "        vertical-align: top;\n",
       "    }\n",
       "\n",
       "    .dataframe thead th {\n",
       "        text-align: right;\n",
       "    }\n",
       "</style>\n",
       "<table border=\"1\" class=\"dataframe\">\n",
       "  <thead>\n",
       "    <tr style=\"text-align: right;\">\n",
       "      <th></th>\n",
       "      <th>Data</th>\n",
       "      <th>Abertura</th>\n",
       "      <th>Último</th>\n",
       "    </tr>\n",
       "  </thead>\n",
       "  <tbody>\n",
       "    <tr>\n",
       "      <th>Primeiro</th>\n",
       "      <td>07.04.2020</td>\n",
       "      <td>15.77</td>\n",
       "      <td>15.1</td>\n",
       "    </tr>\n",
       "    <tr>\n",
       "      <th>Segundo</th>\n",
       "      <td>06.04.2020</td>\n",
       "      <td>16.05</td>\n",
       "      <td>NaN</td>\n",
       "    </tr>\n",
       "    <tr>\n",
       "      <th>Terceiro</th>\n",
       "      <td>03.05.2020</td>\n",
       "      <td>16.30</td>\n",
       "      <td>14.9</td>\n",
       "    </tr>\n",
       "    <tr>\n",
       "      <th>Quarto</th>\n",
       "      <td>02.04.2020</td>\n",
       "      <td>15.40</td>\n",
       "      <td>NaN</td>\n",
       "    </tr>\n",
       "  </tbody>\n",
       "</table>\n",
       "</div>"
      ],
      "text/plain": [
       "                Data  Abertura  Último\n",
       "Primeiro  07.04.2020     15.77    15.1\n",
       "Segundo   06.04.2020     16.05     NaN\n",
       "Terceiro  03.05.2020     16.30    14.9\n",
       "Quarto    02.04.2020     15.40     NaN"
      ]
     },
     "execution_count": 66,
     "metadata": {},
     "output_type": "execute_result"
    }
   ],
   "source": [
    "petr4['Último'] = pd.Series([15.10, 14.90], index=['Primeiro', 'Terceiro'])\n",
    "petr4"
   ]
  },
  {
   "cell_type": "markdown",
   "metadata": {},
   "source": [
    "Realizar uma atribuição a uma coluna que não existe, cria um nova coluna:"
   ]
  },
  {
   "cell_type": "code",
   "execution_count": 74,
   "metadata": {},
   "outputs": [
    {
     "data": {
      "text/html": [
       "<div>\n",
       "<style scoped>\n",
       "    .dataframe tbody tr th:only-of-type {\n",
       "        vertical-align: middle;\n",
       "    }\n",
       "\n",
       "    .dataframe tbody tr th {\n",
       "        vertical-align: top;\n",
       "    }\n",
       "\n",
       "    .dataframe thead th {\n",
       "        text-align: right;\n",
       "    }\n",
       "</style>\n",
       "<table border=\"1\" class=\"dataframe\">\n",
       "  <thead>\n",
       "    <tr style=\"text-align: right;\">\n",
       "      <th></th>\n",
       "      <th>Data</th>\n",
       "      <th>Último</th>\n",
       "      <th>Abertura</th>\n",
       "      <th>Máxima</th>\n",
       "    </tr>\n",
       "  </thead>\n",
       "  <tbody>\n",
       "    <tr>\n",
       "      <th>Primeiro</th>\n",
       "      <td>07.04.2020</td>\n",
       "      <td>16.66</td>\n",
       "      <td>15.77</td>\n",
       "      <td>18.20</td>\n",
       "    </tr>\n",
       "    <tr>\n",
       "      <th>Segundo</th>\n",
       "      <td>06.04.2020</td>\n",
       "      <td>15.77</td>\n",
       "      <td>16.05</td>\n",
       "      <td>17.84</td>\n",
       "    </tr>\n",
       "    <tr>\n",
       "      <th>Terceiro</th>\n",
       "      <td>03.05.2020</td>\n",
       "      <td>15.34</td>\n",
       "      <td>16.30</td>\n",
       "      <td>16.71</td>\n",
       "    </tr>\n",
       "    <tr>\n",
       "      <th>Quarto</th>\n",
       "      <td>02.04.2020</td>\n",
       "      <td>15.51</td>\n",
       "      <td>15.40</td>\n",
       "      <td>17.78</td>\n",
       "    </tr>\n",
       "  </tbody>\n",
       "</table>\n",
       "</div>"
      ],
      "text/plain": [
       "                Data  Último  Abertura  Máxima\n",
       "Primeiro  07.04.2020   16.66     15.77   18.20\n",
       "Segundo   06.04.2020   15.77     16.05   17.84\n",
       "Terceiro  03.05.2020   15.34     16.30   16.71\n",
       "Quarto    02.04.2020   15.51     15.40   17.78"
      ]
     },
     "execution_count": 74,
     "metadata": {},
     "output_type": "execute_result"
    }
   ],
   "source": [
    "petr4_data = { 'Data':['07.04.2020', '06.04.2020', '03.05.2020', '02.04.2020'],\n",
    "               'Último':[16.66, 15.77, 15.34, 15.51],\n",
    "               'Abertura':[15.77, 16.05, 16.30, 15.40]}\n",
    "petr4 = pd.DataFrame(petr4,index=['Primeiro','Segundo','Terceiro','Quarto'])\n",
    "\n",
    "# Criará a coluna Máxima\n",
    "petr4['Máxima'] = [18.20, 17.84, 16.71, 17.78]\n",
    "petr4"
   ]
  },
  {
   "cell_type": "markdown",
   "metadata": {},
   "source": [
    "Assim como ocorre com um dicionário, ``del`` pode ser usado para remover uma coluna:"
   ]
  },
  {
   "cell_type": "code",
   "execution_count": 75,
   "metadata": {},
   "outputs": [
    {
     "data": {
      "text/html": [
       "<div>\n",
       "<style scoped>\n",
       "    .dataframe tbody tr th:only-of-type {\n",
       "        vertical-align: middle;\n",
       "    }\n",
       "\n",
       "    .dataframe tbody tr th {\n",
       "        vertical-align: top;\n",
       "    }\n",
       "\n",
       "    .dataframe thead th {\n",
       "        text-align: right;\n",
       "    }\n",
       "</style>\n",
       "<table border=\"1\" class=\"dataframe\">\n",
       "  <thead>\n",
       "    <tr style=\"text-align: right;\">\n",
       "      <th></th>\n",
       "      <th>Data</th>\n",
       "      <th>Último</th>\n",
       "      <th>Abertura</th>\n",
       "    </tr>\n",
       "  </thead>\n",
       "  <tbody>\n",
       "    <tr>\n",
       "      <th>Primeiro</th>\n",
       "      <td>07.04.2020</td>\n",
       "      <td>16.66</td>\n",
       "      <td>15.77</td>\n",
       "    </tr>\n",
       "    <tr>\n",
       "      <th>Segundo</th>\n",
       "      <td>06.04.2020</td>\n",
       "      <td>15.77</td>\n",
       "      <td>16.05</td>\n",
       "    </tr>\n",
       "    <tr>\n",
       "      <th>Terceiro</th>\n",
       "      <td>03.05.2020</td>\n",
       "      <td>15.34</td>\n",
       "      <td>16.30</td>\n",
       "    </tr>\n",
       "    <tr>\n",
       "      <th>Quarto</th>\n",
       "      <td>02.04.2020</td>\n",
       "      <td>15.51</td>\n",
       "      <td>15.40</td>\n",
       "    </tr>\n",
       "  </tbody>\n",
       "</table>\n",
       "</div>"
      ],
      "text/plain": [
       "                Data  Último  Abertura\n",
       "Primeiro  07.04.2020   16.66     15.77\n",
       "Segundo   06.04.2020   15.77     16.05\n",
       "Terceiro  03.05.2020   15.34     16.30\n",
       "Quarto    02.04.2020   15.51     15.40"
      ]
     },
     "execution_count": 75,
     "metadata": {},
     "output_type": "execute_result"
    }
   ],
   "source": [
    "del petr4['Máxima']\n",
    "petr4"
   ]
  },
  {
   "cell_type": "markdown",
   "metadata": {},
   "source": [
    "Se passarmos um dicionário aninhado para um DataFrame, as chaves externas serão interpretadas como colunas e as chaves internas como índices das linhas."
   ]
  },
  {
   "cell_type": "code",
   "execution_count": 92,
   "metadata": {},
   "outputs": [
    {
     "data": {
      "text/html": [
       "<div>\n",
       "<style scoped>\n",
       "    .dataframe tbody tr th:only-of-type {\n",
       "        vertical-align: middle;\n",
       "    }\n",
       "\n",
       "    .dataframe tbody tr th {\n",
       "        vertical-align: top;\n",
       "    }\n",
       "\n",
       "    .dataframe thead th {\n",
       "        text-align: right;\n",
       "    }\n",
       "</style>\n",
       "<table border=\"1\" class=\"dataframe\">\n",
       "  <thead>\n",
       "    <tr style=\"text-align: right;\">\n",
       "      <th></th>\n",
       "      <th>Data</th>\n",
       "      <th>Último</th>\n",
       "      <th>Abertura</th>\n",
       "    </tr>\n",
       "  </thead>\n",
       "  <tbody>\n",
       "    <tr>\n",
       "      <th>Primeiro</th>\n",
       "      <td>07.04.2020</td>\n",
       "      <td>16.66</td>\n",
       "      <td>15.77</td>\n",
       "    </tr>\n",
       "    <tr>\n",
       "      <th>Segundo</th>\n",
       "      <td>06.04.2020</td>\n",
       "      <td>15.77</td>\n",
       "      <td>16.05</td>\n",
       "    </tr>\n",
       "    <tr>\n",
       "      <th>Terceiro:</th>\n",
       "      <td>03.05.2020</td>\n",
       "      <td>NaN</td>\n",
       "      <td>16.30</td>\n",
       "    </tr>\n",
       "  </tbody>\n",
       "</table>\n",
       "</div>"
      ],
      "text/plain": [
       "                 Data  Último  Abertura\n",
       "Primeiro   07.04.2020   16.66     15.77\n",
       "Segundo    06.04.2020   15.77     16.05\n",
       "Terceiro:  03.05.2020     NaN     16.30"
      ]
     },
     "execution_count": 92,
     "metadata": {},
     "output_type": "execute_result"
    }
   ],
   "source": [
    "petr4 = {   'Data':{'Primeiro':'07.04.2020', 'Segundo':'06.04.2020', 'Terceiro:':'03.05.2020'},\n",
    "            'Último':{'Primeiro':16.66, 'Segundo':15.77},\n",
    "            'Abertura':{'Primeiro':15.77, 'Segundo':16.05, 'Terceiro:':16.30}}\n",
    "petr4 = pd.DataFrame(petr4)\n",
    "petr4"
   ]
  },
  {
   "cell_type": "markdown",
   "metadata": {},
   "source": [
    "Observe que a quantidade de elementos em cada dicionário interno pode ser diferente. Por exemplo, no código acima, a coluna ``Último`` não possui valor para o índice ``Terceiro``.\n",
    "\n",
    "Para obter a matriz transposta, deve-se utilizar o atributo ``T``:"
   ]
  },
  {
   "cell_type": "code",
   "execution_count": 93,
   "metadata": {},
   "outputs": [
    {
     "data": {
      "text/html": [
       "<div>\n",
       "<style scoped>\n",
       "    .dataframe tbody tr th:only-of-type {\n",
       "        vertical-align: middle;\n",
       "    }\n",
       "\n",
       "    .dataframe tbody tr th {\n",
       "        vertical-align: top;\n",
       "    }\n",
       "\n",
       "    .dataframe thead th {\n",
       "        text-align: right;\n",
       "    }\n",
       "</style>\n",
       "<table border=\"1\" class=\"dataframe\">\n",
       "  <thead>\n",
       "    <tr style=\"text-align: right;\">\n",
       "      <th></th>\n",
       "      <th>Primeiro</th>\n",
       "      <th>Segundo</th>\n",
       "      <th>Terceiro:</th>\n",
       "    </tr>\n",
       "  </thead>\n",
       "  <tbody>\n",
       "    <tr>\n",
       "      <th>Data</th>\n",
       "      <td>07.04.2020</td>\n",
       "      <td>06.04.2020</td>\n",
       "      <td>03.05.2020</td>\n",
       "    </tr>\n",
       "    <tr>\n",
       "      <th>Último</th>\n",
       "      <td>16.66</td>\n",
       "      <td>15.77</td>\n",
       "      <td>NaN</td>\n",
       "    </tr>\n",
       "    <tr>\n",
       "      <th>Abertura</th>\n",
       "      <td>15.77</td>\n",
       "      <td>16.05</td>\n",
       "      <td>16.3</td>\n",
       "    </tr>\n",
       "  </tbody>\n",
       "</table>\n",
       "</div>"
      ],
      "text/plain": [
       "            Primeiro     Segundo   Terceiro:\n",
       "Data      07.04.2020  06.04.2020  03.05.2020\n",
       "Último         16.66       15.77         NaN\n",
       "Abertura       15.77       16.05        16.3"
      ]
     },
     "execution_count": 93,
     "metadata": {},
     "output_type": "execute_result"
    }
   ],
   "source": [
    "petr4.T"
   ]
  },
  {
   "cell_type": "markdown",
   "metadata": {},
   "source": [
    "A tabela a seguir apresenta a relação completa de tipos de dados que podem ser passados para o ``construtor`` DataFrame:\n",
    "\n",
    " \n",
    " | Tipo | Descrição |\n",
    " |------|:-----------|\n",
    " | **2D array** | *Uma matriz de dados, sendo opcional passar o rótulo das linhas e colunas.*|\n",
    " | **Lista de listas ou tuplas** | *Uma matriz de dados, sendo opcional passar o rótulo das linhas e colunas.*|\n",
    " | **Dicionário de arrays,  listas ou tuplas** | *Cada sequência se torna uma coluna no DataFrame. Todas as sequências devem ter o mesmo tamanho.*|\n",
    "     | **Dicionário de Serie** | *Cada ``valor`` se torna uma ``coluna`` do DataFrame. Se nenhum índice for passado, as chaves posicionais dos elementos das Series para formar o índice do das linhas.*|\n",
    " | **Dicionário de Dicionários** | *Cada ``Dicionário interno`` se torna uma ``coluna`` do DataFrame. As chaves são unidas para formar o índice do das linhas.*|\n",
    " | **Lista de Dicionário ou Series** | *Cada item se torna uma ``linha`` do DataFrame. As chaves dos Dicionários ou os índices das Series se tornam o rótulo das ``colunas`` do DataFrame.*|\n",
    "\n",
    "---\n",
    "\n",
    "\n",
    "\n",
    "Para saber mais sobre ``DataFrame``, acesse a documentação do Pandas em:\n",
    "\n",
    "https://pandas.pydata.org/pandas-docs/stable/reference/frame.html\n",
    "\n",
    "## Objeto Index\n",
    "\n",
    "Todo array ou outra sequência de rótulos usada para construir uma Serie ou DataFrame é convertido internamente em um Objeto Index."
   ]
  },
  {
   "cell_type": "code",
   "execution_count": 144,
   "metadata": {},
   "outputs": [
    {
     "data": {
      "text/plain": [
       "Index(['PETR4', 'VALE3', 'USIM5'], dtype='object')"
      ]
     },
     "execution_count": 144,
     "metadata": {},
     "output_type": "execute_result"
    }
   ],
   "source": [
    "# criação da Series \n",
    "acoes = pd.Series([21.52, 52.34, 7.23],index=['PETR4','VALE3', 'USIM5'])\n",
    "# acessando o objeto Index\n",
    "acoes.index"
   ]
  },
  {
   "cell_type": "code",
   "execution_count": 145,
   "metadata": {},
   "outputs": [
    {
     "data": {
      "text/plain": [
       "Index(['VALE3', 'USIM5'], dtype='object')"
      ]
     },
     "execution_count": 145,
     "metadata": {},
     "output_type": "execute_result"
    }
   ],
   "source": [
    "# acessando elementos do objeto Index\n",
    "acoes.index[1:]"
   ]
  },
  {
   "cell_type": "markdown",
   "metadata": {},
   "source": [
    "Os objeto Index é imutável e não pode ser modificado, pode apenas ser substituído completamente."
   ]
  },
  {
   "cell_type": "code",
   "execution_count": 135,
   "metadata": {},
   "outputs": [
    {
     "ename": "TypeError",
     "evalue": "Index does not support mutable operations",
     "output_type": "error",
     "traceback": [
      "\u001b[1;31m---------------------------------------------------------------------------\u001b[0m",
      "\u001b[1;31mTypeError\u001b[0m                                 Traceback (most recent call last)",
      "\u001b[1;32m<ipython-input-135-9409ed6da47b>\u001b[0m in \u001b[0;36m<module>\u001b[1;34m\u001b[0m\n\u001b[0;32m      1\u001b[0m \u001b[1;31m# acessando elementos do objeto Index\u001b[0m\u001b[1;33m\u001b[0m\u001b[1;33m\u001b[0m\u001b[1;33m\u001b[0m\u001b[0m\n\u001b[1;32m----> 2\u001b[1;33m \u001b[0macoes\u001b[0m\u001b[1;33m.\u001b[0m\u001b[0mindex\u001b[0m\u001b[1;33m[\u001b[0m\u001b[1;36m1\u001b[0m\u001b[1;33m]\u001b[0m \u001b[1;33m=\u001b[0m \u001b[1;34m'BBAS3'\u001b[0m\u001b[1;33m\u001b[0m\u001b[1;33m\u001b[0m\u001b[0m\n\u001b[0m",
      "\u001b[1;32m~\\Anaconda3\\lib\\site-packages\\pandas\\core\\indexes\\base.py\u001b[0m in \u001b[0;36m__setitem__\u001b[1;34m(self, key, value)\u001b[0m\n\u001b[0;32m   4258\u001b[0m \u001b[1;33m\u001b[0m\u001b[0m\n\u001b[0;32m   4259\u001b[0m     \u001b[1;32mdef\u001b[0m \u001b[0m__setitem__\u001b[0m\u001b[1;33m(\u001b[0m\u001b[0mself\u001b[0m\u001b[1;33m,\u001b[0m \u001b[0mkey\u001b[0m\u001b[1;33m,\u001b[0m \u001b[0mvalue\u001b[0m\u001b[1;33m)\u001b[0m\u001b[1;33m:\u001b[0m\u001b[1;33m\u001b[0m\u001b[1;33m\u001b[0m\u001b[0m\n\u001b[1;32m-> 4260\u001b[1;33m         \u001b[1;32mraise\u001b[0m \u001b[0mTypeError\u001b[0m\u001b[1;33m(\u001b[0m\u001b[1;34m\"Index does not support mutable operations\"\u001b[0m\u001b[1;33m)\u001b[0m\u001b[1;33m\u001b[0m\u001b[1;33m\u001b[0m\u001b[0m\n\u001b[0m\u001b[0;32m   4261\u001b[0m \u001b[1;33m\u001b[0m\u001b[0m\n\u001b[0;32m   4262\u001b[0m     \u001b[1;32mdef\u001b[0m \u001b[0m__getitem__\u001b[0m\u001b[1;33m(\u001b[0m\u001b[0mself\u001b[0m\u001b[1;33m,\u001b[0m \u001b[0mkey\u001b[0m\u001b[1;33m)\u001b[0m\u001b[1;33m:\u001b[0m\u001b[1;33m\u001b[0m\u001b[1;33m\u001b[0m\u001b[0m\n",
      "\u001b[1;31mTypeError\u001b[0m: Index does not support mutable operations"
     ]
    }
   ],
   "source": [
    "# tentando modificar o objeto Index\n",
    "acoes.index[1] = 'BBAS3'"
   ]
  },
  {
   "cell_type": "code",
   "execution_count": 15,
   "metadata": {},
   "outputs": [
    {
     "data": {
      "text/plain": [
       "Index(['BBAS3', 'LAME4', 'USIM5'], dtype='object')"
      ]
     },
     "execution_count": 15,
     "metadata": {},
     "output_type": "execute_result"
    }
   ],
   "source": [
    "acoes1 = pd.Series([21.52, 52.34, 7.23, 20.32],index=['PETR4','VALE3', 'USIM5', 'LAME4'])\n",
    "acoes2 = pd.Series([22.34, 51.33, 45.32],index=['PETR4','VALE3', 'BBAS3'])\n",
    "acoes1.index ^ acoes2.index"
   ]
  },
  {
   "cell_type": "markdown",
   "metadata": {},
   "source": [
    "Objetos Index possuem um conjunto de métodos, conforme resumido na tabela a seguir. Considere essas duas Series para os exemplos apresentados na tabela:\n",
    "```python\n",
    "acoes1 = pd.Series([21.52, 52.34, 7.23, 20.32],index=['PETR4','VALE3', 'USIM5', 'LAME4'])\n",
    "acoes2 = pd.Series([22.34, 51.33, 45.32],index=['PETR4','VALE3', 'BBAS3'])\n",
    "```\n",
    "\n",
    "| Método | Descrição |\n",
    "|--------|:-----------|\n",
    "| **append** | Concatena dois objetos Index, produzindo um novo objeto Index. Ex: acoes1.index.append(acoes2.index) |\n",
    "| **difference** | Computa o conjunto contendo todos os objetos do 1o objeto Index que não possuem correspondência no 2o objeto Index.  Ex: acoes1.index.difference(acoes2.index) |\n",
    "| **^** | É a diferença simétrica. Computa o conjunto contendo todos os objetos do 1o objeto Index que não possuem correspondência no 2o objeto Index e vice-versa.  Ex: acoes1.index ^ acoes2.index |\n",
    "| **intersection** | Computa o conjunto interseção entre dois objetos Index. Ex: acoes1.index.intersection(acoes2.index) |\n",
    "| **&** | Computa o conjunto interseção entre dois objetos Index. Ex: acoes1.index & acoes2.index |\n",
    "| **union** | Computa o conjunto união entre dois objetos Index. Ex: acoes1.index.union(acoes2.index) |\n",
    "| **|** | Computa o conjunto união entre dois objetos Index. Ex: acoes1.index | acoes2.index |\n",
    "| **isin** | Verifica se um conjunto de valores pertencem ao objeto Index. Ex: acoes.isin([14.66, 52.34]) |\n",
    "| **delete** | Cria uma novo objeto Index sem o elemento com índice `i`. Ex: acoes.index.delete(1)|\n",
    "| **drop** | Cria uma novo objeto Index sem os elemento passados como parâmetro. Ex:acoes1.drop(['VALE3', 'USIM5'])|\n",
    "| **insert** | Cria uma novo objeto Index com um novo elemento `val` na posição `i`. Ex: acoes.index.insert(1,'BBAS3') |\n",
    "| **ismonotonic** | Retorna True se cada elemento é maior ou igual ao elemento anterior. Ex: acoes2.is_monotonic |\n",
    "| **is_unique** | Retorna True se o índice não possue nenhum valor duplicado. Ex: acoes1.is_unique |\n",
    "| **unique** | Cria um array com todos os elementos não duplicados no índice. Ex: acoes1.unique |\n",
    "\n",
    "\n",
    "\n"
   ]
  },
  {
   "cell_type": "code",
   "execution_count": 9,
   "metadata": {},
   "outputs": [
    {
     "name": "stdout",
     "output_type": "stream",
     "text": [
      "profit: 1536.0\n",
      "Total: 2336.0\n"
     ]
    }
   ],
   "source": [
    "savings = 800\n",
    "tax = 0.08\n",
    "time = 24\n",
    "profit = savings * tax * 24\n",
    "print('profit: ' + str(profit))\n",
    "print('Total: ' + str(profit+savings))\n",
    "\n"
   ]
  }
 ],
 "metadata": {
  "celltoolbar": "Slideshow",
  "kernelspec": {
   "display_name": "Python 3.10.8 64-bit",
   "language": "python",
   "name": "python3"
  },
  "language_info": {
   "codemirror_mode": {
    "name": "ipython",
    "version": 3
   },
   "file_extension": ".py",
   "mimetype": "text/x-python",
   "name": "python",
   "nbconvert_exporter": "python",
   "pygments_lexer": "ipython3",
   "version": "3.10.8"
  },
  "vscode": {
   "interpreter": {
    "hash": "949777d72b0d2535278d3dc13498b2535136f6dfe0678499012e853ee9abcab1"
   }
  }
 },
 "nbformat": 4,
 "nbformat_minor": 2
}
