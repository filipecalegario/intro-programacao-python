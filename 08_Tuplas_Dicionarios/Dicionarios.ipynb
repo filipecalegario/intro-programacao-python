{
 "cells": [
  {
   "cell_type": "markdown",
   "metadata": {},
   "source": [
    "# Dicionários\n",
    "\n",
    "Assim como conhecemos em sua forma tradicional, um *dicionário* possui um conjunto de palavras chaves associadas às suas respectivas definições (valores). "
   ]
  },
  {
   "cell_type": "code",
   "execution_count": null,
   "metadata": {},
   "outputs": [],
   "source": [
    "meu_dicionario = {'Estreptococos' : 'Bactérias que se apresentam ao microscópio reunidas em forma de cadeias, como as contas de um colar.',\n",
    "                 'Ósculo' : 'Designação comum de beijo, da ação ou efeito de beijar; beijo.',\n",
    "                  'Amplexo' : 'Ação de abraçar, de apertar por entre os braços para demonstrar de carinho e afeto; abraço'\n",
    "                 }\n",
    "print(meu_dicionario['Ósculo'])"
   ]
  },
  {
   "cell_type": "markdown",
   "metadata": {},
   "source": [
    "Esse mesmo conceito é bastante útil para definirmos tipos estruturados, com campos qualificados."
   ]
  },
  {
   "cell_type": "code",
   "execution_count": 7,
   "metadata": {},
   "outputs": [
    {
     "name": "stdout",
     "output_type": "stream",
     "text": [
      "{'nome': 'Heloisa', 'idade': 22, 'curso': 'Direito'}\n"
     ]
    }
   ],
   "source": [
    "estudante = {'nome': 'Heloisa', 'idade' : 22, 'curso' : 'Direito'}\n",
    "\n",
    "print(estudante)"
   ]
  },
  {
   "cell_type": "markdown",
   "metadata": {},
   "source": [
    "Assim como fizemos no dicionário de palavras, podemos acessar um campo qualquer do dicionário ```estudante```. \n",
    "\n",
    "Para isso, usamos a ```chave de acesso``` desejada. Por exemplo, ```nome```."
   ]
  },
  {
   "cell_type": "code",
   "execution_count": null,
   "metadata": {},
   "outputs": [],
   "source": [
    "print(estudante['nome'])"
   ]
  },
  {
   "cell_type": "markdown",
   "metadata": {},
   "source": [
    "É possível utilizar outros tipos como ```chave de acesso```. Por exemplo, podemos utilizar valores inteiros."
   ]
  },
  {
   "cell_type": "code",
   "execution_count": 8,
   "metadata": {},
   "outputs": [
    {
     "name": "stdout",
     "output_type": "stream",
     "text": [
      "Ayrton Senna\n"
     ]
    }
   ],
   "source": [
    "F1_campeonato_1990 = {1: 'Ayrton Senna', 2: 'Alain Prost', 3: 'Nelson Piquet'}\n",
    "\n",
    "print(F1_campeonato_1990[1])"
   ]
  },
  {
   "cell_type": "markdown",
   "metadata": {},
   "source": [
    "### Chaves inexistentes\n",
    "\n",
    "Se tentarmos acessar uma chave que não foi definida no dicionário, Python gera uma mensagem de erro. Por exemplo, se tentarmos acessar a chave ```fone``` do dicionário ```estudante```, receberemos uma mensagem que indica um ```KeyError```. Ou seja, um erro de acesso à chave."
   ]
  },
  {
   "cell_type": "code",
   "execution_count": 9,
   "metadata": {},
   "outputs": [
    {
     "ename": "KeyError",
     "evalue": "'fone'",
     "output_type": "error",
     "traceback": [
      "\u001b[0;31m---------------------------------------------------------------------------\u001b[0m",
      "\u001b[0;31mKeyError\u001b[0m                                  Traceback (most recent call last)",
      "Cell \u001b[0;32mIn [9], line 1\u001b[0m\n\u001b[0;32m----> 1\u001b[0m \u001b[39mprint\u001b[39m(estudante[\u001b[39m'\u001b[39;49m\u001b[39mfone\u001b[39;49m\u001b[39m'\u001b[39;49m])\n",
      "\u001b[0;31mKeyError\u001b[0m: 'fone'"
     ]
    }
   ],
   "source": [
    "print(estudante['fone'])"
   ]
  },
  {
   "cell_type": "markdown",
   "metadata": {},
   "source": [
    "Para obter uma mensagem de melhor qualidade, que informe o problema com clareza, podemos utilizar o método ```get```, que retorna o valor ```None``` como caso default para acessos a chaves inexistentes."
   ]
  },
  {
   "cell_type": "code",
   "execution_count": 10,
   "metadata": {},
   "outputs": [
    {
     "name": "stdout",
     "output_type": "stream",
     "text": [
      "Heloisa\n",
      "None\n"
     ]
    }
   ],
   "source": [
    "print(estudante.get('nome'))\n",
    "print(estudante.get('fone'))"
   ]
  },
  {
   "cell_type": "markdown",
   "metadata": {},
   "source": [
    "É possível modificar o valor default para os casos de acessos a chaves inexistentes. \n",
    "\n",
    "Por exemplo, poderíamos retornar a mensagem ```chave inexistente```, como demonstrado no exemplo abaixo."
   ]
  },
  {
   "cell_type": "code",
   "execution_count": 11,
   "metadata": {},
   "outputs": [
    {
     "name": "stdout",
     "output_type": "stream",
     "text": [
      "chave inexistente\n"
     ]
    }
   ],
   "source": [
    "print(estudante.get('fone','chave inexistente'))"
   ]
  },
  {
   "cell_type": "markdown",
   "metadata": {},
   "source": [
    "### Adicionar dados ao dicionário\n",
    "\n",
    "Para adicionar novos campos, por exemplo, ```fone``` ao dicionário ```estudante``` basta executar o comando: "
   ]
  },
  {
   "cell_type": "code",
   "execution_count": 12,
   "metadata": {},
   "outputs": [
    {
     "name": "stdout",
     "output_type": "stream",
     "text": [
      "{'nome': 'Heloisa', 'idade': 22, 'curso': 'Direito'}\n",
      "{'nome': 'Heloisa', 'idade': 22, 'curso': 'Direito', 'fone': '9999-9999'}\n"
     ]
    }
   ],
   "source": [
    "estudante = {'nome': 'Heloisa', 'idade' : 22, 'curso' : 'Direito'}\n",
    "\n",
    "print(estudante)\n",
    "\n",
    "estudante['fone'] = '9999-9999'\n",
    "\n",
    "print(estudante)"
   ]
  },
  {
   "cell_type": "markdown",
   "metadata": {},
   "source": [
    "O mesmo resultado é obtido através do comando ```update```:"
   ]
  },
  {
   "cell_type": "code",
   "execution_count": 13,
   "metadata": {},
   "outputs": [
    {
     "name": "stdout",
     "output_type": "stream",
     "text": [
      "{'nome': 'Heloisa', 'idade': 22, 'curso': 'Direito'}\n",
      "{'nome': 'Heloisa', 'idade': 22, 'curso': 'Direito', 'fone': '9999-9999'}\n"
     ]
    }
   ],
   "source": [
    "estudante = {'nome': 'Heloisa', 'idade' : 22, 'curso' : 'Direito'}\n",
    "\n",
    "print(estudante)\n",
    "\n",
    "estudante.update({'fone' : '9999-9999'}) \n",
    "\n",
    "print(estudante)"
   ]
  },
  {
   "cell_type": "markdown",
   "metadata": {},
   "source": [
    "### Atualizar dados do dicionário\n",
    "\n",
    "De maneira similar, podemos atualizar o valor de um campo existente do dicionário. \n",
    "\n",
    "Por exemplo, podemos atualizar a ```idade``` com o comando:"
   ]
  },
  {
   "cell_type": "code",
   "execution_count": null,
   "metadata": {},
   "outputs": [],
   "source": [
    "estudante = {'nome': 'Heloisa', 'idade' : 22, 'curso' : 'Direito'}\n",
    "\n",
    "print(estudante)\n",
    "\n",
    "estudante['idade'] = 23\n",
    "\n",
    "print(estudante)"
   ]
  },
  {
   "cell_type": "markdown",
   "metadata": {},
   "source": [
    "O comando ```update``` pode ser utilizado para atualizar/adicionar vários campos simultaneamente.  "
   ]
  },
  {
   "cell_type": "code",
   "execution_count": 14,
   "metadata": {},
   "outputs": [
    {
     "name": "stdout",
     "output_type": "stream",
     "text": [
      "{'nome': 'Heloisa', 'idade': 22, 'curso': 'Direito'}\n",
      "{'nome': 'Rui', 'idade': 11, 'curso': 'Ensino Médio', 'fone': '9999-9999'}\n"
     ]
    }
   ],
   "source": [
    "estudante = {'nome': 'Heloisa', 'idade' : 22, 'curso' : 'Direito'}\n",
    "\n",
    "print(estudante)\n",
    "\n",
    "estudante.update({'nome': 'Rui', 'idade': 11, 'curso': 'Ensino Médio', 'fone' : '9999-9999'}) \n",
    "\n",
    "print(estudante)"
   ]
  },
  {
   "cell_type": "markdown",
   "metadata": {},
   "source": [
    "### Remover dados do dicionário\n",
    "\n",
    "O comando ```del``` remove campos do dicionário. Digamos que queremos remover o campo ```idade``` do dicionário ```estudante```."
   ]
  },
  {
   "cell_type": "code",
   "execution_count": 15,
   "metadata": {},
   "outputs": [
    {
     "name": "stdout",
     "output_type": "stream",
     "text": [
      "{'nome': 'Heloisa', 'idade': 22, 'curso': 'Direito'}\n",
      "{'nome': 'Heloisa', 'curso': 'Direito'}\n"
     ]
    }
   ],
   "source": [
    "estudante = {'nome': 'Heloisa', 'idade' : 22, 'curso' : 'Direito'}\n",
    "\n",
    "print(estudante)\n",
    "\n",
    "del estudante['idade']\n",
    "\n",
    "print(estudante)"
   ]
  },
  {
   "cell_type": "markdown",
   "metadata": {},
   "source": [
    "É possível também **retornar como resultado** o valor que está sendo removido. Para isso, usamos o comando ```pop```."
   ]
  },
  {
   "cell_type": "code",
   "execution_count": 16,
   "metadata": {},
   "outputs": [
    {
     "name": "stdout",
     "output_type": "stream",
     "text": [
      "{'nome': 'Heloisa', 'idade': 22, 'curso': 'Direito'}\n",
      "{'nome': 'Heloisa', 'curso': 'Direito'}\n",
      "22\n"
     ]
    }
   ],
   "source": [
    "estudante = {'nome': 'Heloisa', 'idade' : 22, 'curso' : 'Direito'}\n",
    "\n",
    "print(estudante)\n",
    "\n",
    "idade = estudante.pop('idade')\n",
    "\n",
    "print(estudante)\n",
    "print(idade)"
   ]
  },
  {
   "cell_type": "markdown",
   "metadata": {},
   "source": [
    "### Comandos básicos para dicionários\n",
    "\n",
    "- `len(dic)` - retorna o número de campos armazenados no dicionário ```dic```\n",
    "- `dic.keys()` - retorna todas as chaves do dicionário ```dic```\n",
    "- `dic.values()` - retorna todos os valores armazenados no dicionário ```dic```\n",
    "- `dic.items()` - retorna todos pares (chave,valor) armazenados no dicionário ```dic```"
   ]
  },
  {
   "cell_type": "code",
   "execution_count": 17,
   "metadata": {},
   "outputs": [
    {
     "name": "stdout",
     "output_type": "stream",
     "text": [
      "3\n",
      "dict_keys(['nome', 'idade', 'curso'])\n",
      "dict_values(['Heloisa', 22, 'Direito'])\n",
      "dict_items([('nome', 'Heloisa'), ('idade', 22), ('curso', 'Direito')])\n"
     ]
    }
   ],
   "source": [
    "estudante = {'nome': 'Heloisa', 'idade' : 22, 'curso' : 'Direito'}\n",
    "\n",
    "print(len(estudante))\n",
    "print(estudante.keys())\n",
    "print(estudante.values())\n",
    "print(estudante.items())"
   ]
  },
  {
   "cell_type": "markdown",
   "metadata": {},
   "source": [
    "### Iterar sobre dicionários\n",
    "\n",
    "Quando usamos o comando ```for``` para iterar sobre um dicionário, temos acesso apenas às chaves. \n",
    "\n",
    "Observe o exemplo a seguir. Apenas as chaves do dicionário ```estudante``` são impressas."
   ]
  },
  {
   "cell_type": "code",
   "execution_count": 18,
   "metadata": {},
   "outputs": [
    {
     "name": "stdout",
     "output_type": "stream",
     "text": [
      "nome\n",
      "idade\n",
      "curso\n"
     ]
    }
   ],
   "source": [
    "estudante = {'nome': 'Heloisa', 'idade' : 22, 'curso' : 'Direito'}\n",
    "\n",
    "for chave in estudante:\n",
    "    print(chave)"
   ]
  },
  {
   "cell_type": "markdown",
   "metadata": {},
   "source": [
    "Se desejarmos ter acesso aos valores, precisamos utilizar o método ```items```, como demonstrado a seguir:"
   ]
  },
  {
   "cell_type": "code",
   "execution_count": 19,
   "metadata": {},
   "outputs": [
    {
     "name": "stdout",
     "output_type": "stream",
     "text": [
      "Heloisa\n",
      "22\n",
      "Direito\n"
     ]
    }
   ],
   "source": [
    "estudante = {'nome': 'Heloisa', 'idade' : 22, 'curso' : 'Direito'}\n",
    "\n",
    "for valor in estudante.values():\n",
    "    print(valor)"
   ]
  }
 ],
 "metadata": {
  "kernelspec": {
   "display_name": "Python 3.10.8 64-bit",
   "language": "python",
   "name": "python3"
  },
  "language_info": {
   "codemirror_mode": {
    "name": "ipython",
    "version": 3
   },
   "file_extension": ".py",
   "mimetype": "text/x-python",
   "name": "python",
   "nbconvert_exporter": "python",
   "pygments_lexer": "ipython3",
   "version": "3.10.8"
  },
  "vscode": {
   "interpreter": {
    "hash": "949777d72b0d2535278d3dc13498b2535136f6dfe0678499012e853ee9abcab1"
   }
  }
 },
 "nbformat": 4,
 "nbformat_minor": 2
}
