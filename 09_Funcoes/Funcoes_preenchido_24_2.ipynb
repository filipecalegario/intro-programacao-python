{
  "cells": [
    {
      "cell_type": "markdown",
      "metadata": {
        "id": "view-in-github",
        "colab_type": "text"
      },
      "source": [
        "<a href=\"https://colab.research.google.com/github/filipecalegario/intro-programacao-python/blob/main/09_Funcoes/Funcoes_preenchido_24_2.ipynb\" target=\"_parent\"><img src=\"https://colab.research.google.com/assets/colab-badge.svg\" alt=\"Open In Colab\"/></a>"
      ]
    },
    {
      "cell_type": "markdown",
      "metadata": {
        "id": "5GoL49UmEQIk"
      },
      "source": [
        "# Funções\n",
        "\n",
        "Imagine que você criou um código para imprimir todos os dados pessoais de uma pessoa."
      ]
    },
    {
      "cell_type": "code",
      "execution_count": 2,
      "metadata": {
        "colab": {
          "base_uri": "https://localhost:8080/"
        },
        "id": "sohqLMuCEQIm",
        "outputId": "a81eab06-316c-4dcf-ea81-169c41636fe3"
      },
      "outputs": [
        {
          "output_type": "stream",
          "name": "stdout",
          "text": [
            "Nome: Augusto\n",
            "Idade: 32\n",
            "Edereco: Rua Prof. Luiz Freire, Cidade Universitária, Recife, PE\n",
            "Fone: (81) 2126-8430\n",
            "Curso: Engenharia\n",
            "Nome: Augusto\n",
            "Idade: 32\n",
            "Edereco: Rua Prof. Luiz Freire, Cidade Universitária, Recife, PE\n",
            "Fone: (81) 2126-8430\n",
            "Curso: Engenharia\n",
            "Nome: Augusto\n",
            "Idade: 32\n",
            "Curso: Engenharia\n",
            "Edereco: Rua Prof. Luiz Freire, Cidade Universitária, Recife, PE\n",
            "Fone: (81) 2126-8430\n",
            "Nome: Augusto\n",
            "Curso: Engenharia\n",
            "Idade: 32\n",
            "Edereco: Rua Prof. Luiz Freire, Cidade Universitária, Recife, PE\n",
            "Fone: (81) 2126-8430\n"
          ]
        }
      ],
      "source": [
        "nome = 'Augusto'\n",
        "idade = 32\n",
        "endereco = 'Rua Prof. Luiz Freire, Cidade Universitária, Recife, PE'\n",
        "fone = '(81) 2126-8430'\n",
        "curso = 'Engenharia'\n",
        "\n",
        "print(f'Nome: {nome}')\n",
        "print(f'Idade: {idade}')\n",
        "print(f'Edereco: {endereco}')\n",
        "print(f'Fone: {fone}')\n",
        "print(f'Curso: {curso}')\n",
        "\n",
        "print(f'Nome: {nome}')\n",
        "print(f'Idade: {idade}')\n",
        "print(f'Edereco: {endereco}')\n",
        "print(f'Fone: {fone}')\n",
        "print(f'Curso: {curso}')\n",
        "\n",
        "print(f'Nome: {nome}')\n",
        "print(f'Idade: {idade}')\n",
        "print(f'Edereco: {endereco}')\n",
        "print(f'Fone: {fone}')\n",
        "print(f'Curso: {curso}')\n",
        "\n",
        "print(f'Nome: {nome}')\n",
        "print(f'Idade: {idade}')\n",
        "print(f'Edereco: {endereco}')\n",
        "print(f'Fone: {fone}')\n",
        "print(f'Curso: {curso}')"
      ]
    },
    {
      "cell_type": "markdown",
      "metadata": {
        "id": "5WOwJewhEQIm"
      },
      "source": [
        "<img  src=\"https://github.com/filipecalegario/intro-programacao-python/blob/main/09_Funcoes/imgs/funcoes01.png?raw=1\" width=\"350\" />\n",
        "\n",
        "### Poderíamos usar força bruta e replicar o código ...\n",
        "\n",
        "<img  src=\"https://github.com/filipecalegario/intro-programacao-python/blob/main/09_Funcoes/imgs/funcoes02a.png?raw=1\" width=\"600\" />\n",
        "\n",
        "### ...  ou atribuir um nome ao nosso \"pedaço de código\"\n",
        "\n",
        "<img  src=\"https://github.com/filipecalegario/intro-programacao-python/blob/main/09_Funcoes/imgs/funcoes02.png?raw=1\" width=\"600\" />\n",
        "\n",
        "### O efeito final será o seguinte:\n",
        "\n",
        "<img  src=\"https://github.com/filipecalegario/intro-programacao-python/blob/main/09_Funcoes/imgs/funcoes03.png?raw=1\" width=\"600\" />\n",
        "\n",
        "A essa capacidade de atribuir um nome a um bloco de código, que pode ser reutilizado em diversas partes do programa, é conhecida como **definição de funções**.\n",
        "\n",
        "Após **definida**, uma função pode ser **chamada**, escrevendo o seu nome onde desejarmos executar o bloco de código que ela representa.\n",
        "\n",
        "<img  src=\"https://github.com/filipecalegario/intro-programacao-python/blob/main/09_Funcoes/imgs/funcoes04.png?raw=1\" width=\"500\" />\n",
        "\n"
      ]
    },
    {
      "cell_type": "code",
      "execution_count": 7,
      "metadata": {
        "colab": {
          "base_uri": "https://localhost:8080/"
        },
        "id": "phT-l73MEQIm",
        "outputId": "d85a6235-00bf-4649-bde2-fe81247ba822"
      },
      "outputs": [
        {
          "output_type": "stream",
          "name": "stdout",
          "text": [
            "Nome: Augusto\n",
            "Idade: 32\n",
            "Edereco: Rua Prof. Luiz Freire, Cidade Universitária, Recife, PE\n",
            "Fone: (81) 2126-8430\n",
            "Curso: Engenharia\n",
            "Nome: Augusto\n",
            "Idade: 32\n",
            "Edereco: Rua Prof. Luiz Freire, Cidade Universitária, Recife, PE\n",
            "Fone: (81) 2126-8430\n",
            "Curso: Engenharia\n",
            "Nome: Augusto\n",
            "Idade: 32\n",
            "Edereco: Rua Prof. Luiz Freire, Cidade Universitária, Recife, PE\n",
            "Fone: (81) 2126-8430\n",
            "Curso: Engenharia\n",
            "Nome: Augusto\n",
            "Idade: 32\n",
            "Edereco: Rua Prof. Luiz Freire, Cidade Universitária, Recife, PE\n",
            "Fone: (81) 2126-8430\n",
            "Curso: Engenharia\n",
            "Nome: Augusto\n",
            "Idade: 32\n",
            "Edereco: Rua Prof. Luiz Freire, Cidade Universitária, Recife, PE\n",
            "Fone: (81) 2126-8430\n",
            "Curso: Engenharia\n"
          ]
        }
      ],
      "source": [
        "def imprimir_dados_pessoais():\n",
        "  print(f'Nome: {nome}')\n",
        "  print(f'Idade: {idade}')\n",
        "  print(f'Edereco: {endereco}')\n",
        "  print(f'Fone: {fone}')\n",
        "  print(f'Curso: {curso}')\n",
        "\n",
        "imprimir_dados_pessoais()\n",
        "\n",
        "imprimir_dados_pessoais()\n",
        "\n",
        "imprimir_dados_pessoais()\n",
        "\n",
        "imprimir_dados_pessoais()\n",
        "\n",
        "imprimir_dados_pessoais()"
      ]
    },
    {
      "cell_type": "code",
      "source": [
        "def imprimir_dados_pessoais(nome, idade, endereco, fone, curso):\n",
        "  print(f'Nome: {nome}')\n",
        "  print(f'Idade: {idade}')\n",
        "  print(f'Edereco: {endereco}')\n",
        "  print(f'Fone: {fone}')\n",
        "  print(f'Curso: {curso}')\n",
        "\n",
        "name = 'Joseph'\n",
        "age = 24\n",
        "address = '5th Street'\n",
        "phone = '+1 524 22333'\n",
        "course = 'Computer Engineering'\n",
        "\n",
        "imprimir_dados_pessoais(name, age, address, phone, course)"
      ],
      "metadata": {
        "colab": {
          "base_uri": "https://localhost:8080/"
        },
        "id": "qSZ3DK2NGdV5",
        "outputId": "db1de74c-fc09-44e2-8566-8ac835a7360d"
      },
      "execution_count": 16,
      "outputs": [
        {
          "output_type": "stream",
          "name": "stdout",
          "text": [
            "Nome: Joseph\n",
            "Idade: 24\n",
            "Edereco: 5th Street\n",
            "Fone: +1 524 22333\n",
            "Curso: Computer Engineering\n"
          ]
        }
      ]
    },
    {
      "cell_type": "markdown",
      "metadata": {
        "id": "ITCj0P4lEQIm"
      },
      "source": [
        "**Obs:** note que a definição da função, por si só, não executa nada; é preciso **chamar** a função! Por exemplo, o código a seguir não imprime os dados pessoais, pois a função `imprime_dados_pessoais()` não é chamada no corpo do programa."
      ]
    },
    {
      "cell_type": "code",
      "execution_count": 18,
      "metadata": {
        "id": "KG1vMrLhEQIn"
      },
      "outputs": [],
      "source": [
        "def imprimir_dados_pessoais2(nome, idade, endereco, fone, curso):\n",
        "  print(f'Nome: {nome}')\n",
        "  print(f'Idade: {idade}')\n",
        "  print(f'Edereco: {endereco}')\n",
        "  print(f'Fone: {fone}')\n",
        "  print(f'Curso: {curso}')\n",
        "\n",
        "imprimir_dados_pessoais2(name, age, address, phone, course)"
      ]
    },
    {
      "cell_type": "markdown",
      "metadata": {
        "id": "lMAccW9_EQIn"
      },
      "source": [
        "Vamos chamar a função ```imprimir_dados_pessoais```"
      ]
    },
    {
      "cell_type": "code",
      "execution_count": null,
      "metadata": {
        "id": "uxi3gE9UEQIn"
      },
      "outputs": [],
      "source": []
    },
    {
      "cell_type": "markdown",
      "metadata": {
        "id": "k9il575PEQIn"
      },
      "source": [
        "### Estrutura de funções\n",
        "\n",
        "A definição de uma função utiliza a seguinte estrutura:\n",
        "\n",
        "<img  src=\"https://github.com/filipecalegario/intro-programacao-python/blob/main/09_Funcoes/imgs/funcoes05.png?raw=1\" width=\"350\" />\n",
        "\n",
        "### Exercício\n",
        "\n",
        "<img  src=\"https://github.com/filipecalegario/intro-programacao-python/blob/main/09_Funcoes/imgs/funcoes06.png?raw=1\" width=\"700\" />\n"
      ]
    },
    {
      "cell_type": "code",
      "execution_count": null,
      "metadata": {
        "id": "-Mk8ymX8EQIn"
      },
      "outputs": [],
      "source": []
    },
    {
      "cell_type": "markdown",
      "metadata": {
        "id": "otinktCJEQIn"
      },
      "source": [
        "### Passagem de Parâmetros\n",
        "\n",
        "Passagem de parâmetros é um mecanismo utilizado pelas linguagens de programação para **passar valores para uma função no momento de sua chamada**.\n",
        "\n",
        "Tais valores são **armazenados** em variáveis, que formam a **lista de parâmetros** da função e que são **criadas** quando a função inicia sua execução e **destruídas** quando ela finaliza.\n"
      ]
    },
    {
      "cell_type": "code",
      "execution_count": 22,
      "metadata": {
        "colab": {
          "base_uri": "https://localhost:8080/"
        },
        "id": "cZE_ENWAEQIn",
        "outputId": "d28c06db-8101-4fd7-fe6f-cb05196f49ab"
      },
      "outputs": [
        {
          "output_type": "stream",
          "name": "stdout",
          "text": [
            "4 é maior que 3\n",
            "7 é maior que 5\n"
          ]
        }
      ],
      "source": [
        "def print_max(a, b):\n",
        "    if a > b:\n",
        "        print(f'{a} é maior que {b}')\n",
        "    elif a == b:\n",
        "        print(f'{a} e {b} são iguais')\n",
        "    else:\n",
        "        print(f'{b} é maior que {a}')\n",
        "\n",
        "# chama print_max\n",
        "print_max(3, 4)\n",
        "\n",
        "x = 7\n",
        "y = 5\n",
        "\n",
        "# chama print_max,\n",
        "# passando o valor das variáveis x e y como argumentos\n",
        "print_max(x, y)"
      ]
    },
    {
      "cell_type": "markdown",
      "metadata": {
        "id": "Ig5BEI5bEQIn"
      },
      "source": [
        "### Variáveis Locais\n",
        "\n",
        "Variáveis declaradas dentro de uma função são chamadas de variáveis locais\n",
        "- O escopo de uma variável local está limitado ao bloco de código pertencente à função\n",
        "- É possível definir uma variável local com o mesmo nome de uma variável externa à função\n",
        "\n"
      ]
    },
    {
      "cell_type": "code",
      "execution_count": 23,
      "metadata": {
        "colab": {
          "base_uri": "https://localhost:8080/"
        },
        "id": "Pxwca4x0EQIn",
        "outputId": "b1f9e379-b813-4080-8e60-11591a6ec487"
      },
      "outputs": [
        {
          "output_type": "stream",
          "name": "stdout",
          "text": [
            "o valor de x é: 10\n",
            "mudei o valor da variável local x para: 5\n",
            "o valor de y é: 20\n",
            "x externo ainda é: 10\n",
            "x externo ainda é: 10\n"
          ]
        }
      ],
      "source": [
        "def testa_local(x):\n",
        "    print(f'o valor de x é: {x}')\n",
        "    x = 5\n",
        "    print(f'mudei o valor da variável local x para: {x}')\n",
        "    y = 20\n",
        "    print(f'o valor de y é: {y}')\n",
        "\n",
        "\n",
        "x = 10\n",
        "y = 10\n",
        "testa_local(x)\n",
        "print(f'x externo ainda é: {x}')\n",
        "print(f'x externo ainda é: {y}')"
      ]
    },
    {
      "cell_type": "code",
      "execution_count": null,
      "metadata": {
        "id": "fNDSQbTwEQIn"
      },
      "outputs": [],
      "source": []
    },
    {
      "cell_type": "markdown",
      "metadata": {
        "id": "TPMwfFmREQIn"
      },
      "source": [
        "### Variáveis Globais\n",
        "\n",
        "Variáveis cujo escopo não está limitado a blocos internos de funções ou classes.\n",
        "\n",
        "Para usar uma variável global dentro de uma função, deve-se dizer ao Python que a variável não é local, usando o comando `global`."
      ]
    },
    {
      "cell_type": "code",
      "execution_count": 24,
      "metadata": {
        "colab": {
          "base_uri": "https://localhost:8080/"
        },
        "id": "sPSs4JsaEQIn",
        "outputId": "f21f75cc-2cf9-443c-bcdf-1613fea09377"
      },
      "outputs": [
        {
          "output_type": "stream",
          "name": "stdout",
          "text": [
            "o valor de x é: 10\n",
            "mudei o valor da variável global x para: 5\n",
            "x externo mudou para 5 após chamar testa_global\n"
          ]
        }
      ],
      "source": [
        "def testa_global():\n",
        "    global x\n",
        "    print(f'o valor de x é: {x}')\n",
        "    x = 5\n",
        "    print(f'mudei o valor da variável global x para: {x}')\n",
        "\n",
        "x = 10\n",
        "testa_global()\n",
        "print(f'x externo mudou para {x} após chamar testa_global')"
      ]
    },
    {
      "cell_type": "markdown",
      "metadata": {
        "id": "Nu6Z9gbZEQIn"
      },
      "source": [
        "### Argumento Default\n",
        "\n",
        "É possível tornar alguns parâmetros opcionais, atribuindo a eles valores default."
      ]
    },
    {
      "cell_type": "code",
      "execution_count": 26,
      "metadata": {
        "colab": {
          "base_uri": "https://localhost:8080/"
        },
        "id": "r7UjRs23EQIn",
        "outputId": "a23538ec-2895-4fe9-c31d-1ed5689b8c64"
      },
      "outputs": [
        {
          "output_type": "stream",
          "name": "stdout",
          "text": [
            "a é: 1 e b é: 2\n",
            "a é: 1 e b é: 10\n"
          ]
        }
      ],
      "source": [
        "def testa_default(a, b = 2):\n",
        "    print(f'a é: {a} e b é: {b}')\n",
        "\n",
        "testa_default(1)\n",
        "testa_default(1, 10)"
      ]
    },
    {
      "cell_type": "markdown",
      "metadata": {
        "id": "kSHi7IvpEQIn"
      },
      "source": [
        "### Argumento Keyword\n",
        "\n",
        "Se a função possuir muitos argumentos default, é possível definir quais serão passados usando o nome do parâmetro (argumentos keyword) ao invés de sua posição."
      ]
    },
    {
      "cell_type": "code",
      "execution_count": 29,
      "metadata": {
        "colab": {
          "base_uri": "https://localhost:8080/"
        },
        "id": "QsXU53ftEQIn",
        "outputId": "e1dd71dd-58bf-47c8-ba8d-0e33a13f3ee6"
      },
      "outputs": [
        {
          "output_type": "stream",
          "name": "stdout",
          "text": [
            "a é: 1 | b é: 2 | c é 3\n",
            "a é: 1 | b é: 2 | c é 10\n",
            "a é: 30 | b é: 2 | c é 20\n"
          ]
        }
      ],
      "source": [
        "def testa_keyword(a,b = 2,c = 3):\n",
        "    print(f'a é: {a} | b é: {b} | c é {c}')\n",
        "\n",
        "testa_keyword(1)\n",
        "testa_keyword(1, c = 10)\n",
        "testa_keyword(c = 20, a = 30)"
      ]
    },
    {
      "cell_type": "markdown",
      "metadata": {
        "id": "bta5W93HEQIn"
      },
      "source": [
        "### Comando `return`\n",
        "\n",
        "Utilizado para que a função **retorne** algum resultado para quem a chamou."
      ]
    },
    {
      "cell_type": "code",
      "execution_count": 31,
      "metadata": {
        "colab": {
          "base_uri": "https://localhost:8080/"
        },
        "id": "v_YyW9gNEQIn",
        "outputId": "a5b9c317-7ec8-41e8-a2b1-5764806243b2"
      },
      "outputs": [
        {
          "output_type": "stream",
          "name": "stdout",
          "text": [
            "6\n"
          ]
        }
      ],
      "source": [
        "def maximo(a, b):\n",
        "    if a > b:\n",
        "        res = a\n",
        "    else:\n",
        "        res = b\n",
        "    return res\n",
        "\n",
        "resultado = maximo(6, 4)\n",
        "print(resultado)"
      ]
    }
  ],
  "metadata": {
    "kernelspec": {
      "display_name": "Python 3.10.8 64-bit",
      "language": "python",
      "name": "python3"
    },
    "language_info": {
      "codemirror_mode": {
        "name": "ipython",
        "version": 3
      },
      "file_extension": ".py",
      "mimetype": "text/x-python",
      "name": "python",
      "nbconvert_exporter": "python",
      "pygments_lexer": "ipython3",
      "version": "3.10.8"
    },
    "vscode": {
      "interpreter": {
        "hash": "949777d72b0d2535278d3dc13498b2535136f6dfe0678499012e853ee9abcab1"
      }
    },
    "colab": {
      "provenance": [],
      "include_colab_link": true
    }
  },
  "nbformat": 4,
  "nbformat_minor": 0
}