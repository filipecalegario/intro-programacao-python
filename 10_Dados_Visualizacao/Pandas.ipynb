{
 "cells": [
  {
   "cell_type": "markdown",
   "metadata": {
    "slideshow": {
     "slide_type": "slide"
    }
   },
   "source": [
    "# Pandas\n",
    "\n",
    "Pandas é uma biblioteca de Python que facilita a manipulação, preparação e limpeza dos dados.\n",
    "\n",
    "<img  src=\"./imgs/pandas.jpeg\" width=\"200\" />"
   ]
  },
  {
   "cell_type": "markdown",
   "metadata": {},
   "source": [
    "- Pandas é orientada a objetos.\n",
    "\n",
    "- Criamos estruturas de dados pela construção de instâncias de diferentes classes.\n",
    "\n",
    "- As duas classes mais importantes de Pandas são:\n",
    "\n",
    "    - `Series`\n",
    "    - `DataFrame`\n",
    "    \n",
    "- Pandas segue a convenção de Java de começar o nome das classes com uma letra maiúscula, enquanto as instâncias em letras minúsculas.\n",
    "  \n",
    "- Geralmente, importamos o módulo de Pandas e o assinalamos com a versão reduzida do nome: `pd`."
   ]
  },
  {
   "cell_type": "markdown",
   "metadata": {
    "slideshow": {
     "slide_type": "slide"
    }
   },
   "source": [
    "Para importar a biblioteca, usamos o comando:"
   ]
  },
  {
   "cell_type": "code",
   "execution_count": null,
   "metadata": {
    "slideshow": {
     "slide_type": "-"
    }
   },
   "outputs": [],
   "source": [
    "import pandas as pd"
   ]
  },
  {
   "cell_type": "markdown",
   "metadata": {},
   "source": [
    "A partir de agora, sempre que você utilizar `pd` dentro do código, estará referenciado a biblioteca pandas."
   ]
  },
  {
   "cell_type": "markdown",
   "metadata": {
    "slideshow": {
     "slide_type": "slide"
    }
   },
   "source": [
    "### Carregando os Dados\n",
    "\n",
    "Vamos iniciar com um arquivo CSV. \n",
    "\n",
    "A biblioteca Pandas carrega os dados em uma estrutura de dados própria, indexando cada linha, separando variáveis com delimitadores customizáveis, inferindo qual o tipo de dado de cada coluna, convertendo os dados (se necessário, por exemplo, texto para número), fazendo o tratamento de datas, valores ausentes e valores incorretos.\n",
    "\n",
    "Para isso, utilizaremos uma base com o histórico de cotação das ações preferenciais da Petrobras no período de 07/03/2020 até 07/04/2020, que está no arquivo PETR4 Dados ``PETR4 Dados Históricos.csv``. Para tanto, utilizaremos os seguintes comandos:"
   ]
  },
  {
   "cell_type": "code",
   "execution_count": null,
   "metadata": {},
   "outputs": [],
   "source": [
    "nome_acao = 'PETR4 Dados Históricos.csv'\n",
    "petr4 = pd.read_csv(nome_acao, decimal=\",\")\n",
    "type(petr4)"
   ]
  },
  {
   "cell_type": "markdown",
   "metadata": {},
   "source": [
    "O resultado é um objeto, chamado ``petr4``, que armazena um ``DataFrame`` Pandas. Note o uso de ``decimal=\",\"`` para indicar que o arquivo está utilizando o separador decimal brasileiro.  Para ter uma ideia de sua estrutura, vamos imprimir as primeiras linhas do DataFrame, usando o seguinte comando para isso:"
   ]
  },
  {
   "cell_type": "code",
   "execution_count": null,
   "metadata": {},
   "outputs": [],
   "source": [
    "petr4.head(2)"
   ]
  },
  {
   "cell_type": "markdown",
   "metadata": {},
   "source": [
    "Um ``DataFrame`` Pandas é estrutura de dados e tem algumas características que serão estudadas mais adiante. \n",
    "\n",
    "Por enquanto, basta saber que ela possui uma estrutura de matriz. Cada linha da matriz possui um índice, que aparece na coluna mais à esquerda. Cada coluna, possui um índice, que é o próprio nome da coluna. \n",
    "\n",
    "Se quiséssemos imprimir as últimas linhas do Data Frame ``petr4``, poderíamos usar a função ``tail``.\n",
    "\n",
    "A função ``head``/``tail`` imprime a 5 primeiras/últimas linhas. É possível controlar o número de linhas impressas, passando um parâmetro. Por exemplo, vamos imprimir apenas as duas primeiras linhas."
   ]
  },
  {
   "cell_type": "code",
   "execution_count": null,
   "metadata": {},
   "outputs": [],
   "source": [
    "nome_acao = 'PETR4 Dados Históricos.csv'\n",
    "petr4 = pd.read_csv(nome_acao)\n",
    "petr4.head(5)"
   ]
  },
  {
   "cell_type": "markdown",
   "metadata": {},
   "source": [
    "Se desejarmos visualizar apenas os nomes das colunas, podemos usar:"
   ]
  },
  {
   "cell_type": "code",
   "execution_count": null,
   "metadata": {},
   "outputs": [],
   "source": [
    "petr4.columns"
   ]
  },
  {
   "cell_type": "code",
   "execution_count": null,
   "metadata": {},
   "outputs": [],
   "source": [
    "datas = petr4['Data']\n",
    "datas"
   ]
  },
  {
   "cell_type": "markdown",
   "metadata": {},
   "source": [
    "Note que, ao extrairmos os dados referenciados pela coluna ``Datas``, obtivemos um conjunto de valores em uma estrutura unidimensional. Cada um desses valores possuem um índice associado. No caso acima, os índices variam de 0 até 22. \n",
    "\n",
    "Essa estrutura de dados é fundamental para trabalharmos com Pandas e se chama `Series`.\n",
    "\n",
    "### Series\n",
    "\n",
    "Trata-se de uma lista (também chamado de array) de ```dados``` unidimensional, que possui um array de rótulos chamado ```index```. Cada elemento do array de dados possui uma associação com um elemento do *index*."
   ]
  },
  {
   "cell_type": "code",
   "execution_count": null,
   "metadata": {},
   "outputs": [],
   "source": [
    "data = [1, 2, 3, 4, 5] # Esta linha cria uma lista\n",
    "my_series = pd.Series(data) # Esta linha cria uma instância do objeto Series de pandas, os índices são automaticamente gerados.\n",
    "my_series2 = pd.Series(data, index=['a', 'b', 'c', 'd', 'e'])  # Parecido com o dicionário de Python, índices são definidos\n",
    "print(my_series)\n",
    "print(my_series2)"
   ]
  },
  {
   "cell_type": "code",
   "execution_count": null,
   "metadata": {},
   "outputs": [],
   "source": [
    "%pip install matplotlib\n",
    "import matplotlib\n",
    "my_series.plot()"
   ]
  },
  {
   "cell_type": "markdown",
   "metadata": {},
   "source": [
    "#### Criando uma Series de um dicionário"
   ]
  },
  {
   "cell_type": "code",
   "execution_count": null,
   "metadata": {},
   "outputs": [],
   "source": [
    "d = {'a' : 0., 'b' : 1., 'c' : 2.}\n",
    "my_series = pd.Series(d)\n",
    "my_series"
   ]
  },
  {
   "cell_type": "markdown",
   "metadata": {},
   "source": [
    "#### Indexando e Fatiando uma Series com `[]` ou . \n",
    "\n",
    "- As séries podem ser acessadas usando a mesma sintaxe de listas e dicionários em Python.\n",
    "- Usamos os rótulos no índice para acessar cada elemento.\n",
    "- Também podemos usar o rótulo como um atributo `my_series.b`\n",
    "- Podemos especificar um intervalo com `my_series[['b', 'c']]`"
   ]
  },
  {
   "cell_type": "code",
   "execution_count": null,
   "metadata": {},
   "outputs": [],
   "source": [
    "print( my_series['b'])\n",
    "print(my_series.b)\n",
    "print(my_series[['b', 'c']])"
   ]
  },
  {
   "cell_type": "markdown",
   "metadata": {},
   "source": [
    "#### Operações com Series"
   ]
  },
  {
   "cell_type": "code",
   "execution_count": null,
   "metadata": {},
   "outputs": [],
   "source": [
    "dados_entrada = {'a' : 0., 'b' : 1., 'c' : 2.}\n",
    "\n",
    "a = pd.Series(dados_entrada)\n",
    "print('Imprimindo o array \"a\":\\n', a)\n",
    "print('==========================')\n",
    "\n",
    "b1 = 10 * a\n",
    "print('Multiplicando diretamente por 10:\\n', b1)\n",
    "print('==========================')\n",
    "\n",
    "b2 = a.multiply(10)\n",
    "print('Multiplicando por 10 usando a função:\\n', b2)\n",
    "print('==========================')\n",
    "\n",
    "c1 = a + b1\n",
    "print('Somando \"a\" e \"b\" diretamente:\\n', c1)\n",
    "print('==========================')\n",
    "\n",
    "c2 = pd.Series.add(a, b1) \n",
    "print('Somando \"a\" e \"b\" com uma função:\\n', c2)\n",
    "print('==========================')\n",
    "\n"
   ]
  },
  {
   "cell_type": "code",
   "execution_count": null,
   "metadata": {},
   "outputs": [],
   "source": [
    "sum_a = pd.Series.sum(a) \n",
    "print('Somando todos os elementos de \"a\":\\n', sum_a)\n",
    "print(\"==========================\")\n",
    "\n",
    "f = a ** 2 \n",
    "print('square a:\\n', f)\n",
    "print('Elevando todos os elementos de \"a\" a dois:\\n', sum_a)\n",
    "print(\"==========================\")\n",
    "\n",
    "x = pd.Series({'a' : 0., 'b' : 1., 'c' : 2.})\n",
    "y = pd.Series({'a' : 3., 'b' : 4., 'c' : 5.})\n",
    "z = x + y\n",
    "print('Adicionando duas Series:\\n', z)\n",
    "print(\"==========================\")"
   ]
  },
  {
   "cell_type": "markdown",
   "metadata": {},
   "source": [
    "### Séries Temporais (Time Series)\n",
    "\n",
    "- Times Series em pandas associam tempos específicos com valores em cada linha"
   ]
  },
  {
   "cell_type": "code",
   "execution_count": null,
   "metadata": {},
   "outputs": [],
   "source": [
    "dates = pd.date_range('1/1/2000', periods=5)\n",
    "print(dates)"
   ]
  },
  {
   "cell_type": "code",
   "execution_count": null,
   "metadata": {},
   "outputs": [],
   "source": [
    "time_series = pd.Series(data, index=dates)\n",
    "time_series"
   ]
  },
  {
   "cell_type": "markdown",
   "metadata": {},
   "source": [
    "#### Plotando uma Série Temporal\n",
    "\n",
    "- Com os valores associados ao tempo, o comando `plot` pode ser usado para se obter uma visualização rápida na forma de um gráfico de linhas"
   ]
  },
  {
   "cell_type": "code",
   "execution_count": null,
   "metadata": {},
   "outputs": [],
   "source": [
    "ax = time_series.plot()"
   ]
  },
  {
   "cell_type": "code",
   "execution_count": null,
   "metadata": {},
   "outputs": [],
   "source": [
    "type(time_series)"
   ]
  },
  {
   "cell_type": "markdown",
   "metadata": {},
   "source": [
    "##### Filtrando dados"
   ]
  },
  {
   "cell_type": "code",
   "execution_count": null,
   "metadata": {},
   "outputs": [],
   "source": [
    "# cria a série\n",
    "num = pd.Series([1, 2, 3, 4, 5, 6], index=['n1', 'n2', 'n3', 'n4', 'n5', 'n6'])\n",
    "\n",
    "# filtra números pares\n",
    "par = num[num % 2 == 0]\n",
    "\n",
    "# filtra números impares\n",
    "impar = num[num % 2 != 0]\n",
    "\n",
    "print('todos')\n",
    "print(num)\n",
    "print('pares:')\n",
    "print(par)\n",
    "print('impares:')\n",
    "print(impar)"
   ]
  },
  {
   "cell_type": "markdown",
   "metadata": {},
   "source": [
    "Vamos selecionar todas as datas armazenada na Series ``Datas``, que são menores que *07.03.2020*: "
   ]
  },
  {
   "cell_type": "markdown",
   "metadata": {},
   "source": [
    "# Aqui está errado!"
   ]
  },
  {
   "cell_type": "code",
   "execution_count": null,
   "metadata": {},
   "outputs": [],
   "source": [
    "datas[datas<'07.03.2020']"
   ]
  },
  {
   "cell_type": "markdown",
   "metadata": {},
   "source": [
    "# DataFrames\n",
    "\n",
    "- O `pandas` fornece uma poderosa estrutura de dados chamada DataFrames (uma tradução possível seria Quadro de Dados, mas ninguém usa assim).\n",
    "\n",
    "- É semelhante, mas não idêntico a:\n",
    "     - uma tabela em um banco de dados relacional,\n",
    "     - uma planilha Excel,\n",
    "     - um dataframe em R.\n",
    "\n",
    "- Um DataFrame tem várias colunas, cada uma das quais pode conter um tipo *diferente* de valor.\n",
    "\n",
    "- Como uma série, possui um índice que fornece um rótulo para cada linha.\n"
   ]
  },
  {
   "cell_type": "markdown",
   "metadata": {},
   "source": [
    "## Criando um DataFrame a partir de dados externos\n",
    "- Os DataFrames podem ser lidos e gravados de/para:\n",
    "     - consultas de banco de dados, tabelas de banco de dados\n",
    "     - arquivos CSV\n",
    "     - arquivos JSON\n",
    "     - etc\n",
    "    \n",
    "- Esteja ciente de que os DataFrames ficam armazenados na memória:\n",
    "     - Se você ler uma grande quantidade de dados, seu computador pode travar\n",
    "     - Com big data, normalmente você leria um subconjunto ou resumo dos dados (ver mais sobre select statement)"
   ]
  },
  {
   "cell_type": "markdown",
   "metadata": {},
   "source": [
    "## Criando um DataFrame a partir de estruturas de dados Python\n",
    "\n",
    "- Os quadros de dados podem ser construídos a partir de outras estruturas de dados:\n",
    "  - dicionário de listas\n",
    "  - dicionário de dicionários\n",
    "  - dicionário de Series\n",
    "  - uma única Series\n",
    "  - outro DataFrame"
   ]
  },
  {
   "cell_type": "markdown",
   "metadata": {},
   "source": [
    "## Exemplo: Criando um DataFrame de Várias Séries\n",
    "- Pandas codifica valores ausentes como `NaN` em vez de `None`\n",
    "- A série deve ter chaves correspondentes para cada linha correspondente."
   ]
  },
  {
   "cell_type": "code",
   "execution_count": null,
   "metadata": {},
   "outputs": [],
   "source": [
    "d = {\n",
    "        'x' : pd.Series([1., 2., 3.], index=['a', 'b', 'c']),\n",
    "        'y' : pd.Series([4.,  6., 7.], index=['a',  'c', 'd']),\n",
    "        'z' : pd.Series([0.2, 0.3, 0.4], index=[ 'b', 'c', 'd'])\n",
    "}\n",
    "print(type(d))\n",
    "\n",
    "df = pd.DataFrame(d)\n",
    "print (df)"
   ]
  },
  {
   "cell_type": "markdown",
   "metadata": {},
   "source": [
    "## Plotando DataFrames\n",
    "\n",
    "- Ao plotar um DataFrame, cada coluna é plotada como sua própria série no mesmo gráfico.\n",
    "\n",
    "- Os nomes das colunas são usados para rotular cada série.\n",
    "\n",
    "- Os nomes das linhas (índice) são usados para rotular o eixo x."
   ]
  },
  {
   "cell_type": "code",
   "execution_count": null,
   "metadata": {},
   "outputs": [],
   "source": [
    "ax = df.plot()"
   ]
  },
  {
   "cell_type": "markdown",
   "metadata": {},
   "source": [
    "## Funções e DataFrames\n",
    "\n",
    "- Podemos fazer cálculos e funções com DataFrames como Series.\n",
    "- As funções normalmente retornarão um DataFrames ou uma Serie, dependendo.\n",
    "- Para fazer uma cópia, não defina dois DataFrames usando o comando de atribuição, usem o método copy: `df2= df.copy()`"
   ]
  },
  {
   "cell_type": "code",
   "execution_count": null,
   "metadata": {},
   "outputs": [],
   "source": [
    "df2 = df.copy()\n",
    "print(df, '\\n', df2)"
   ]
  },
  {
   "cell_type": "markdown",
   "metadata": {},
   "source": [
    "## Estatísticas resumidas\n",
    "- Para obter estatísticas resumidas rapidamente sobre valores numéricos, use o método `describe`.\n",
    "- Você receberá um aviso se houver valores ausentes.\n",
    "- O resultado é em si um DataFrame, que podemos fatiar `dfstats.y['mean']`."
   ]
  },
  {
   "cell_type": "code",
   "execution_count": null,
   "metadata": {},
   "outputs": [],
   "source": [
    "dfstats=df.describe()\n",
    "print(dfstats)\n",
    "# Vejam a diferença de usar o interactive output\n",
    "dfstats"
   ]
  },
  {
   "cell_type": "markdown",
   "metadata": {},
   "source": [
    "## Acessando os rótulos de linha e coluna\n",
    "\n",
    "- Os rótulos das linhas (índice) podem ser acessados através do `df.index`.\n",
    "- Os rótulos das colunas podem ser acessados através de `df.columns`."
   ]
  },
  {
   "cell_type": "code",
   "execution_count": null,
   "metadata": {},
   "outputs": [],
   "source": [
    "print(df.index)\n",
    "print(df.columns)"
   ]
  },
  {
   "cell_type": "markdown",
   "metadata": {},
   "source": [
    "## Carregando arquivos com Pandas\n",
    "- Sempre que você tiver um conjunto de dados com uma variedade de campos de vários tipos, carregá-lo no Pandas é uma boa estratégia.\n",
    "- Você pode carregar de um arquivo local ou de um URL."
   ]
  },
  {
   "cell_type": "code",
   "execution_count": 58,
   "metadata": {},
   "outputs": [
    {
     "data": {
      "text/html": [
       "<div>\n",
       "<style scoped>\n",
       "    .dataframe tbody tr th:only-of-type {\n",
       "        vertical-align: middle;\n",
       "    }\n",
       "\n",
       "    .dataframe tbody tr th {\n",
       "        vertical-align: top;\n",
       "    }\n",
       "\n",
       "    .dataframe thead th {\n",
       "        text-align: right;\n",
       "    }\n",
       "</style>\n",
       "<table border=\"1\" class=\"dataframe\">\n",
       "  <thead>\n",
       "    <tr style=\"text-align: right;\">\n",
       "      <th></th>\n",
       "      <th>sepal_length</th>\n",
       "      <th>sepal_width</th>\n",
       "      <th>petal_length</th>\n",
       "      <th>petal_width</th>\n",
       "      <th>species</th>\n",
       "    </tr>\n",
       "  </thead>\n",
       "  <tbody>\n",
       "    <tr>\n",
       "      <th>0</th>\n",
       "      <td>5.1</td>\n",
       "      <td>3.5</td>\n",
       "      <td>1.4</td>\n",
       "      <td>0.2</td>\n",
       "      <td>setosa</td>\n",
       "    </tr>\n",
       "    <tr>\n",
       "      <th>1</th>\n",
       "      <td>4.9</td>\n",
       "      <td>3.0</td>\n",
       "      <td>1.4</td>\n",
       "      <td>0.2</td>\n",
       "      <td>setosa</td>\n",
       "    </tr>\n",
       "    <tr>\n",
       "      <th>2</th>\n",
       "      <td>4.7</td>\n",
       "      <td>3.2</td>\n",
       "      <td>1.3</td>\n",
       "      <td>0.2</td>\n",
       "      <td>setosa</td>\n",
       "    </tr>\n",
       "    <tr>\n",
       "      <th>3</th>\n",
       "      <td>4.6</td>\n",
       "      <td>3.1</td>\n",
       "      <td>1.5</td>\n",
       "      <td>0.2</td>\n",
       "      <td>setosa</td>\n",
       "    </tr>\n",
       "    <tr>\n",
       "      <th>4</th>\n",
       "      <td>5.0</td>\n",
       "      <td>3.6</td>\n",
       "      <td>1.4</td>\n",
       "      <td>0.2</td>\n",
       "      <td>setosa</td>\n",
       "    </tr>\n",
       "    <tr>\n",
       "      <th>...</th>\n",
       "      <td>...</td>\n",
       "      <td>...</td>\n",
       "      <td>...</td>\n",
       "      <td>...</td>\n",
       "      <td>...</td>\n",
       "    </tr>\n",
       "    <tr>\n",
       "      <th>145</th>\n",
       "      <td>6.7</td>\n",
       "      <td>3.0</td>\n",
       "      <td>5.2</td>\n",
       "      <td>2.3</td>\n",
       "      <td>virginica</td>\n",
       "    </tr>\n",
       "    <tr>\n",
       "      <th>146</th>\n",
       "      <td>6.3</td>\n",
       "      <td>2.5</td>\n",
       "      <td>5.0</td>\n",
       "      <td>1.9</td>\n",
       "      <td>virginica</td>\n",
       "    </tr>\n",
       "    <tr>\n",
       "      <th>147</th>\n",
       "      <td>6.5</td>\n",
       "      <td>3.0</td>\n",
       "      <td>5.2</td>\n",
       "      <td>2.0</td>\n",
       "      <td>virginica</td>\n",
       "    </tr>\n",
       "    <tr>\n",
       "      <th>148</th>\n",
       "      <td>6.2</td>\n",
       "      <td>3.4</td>\n",
       "      <td>5.4</td>\n",
       "      <td>2.3</td>\n",
       "      <td>virginica</td>\n",
       "    </tr>\n",
       "    <tr>\n",
       "      <th>149</th>\n",
       "      <td>5.9</td>\n",
       "      <td>3.0</td>\n",
       "      <td>5.1</td>\n",
       "      <td>1.8</td>\n",
       "      <td>virginica</td>\n",
       "    </tr>\n",
       "  </tbody>\n",
       "</table>\n",
       "<p>150 rows × 5 columns</p>\n",
       "</div>"
      ],
      "text/plain": [
       "     sepal_length  sepal_width  petal_length  petal_width    species\n",
       "0             5.1          3.5           1.4          0.2     setosa\n",
       "1             4.9          3.0           1.4          0.2     setosa\n",
       "2             4.7          3.2           1.3          0.2     setosa\n",
       "3             4.6          3.1           1.5          0.2     setosa\n",
       "4             5.0          3.6           1.4          0.2     setosa\n",
       "..            ...          ...           ...          ...        ...\n",
       "145           6.7          3.0           5.2          2.3  virginica\n",
       "146           6.3          2.5           5.0          1.9  virginica\n",
       "147           6.5          3.0           5.2          2.0  virginica\n",
       "148           6.2          3.4           5.4          2.3  virginica\n",
       "149           5.9          3.0           5.1          1.8  virginica\n",
       "\n",
       "[150 rows x 5 columns]"
      ]
     },
     "execution_count": 58,
     "metadata": {},
     "output_type": "execute_result"
    }
   ],
   "source": [
    "frame_iris = pd.read_csv('https://raw.githubusercontent.com/rpi-techfundamentals/spring2019-materials/master/input/iris.csv')\n",
    "frame_iris"
   ]
  },
  {
   "cell_type": "markdown",
   "metadata": {},
   "source": [
    "__________________________________________________"
   ]
  },
  {
   "cell_type": "code",
   "execution_count": null,
   "metadata": {},
   "outputs": [],
   "source": [
    "serie_acoes = pd.Series(['Vale do Rio Doce', 'Petrobras', 'Usiminas'])\n",
    "serie_acoes"
   ]
  },
  {
   "cell_type": "markdown",
   "metadata": {},
   "source": [
    "O índices são apresentados na coluna esquerda e os dados são mostrados na coluna direita. Nesse caso específico, como não definimos quais índices serão associados a cada dado, são utilizados valores inteiros, de 0 à N, para representar os índices. Porém, poderíamos definir os índices explicitamente.\n",
    "\n",
    "No exemplo abaixo, os índices são *VALE3*, *PETR4* e *USIM5*. Eles foram explicitamente definidos."
   ]
  },
  {
   "cell_type": "code",
   "execution_count": null,
   "metadata": {},
   "outputs": [],
   "source": [
    "serie_acoes = pd.Series(['Vale do Rio Doce', 'Petrobras', 'Usiminas'],index=['VALE3','PETR4','USIM5'])\n",
    "serie_acoes"
   ]
  },
  {
   "cell_type": "markdown",
   "metadata": {},
   "source": [
    "Para acessar os valores dos dados, utilizamos:"
   ]
  },
  {
   "cell_type": "code",
   "execution_count": null,
   "metadata": {},
   "outputs": [],
   "source": [
    "serie_acoes.values"
   ]
  },
  {
   "cell_type": "markdown",
   "metadata": {},
   "source": [
    "Para acessar os valores dos índices, utilizamos:"
   ]
  },
  {
   "cell_type": "code",
   "execution_count": null,
   "metadata": {},
   "outputs": [],
   "source": [
    "serie_acoes.index"
   ]
  },
  {
   "cell_type": "markdown",
   "metadata": {},
   "source": [
    "Tanto o objeto Series quanto os seus índices possuem um atributo chamado ``name``:"
   ]
  },
  {
   "cell_type": "code",
   "execution_count": null,
   "metadata": {},
   "outputs": [],
   "source": [
    "serie_acoes.name = 'Ações'\n",
    "serie_acoes.index.name = 'Símbolo'\n",
    "serie_acoes"
   ]
  },
  {
   "cell_type": "markdown",
   "metadata": {},
   "source": [
    "É possível forçar a mudança dos índices por meio de atribuição:"
   ]
  },
  {
   "cell_type": "code",
   "execution_count": null,
   "metadata": {},
   "outputs": [],
   "source": [
    "serie_acoes.index = ['Idx1','Idx2','Idx3']\n",
    "serie_acoes"
   ]
  },
  {
   "cell_type": "markdown",
   "metadata": {},
   "source": [
    "#### Operações básicas com Series\n",
    "A seguir, apresentamos algumas operações básicas que podem ser realizadas utilizando Series.\n",
    "\n",
    "##### Acessando dados"
   ]
  },
  {
   "cell_type": "code",
   "execution_count": null,
   "metadata": {},
   "outputs": [],
   "source": [
    "serie_acoes['PETR4']"
   ]
  },
  {
   "cell_type": "code",
   "execution_count": null,
   "metadata": {},
   "outputs": [],
   "source": [
    "serie_acoes[['VALE3','PETR4']]"
   ]
  },
  {
   "cell_type": "code",
   "execution_count": null,
   "metadata": {},
   "outputs": [],
   "source": [
    "### Transformando dicionário em Series\n",
    "Para transformar um dicionário em uma série é bastante simples. "
   ]
  },
  {
   "cell_type": "code",
   "execution_count": null,
   "metadata": {},
   "outputs": [],
   "source": [
    "# criando o dicionário\n",
    "dict_bolsa = {'VALE3': 42, 'PETR4': 16, 'USMI5': 5}\n",
    "print(dict_bolsa)"
   ]
  },
  {
   "cell_type": "code",
   "execution_count": null,
   "metadata": {},
   "outputs": [],
   "source": [
    "# transformando o dicionário em Series\n",
    "series_bolsa = pd.Series(dict_bolsa)\n",
    "print(series_bolsa)"
   ]
  },
  {
   "cell_type": "markdown",
   "metadata": {},
   "source": [
    "Se durante a conversão de dicionário para Series utilizarmos índices que não tenham correspondência, o valor do índice ficará vazio na Série (veja o caso do índice ``BBAS3``). Se, por outro lado, utilizarmos um índice mais de uma vez duante a conversão, o valor associado ao índice aparecerá diversas mais de uma vez na Série (veja o caso de ``PETR4``)."
   ]
  },
  {
   "cell_type": "code",
   "execution_count": null,
   "metadata": {},
   "outputs": [],
   "source": [
    "# criando o dicionário\n",
    "dict_bolsa = {'VALE3': 42, 'PETR4': 16, 'USMI5': 5}\n",
    "series_bolsa = pd.Series(dict_bolsa,index=['PETR4','VALE3', 'PETR4', 'BBAS3', 'USIM5'])\n",
    "print(series_bolsa)"
   ]
  },
  {
   "cell_type": "markdown",
   "metadata": {},
   "source": [
    "O símbolo ``NaN`` indica que o valor está faltando para ``BBAS``. A função ``isnull`` (retorna True se estiver faltando e False, caso contrário) ou ``notnul`` (retorna False se estiver faltando e True, caso contrário) podem ser utilizadas para saber quais são os valores faltando na Serie ou em um Data Frame. Mais adiante discutiremos como tratar com dados ausentes."
   ]
  },
  {
   "cell_type": "code",
   "execution_count": null,
   "metadata": {},
   "outputs": [],
   "source": [
    "pd.isnull(series_bolsa)"
   ]
  },
  {
   "cell_type": "code",
   "execution_count": null,
   "metadata": {},
   "outputs": [],
   "source": [
    "pd.notnull(series_bolsa)"
   ]
  },
  {
   "cell_type": "markdown",
   "metadata": {},
   "source": [
    "Vamos agora criar duas séries. Se somarmos as duas, os valores com índices iguais serão somados. Caso uma das séries contenha um valor ``NaN`` associado a um determinado índice (``USIM5``, na ``serie_bolsa1`` e ``BBAS3`` na ``serie_bolsa2``), o resultado da soma para esse índice será ``NaN``. O mesmo acontecerá se o índice não tiver um índice correspondente para ser somado na outra série (``BBAS3``, na ``serie_bolsa2`` não tem um correspondente na ``serie_bolsa1``)."
   ]
  },
  {
   "cell_type": "code",
   "execution_count": null,
   "metadata": {},
   "outputs": [],
   "source": [
    "# criação e impressão da série 1 (USIM5 não terá valor)\n",
    "dict_bolsa1 = {'VALE3': 42, 'PETR4': 16}\n",
    "series_bolsa1 = pd.Series(dict_bolsa1,index=['PETR4','VALE3', 'USIM5'])\n",
    "print('series_bolsa1')\n",
    "print(series_bolsa1)\n",
    "\n",
    "# criação e impressão da série 2 (BBAS3 não terá valor)\n",
    "dict_bolsa2 = {'VALE3': 50, 'PETR4': 20, 'USIM5': 8}\n",
    "series_bolsa2 = pd.Series(dict_bolsa2,index=['PETR4','VALE3', 'USIM5','BBAS3'])\n",
    "print('series_bolsa2')\n",
    "print(series_bolsa2)\n",
    "\n",
    "# cálculo do preço médio das ações \n",
    "# USIM5 retornará NaN, pois não tem um valor correspondente na série 1\n",
    "# BBAS3 retornará NaN, pois seu valor é NaN na série 2\n",
    "preco_medio = (series_bolsa1 + series_bolsa2)/2\n",
    "print('preco_medio')\n",
    "print(preco_medio)"
   ]
  },
  {
   "cell_type": "markdown",
   "metadata": {},
   "source": [
    "Para saber mais sobre ``Series``, acesse a documentação do Pandas em: \n",
    "\n",
    "https://pandas.pydata.org/pandas-docs/stable/reference/series.html\n",
    "\n",
    "### DataFrame\n",
    "\n",
    "Um DataFrame é uma estrutura de dados similar a uma planilha, com linhas e colunas indexadas. Cada coluna é ordenada e pode conter armazena valores de um determinado tipo. Vamos retornar ao arquivo com as cotações da Petrobras. "
   ]
  },
  {
   "cell_type": "code",
   "execution_count": null,
   "metadata": {},
   "outputs": [],
   "source": [
    "import pandas as pd\n",
    "nome_acao = 'PETR4 Dados Históricos.csv'\n",
    "petr4 = pd.read_csv(nome_acao)\n",
    "petr4.head()"
   ]
  },
  {
   "cell_type": "markdown",
   "metadata": {},
   "source": [
    "*Obs:* todas as colunas devem ter tamanhos iguais.\n",
    "\n",
    "Pode-se pensar em um DataFrame como um Dicionário de Series."
   ]
  },
  {
   "cell_type": "code",
   "execution_count": null,
   "metadata": {},
   "outputs": [],
   "source": [
    "petr4_data = {  'Data':['07.04.2020', '06.04.2020', '03.05.2020', '02.04.2020'],\n",
    "                'Último':[16.66, 15.77, 15.34, 15.51],\n",
    "                'Abertura':[15.77, 16.05, 16.30, 15.40],\n",
    "                'Máxima':[16.98, 16.10, 16.36, 16.55],\n",
    "                'Mínima':[15.77, 15.18, 14.93, 15.01]}\n",
    "petr4 = pd.DataFrame(petr4_data)\n",
    "petr4"
   ]
  },
  {
   "cell_type": "markdown",
   "metadata": {},
   "source": [
    "É possível selecionar um subconjunto das colunas e apresentá-las na ordem desejada:"
   ]
  },
  {
   "cell_type": "code",
   "execution_count": null,
   "metadata": {},
   "outputs": [],
   "source": [
    "petr4_data = {  'Data':['07.04.2020', '06.04.2020', '03.05.2020', '02.04.2020'],\n",
    "                'Último':[16.66, 15.77, 15.34, 15.51],\n",
    "                'Abertura':[15.77, 16.05, 16.30, 15.40],\n",
    "                'Máxima':[16.98, 16.10, 16.36, 16.55],\n",
    "                'Mínima':[15.77, 15.18, 14.93, 15.01]}\n",
    "petr4 = pd.DataFrame(petr4_data, columns=['Abertura','Último','Data'])\n",
    "petr4"
   ]
  },
  {
   "cell_type": "markdown",
   "metadata": {},
   "source": [
    "Caso seja selecionada para apresentação uma coluna inexistente, os valores para essa coluna serão todos nulos (NaN):"
   ]
  },
  {
   "cell_type": "code",
   "execution_count": null,
   "metadata": {},
   "outputs": [],
   "source": [
    "petr4_data = {  'Data':['07.04.2020', '06.04.2020', '03.05.2020', '02.04.2020'],\n",
    "                'Último':[16.66, 15.77, 15.34, 15.51],\n",
    "                'Abertura':[15.77, 16.05, 16.30, 15.40],\n",
    "                'Máxima':[16.98, 16.10, 16.36, 16.55],\n",
    "                'Mínima':[15.77, 15.18, 14.93, 15.01]}\n",
    "petr4 = pd.DataFrame(petr4_data, columns=['Data','Abertura','Último','Percentual'])\n",
    "petr4"
   ]
  },
  {
   "cell_type": "markdown",
   "metadata": {},
   "source": [
    "Assim como fizemos com a Series, podemos modificar os nomes dos índices:"
   ]
  },
  {
   "cell_type": "code",
   "execution_count": null,
   "metadata": {},
   "outputs": [],
   "source": [
    "petr4_data = {  'Data':['07.04.2020', '06.04.2020', '03.05.2020', '02.04.2020'],\n",
    "                'Último':[16.66, 15.77, 15.34, 15.51],\n",
    "                'Abertura':[15.77, 16.05, 16.30, 15.40]}\n",
    "petr4 = pd.DataFrame(petr4_data, index=['Primeiro','Segundo','Terceiro','Quarto'])\n",
    "petr4"
   ]
  },
  {
   "cell_type": "markdown",
   "metadata": {},
   "source": [
    "Se desejarmos atribuir um nome a aos índices ou colunas, basta utilizar o atributo ``name``"
   ]
  },
  {
   "cell_type": "code",
   "execution_count": null,
   "metadata": {},
   "outputs": [],
   "source": [
    "# atribuindo o nome às colunas\n",
    "petr4.columns.name = 'Cabeçalho'\n",
    "\n",
    "# atribuindo o nome aos índices\n",
    "petr4.index.name = 'Índices'\n",
    "\n",
    "petr4"
   ]
  },
  {
   "cell_type": "markdown",
   "metadata": {},
   "source": [
    "Os valores de uma coluna podem ser acessados utilizando a notação de Series ou a notação de atributos:"
   ]
  },
  {
   "cell_type": "code",
   "execution_count": null,
   "metadata": {},
   "outputs": [],
   "source": [
    "petr4_data = {  'Data':['07.04.2020', '06.04.2020', '03.05.2020', '02.04.2020'],\n",
    "                'Último':[16.66, 15.77, 15.34, 15.51],\n",
    "                'Abertura':[15.77, 16.05, 16.30, 15.40]}\n",
    "petr4 = pd.DataFrame(petr4_data, index=['Primeiro','Segundo','Terceiro','Quarto'])\n",
    "\n",
    "# acessando com notação de uma série\n",
    "petr4['Último']"
   ]
  },
  {
   "cell_type": "code",
   "execution_count": null,
   "metadata": {},
   "outputs": [],
   "source": [
    "# acessando com notação de atributo\n",
    "petr4.Último"
   ]
  },
  {
   "cell_type": "markdown",
   "metadata": {},
   "source": [
    "É possível acessar os dados em uma linha utilizando o método ``loc`` para índices rotulados ou ``iloc`` para índices posicionais:"
   ]
  },
  {
   "cell_type": "code",
   "execution_count": null,
   "metadata": {},
   "outputs": [],
   "source": [
    "# índice rotulado\n",
    "petr4.loc['Segundo']"
   ]
  },
  {
   "cell_type": "code",
   "execution_count": null,
   "metadata": {},
   "outputs": [],
   "source": [
    "# índice posicional\n",
    "petr4.iloc[1]"
   ]
  },
  {
   "cell_type": "markdown",
   "metadata": {},
   "source": [
    "Para acessar apenas os valores, podemos usar o atributo ``values``, que retorna os dados em forma de array bidimensional:"
   ]
  },
  {
   "cell_type": "code",
   "execution_count": null,
   "metadata": {},
   "outputs": [],
   "source": [
    "petr4.values"
   ]
  },
  {
   "cell_type": "markdown",
   "metadata": {},
   "source": [
    "Colunas podem ser modificadas por meio de atribuição de um valor escalar ou uma lista com tamanho igual ao do DataFrame:"
   ]
  },
  {
   "cell_type": "code",
   "execution_count": null,
   "metadata": {},
   "outputs": [],
   "source": [
    "# atribuindo valor escalar\n",
    "petr4['Último'] = 17.55\n",
    "petr4"
   ]
  },
  {
   "cell_type": "code",
   "execution_count": null,
   "metadata": {},
   "outputs": [],
   "source": [
    "# atribuindo array\n",
    "petr4['Último'] = [17.55, 16.67, 14.00, 15.78]\n",
    "petr4"
   ]
  },
  {
   "cell_type": "markdown",
   "metadata": {},
   "source": [
    "Utiliza-se o método `isin` para testar se um conjunto de valores pertence ao DataFrame."
   ]
  },
  {
   "cell_type": "code",
   "execution_count": null,
   "metadata": {},
   "outputs": [],
   "source": [
    "petr4.isin([15.77, 14.00])"
   ]
  },
  {
   "cell_type": "markdown",
   "metadata": {},
   "source": [
    "Também é possível atribuir uma Series a uma coluna de um DataFrame. Nesse, caso, porém, o tamanho da Series pode ser menor, havendo um casamento exato com os índices do DataFrame, deixando os demais índices sem valor (NaN):"
   ]
  },
  {
   "cell_type": "code",
   "execution_count": null,
   "metadata": {},
   "outputs": [],
   "source": [
    "petr4['Último'] = pd.Series([15.10, 14.90], index=['Primeiro', 'Terceiro'])\n",
    "petr4"
   ]
  },
  {
   "cell_type": "markdown",
   "metadata": {},
   "source": [
    "Realizar uma atribuição a uma coluna que não existe, cria um nova coluna:"
   ]
  },
  {
   "cell_type": "code",
   "execution_count": null,
   "metadata": {},
   "outputs": [],
   "source": [
    "petr4_data = { 'Data':['07.04.2020', '06.04.2020', '03.05.2020', '02.04.2020'],\n",
    "               'Último':[16.66, 15.77, 15.34, 15.51],\n",
    "               'Abertura':[15.77, 16.05, 16.30, 15.40]}\n",
    "petr4 = pd.DataFrame(petr4,index=['Primeiro','Segundo','Terceiro','Quarto'])\n",
    "\n",
    "# Criará a coluna Máxima\n",
    "petr4['Máxima'] = [18.20, 17.84, 16.71, 17.78]\n",
    "petr4"
   ]
  },
  {
   "cell_type": "markdown",
   "metadata": {},
   "source": [
    "Assim como ocorre com um dicionário, ``del`` pode ser usado para remover uma coluna:"
   ]
  },
  {
   "cell_type": "code",
   "execution_count": null,
   "metadata": {},
   "outputs": [],
   "source": [
    "del petr4['Máxima']\n",
    "petr4"
   ]
  },
  {
   "cell_type": "markdown",
   "metadata": {},
   "source": [
    "Se passarmos um dicionário aninhado para um DataFrame, as chaves externas serão interpretadas como colunas e as chaves internas como índices das linhas."
   ]
  },
  {
   "cell_type": "code",
   "execution_count": null,
   "metadata": {},
   "outputs": [],
   "source": [
    "petr4 = {   'Data':{'Primeiro':'07.04.2020', 'Segundo':'06.04.2020', 'Terceiro:':'03.05.2020'},\n",
    "            'Último':{'Primeiro':16.66, 'Segundo':15.77},\n",
    "            'Abertura':{'Primeiro':15.77, 'Segundo':16.05, 'Terceiro:':16.30}}\n",
    "petr4 = pd.DataFrame(petr4)\n",
    "petr4"
   ]
  },
  {
   "cell_type": "markdown",
   "metadata": {},
   "source": [
    "Observe que a quantidade de elementos em cada dicionário interno pode ser diferente. Por exemplo, no código acima, a coluna ``Último`` não possui valor para o índice ``Terceiro``.\n",
    "\n",
    "Para obter a matriz transposta, deve-se utilizar o atributo ``T``:"
   ]
  },
  {
   "cell_type": "code",
   "execution_count": null,
   "metadata": {},
   "outputs": [],
   "source": [
    "petr4.T"
   ]
  },
  {
   "cell_type": "markdown",
   "metadata": {},
   "source": [
    "A tabela a seguir apresenta a relação completa de tipos de dados que podem ser passados para o ``construtor`` DataFrame:\n",
    "\n",
    " \n",
    " | Tipo | Descrição |\n",
    " |------|:-----------|\n",
    " | **2D array** | *Uma matriz de dados, sendo opcional passar o rótulo das linhas e colunas.*|\n",
    " | **Lista de listas ou tuplas** | *Uma matriz de dados, sendo opcional passar o rótulo das linhas e colunas.*|\n",
    " | **Dicionário de arrays,  listas ou tuplas** | *Cada sequência se torna uma coluna no DataFrame. Todas as sequências devem ter o mesmo tamanho.*|\n",
    " | **Dicionário de Serie** | *Cada ``valor`` se torna uma ``coluna`` do DataFrame. Se nenhum índice for passado, as chaves posicionais dos elementos das Series para formar o índice do das linhas.*|\n",
    " | **Dicionário de Dicionários** | *Cada ``Dicionário interno`` se torna uma ``coluna`` do DataFrame. As chaves são unidas para formar o índice do das linhas.*|\n",
    " | **Lista de Dicionário ou Series** | *Cada item se torna uma ``linha`` do DataFrame. As chaves dos Dicionários ou os índices das Series se tornam o rótulo das ``colunas`` do DataFrame.*|\n",
    "\n",
    "---\n",
    "\n",
    "\n",
    "\n",
    "Para saber mais sobre ``DataFrame``, acesse a documentação do Pandas em:\n",
    "\n",
    "https://pandas.pydata.org/pandas-docs/stable/reference/frame.html\n",
    "\n",
    "## Objeto Index\n",
    "\n",
    "Todo array ou outra sequência de rótulos usada para construir uma Serie ou DataFrame é convertido internamente em um Objeto Index."
   ]
  },
  {
   "cell_type": "code",
   "execution_count": null,
   "metadata": {},
   "outputs": [],
   "source": [
    "# criação da Series \n",
    "acoes = pd.Series([21.52, 52.34, 7.23],index=['PETR4','VALE3', 'USIM5'])\n",
    "# acessando o objeto Index\n",
    "acoes.index"
   ]
  },
  {
   "cell_type": "code",
   "execution_count": null,
   "metadata": {},
   "outputs": [],
   "source": [
    "# acessando elementos do objeto Index\n",
    "acoes.index[1:]"
   ]
  },
  {
   "cell_type": "markdown",
   "metadata": {},
   "source": [
    "Os objeto Index é imutável e não pode ser modificado, pode apenas ser substituído completamente."
   ]
  },
  {
   "cell_type": "code",
   "execution_count": null,
   "metadata": {},
   "outputs": [],
   "source": [
    "# tentando modificar o objeto Index\n",
    "acoes.index[1] = 'BBAS3'"
   ]
  },
  {
   "cell_type": "code",
   "execution_count": null,
   "metadata": {},
   "outputs": [],
   "source": [
    "acoes1 = pd.Series([21.52, 52.34, 7.23, 20.32],index=['PETR4','VALE3', 'USIM5', 'LAME4'])\n",
    "acoes2 = pd.Series([22.34, 51.33, 45.32],index=['PETR4','VALE3', 'BBAS3'])\n",
    "acoes1.index ^ acoes2.index"
   ]
  },
  {
   "cell_type": "markdown",
   "metadata": {},
   "source": [
    "Objetos Index possuem um conjunto de métodos, conforme resumido na tabela a seguir. Considere essas duas Series para os exemplos apresentados na tabela:\n",
    "```python\n",
    "acoes1 = pd.Series([21.52, 52.34, 7.23, 20.32],index=['PETR4','VALE3', 'USIM5', 'LAME4'])\n",
    "acoes2 = pd.Series([22.34, 51.33, 45.32],index=['PETR4','VALE3', 'BBAS3'])\n",
    "```\n",
    "\n",
    "| Método | Descrição |\n",
    "|--------|:-----------|\n",
    "| **append** | Concatena dois objetos Index, produzindo um novo objeto Index. Ex: acoes1.index.append(acoes2.index) |\n",
    "| **difference** | Computa o conjunto contendo todos os objetos do 1o objeto Index que não possuem correspondência no 2o objeto Index.  Ex: acoes1.index.difference(acoes2.index) |\n",
    "| **^** | É a diferença simétrica. Computa o conjunto contendo todos os objetos do 1o objeto Index que não possuem correspondência no 2o objeto Index e vice-versa.  Ex: acoes1.index ^ acoes2.index |\n",
    "| **intersection** | Computa o conjunto interseção entre dois objetos Index. Ex: acoes1.index.intersection(acoes2.index) |\n",
    "| **&** | Computa o conjunto interseção entre dois objetos Index. Ex: acoes1.index & acoes2.index |\n",
    "| **union** | Computa o conjunto união entre dois objetos Index. Ex: acoes1.index.union(acoes2.index) |\n",
    "| **|** | Computa o conjunto união entre dois objetos Index. Ex: acoes1.index | acoes2.index |\n",
    "| **isin** | Verifica se um conjunto de valores pertencem ao objeto Index. Ex: acoes.isin([14.66, 52.34]) |\n",
    "| **delete** | Cria uma novo objeto Index sem o elemento com índice `i`. Ex: acoes.index.delete(1)|\n",
    "| **drop** | Cria uma novo objeto Index sem os elemento passados como parâmetro. Ex:acoes1.drop(['VALE3', 'USIM5'])|\n",
    "| **insert** | Cria uma novo objeto Index com um novo elemento `val` na posição `i`. Ex: acoes.index.insert(1,'BBAS3') |\n",
    "| **ismonotonic** | Retorna True se cada elemento é maior ou igual ao elemento anterior. Ex: acoes2.is_monotonic |\n",
    "| **is_unique** | Retorna True se o índice não possue nenhum valor duplicado. Ex: acoes1.is_unique |\n",
    "| **unique** | Cria um array com todos os elementos não duplicados no índice. Ex: acoes1.unique |\n",
    "\n",
    "\n",
    "\n"
   ]
  },
  {
   "cell_type": "code",
   "execution_count": null,
   "metadata": {},
   "outputs": [],
   "source": [
    "savings = 800\n",
    "tax = 0.08\n",
    "time = 24\n",
    "profit = savings * tax * 24\n",
    "print('profit: ' + str(profit))\n",
    "print('Total: ' + str(profit+savings))"
   ]
  }
 ],
 "metadata": {
  "celltoolbar": "Slideshow",
  "kernelspec": {
   "display_name": "Python 3.10.8 64-bit",
   "language": "python",
   "name": "python3"
  },
  "language_info": {
   "codemirror_mode": {
    "name": "ipython",
    "version": 3
   },
   "file_extension": ".py",
   "mimetype": "text/x-python",
   "name": "python",
   "nbconvert_exporter": "python",
   "pygments_lexer": "ipython3",
   "version": "3.10.8"
  },
  "vscode": {
   "interpreter": {
    "hash": "949777d72b0d2535278d3dc13498b2535136f6dfe0678499012e853ee9abcab1"
   }
  }
 },
 "nbformat": 4,
 "nbformat_minor": 2
}
