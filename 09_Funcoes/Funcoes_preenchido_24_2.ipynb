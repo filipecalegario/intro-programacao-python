{
  "cells": [
    {
      "cell_type": "markdown",
      "metadata": {
        "id": "view-in-github",
        "colab_type": "text"
      },
      "source": [
        "<a href=\"https://colab.research.google.com/github/filipecalegario/intro-programacao-python/blob/main/09_Funcoes/Funcoes_preenchido_24_2.ipynb\" target=\"_parent\"><img src=\"https://colab.research.google.com/assets/colab-badge.svg\" alt=\"Open In Colab\"/></a>"
      ]
    },
    {
      "cell_type": "markdown",
      "metadata": {
        "id": "5GoL49UmEQIk"
      },
      "source": [
        "# Funções\n",
        "\n",
        "Imagine que você criou um código para imprimir todos os dados pessoais de uma pessoa."
      ]
    },
    {
      "cell_type": "code",
      "execution_count": 2,
      "metadata": {
        "id": "sohqLMuCEQIm",
        "outputId": "a81eab06-316c-4dcf-ea81-169c41636fe3",
        "colab": {
          "base_uri": "https://localhost:8080/"
        }
      },
      "outputs": [
        {
          "output_type": "stream",
          "name": "stdout",
          "text": [
            "Nome: Augusto\n",
            "Idade: 32\n",
            "Edereco: Rua Prof. Luiz Freire, Cidade Universitária, Recife, PE\n",
            "Fone: (81) 2126-8430\n",
            "Curso: Engenharia\n",
            "Nome: Augusto\n",
            "Idade: 32\n",
            "Edereco: Rua Prof. Luiz Freire, Cidade Universitária, Recife, PE\n",
            "Fone: (81) 2126-8430\n",
            "Curso: Engenharia\n",
            "Nome: Augusto\n",
            "Idade: 32\n",
            "Curso: Engenharia\n",
            "Edereco: Rua Prof. Luiz Freire, Cidade Universitária, Recife, PE\n",
            "Fone: (81) 2126-8430\n",
            "Nome: Augusto\n",
            "Curso: Engenharia\n",
            "Idade: 32\n",
            "Edereco: Rua Prof. Luiz Freire, Cidade Universitária, Recife, PE\n",
            "Fone: (81) 2126-8430\n"
          ]
        }
      ],
      "source": [
        "nome = 'Augusto'\n",
        "idade = 32\n",
        "endereco = 'Rua Prof. Luiz Freire, Cidade Universitária, Recife, PE'\n",
        "fone = '(81) 2126-8430'\n",
        "curso = 'Engenharia'\n",
        "\n",
        "print(f'Nome: {nome}')\n",
        "print(f'Idade: {idade}')\n",
        "print(f'Edereco: {endereco}')\n",
        "print(f'Fone: {fone}')\n",
        "print(f'Curso: {curso}')\n",
        "\n",
        "print(f'Nome: {nome}')\n",
        "print(f'Idade: {idade}')\n",
        "print(f'Edereco: {endereco}')\n",
        "print(f'Fone: {fone}')\n",
        "print(f'Curso: {curso}')\n",
        "\n",
        "print(f'Nome: {nome}')\n",
        "print(f'Idade: {idade}')\n",
        "print(f'Edereco: {endereco}')\n",
        "print(f'Fone: {fone}')\n",
        "print(f'Curso: {curso}')\n",
        "\n",
        "print(f'Nome: {nome}')\n",
        "print(f'Idade: {idade}')\n",
        "print(f'Edereco: {endereco}')\n",
        "print(f'Fone: {fone}')\n",
        "print(f'Curso: {curso}')"
      ]
    },
    {
      "cell_type": "markdown",
      "metadata": {
        "id": "5WOwJewhEQIm"
      },
      "source": [
        "<img  src=\"https://github.com/filipecalegario/intro-programacao-python/blob/main/09_Funcoes/imgs/funcoes01.png?raw=1\" width=\"350\" />\n",
        "\n",
        "### Poderíamos usar força bruta e replicar o código ...\n",
        "\n",
        "<img  src=\"https://github.com/filipecalegario/intro-programacao-python/blob/main/09_Funcoes/imgs/funcoes02a.png?raw=1\" width=\"600\" />\n",
        "\n",
        "### ...  ou atribuir um nome ao nosso \"pedaço de código\"\n",
        "\n",
        "<img  src=\"https://github.com/filipecalegario/intro-programacao-python/blob/main/09_Funcoes/imgs/funcoes02.png?raw=1\" width=\"600\" />\n",
        "\n",
        "### O efeito final será o seguinte:\n",
        "\n",
        "<img  src=\"https://github.com/filipecalegario/intro-programacao-python/blob/main/09_Funcoes/imgs/funcoes03.png?raw=1\" width=\"600\" />\n",
        "\n",
        "A essa capacidade de atribuir um nome a um bloco de código, que pode ser reutilizado em diversas partes do programa, é conhecida como **definição de funções**.\n",
        "\n",
        "Após **definida**, uma função pode ser **chamada**, escrevendo o seu nome onde desejarmos executar o bloco de código que ela representa.\n",
        "\n",
        "<img  src=\"https://github.com/filipecalegario/intro-programacao-python/blob/main/09_Funcoes/imgs/funcoes04.png?raw=1\" width=\"500\" />\n",
        "\n"
      ]
    },
    {
      "cell_type": "code",
      "execution_count": 7,
      "metadata": {
        "id": "phT-l73MEQIm",
        "outputId": "d85a6235-00bf-4649-bde2-fe81247ba822",
        "colab": {
          "base_uri": "https://localhost:8080/"
        }
      },
      "outputs": [
        {
          "output_type": "stream",
          "name": "stdout",
          "text": [
            "Nome: Augusto\n",
            "Idade: 32\n",
            "Edereco: Rua Prof. Luiz Freire, Cidade Universitária, Recife, PE\n",
            "Fone: (81) 2126-8430\n",
            "Curso: Engenharia\n",
            "Nome: Augusto\n",
            "Idade: 32\n",
            "Edereco: Rua Prof. Luiz Freire, Cidade Universitária, Recife, PE\n",
            "Fone: (81) 2126-8430\n",
            "Curso: Engenharia\n",
            "Nome: Augusto\n",
            "Idade: 32\n",
            "Edereco: Rua Prof. Luiz Freire, Cidade Universitária, Recife, PE\n",
            "Fone: (81) 2126-8430\n",
            "Curso: Engenharia\n",
            "Nome: Augusto\n",
            "Idade: 32\n",
            "Edereco: Rua Prof. Luiz Freire, Cidade Universitária, Recife, PE\n",
            "Fone: (81) 2126-8430\n",
            "Curso: Engenharia\n",
            "Nome: Augusto\n",
            "Idade: 32\n",
            "Edereco: Rua Prof. Luiz Freire, Cidade Universitária, Recife, PE\n",
            "Fone: (81) 2126-8430\n",
            "Curso: Engenharia\n"
          ]
        }
      ],
      "source": [
        "def imprimir_dados_pessoais():\n",
        "  print(f'Nome: {nome}')\n",
        "  print(f'Idade: {idade}')\n",
        "  print(f'Edereco: {endereco}')\n",
        "  print(f'Fone: {fone}')\n",
        "  print(f'Curso: {curso}')\n",
        "\n",
        "imprimir_dados_pessoais()\n",
        "\n",
        "imprimir_dados_pessoais()\n",
        "\n",
        "imprimir_dados_pessoais()\n",
        "\n",
        "imprimir_dados_pessoais()\n",
        "\n",
        "imprimir_dados_pessoais()"
      ]
    },
    {
      "cell_type": "code",
      "source": [
        "def imprimir_dados_pessoais(nome, idade, endereco, fone, curso):\n",
        "  print(f'Nome: {nome}')\n",
        "  print(f'Idade: {idade}')\n",
        "  print(f'Edereco: {endereco}')\n",
        "  print(f'Fone: {fone}')\n",
        "  print(f'Curso: {curso}')\n",
        "\n",
        "name = 'Joseph'\n",
        "age = 24\n",
        "address = '5th Street'\n",
        "phone = '+1 524 22333'\n",
        "course = 'Computer Engineering'\n",
        "\n",
        "imprimir_dados_pessoais(name, age, address, phone, course)"
      ],
      "metadata": {
        "id": "qSZ3DK2NGdV5",
        "outputId": "db1de74c-fc09-44e2-8566-8ac835a7360d",
        "colab": {
          "base_uri": "https://localhost:8080/"
        }
      },
      "execution_count": 16,
      "outputs": [
        {
          "output_type": "stream",
          "name": "stdout",
          "text": [
            "Nome: Joseph\n",
            "Idade: 24\n",
            "Edereco: 5th Street\n",
            "Fone: +1 524 22333\n",
            "Curso: Computer Engineering\n"
          ]
        }
      ]
    },
    {
      "cell_type": "markdown",
      "metadata": {
        "id": "ITCj0P4lEQIm"
      },
      "source": [
        "**Obs:** note que a definição da função, por si só, não executa nada; é preciso **chamar** a função! Por exemplo, o código a seguir não imprime os dados pessoais, pois a função `imprime_dados_pessoais()` não é chamada no corpo do programa."
      ]
    },
    {
      "cell_type": "code",
      "execution_count": 18,
      "metadata": {
        "id": "KG1vMrLhEQIn"
      },
      "outputs": [],
      "source": [
        "imprimir_dados_pessoais2(name, age, address, phone, course)\n",
        "\n",
        "def imprimir_dados_pessoais2(nome, idade, endereco, fone, curso):\n",
        "  print(f'Nome: {nome}')\n",
        "  print(f'Idade: {idade}')\n",
        "  print(f'Edereco: {endereco}')\n",
        "  print(f'Fone: {fone}')\n",
        "  print(f'Curso: {curso}')"
      ]
    },
    {
      "cell_type": "markdown",
      "metadata": {
        "id": "lMAccW9_EQIn"
      },
      "source": [
        "Vamos chamar a função ```imprimir_dados_pessoais```"
      ]
    },
    {
      "cell_type": "code",
      "execution_count": null,
      "metadata": {
        "id": "uxi3gE9UEQIn"
      },
      "outputs": [],
      "source": []
    },
    {
      "cell_type": "markdown",
      "metadata": {
        "id": "k9il575PEQIn"
      },
      "source": [
        "### Estrutura de funções\n",
        "\n",
        "A definição de uma função utiliza a seguinte estrutura:\n",
        "\n",
        "<img  src=\"https://github.com/filipecalegario/intro-programacao-python/blob/main/09_Funcoes/imgs/funcoes05.png?raw=1\" width=\"350\" />\n",
        "\n",
        "### Exercício\n",
        "\n",
        "<img  src=\"https://github.com/filipecalegario/intro-programacao-python/blob/main/09_Funcoes/imgs/funcoes06.png?raw=1\" width=\"700\" />\n"
      ]
    },
    {
      "cell_type": "code",
      "execution_count": null,
      "metadata": {
        "id": "-Mk8ymX8EQIn"
      },
      "outputs": [],
      "source": []
    },
    {
      "cell_type": "markdown",
      "metadata": {
        "id": "otinktCJEQIn"
      },
      "source": [
        "### Passagem de Parâmetros\n",
        "\n",
        "Passagem de parâmetros é um mecanismo utilizado pelas linguagens de programação para **passar valores para uma função no momento de sua chamada**.\n",
        "\n",
        "Tais valores são **armazenados** em variáveis, que formam a **lista de parâmetros** da função e que são **criadas** quando a função inicia sua execução e **destruídas** quando ela finaliza.\n"
      ]
    },
    {
      "cell_type": "code",
      "execution_count": null,
      "metadata": {
        "id": "cZE_ENWAEQIn"
      },
      "outputs": [],
      "source": []
    },
    {
      "cell_type": "markdown",
      "metadata": {
        "id": "Ig5BEI5bEQIn"
      },
      "source": [
        "### Variáveis Locais\n",
        "\n",
        "Variáveis declaradas dentro de uma função são chamadas de variáveis locais\n",
        "- O escopo de uma variável local está limitado ao bloco de código pertencente à função\n",
        "- É possível definir uma variável local com o mesmo nome de uma variável externa à função\n",
        "\n"
      ]
    },
    {
      "cell_type": "code",
      "execution_count": null,
      "metadata": {
        "id": "Pxwca4x0EQIn"
      },
      "outputs": [],
      "source": []
    },
    {
      "cell_type": "code",
      "execution_count": null,
      "metadata": {
        "id": "fNDSQbTwEQIn"
      },
      "outputs": [],
      "source": []
    },
    {
      "cell_type": "markdown",
      "metadata": {
        "id": "TPMwfFmREQIn"
      },
      "source": [
        "### Variáveis Globais\n",
        "\n",
        "Variáveis cujo escopo não está limitado a blocos internos de funções ou classes.\n",
        "\n",
        "Para usar uma variável global dentro de uma função, deve-se dizer ao Python que a variável não é local, usando o comando `global`."
      ]
    },
    {
      "cell_type": "code",
      "execution_count": null,
      "metadata": {
        "id": "sPSs4JsaEQIn"
      },
      "outputs": [],
      "source": []
    },
    {
      "cell_type": "markdown",
      "metadata": {
        "id": "Nu6Z9gbZEQIn"
      },
      "source": [
        "### Argumento Default\n",
        "\n",
        "É possível tornar alguns parâmetros opcionais, atribuindo a eles valores default."
      ]
    },
    {
      "cell_type": "code",
      "execution_count": null,
      "metadata": {
        "id": "r7UjRs23EQIn"
      },
      "outputs": [],
      "source": []
    },
    {
      "cell_type": "markdown",
      "metadata": {
        "id": "kSHi7IvpEQIn"
      },
      "source": [
        "### Argumento Keyword\n",
        "\n",
        "Se a função possuir muitos argumentos default, é possível definir quais serão passados usando o nome do parâmetro (argumentos keyword) ao invés de sua posição."
      ]
    },
    {
      "cell_type": "code",
      "execution_count": null,
      "metadata": {
        "id": "QsXU53ftEQIn"
      },
      "outputs": [],
      "source": []
    },
    {
      "cell_type": "markdown",
      "metadata": {
        "id": "bta5W93HEQIn"
      },
      "source": [
        "### Comando `return`\n",
        "\n",
        "Utilizado para que a função **retorne** algum resultado para quem a chamou."
      ]
    },
    {
      "cell_type": "code",
      "execution_count": null,
      "metadata": {
        "id": "v_YyW9gNEQIn"
      },
      "outputs": [],
      "source": []
    }
  ],
  "metadata": {
    "kernelspec": {
      "display_name": "Python 3.10.8 64-bit",
      "language": "python",
      "name": "python3"
    },
    "language_info": {
      "codemirror_mode": {
        "name": "ipython",
        "version": 3
      },
      "file_extension": ".py",
      "mimetype": "text/x-python",
      "name": "python",
      "nbconvert_exporter": "python",
      "pygments_lexer": "ipython3",
      "version": "3.10.8"
    },
    "vscode": {
      "interpreter": {
        "hash": "949777d72b0d2535278d3dc13498b2535136f6dfe0678499012e853ee9abcab1"
      }
    },
    "colab": {
      "provenance": [],
      "include_colab_link": true
    }
  },
  "nbformat": 4,
  "nbformat_minor": 0
}