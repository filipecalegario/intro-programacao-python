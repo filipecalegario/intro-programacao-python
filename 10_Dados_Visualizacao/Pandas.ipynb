{
 "cells": [
  {
   "cell_type": "markdown",
   "metadata": {
    "slideshow": {
     "slide_type": "slide"
    }
   },
   "source": [
    "# Pandas\n",
    "\n",
    "Pandas é uma biblioteca de Python que facilita a manipulação, preparação e limpeza dos dados.\n",
    "\n",
    "<img  src=\"./imgs/pandas.jpeg\" width=\"200\" />"
   ]
  },
  {
   "cell_type": "markdown",
   "metadata": {},
   "source": [
    "- Pandas é orientada a objetos.\n",
    "\n",
    "- Criamos estruturas de dados pela construção de instâncias de diferentes classes.\n",
    "\n",
    "- As duas classes mais importantes de Pandas são:\n",
    "\n",
    "    - `Series`\n",
    "    - `DataFrame`\n",
    "    \n",
    "- Pandas segue a convenção de Java de começar o nome das classes com uma letra maiúscula, enquanto as instâncias em letras minúsculas.\n",
    "  \n",
    "- Geralmente, importamos o módulo de Pandas e o assinalamos com a versão reduzida do nome: `pd`."
   ]
  },
  {
   "cell_type": "markdown",
   "metadata": {
    "slideshow": {
     "slide_type": "slide"
    }
   },
   "source": [
    "Para importar a biblioteca, usamos o comando:"
   ]
  },
  {
   "cell_type": "code",
   "execution_count": null,
   "metadata": {
    "slideshow": {
     "slide_type": "-"
    }
   },
   "outputs": [],
   "source": [
    "import pandas as pd"
   ]
  },
  {
   "cell_type": "markdown",
   "metadata": {},
   "source": [
    "A partir de agora, sempre que você utilizar `pd` dentro do código, estará referenciado a biblioteca pandas."
   ]
  },
  {
   "cell_type": "markdown",
   "metadata": {
    "tags": []
   },
   "source": [
    "# Series\n",
    "\n",
    "Trata-se de uma lista (também chamado de array) de ```dados``` unidimensional, que possui um array de rótulos chamado ```index```. Cada elemento do array de dados possui uma associação com um elemento do *index*."
   ]
  },
  {
   "cell_type": "code",
   "execution_count": null,
   "metadata": {},
   "outputs": [],
   "source": [
    "data = [1, 2, 3, 4, 5] # Esta linha cria uma lista\n",
    "my_series = pd.Series(data) # Esta linha cria uma instância do objeto Series de pandas, os índices são automaticamente gerados.\n",
    "my_series2 = pd.Series(data, index=['a', 'b', 'c', 'd', 'e'])  # Parecido com o dicionário de Python, índices são definidos\n",
    "print(my_series)\n",
    "print(my_series2)"
   ]
  },
  {
   "cell_type": "code",
   "execution_count": null,
   "metadata": {},
   "outputs": [],
   "source": [
    "%pip install matplotlib\n",
    "import matplotlib\n",
    "my_series.plot()"
   ]
  },
  {
   "cell_type": "markdown",
   "metadata": {},
   "source": [
    "Ou  você pode usar o comando do Jupyter `%` chamado de Magic"
   ]
  },
  {
   "cell_type": "code",
   "execution_count": null,
   "metadata": {},
   "outputs": [],
   "source": [
    "%matplotlib inline\n",
    "my_series.plot()"
   ]
  },
  {
   "cell_type": "markdown",
   "metadata": {},
   "source": [
    "## Criando uma Series de um dicionário"
   ]
  },
  {
   "cell_type": "code",
   "execution_count": null,
   "metadata": {},
   "outputs": [],
   "source": [
    "d = {'a' : 0., 'b' : 1., 'c' : 2.}\n",
    "my_series = pd.Series(d)\n",
    "my_series"
   ]
  },
  {
   "cell_type": "markdown",
   "metadata": {},
   "source": [
    "## Indexando e Fatiando uma Series com `[]` ou . \n",
    "\n",
    "- As séries podem ser acessadas usando a mesma sintaxe de listas e dicionários em Python.\n",
    "- Usamos os rótulos no índice para acessar cada elemento.\n",
    "- Também podemos usar o rótulo como um atributo `my_series.b`\n",
    "- Podemos especificar um intervalo com `my_series[['b', 'c']]`"
   ]
  },
  {
   "cell_type": "code",
   "execution_count": null,
   "metadata": {},
   "outputs": [],
   "source": [
    "print( my_series['b'])\n",
    "print(my_series.b)\n",
    "print(my_series[['b', 'c']])"
   ]
  },
  {
   "cell_type": "markdown",
   "metadata": {},
   "source": [
    "## Operações com Series"
   ]
  },
  {
   "cell_type": "code",
   "execution_count": null,
   "metadata": {},
   "outputs": [],
   "source": [
    "dados_entrada = {'a' : 0., 'b' : 1., 'c' : 2.}\n",
    "\n",
    "a = pd.Series(dados_entrada)\n",
    "print('Imprimindo o array \"a\":\\n', a)\n",
    "print('==========================')\n",
    "\n",
    "b1 = 10 * a\n",
    "print('Multiplicando diretamente por 10:\\n', b1)\n",
    "print('==========================')\n",
    "\n",
    "b2 = a.multiply(10)\n",
    "print('Multiplicando por 10 usando a função:\\n', b2)\n",
    "print('==========================')\n",
    "\n",
    "c1 = a + b1\n",
    "print('Somando \"a\" e \"b\" diretamente:\\n', c1)\n",
    "print('==========================')\n",
    "\n",
    "c2 = pd.Series.add(a, b1) \n",
    "print('Somando \"a\" e \"b\" com uma função:\\n', c2)\n",
    "print('==========================')\n",
    "\n"
   ]
  },
  {
   "cell_type": "code",
   "execution_count": null,
   "metadata": {},
   "outputs": [],
   "source": [
    "sum_a = pd.Series.sum(a) \n",
    "print('Somando todos os elementos de \"a\":\\n', sum_a)\n",
    "print(\"==========================\")\n",
    "\n",
    "f = a ** 2 \n",
    "print('square a:\\n', f)\n",
    "print('Elevando todos os elementos de \"a\" a dois:\\n', sum_a)\n",
    "print(\"==========================\")\n",
    "\n",
    "x = pd.Series({'a' : 0., 'b' : 1., 'c' : 2.})\n",
    "y = pd.Series({'a' : 3., 'b' : 4., 'c' : 5.})\n",
    "z = x + y\n",
    "print('Adicionando duas Series:\\n', z)\n",
    "print(\"==========================\")"
   ]
  },
  {
   "cell_type": "markdown",
   "metadata": {
    "tags": []
   },
   "source": [
    "## Séries Temporais (Time Series)\n",
    "\n",
    "- Times Series em pandas associam tempos específicos com valores em cada linha"
   ]
  },
  {
   "cell_type": "code",
   "execution_count": null,
   "metadata": {},
   "outputs": [],
   "source": [
    "dates = pd.date_range('1/1/2000', periods=5)\n",
    "print(dates)"
   ]
  },
  {
   "cell_type": "code",
   "execution_count": null,
   "metadata": {},
   "outputs": [],
   "source": [
    "time_series = pd.Series(data, index=dates)\n",
    "time_series"
   ]
  },
  {
   "cell_type": "markdown",
   "metadata": {},
   "source": [
    "### Plotando uma Série Temporal\n",
    "\n",
    "- Com os valores associados ao tempo, o comando `plot` pode ser usado para se obter uma visualização rápida na forma de um gráfico de linhas"
   ]
  },
  {
   "cell_type": "code",
   "execution_count": null,
   "metadata": {},
   "outputs": [],
   "source": [
    "ax = time_series.plot()"
   ]
  },
  {
   "cell_type": "code",
   "execution_count": null,
   "metadata": {},
   "outputs": [],
   "source": [
    "type(time_series)"
   ]
  },
  {
   "cell_type": "markdown",
   "metadata": {},
   "source": [
    "## Filtrando dados"
   ]
  },
  {
   "cell_type": "code",
   "execution_count": null,
   "metadata": {},
   "outputs": [],
   "source": [
    "# cria a série\n",
    "num = pd.Series([1, 2, 3, 4, 5, 6], index=['n1', 'n2', 'n3', 'n4', 'n5', 'n6'])\n",
    "\n",
    "# filtra números pares\n",
    "par = num[num % 2 == 0]\n",
    "\n",
    "# filtra números impares\n",
    "impar = num[num % 2 != 0]\n",
    "\n",
    "print('todos')\n",
    "print(num)\n",
    "print('pares:')\n",
    "print(par)\n",
    "print('impares:')\n",
    "print(impar)"
   ]
  },
  {
   "cell_type": "markdown",
   "metadata": {
    "tags": []
   },
   "source": [
    "# DataFrames\n",
    "\n",
    "- O `pandas` fornece uma poderosa estrutura de dados chamada DataFrames (uma tradução possível seria Quadro de Dados, mas ninguém usa assim).\n",
    "\n",
    "- É semelhante, mas não idêntico a:\n",
    "     - uma tabela em um banco de dados relacional,\n",
    "     - uma planilha Excel,\n",
    "     - um dataframe em R.\n",
    "\n",
    "- Um DataFrame tem várias colunas, cada uma das quais pode conter um tipo *diferente* de valor.\n",
    "\n",
    "- Como uma série, possui um índice que fornece um rótulo para cada linha.\n"
   ]
  },
  {
   "cell_type": "markdown",
   "metadata": {},
   "source": [
    "## Criando um DataFrame a partir de dados externos\n",
    "- Os DataFrames podem ser lidos e gravados de/para:\n",
    "     - consultas de banco de dados, tabelas de banco de dados\n",
    "     - arquivos CSV\n",
    "     - arquivos JSON\n",
    "     - etc\n",
    "    \n",
    "- Esteja ciente de que os DataFrames ficam armazenados na memória:\n",
    "     - Se você ler uma grande quantidade de dados, seu computador pode travar\n",
    "     - Com big data, normalmente você leria um subconjunto ou resumo dos dados (ver mais sobre select statement)"
   ]
  },
  {
   "cell_type": "markdown",
   "metadata": {},
   "source": [
    "## Criando um DataFrame a partir de estruturas de dados Python\n",
    "\n",
    "- Os quadros de dados podem ser construídos a partir de outras estruturas de dados:\n",
    "  - dicionário de listas\n",
    "  - dicionário de dicionários\n",
    "  - dicionário de Series\n",
    "  - uma única Series\n",
    "  - outro DataFrame"
   ]
  },
  {
   "cell_type": "markdown",
   "metadata": {},
   "source": [
    "## Exemplo: Criando um DataFrame de várias Series\n",
    "- Pandas codifica valores ausentes como `NaN` em vez de `None`\n",
    "- A série deve ter chaves correspondentes para cada linha correspondente."
   ]
  },
  {
   "cell_type": "code",
   "execution_count": null,
   "metadata": {},
   "outputs": [],
   "source": [
    "d = {\n",
    "        'x' : pd.Series([1., 2., 3.], index=['a', 'b', 'c']),\n",
    "        'y' : pd.Series([4.,  6., 7.], index=['a',  'c', 'd']),\n",
    "        'z' : pd.Series([0.2, 0.3, 0.4], index=[ 'b', 'c', 'd'])\n",
    "}\n",
    "print(type(d))\n",
    "\n",
    "df = pd.DataFrame(d)\n",
    "print (df)"
   ]
  },
  {
   "cell_type": "markdown",
   "metadata": {},
   "source": [
    "## Plotando DataFrames\n",
    "\n",
    "- Ao plotar um DataFrame, cada coluna é plotada como sua própria série no mesmo gráfico.\n",
    "\n",
    "- Os nomes das colunas são usados para rotular cada série.\n",
    "\n",
    "- Os nomes das linhas (índice) são usados para rotular o eixo x."
   ]
  },
  {
   "cell_type": "code",
   "execution_count": null,
   "metadata": {},
   "outputs": [],
   "source": [
    "ax = df.plot()"
   ]
  },
  {
   "cell_type": "markdown",
   "metadata": {},
   "source": [
    "## Funções e DataFrames\n",
    "\n",
    "- Podemos fazer cálculos e funções com DataFrames como Series.\n",
    "- As funções normalmente retornarão um DataFrames ou uma Serie, dependendo.\n",
    "- Para fazer uma cópia, não defina dois DataFrames usando o comando de atribuição, usem o método copy: `df2= df.copy()`"
   ]
  },
  {
   "cell_type": "code",
   "execution_count": null,
   "metadata": {},
   "outputs": [],
   "source": [
    "df2 = df.copy()\n",
    "print(df, '\\n', df2)"
   ]
  },
  {
   "cell_type": "markdown",
   "metadata": {},
   "source": [
    "## Estatísticas resumidas\n",
    "- Para obter estatísticas resumidas rapidamente sobre valores numéricos, use o método `describe`.\n",
    "- Você receberá um aviso se houver valores ausentes.\n",
    "- O resultado é em si um DataFrame, que podemos fatiar `dfstats.y['mean']`."
   ]
  },
  {
   "cell_type": "code",
   "execution_count": null,
   "metadata": {},
   "outputs": [],
   "source": [
    "dfstats = df.describe()\n",
    "print(dfstats)\n",
    "# Vejam a diferença de usar o interactive output\n",
    "dfstats"
   ]
  },
  {
   "cell_type": "markdown",
   "metadata": {},
   "source": [
    "## Acessando os rótulos de linha e coluna\n",
    "\n",
    "- Os rótulos das linhas (índice) podem ser acessados através do `df.index`.\n",
    "- Os rótulos das colunas podem ser acessados através de `df.columns`."
   ]
  },
  {
   "cell_type": "code",
   "execution_count": null,
   "metadata": {},
   "outputs": [],
   "source": [
    "print(df.index)\n",
    "print(df.columns)"
   ]
  },
  {
   "cell_type": "markdown",
   "metadata": {},
   "source": [
    "## Carregando arquivos com Pandas\n",
    "- Sempre que você tiver um conjunto de dados com uma variedade de campos de vários tipos, carregá-lo no Pandas é uma boa estratégia.\n",
    "- Você pode carregar de um arquivo local ou de um URL."
   ]
  },
  {
   "cell_type": "code",
   "execution_count": null,
   "metadata": {},
   "outputs": [],
   "source": [
    "frame_iris = pd.read_csv('https://raw.githubusercontent.com/rpi-techfundamentals/spring2019-materials/master/input/iris.csv')\n",
    "frame_iris"
   ]
  },
  {
   "cell_type": "markdown",
   "metadata": {
    "slideshow": {
     "slide_type": "slide"
    },
    "tags": []
   },
   "source": [
    "## Exemplo: Carregando dados da bolsa\n",
    "\n",
    "Vamos iniciar com um arquivo CSV. \n",
    "\n",
    "A biblioteca Pandas carrega os dados em uma estrutura de dados própria, indexando cada linha, separando variáveis com delimitadores customizáveis, inferindo qual o tipo de dado de cada coluna, convertendo os dados (se necessário, por exemplo, texto para número), fazendo o tratamento de datas, valores ausentes e valores incorretos.\n",
    "\n",
    "Para isso, utilizaremos uma base com o histórico de cotação das ações preferenciais da Petrobras no período de 07/03/2020 até 07/04/2020, que está no arquivo PETR4 Dados ``PETR4 Dados Históricos.csv``. Para tanto, utilizaremos os seguintes comandos:"
   ]
  },
  {
   "cell_type": "code",
   "execution_count": null,
   "metadata": {},
   "outputs": [],
   "source": [
    "nome_acao = 'PETR4 Dados Históricos.csv'\n",
    "petr4 = pd.read_csv(nome_acao, decimal=\",\")\n",
    "type(petr4)"
   ]
  },
  {
   "cell_type": "code",
   "execution_count": null,
   "metadata": {},
   "outputs": [],
   "source": [
    "petr4"
   ]
  },
  {
   "cell_type": "markdown",
   "metadata": {},
   "source": [
    "O resultado é um objeto, chamado ``petr4``, que armazena um ``DataFrame`` Pandas. Note o uso de ``decimal=\",\"`` para indicar que o arquivo está utilizando o separador decimal brasileiro.  Para ter uma ideia de sua estrutura, vamos imprimir as primeiras linhas do DataFrame, usando o seguinte comando para isso:"
   ]
  },
  {
   "cell_type": "markdown",
   "metadata": {},
   "source": [
    "Um ``DataFrame`` se assemelha a uma estrutura de matriz. \n",
    "\n",
    "Cada linha da matriz possui um índice, que aparece na coluna mais à esquerda. Cada coluna, possui um índice, que é o próprio nome da coluna. "
   ]
  },
  {
   "cell_type": "markdown",
   "metadata": {},
   "source": [
    "Se quiséssemos imprimir as últimas linhas do Data Frame ``petr4``, poderíamos usar a função ``tail``.\n",
    "\n",
    "A função ``head``/``tail`` imprime a 5 primeiras/últimas linhas. É possível controlar o número de linhas impressas, passando um parâmetro. Por exemplo, vamos imprimir apenas as duas primeiras linhas."
   ]
  },
  {
   "cell_type": "code",
   "execution_count": null,
   "metadata": {},
   "outputs": [],
   "source": [
    "petr4.head()"
   ]
  },
  {
   "cell_type": "code",
   "execution_count": null,
   "metadata": {},
   "outputs": [],
   "source": [
    "petr4.tail()"
   ]
  },
  {
   "cell_type": "markdown",
   "metadata": {},
   "source": [
    "Se desejarmos visualizar apenas os nomes das colunas, podemos usar:"
   ]
  },
  {
   "cell_type": "code",
   "execution_count": null,
   "metadata": {},
   "outputs": [],
   "source": [
    "petr4.columns"
   ]
  },
  {
   "cell_type": "markdown",
   "metadata": {},
   "source": [
    "## Indexando e Fatiando colunas de DataFrames\n",
    "- Maneira simples de selecionar coluna(s) `frame[[nome(s) da coluna]]`.\n",
    "- Podem ter uma coluna (`df['x']`) ou múltiplas (`df[['x', 'y']]`).\n",
    "- Ao especificar uma coluna, pode-se usar a notação de ponto simplificada `df.x`.\n",
    "- Quando incluímos várias colunas, a fatia resultante é um DataFrame.\n",
    "- Quando recuperamos uma única coluna, o resultado é uma Serie.\n",
    "- Quando recuperamos várias colunas, o resultado é um Dataframe."
   ]
  },
  {
   "cell_type": "code",
   "execution_count": null,
   "metadata": {},
   "outputs": [],
   "source": [
    "datas = petr4['Data']\n",
    "datas"
   ]
  },
  {
   "cell_type": "markdown",
   "metadata": {
    "tags": []
   },
   "source": [
    "Note que, ao extrairmos os dados referenciados pela coluna `Data`, obtivemos um conjunto de valores em uma estrutura unidimensional. Cada um desses valores possuem um índice associado. Isso é uma...?"
   ]
  },
  {
   "cell_type": "code",
   "execution_count": null,
   "metadata": {},
   "outputs": [],
   "source": [
    "type(datas)"
   ]
  },
  {
   "cell_type": "code",
   "execution_count": null,
   "metadata": {},
   "outputs": [],
   "source": [
    "print(petr4[['Data', 'Máxima']])"
   ]
  },
  {
   "cell_type": "markdown",
   "metadata": {},
   "source": [
    "## Jogando fora (Dropping) colunas de um DataFrame"
   ]
  },
  {
   "cell_type": "markdown",
   "metadata": {},
   "source": [
    "Tirando, por exemplo, a coluna de variação do DataFrame `petr4`"
   ]
  },
  {
   "cell_type": "code",
   "execution_count": null,
   "metadata": {},
   "outputs": [],
   "source": [
    "petr4.head()"
   ]
  },
  {
   "cell_type": "code",
   "execution_count": null,
   "metadata": {},
   "outputs": [],
   "source": [
    "petr4_copy = petr4.copy()\n",
    "petr4_copy.head()"
   ]
  },
  {
   "cell_type": "code",
   "execution_count": null,
   "metadata": {},
   "outputs": [],
   "source": [
    "petr4_copy.drop(columns = ['Var%', 'Vol.'])\n",
    "petr4_copy.head()"
   ]
  },
  {
   "cell_type": "markdown",
   "metadata": {},
   "source": [
    "Não apagou, não é? Veja por que:"
   ]
  },
  {
   "cell_type": "code",
   "execution_count": null,
   "metadata": {},
   "outputs": [],
   "source": [
    "petr4_copy_drop = petr4_copy.drop(columns = ['Var%', 'Vol.'])\n",
    "petr4_copy_drop.head()"
   ]
  },
  {
   "cell_type": "code",
   "execution_count": null,
   "metadata": {},
   "outputs": [],
   "source": [
    "petr4_copy.drop(columns = ['Var%', 'Vol.'], inplace=True)\n",
    "petr4_copy"
   ]
  },
  {
   "cell_type": "markdown",
   "metadata": {
    "tags": []
   },
   "source": [
    "## Renomeando colunas"
   ]
  },
  {
   "cell_type": "code",
   "execution_count": null,
   "metadata": {},
   "outputs": [],
   "source": [
    "petr4.rename(columns = {'Vol.': 'Volume', 'Var%': 'Variação'}, inplace = True)\n",
    "petr4"
   ]
  },
  {
   "cell_type": "markdown",
   "metadata": {},
   "source": [
    "## Fazendo uma cópia do DataFrame"
   ]
  },
  {
   "cell_type": "code",
   "execution_count": null,
   "metadata": {},
   "outputs": [],
   "source": [
    "df = petr4.copy()\n",
    "df.head(2)"
   ]
  },
  {
   "cell_type": "markdown",
   "metadata": {},
   "source": [
    "## Selecionando linhas"
   ]
  },
  {
   "cell_type": "code",
   "execution_count": null,
   "metadata": {},
   "outputs": [],
   "source": [
    "print (df[0:3])     # Seleciona linhas 0 a 2\n",
    "print (df.iloc[0:3,:])     # Seleciona linhas 0 a 2\n",
    "print (df.iloc[0:3,])      # Seleciona linhas 0 a 2\n",
    "print (df.iloc[0:3])       # Seleciona linhas 0 a 2\n",
    "print (df.iloc[[1,2,4]])   # Seleciona linhas 1, 2, and 4"
   ]
  },
  {
   "cell_type": "markdown",
   "metadata": {},
   "source": [
    "Mais sobre a documentação do método `iloc`: \n",
    "\n",
    "https://pandas.pydata.org/pandas-docs/stable/generated/pandas.DataFrame.iloc.html"
   ]
  },
  {
   "cell_type": "markdown",
   "metadata": {},
   "source": [
    "## Limpando e convertendo dados"
   ]
  },
  {
   "cell_type": "code",
   "execution_count": null,
   "metadata": {},
   "outputs": [],
   "source": [
    "df['Variação'] = df['Variação'].str.replace(',','.')\n",
    "df['Variação'] = df['Variação'].str.replace('%','')\n",
    "df['Variação'] = pd.to_numeric(df['Variação'], errors='raise')\n",
    "df"
   ]
  },
  {
   "cell_type": "markdown",
   "metadata": {},
   "source": [
    "## Filtrando dados (Indexação Lógica)\n",
    "\n",
    "- Os filtros são a seleção de linhas com base em critérios.\n",
    "- Podemos selecionar com base em critérios específicos.\n"
   ]
  },
  {
   "cell_type": "code",
   "execution_count": null,
   "metadata": {},
   "outputs": [],
   "source": [
    "# Como elemento fundamental de um filtro, temos uma lista de booleanos baseada em algum tipo de condição\n",
    "print(df)\n",
    "df['Último'] >= 30"
   ]
  },
  {
   "cell_type": "code",
   "execution_count": null,
   "metadata": {},
   "outputs": [],
   "source": [
    "df[df['Último'] >= 30]"
   ]
  },
  {
   "cell_type": "markdown",
   "metadata": {},
   "source": [
    "Poderíamos ter organizado em uma variável:"
   ]
  },
  {
   "cell_type": "code",
   "execution_count": null,
   "metadata": {},
   "outputs": [],
   "source": [
    "maiores_trinta = df['Último'] >= 30\n",
    "df[maiores_trinta]"
   ]
  },
  {
   "cell_type": "code",
   "execution_count": null,
   "metadata": {},
   "outputs": [],
   "source": [
    "df.loc[maiores_trinta, ['Data', 'Último']]"
   ]
  },
  {
   "cell_type": "markdown",
   "metadata": {},
   "source": [
    "Mais informações sobre o método `loc`\n",
    "\n",
    "https://pandas.pydata.org/pandas-docs/stable/reference/api/pandas.DataFrame.loc.html"
   ]
  },
  {
   "cell_type": "code",
   "execution_count": null,
   "metadata": {},
   "outputs": [],
   "source": [
    "df['Maior que 30'] = 0  # Definimos o valor default\n",
    "df.loc[df['Último'] >= 30, 'Maior que 30'] = 1 # Aqui então, mudamos todas as linhas para 1 caso >= 30\n",
    "print(df['Maior que 30'])"
   ]
  },
  {
   "cell_type": "code",
   "execution_count": null,
   "metadata": {},
   "outputs": [],
   "source": [
    "df['Maior que 30'] = 'Ruim'  # Definimos o valor default\n",
    "df.loc[df['Último'] >= 30, 'Maior que 30'] = 'Bom' # Aqui então, mudamos todas as linhas para 'Bom' caso >= 30\n",
    "print(df['Maior que 30'])"
   ]
  },
  {
   "cell_type": "markdown",
   "metadata": {},
   "source": [
    "### Filtrando datas"
   ]
  },
  {
   "cell_type": "markdown",
   "metadata": {},
   "source": [
    "O que tem errado com o código abaixo?"
   ]
  },
  {
   "cell_type": "code",
   "execution_count": null,
   "metadata": {},
   "outputs": [],
   "source": [
    "df[df['Data'] >= '01.11.2022'] "
   ]
  },
  {
   "cell_type": "code",
   "execution_count": null,
   "metadata": {},
   "outputs": [],
   "source": [
    "df.dtypes"
   ]
  },
  {
   "cell_type": "markdown",
   "metadata": {},
   "source": [
    "Uma data em Pandas é representada pelo type `datetime64`, assim, no caso acima, a coluna Data está apenas como string.\n",
    "\n",
    "Como converter a string em um formato de data?"
   ]
  },
  {
   "cell_type": "code",
   "execution_count": null,
   "metadata": {},
   "outputs": [],
   "source": [
    "df['Data Convertida'] = pd.to_datetime(df['Data'], format='%d.%m.%Y')\n",
    "df.head()"
   ]
  },
  {
   "cell_type": "code",
   "execution_count": null,
   "metadata": {},
   "outputs": [],
   "source": [
    "df.dtypes"
   ]
  },
  {
   "cell_type": "code",
   "execution_count": null,
   "metadata": {},
   "outputs": [],
   "source": [
    "df[df['Data Convertida'] >= '2022-11-01']"
   ]
  },
  {
   "cell_type": "markdown",
   "metadata": {},
   "source": [
    "Mais informações sobre a função `pandas.to_datetime()`\n",
    "\n",
    "https://pandas.pydata.org/docs/reference/api/pandas.to_datetime.html"
   ]
  },
  {
   "cell_type": "markdown",
   "metadata": {
    "tags": []
   },
   "source": [
    "## Juntando dados de DataFrames diferentes\n",
    "\n",
    "- Muitas vezes você precisa combinar DataFrames\n",
    "- Com colunas correspondentes para as mesmas linhas (vinculação de coluna, _column bind_)\n",
    "- Adicionar linhas para as mesmas colunas (vinculação de linha, _row bind_)"
   ]
  },
  {
   "cell_type": "code",
   "execution_count": null,
   "metadata": {},
   "outputs": [],
   "source": [
    "df  = pd.read_csv('PETR4 Dados Históricos.csv',          decimal=\",\", parse_dates = ['Data'], dayfirst = True)\n",
    "df2 = pd.read_csv('PETR4 Dados Históricos_setembro.csv', decimal=\",\", parse_dates = ['Data'], dayfirst = True)\n",
    "print(df.dtypes)\n",
    "print(df2.dtypes)"
   ]
  },
  {
   "cell_type": "code",
   "execution_count": null,
   "metadata": {},
   "outputs": [],
   "source": [
    "df_todos = pd.concat([df, df2])\n",
    "df_todos.info()"
   ]
  },
  {
   "cell_type": "code",
   "execution_count": null,
   "metadata": {},
   "outputs": [],
   "source": []
  },
  {
   "cell_type": "code",
   "execution_count": null,
   "metadata": {},
   "outputs": [],
   "source": [
    "print(\"===============\")\n",
    "print(df)\n",
    "print(\"===============\")\n",
    "print(df2)\n",
    "\n",
    "#This will stack the 2 dataframes vertically on top of one another\n",
    "dfbyrow=pd.concat([df, df2])  #This is equivalent to a rowbind in R. \n",
    "print (dfbyrow)\n",
    "dfbyrow=pd.concat([df, df2], axis = 1)  #This is equivalent to a rowbind in R. \n",
    "print (dfbyrow)"
   ]
  },
  {
   "cell_type": "markdown",
   "metadata": {},
   "source": [
    "## Ordenando DataFrames"
   ]
  },
  {
   "cell_type": "code",
   "execution_count": null,
   "metadata": {},
   "outputs": [],
   "source": [
    "df"
   ]
  },
  {
   "cell_type": "code",
   "execution_count": null,
   "metadata": {},
   "outputs": [],
   "source": [
    "df.sort_values(by = ['Data'], ascending = True)"
   ]
  },
  {
   "cell_type": "markdown",
   "metadata": {},
   "source": [
    "__________________________________________________"
   ]
  },
  {
   "cell_type": "markdown",
   "metadata": {},
   "source": [
    "# Plotando com plotly"
   ]
  },
  {
   "cell_type": "code",
   "execution_count": null,
   "metadata": {},
   "outputs": [],
   "source": [
    "import plotly.express as px"
   ]
  },
  {
   "cell_type": "code",
   "execution_count": null,
   "metadata": {},
   "outputs": [],
   "source": [
    "fig = px.scatter(df,\n",
    "                x='Data',\n",
    "                y='Último')\n",
    "fig.show()"
   ]
  },
  {
   "cell_type": "code",
   "execution_count": null,
   "metadata": {},
   "outputs": [],
   "source": [
    "fig = px.scatter(df,\n",
    "                x='Data',\n",
    "                y='Último')\n",
    "fig.show()"
   ]
  },
  {
   "cell_type": "code",
   "execution_count": null,
   "metadata": {},
   "outputs": [],
   "source": [
    "fig = px.line(df,\n",
    "                x='Data',\n",
    "                y='Último')\n",
    "fig.show()"
   ]
  },
  {
   "cell_type": "code",
   "execution_count": null,
   "metadata": {},
   "outputs": [],
   "source": [
    "fig = px.bar(df,\n",
    "                x='Data',\n",
    "                y='Último')\n",
    "fig.show()"
   ]
  },
  {
   "cell_type": "markdown",
   "metadata": {},
   "source": [
    "Para mais informações de outras bibliotecas de visualização de dados para serem usadas com Pandas:\n",
    "\n",
    "https://aeturrell.github.io/coding-for-economists/vis-common-plots.html"
   ]
  },
  {
   "cell_type": "markdown",
   "metadata": {},
   "source": [
    "# Pandas Cheat Sheets\n",
    "\n",
    "https://pandas.pydata.org/Pandas_Cheat_Sheet.pdf\n",
    "\n",
    "https://raw.githubusercontent.com/shervinea/mit-15-003-data-science-tools/master/en/study-guide-data-manipulation-with-python.pdf"
   ]
  }
 ],
 "metadata": {
  "celltoolbar": "Slideshow",
  "kernelspec": {
   "display_name": "Python 3 (ipykernel)",
   "language": "python",
   "name": "python3"
  },
  "language_info": {
   "codemirror_mode": {
    "name": "ipython",
    "version": 3
   },
   "file_extension": ".py",
   "mimetype": "text/x-python",
   "name": "python",
   "nbconvert_exporter": "python",
   "pygments_lexer": "ipython3",
   "version": "3.9.12"
  },
  "vscode": {
   "interpreter": {
    "hash": "949777d72b0d2535278d3dc13498b2535136f6dfe0678499012e853ee9abcab1"
   }
  }
 },
 "nbformat": 4,
 "nbformat_minor": 4
}
