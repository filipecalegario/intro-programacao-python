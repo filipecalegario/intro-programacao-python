{
 "cells": [
  {
   "cell_type": "markdown",
   "metadata": {},
   "source": [
    "# Operadores Lógicos e Relacionais, Comandos Condicionais\n",
    "\n",
    "## Operadores Relacionais\n",
    "\n",
    "<img src=\"./imgs/operadoresRelacionais.png\" width=\"400\" />\n",
    "\n",
    "---\n",
    "\n",
    "## Operadores Lógicos e Booleanos\n",
    "\n",
    "<img src=\"./imgs/operadoresLogicos.png\" width=\"400\" />\n",
    "\n",
    "---\n",
    "\n",
    "## Tabela Verdade\n",
    "\n",
    "<img src=\"./imgs/tabelaVerdade.png\" width=\"600\" />\n",
    "\n",
    "Teste o valor de _b_ e _c_ em cada passo:\n"
   ]
  },
  {
   "cell_type": "code",
   "execution_count": null,
   "metadata": {},
   "outputs": [],
   "source": [
    "b = True\n",
    "c = not b  # b = T; c = F\n",
    "c = not (True or b) and c  # b = T; c = F\n",
    "b = c or not(not b)  # b = T; c = F\n",
    "b = True or False  # b = T; c = F\n",
    "c = True and b  # b = T; c = T\n",
    "b = b == c  # b = T; c = T"
   ]
  },
  {
   "cell_type": "markdown",
   "metadata": {},
   "source": [
    "## Abreviação de Operadores Aritméticos de Atribuição\n"
   ]
  },
  {
   "cell_type": "code",
   "execution_count": null,
   "metadata": {},
   "outputs": [],
   "source": []
  },
  {
   "cell_type": "markdown",
   "metadata": {},
   "source": [
    "Cheque a execução do código abaixo. Deu tudo certo?\n"
   ]
  },
  {
   "cell_type": "code",
   "execution_count": null,
   "metadata": {},
   "outputs": [],
   "source": []
  },
  {
   "cell_type": "markdown",
   "metadata": {},
   "source": [
    "Python **não** utiliza o abreviador de incremento `++` e decremento `--` como em outras linguagens, que fazem uso de operações como `for (int i = 0; i < 10; i++)`. Ao invés disso, em operações desse tipo, Python utiliza o comando a seguir, que veremos mais adiante.\n"
   ]
  },
  {
   "cell_type": "code",
   "execution_count": null,
   "metadata": {},
   "outputs": [],
   "source": []
  },
  {
   "cell_type": "markdown",
   "metadata": {},
   "source": [
    "## Precedência de Operadores\n",
    "\n",
    "Assim como aprendemos em nossas aulas de matemática, as expressões a seguir são equivalente e avaliam para 14\n"
   ]
  },
  {
   "cell_type": "code",
   "execution_count": null,
   "metadata": {},
   "outputs": [],
   "source": []
  },
  {
   "cell_type": "markdown",
   "metadata": {},
   "source": [
    "As linguagens de programação definem uma ordem de avaliação dos operadores, também conhecida como precedência de operadores. Em Python, a ordem de precedência é definida como segue, sendo a **exponenciação** com maior precedência e o **booleano `or`** com menor precedência:\n",
    "\n",
    "1. `**` : Exponenciação\n",
    "2. `+x`, `-x` : Positivo, Negativo\n",
    "3. `*`, `/`, `//`, `%` : Multiplicação, Divisão, Divisão inteira e resto\n",
    "4. `+`, `-` : Adição e subtração\n",
    "5. `<`, `<=`, `>`, `>=`, `!=`, `==`\n",
    "6. `not` : Boolean NOT\n",
    "7. `and` : Boolean AND\n",
    "8. `or` : Boolean OR\n"
   ]
  },
  {
   "cell_type": "markdown",
   "metadata": {},
   "source": [
    "O uso de parênteses para definir a precedência de operadores possui duas vantagens:\n",
    "\n",
    "1. Torna o programa mais legível, pois não requer conhecimento prévio sobre a precedência de operadores em Python\n",
    "\n",
    "   `2 + (3 * 4)`\n",
    "\n",
    "2. Permite modificar a ordem de precedência\n",
    "\n",
    "   `(2 + 3) * 4`\n"
   ]
  },
  {
   "cell_type": "markdown",
   "metadata": {},
   "source": [
    "## Expressões Lógicas/Booleanas\n",
    "\n",
    "Estruturas de controle (seleção e repetição) utilizam expressões booleanas para decidir:\n",
    "\n",
    "1. Qual bloco de comandos será executado:\n",
    "\n",
    "```python\n",
    "if EXPRESSAO_BOOLEANA_1:\n",
    "    # bloco 1\n",
    "elif EXPRESSAO_BOOLEANA_2:\n",
    "    # bloco 2\n",
    "else:\n",
    "    # bloco 3\n",
    "```\n",
    "\n",
    "2. Se o bloco de comandos deverá ser repetido:\n",
    "\n",
    "```python\n",
    "while EXPRESSAO_BOOLEANA:\n",
    "    # bloco\n",
    "```\n",
    "\n",
    "## Comando IF-ELSE\n",
    "\n",
    "<img  src=\"./imgs/comandoIf.png\" width=\"600\" />\n",
    "\n",
    "Vamos escrever um programa que faz a leitura de três números inteiros e imprime o maior dos três.\n"
   ]
  },
  {
   "cell_type": "code",
   "execution_count": 2,
   "metadata": {},
   "outputs": [
    {
     "name": "stdout",
     "output_type": "stream",
     "text": [
      "3\n"
     ]
    }
   ],
   "source": []
  },
  {
   "cell_type": "markdown",
   "metadata": {},
   "source": [
    "### Exercício\n",
    "\n",
    "Escreva um programa para ler um valor real correspondente a uma nota, tal que 0 ≤ nota ≤ 10, e imprimir o conceito equivalente (A, B, C, D ou E), conforme a seguinte tabela:\n",
    "\n",
    "<img  src=\"./imgs/tabelaAula04.png\" width=\"250\" />\n"
   ]
  },
  {
   "cell_type": "code",
   "execution_count": null,
   "metadata": {},
   "outputs": [],
   "source": []
  },
  {
   "cell_type": "markdown",
   "metadata": {},
   "source": [
    "### Coerção de Tipos\n",
    "\n",
    "É possível converter um valor de um tipo em outro tipo, desde que faça sentido. Por exemplo, não faria sentido converter a string “Rui” para inteiro. Por outro lado, faria sentido converter a string \"3\" em um valor inteiro.\n",
    "\n",
    "Seguem alguns exemplos de funções que podem ser usadas para fazer converções de valores de um tipo para outro tipo.\n"
   ]
  },
  {
   "cell_type": "code",
   "execution_count": null,
   "metadata": {},
   "outputs": [],
   "source": []
  },
  {
   "cell_type": "markdown",
   "metadata": {},
   "source": [
    "_________________"
   ]
  },
  {
   "cell_type": "markdown",
   "metadata": {},
   "source": [
    "### Exercício 1\n",
    "\n",
    "Escreva um programa para ler dois valores reais, x e y, correspondentes às coordenadas de um ponto no plano e dizer em que quadrante se encontra, ou se está no eixo-x ou no eixo-y ou se está na origem.\n",
    "\n",
    "<center><img  src=\"./imgs/coordenadas.png\" width=\"150\" /></center>\n"
   ]
  },
  {
   "cell_type": "markdown",
   "metadata": {},
   "source": [
    "### Exercício 2\n",
    "\n",
    "Escreva um programa para ler valores para os três lados de um triângulo e dizer o seu tipo (equilátero, isósceles ou escaleno).\n"
   ]
  },
  {
   "cell_type": "markdown",
   "metadata": {},
   "source": [
    "### Exercício 3\n",
    "\n",
    "Escreva um programa para ler dois valores reais, correspondentes ao peso e à altura de uma pessoa, e calcular o Índice de Massa Corporal (IMC), pela fórmula:\n",
    "\n",
    "$$\\text{IMC} = \\frac{\\text{peso}}{\\text{altura}^2}$$\n",
    "\n",
    "Em seguida, imprima a mensagem conforme a seguinte tabela:\n",
    "\n",
    "<center><img src=\"./imgs/tabela-imc.png\" width=\"300\" /></center>\n"
   ]
  }
 ],
 "metadata": {
  "kernelspec": {
   "display_name": "Python 3.10.8 64-bit",
   "language": "python",
   "name": "python3"
  },
  "language_info": {
   "codemirror_mode": {
    "name": "ipython",
    "version": 3
   },
   "file_extension": ".py",
   "mimetype": "text/x-python",
   "name": "python",
   "nbconvert_exporter": "python",
   "pygments_lexer": "ipython3",
   "version": "3.10.8"
  },
  "toc": {
   "base_numbering": 1,
   "nav_menu": {},
   "number_sections": true,
   "sideBar": true,
   "skip_h1_title": false,
   "title_cell": "Table of Contents",
   "title_sidebar": "Contents",
   "toc_cell": false,
   "toc_position": {},
   "toc_section_display": true,
   "toc_window_display": false
  },
  "vscode": {
   "interpreter": {
    "hash": "949777d72b0d2535278d3dc13498b2535136f6dfe0678499012e853ee9abcab1"
   }
  }
 },
 "nbformat": 4,
 "nbformat_minor": 2
}
