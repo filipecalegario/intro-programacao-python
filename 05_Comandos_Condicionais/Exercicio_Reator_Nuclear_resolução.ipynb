{
  "cells": [
    {
      "cell_type": "markdown",
      "metadata": {
        "id": "a9Ot1UDH__LN"
      },
      "source": [
        "# Exercício: Sistema de Controle de Reator Nuclear\n",
        "\n",
        "Neste exercício, vamos desenvolver um sistema de controle simples para um reator nuclear.\n",
        "\n",
        "Para que um reator produza energia, ele deve estar em um estado de criticidade. Se estiver abaixo da criticidade, pode ser danificado. Se ultrapassar a criticidade, pode sobrecarregar e causar uma fusão nuclear. Nosso objetivo é minimizar o risco de fusão e gerenciar corretamente o estado do reator.\n",
        "\n",
        "As três tarefas a seguir estão relacionadas à manutenção do estado ideal do reator."
      ]
    },
    {
      "cell_type": "markdown",
      "metadata": {
        "id": "8qzL5xhr__LP"
      },
      "source": [
        "## 1. Verificar a Criticidade\n",
        "\n",
        "O primeiro passo do sistema de controle é verificar se o reator está equilibrado em criticidade. Um reator é considerado crítico se atender às seguintes condições:\n",
        "\n",
        "- A temperatura é menor que **800 K**.\n",
        "- O número de nêutrons emitidos por segundo é maior que **500**.\n",
        "- O produto da temperatura pelo número de nêutrons emitidos por segundo é menor que **500000**.\n",
        "\n",
        "Implemente a função `is_criticality_balanced()` que recebe a temperatura (em kelvin) e o número de nêutrons emitidos como parâmetros, e retorna `True` se as condições forem atendidas, e `False` caso contrário.\n",
        "\n",
        "**Exemplo:**\n",
        "```python\n",
        ">>> is_criticality_balanced(750, 600)\n",
        "True\n",
        "```"
      ]
    },
    {
      "cell_type": "markdown",
      "metadata": {
        "id": "Ap52kRQL__LP"
      },
      "source": [
        "### 1.1 Implemente a funcão abaixo"
      ]
    },
    {
      "cell_type": "code",
      "execution_count": 1,
      "metadata": {
        "id": "2CeKCGOz__LP"
      },
      "outputs": [],
      "source": [
        "def is_criticality_balanced(temperatura, neutrons_emitidos):\n",
        "    \"\"\"Verifica se a criticidade está equilibrada.\n",
        "\n",
        "    :param temperatura: int ou float - valor da temperatura em kelvin.\n",
        "    :param neutrons_emitidos: int ou float - número de nêutrons emitidos por segundo.\n",
        "    :return: bool - a criticidade está equilibrada?\n",
        "\n",
        "    Um reator é considerado crítico se atender às seguintes condições:\n",
        "    - A temperatura é menor que 800 K.\n",
        "    - O número de nêutrons emitidos por segundo é maior que 500.\n",
        "    - O produto da temperatura pelo número de nêutrons emitidos por segundo é menor que 500000.\n",
        "    \"\"\"\n",
        "\n",
        "    resultado = False\n",
        "\n",
        "    if temperatura < 800 and neutrons_emitidos > 500 and (temperatura * neutrons_emitidos) < 500000:\n",
        "      resultado = True\n",
        "    else:\n",
        "      resultado = False\n",
        "\n",
        "    return resultado"
      ]
    },
    {
      "cell_type": "markdown",
      "metadata": {
        "id": "sN8w4WqI__LQ"
      },
      "source": [
        "### 1.2 Rode os testes\n",
        "\n",
        "O código abaixo verifica se a função está implementada corretamente.\n",
        "Você não precisa entendê-lo em detalhes, basta rodar a célula e verificar se algum teste falhou."
      ]
    },
    {
      "cell_type": "code",
      "execution_count": 2,
      "metadata": {
        "id": "MLwoecah__LQ",
        "outputId": "d8f0f6b8-749e-44de-fac3-f3412ae22898",
        "colab": {
          "base_uri": "https://localhost:8080/"
        }
      },
      "outputs": [
        {
          "output_type": "stream",
          "name": "stdout",
          "text": [
            "Teste passou: is_criticality_balanced(750, 650) -> True\n",
            "Teste passou: is_criticality_balanced(799, 501) -> True\n",
            "Teste passou: is_criticality_balanced(500, 600) -> True\n",
            "Teste passou: is_criticality_balanced(1000, 800) -> False\n",
            "Teste passou: is_criticality_balanced(800, 500) -> False\n",
            "Teste passou: is_criticality_balanced(800, 500.01) -> False\n",
            "Teste passou: is_criticality_balanced(799.99, 500) -> False\n",
            "Teste passou: is_criticality_balanced(500.01, 999.99) -> False\n",
            "Teste passou: is_criticality_balanced(625, 800) -> False\n",
            "Teste passou: is_criticality_balanced(625.99, 800) -> False\n",
            "Teste passou: is_criticality_balanced(625.01, 799.99) -> False\n",
            "Teste passou: is_criticality_balanced(799.99, 500.01) -> True\n"
          ]
        }
      ],
      "source": [
        "def testar_criticidade():\n",
        "    \"\"\"Testa a função is_criticality_balanced\"\"\"\n",
        "    test_data = [\n",
        "        (750, 650, True), (799, 501, True), (500, 600, True),\n",
        "        (1000, 800, False), (800, 500, False), (800, 500.01, False),\n",
        "        (799.99, 500, False), (500.01, 999.99, False), (625, 800, False),\n",
        "        (625.99, 800, False), (625.01, 799.99, False), (799.99, 500.01, True)\n",
        "    ]\n",
        "\n",
        "    for temp, neutrons_emetidos, esperado in test_data:\n",
        "        resultado_atual = is_criticality_balanced(temp, neutrons_emetidos)\n",
        "        if resultado_atual != esperado:\n",
        "            print(f'Erro: is_criticality_balanced({temp}, {neutrons_emetidos}) '\n",
        "                  f'retorno {resultado_atual}, esperado {esperado}')\n",
        "        else:\n",
        "            print(f'Teste passou: is_criticality_balanced({temp}, {neutrons_emetidos}) -> {resultado_atual}')\n",
        "\n",
        "# Executar o teste\n",
        "testar_criticidade()"
      ]
    },
    {
      "cell_type": "markdown",
      "metadata": {
        "id": "zbNW083a__LQ"
      },
      "source": [
        "## 2. Determinar a Faixa de Eficiência do Reator"
      ]
    },
    {
      "cell_type": "markdown",
      "metadata": {
        "id": "Wnj2tp4O__LQ"
      },
      "source": [
        "Uma vez que o reator tenha começado a gerar energia, sua eficiência precisa ser determinada. A eficiência é classificada em quatro categorias:\n",
        "\n",
        "- **Verde** → eficiência de **80% ou mais**.\n",
        "- **Laranja** → eficiência menor que **80%**, mas pelo menos **60%**.\n",
        "- **Vermelho** → eficiência menor que **60%**, mas pelo menos **30%**.\n",
        "- **Preto** → eficiência menor que **30%**.\n",
        "\n",
        "A eficiência pode ser calculada como:\n",
        "\n",
        "$$\n",
        "\\text{eficiência} = \\left(\\frac{\\text{potência gerada}}{\\text{potência teórica máxima}}\\right) \\times 100\n",
        "$$\n",
        "\n",
        "onde:\n",
        "\n",
        "$$\n",
        "\\text{potência gerada} = \\text{voltagem} \\times \\text{corrente}\n",
        "$$\n",
        "\n",
        "Observe que a eficiência geralmente não é um número inteiro, então utilize corretamente as comparações `<` e `<=`.\n",
        "\n",
        "Implemente a função `reactor_efficiency(voltage, current, theoretical_max_power)`, que recebe três parâmetros: **voltagem**, **corrente** e **potência teórica máxima**. A função deve retornar a faixa de eficiência do reator: `'green'`, `'orange'`, `'red'` ou `'black'`.\n",
        "\n",
        "**Exemplo:**\n",
        "```python\n",
        ">>> reactor_efficiency(200, 50, 15000)\n",
        "'orange'\n",
        "```"
      ]
    },
    {
      "cell_type": "markdown",
      "metadata": {
        "id": "-chuL-b5__LQ"
      },
      "source": [
        "### 2.1 Implemente a funcão abaixo"
      ]
    },
    {
      "cell_type": "code",
      "execution_count": 8,
      "metadata": {
        "id": "ezkdX0lB__LQ"
      },
      "outputs": [],
      "source": [
        "def reactor_efficiency(voltage, current, theoretical_max_power):\n",
        "    \"\"\"Avalia a faixa de eficiência do reator.\n",
        "\n",
        "    :param voltage: int ou float - valor da voltagem.\n",
        "    :param current: int ou float - valor da corrente.\n",
        "    :param theoretical_max_power: int ou float - potência que corresponde a 100% de eficiência.\n",
        "    :return: str - uma das opções ('green', 'orange', 'red' ou 'black').\n",
        "\n",
        "    A eficiência pode ser classificada em 4 faixas:\n",
        "\n",
        "    1. green -> eficiência de 80% ou mais,\n",
        "    2. orange -> eficiência menor que 80%, mas pelo menos 60%,\n",
        "    3. red -> eficiência menor que 60%, mas pelo menos 30%,\n",
        "    4. black -> eficiência menor que 30%.\n",
        "\n",
        "    O valor percentual é calculado como:\n",
        "    (potencia_gerada / potencia_teorica_maxima) * 100\n",
        "    onde potencia_gerada = voltagem * corrente.\n",
        "      \"\"\"\n",
        "    potencia_gerada = voltage * current\n",
        "    eficiencia = (potencia_gerada / theoretical_max_power) * 100\n",
        "\n",
        "    resultado = ''\n",
        "\n",
        "    if eficiencia >= 80:\n",
        "      resultado = 'green'\n",
        "    elif eficiencia >= 60:\n",
        "      resultado = 'orange'\n",
        "    elif eficiencia >= 30:\n",
        "      resultado = 'red'\n",
        "    else:\n",
        "      resultado = 'black'\n",
        "\n",
        "    return resultado\n"
      ]
    },
    {
      "cell_type": "markdown",
      "metadata": {
        "id": "neCe9Pmy__LR"
      },
      "source": [
        "### 2.2 Rode os testes\n",
        "\n",
        "O código abaixo verifica se a função está implementada corretamente.\n",
        "Você não precisa entendê-lo em detalhes, basta rodar a célula e verificar se algum teste falhou."
      ]
    },
    {
      "cell_type": "code",
      "execution_count": 9,
      "metadata": {
        "id": "129h-e5I__LR",
        "outputId": "a96121d1-2c62-4e25-a68c-12827676578e",
        "colab": {
          "base_uri": "https://localhost:8080/"
        }
      },
      "outputs": [
        {
          "output_type": "stream",
          "name": "stdout",
          "text": [
            "Teste passou: reactor_efficiency(10, 1000, 10000) -> green\n",
            "Teste passou: reactor_efficiency(10, 999, 10000) -> green\n",
            "Teste passou: reactor_efficiency(10, 800, 10000) -> green\n",
            "Teste passou: reactor_efficiency(10, 799, 10000) -> orange\n",
            "Teste passou: reactor_efficiency(10, 700, 10000) -> orange\n",
            "Teste passou: reactor_efficiency(10, 600, 10000) -> orange\n",
            "Teste passou: reactor_efficiency(10, 599, 10000) -> red\n",
            "Teste passou: reactor_efficiency(10, 560, 10000) -> red\n",
            "Teste passou: reactor_efficiency(10, 400, 10000) -> red\n",
            "Teste passou: reactor_efficiency(10, 300, 10000) -> red\n",
            "Teste passou: reactor_efficiency(10, 299, 10000) -> black\n",
            "Teste passou: reactor_efficiency(10, 200, 10000) -> black\n",
            "Teste passou: reactor_efficiency(10, 0, 10000) -> black\n"
          ]
        }
      ],
      "source": [
        "def testar_eficiencia():\n",
        "    \"\"\"Testa a função reactor_efficiency\"\"\"\n",
        "    voltagem = 10\n",
        "    potencia_teorica_maxima = 10000\n",
        "\n",
        "    # Os números são escolhidos para que corrente == 10 x percentual\n",
        "    test_data = [\n",
        "        (1000, 'green'), (999, 'green'), (800, 'green'),\n",
        "        (799, 'orange'), (700, 'orange'), (600, 'orange'),\n",
        "        (599, 'red'), (560, 'red'), (400, 'red'), (300, 'red'),\n",
        "        (299, 'black'), (200, 'black'), (0, 'black')\n",
        "    ]\n",
        "\n",
        "    for corrente, esperado in test_data:\n",
        "        resultado_atual = reactor_efficiency(voltagem, corrente, potencia_teorica_maxima)\n",
        "        if resultado_atual != esperado:\n",
        "            print(f'Erro: reactor_efficiency({voltagem}, {corrente}, {potencia_teorica_maxima}) '\n",
        "                  f'retorno {resultado_atual}, esperado {esperado}')\n",
        "        else:\n",
        "            print(f'Teste passou: reactor_efficiency({voltagem}, {corrente}, {potencia_teorica_maxima}) -> {resultado_atual}')\n",
        "\n",
        "# Executar o teste\n",
        "testar_eficiencia()"
      ]
    },
    {
      "cell_type": "markdown",
      "metadata": {
        "id": "cSAUkki___LR"
      },
      "source": [
        "## 3. Mecanismo de Segurança contra Falhas"
      ]
    },
    {
      "cell_type": "markdown",
      "metadata": {
        "id": "GNGVDtpp__LR"
      },
      "source": [
        "\n",
        "A última tarefa é criar um mecanismo de segurança para evitar sobrecarga e fusão nuclear. Esse mecanismo deve determinar se o reator está abaixo, no nível ideal ou acima do limite de criticidade. A criticidade pode ser ajustada inserindo ou removendo barras de controle no reator.\n",
        "\n",
        "Implemente a função `fail_safe()`, que recebe três parâmetros:\n",
        "\n",
        "- `temperature` → temperatura em Kelvin.\n",
        "- `neutrons_produced_per_second` → número de nêutrons produzidos por segundo.\n",
        "- `threshold` → limite crítico aceitável.\n",
        "\n",
        "A função deve retornar um código de status do reator:\n",
        "\n",
        "- Se `temperature * neutrons_produced_per_second` for **menor que 90% do limite**, o status deve ser **'LOW'**, indicando que as barras de controle devem ser removidas para aumentar a produção de energia.\n",
        "- Se `temperature * neutrons_produced_per_second` estiver dentro de **10% do limite** (ou seja, entre **90% e 110%** do limite), o status deve ser **'NORMAL'**, indicando que o reator está operando de maneira ideal.\n",
        "- Se `temperature * neutrons_produced_per_second` estiver **fora dessas faixas**, o status deve ser **'DANGER'**, indicando que o reator está prestes a entrar em fusão e deve ser desligado imediatamente.\n",
        "\n",
        "**Exemplo:**\n",
        "```python\n",
        ">>> fail_safe(temperature=1000, neutrons_produced_per_second=30, threshold=5000)\n",
        "'DANGER'\n",
        "```"
      ]
    },
    {
      "cell_type": "markdown",
      "metadata": {
        "id": "nV81dBiG__LR"
      },
      "source": [
        "### 3.1 Implemente a funcão abaixo"
      ]
    },
    {
      "cell_type": "code",
      "execution_count": 10,
      "metadata": {
        "id": "7q-UMifT__LR"
      },
      "outputs": [],
      "source": [
        "def fail_safe(temperature, neutrons_produced_per_second, threshold):\n",
        "    \"\"\"Avalia e retorna o código de status do reator.\n",
        "\n",
        "    :param temperature: int ou float - valor da temperatura em kelvin.\n",
        "    :param neutrons_produced_per_second: int ou float - fluxo de nêutrons.\n",
        "    :param threshold: int ou float - limite para a categoria.\n",
        "    :return: str - uma das opções ('LOW', 'NORMAL', 'DANGER').\n",
        "\n",
        "    1. 'LOW' -> `temperature * neutrons per second` < 90% do `threshold`\n",
        "    2. 'NORMAL' -> `temperature * neutrons per second` está dentro de +/- 10% do `threshold`\n",
        "    3. 'DANGER' -> `temperature * neutrons per second` não se enquadra nas faixas acima\n",
        "    \"\"\"\n",
        "\n",
        "    output = temperature * neutrons_produced_per_second\n",
        "\n",
        "    limite_inferior = 0.9 * threshold\n",
        "    limite_superior = 1.1 * threshold\n",
        "\n",
        "    resultado = ''\n",
        "\n",
        "    if output < limite_inferior:\n",
        "      resultado = 'LOW'\n",
        "    elif limite_inferior <= output <= limite_superior:\n",
        "      resultado = 'NORMAL'\n",
        "    else:\n",
        "      resultado = 'DANGER'\n",
        "\n",
        "    return resultado"
      ]
    },
    {
      "cell_type": "markdown",
      "metadata": {
        "id": "6aLg-umb__LR"
      },
      "source": [
        "### 3.2 Rode os testes\n",
        "\n",
        "O código abaixo verifica se a função está implementada corretamente.\n",
        "Você não precisa entendê-lo em detalhes, basta rodar a célula e verificar se algum teste falhou."
      ]
    },
    {
      "cell_type": "code",
      "execution_count": 11,
      "metadata": {
        "id": "KJBTB96e__LR",
        "outputId": "a8897083-1a5b-474e-e137-d14158f130bc",
        "colab": {
          "base_uri": "https://localhost:8080/"
        }
      },
      "outputs": [
        {
          "output_type": "stream",
          "name": "stdout",
          "text": [
            "Teste passou: fail_safe(10, 399, 10000) -> LOW\n",
            "Teste passou: fail_safe(10, 300, 10000) -> LOW\n",
            "Teste passou: fail_safe(10, 1, 10000) -> LOW\n",
            "Teste passou: fail_safe(10, 0, 10000) -> LOW\n",
            "Teste passou: fail_safe(10, 901, 10000) -> NORMAL\n",
            "Teste passou: fail_safe(10, 1000, 10000) -> NORMAL\n",
            "Teste passou: fail_safe(10, 1099, 10000) -> NORMAL\n",
            "Teste passou: fail_safe(10, 899, 10000) -> LOW\n",
            "Teste passou: fail_safe(10, 700, 10000) -> LOW\n",
            "Teste passou: fail_safe(10, 400, 10000) -> LOW\n",
            "Teste passou: fail_safe(10, 1101, 10000) -> DANGER\n",
            "Teste passou: fail_safe(10, 1200, 10000) -> DANGER\n"
          ]
        }
      ],
      "source": [
        "def testar_falha_segura():\n",
        "    \"\"\"Testa a função fail_safe\"\"\"\n",
        "    temp = 10\n",
        "    limite = 10000\n",
        "\n",
        "    test_data = [\n",
        "        (399, 'LOW'), (300, 'LOW'), (1, 'LOW'), (0, 'LOW'),\n",
        "        (901, 'NORMAL'), (1000, 'NORMAL'), (1099, 'NORMAL'),\n",
        "        (899, 'LOW'), (700, 'LOW'), (400, 'LOW'),\n",
        "        (1101, 'DANGER'), (1200, 'DANGER')\n",
        "    ]\n",
        "\n",
        "    for neutrons_por_segundo, esperado in test_data:\n",
        "        resultado_atual = fail_safe(temp, neutrons_por_segundo, limite)\n",
        "        if resultado_atual != esperado:\n",
        "            print(f'Erro: fail_safe({temp}, {neutrons_por_segundo}, {limite}) '\n",
        "                  f'retorno {resultado_atual}, esperado {esperado}')\n",
        "        else:\n",
        "            print(f'Teste passou: fail_safe({temp}, {neutrons_por_segundo}, {limite}) -> {resultado_atual}')\n",
        "\n",
        "# Executar o teste\n",
        "testar_falha_segura()"
      ]
    }
  ],
  "metadata": {
    "kernelspec": {
      "display_name": "base",
      "language": "python",
      "name": "python3"
    },
    "language_info": {
      "codemirror_mode": {
        "name": "ipython",
        "version": 3
      },
      "file_extension": ".py",
      "mimetype": "text/x-python",
      "name": "python",
      "nbconvert_exporter": "python",
      "pygments_lexer": "ipython3",
      "version": "3.9.12"
    },
    "toc": {
      "base_numbering": 1,
      "nav_menu": {},
      "number_sections": true,
      "sideBar": true,
      "skip_h1_title": false,
      "title_cell": "Table of Contents",
      "title_sidebar": "Contents",
      "toc_cell": false,
      "toc_position": {},
      "toc_section_display": true,
      "toc_window_display": false
    },
    "colab": {
      "provenance": []
    }
  },
  "nbformat": 4,
  "nbformat_minor": 0
}