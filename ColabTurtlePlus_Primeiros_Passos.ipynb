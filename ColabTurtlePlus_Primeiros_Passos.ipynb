{
  "nbformat": 4,
  "nbformat_minor": 0,
  "metadata": {
    "colab": {
      "provenance": [],
      "authorship_tag": "ABX9TyPZhrFvmZmHXWRl6FHzR+ba",
      "include_colab_link": true
    },
    "kernelspec": {
      "name": "python3",
      "display_name": "Python 3"
    },
    "language_info": {
      "name": "python"
    }
  },
  "cells": [
    {
      "cell_type": "markdown",
      "metadata": {
        "id": "view-in-github",
        "colab_type": "text"
      },
      "source": [
        "<a href=\"https://colab.research.google.com/github/filipecalegario/intro-programacao-python/blob/main/ColabTurtlePlus_Primeiros_Passos.ipynb\" target=\"_parent\"><img src=\"https://colab.research.google.com/assets/colab-badge.svg\" alt=\"Open In Colab\"/></a>"
      ]
    },
    {
      "cell_type": "markdown",
      "source": [
        "### Instalação da Biblioteca ColabTurtle"
      ],
      "metadata": {
        "id": "e6v3z4G5qYJI"
      }
    },
    {
      "cell_type": "code",
      "execution_count": 7,
      "metadata": {
        "id": "HDnH76v7p0e8"
      },
      "outputs": [],
      "source": [
        "!pip install -q ColabTurtlePlus"
      ]
    },
    {
      "cell_type": "markdown",
      "source": [
        "### Configurações Iniciais"
      ],
      "metadata": {
        "id": "GDZTlTTkqcq9"
      }
    },
    {
      "cell_type": "code",
      "source": [
        "from ColabTurtlePlus.Turtle import *"
      ],
      "metadata": {
        "id": "L6DdovakqQHb"
      },
      "execution_count": 20,
      "outputs": []
    },
    {
      "cell_type": "markdown",
      "source": [
        "### Código Principal"
      ],
      "metadata": {
        "id": "AwoNZhxZqfXs"
      }
    },
    {
      "cell_type": "code",
      "source": [
        "clearscreen()\n",
        "showborder()\n",
        "t = Turtle()\n",
        "t.shape('turtle2')\n",
        "setup(400, 400)\n",
        "\n",
        "for c in range(4):\n",
        "  t.forward(50)\n",
        "  t.right(90)"
      ],
      "metadata": {
        "colab": {
          "base_uri": "https://localhost:8080/",
          "height": 421
        },
        "id": "P3f-5AgwqhYF",
        "outputId": "de1999e6-9813-4fc8-b813-28f7bb29558a"
      },
      "execution_count": 21,
      "outputs": [
        {
          "output_type": "display_data",
          "data": {
            "text/plain": [
              "<IPython.core.display.HTML object>"
            ],
            "text/html": [
              "\n",
              "      <svg width=\"400\" height=\"400\">  \n",
              "        <rect width=\"100%\" height=\"100%\" style=\"fill:white;stroke:gray;stroke-width:1\"/>\n",
              "        \n",
              "        \n",
              "        <line x1=\"200.0\" y1=\"200.0\" x2=\"250.0\" y2=\"200.0\" stroke-linecap=\"round\" style=\"stroke:black;stroke-width:1\" /><line x1=\"250.0\" y1=\"200.0\" x2=\"250.0\" y2=\"250.0\" stroke-linecap=\"round\" style=\"stroke:black;stroke-width:1\" /><line x1=\"250.0\" y1=\"250.0\" x2=\"200.0\" y2=\"250.0\" stroke-linecap=\"round\" style=\"stroke:black;stroke-width:1\" /><line x1=\"200.0\" y1=\"250.0\" x2=\"200.0\" y2=\"200.0\" stroke-linecap=\"round\" style=\"stroke:black;stroke-width:1\" />\n",
              "        \n",
              "        \n",
              "        <g id=\"turtle2\" visibility=\"visible\" transform=\"rotate(180,200.0,200.0) translate(200.0, 200.0)\">\n",
              "<polygon points=\"0,16 2,14 1,10 4,7 7,9 9,8 6,5 7,1 5,-3 8,-6 6,-8 4,-5 0,-7 -4,-5 -6,-8 -8,-6 -5,-3 -7,1 -6,5 -9,8 -7,9 -4,7 -1,10 -2,14\" transform=\"skewX(0) scale(1,1)\" style=\"stroke:black;stroke-width:1;fill:black\" />\n",
              "<animateTransform id = \"one\" attributeName=\"transform\" \n",
              "                      type=\"scale\"\n",
              "                      from=\"1 1\" to=\"1 1\"\n",
              "                      begin=\"0s\" dur=\"0.01s\"\n",
              "                      repeatCount=\"1\"\n",
              "                      additive=\"sum\"\n",
              "                      fill=\"freeze\"\n",
              "                /><animateTransform attributeName=\"transform\"\n",
              "                    type=\"rotate\"\n",
              "                    from=\"0 0 0\" to =\"90 0 0\"\n",
              "                    begin=\"one.end\" dur=\"0.25s\"\n",
              "                    repeatCount=\"1\"\n",
              "                    additive=\"sum\"\n",
              "                    fill=\"freeze\"\n",
              "                /></g>\n",
              "      </svg>\n",
              "    "
            ]
          },
          "metadata": {}
        }
      ]
    }
  ]
}