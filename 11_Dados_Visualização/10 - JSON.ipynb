{
 "cells": [
  {
   "cell_type": "markdown",
   "metadata": {},
   "source": [
    "# JSON\n",
    "\n",
    "JSON é um formato de arquivo, amplamente utilizado para armazenamento e troca de informações. Por exemplo, é muito comum receber arquivos no formato JSON quando utilizamos APIs disponibilizadas por sistemas que nosso programa deseja interagir.\n",
    "\n",
    "JSON é um acrônimo para *JavaScript Object Notation*. Entretanto, o uso de JSON não está restrito à linguagem JavaScript. A grande maioria das linguagens já possuem bibliotecas para manipular arquivos JSON.\n",
    "\n",
    "O primeiro passo para manipular arquivos JSON é importar a bibliotera ```json```.\n",
    "\n",
    "No exemplo que usaremos um String com múltiplas linhas para representar nosso JSON. O string será armazenado na variável ```turma_IP```. Note que o String se assemelha a um dicionário Python, com ```chave``` ```aluno``` e uma lista com 3 objetos como ```valor```. Cada um dos 3 objetos são, por si só, dicionários \"anônimos\", com quatro campos cada um (```nome```, ```matrícula```, ```isolada``` e ```email```)."
   ]
  },
  {
   "cell_type": "code",
   "execution_count": 40,
   "metadata": {},
   "outputs": [],
   "source": [
    "import json\n",
    "\n",
    "turma_IP = '''\n",
    "{\n",
    "  \"aluno\": \n",
    "  [\n",
    "    {\n",
    "      \"nome\" : \"Augusto\",\n",
    "      \"matrícula\": \"1111\",\n",
    "      \"isolada\" : false,\n",
    "      \"email\" : \"augusto@ip.ufpe.br\"\n",
    "    },\n",
    "    {\n",
    "      \"nome\" : \"Heloisa\",\n",
    "      \"matrícula\": \"2222\",\n",
    "      \"isolada\" : false,\n",
    "      \"email\" : \"heloisa@ip.ufpe.br\"\n",
    "    },\n",
    "    {\n",
    "      \"nome\" : \"Rui\",\n",
    "      \"matrícula\": \"3333\",\n",
    "      \"isolada\" : true,\n",
    "      \"email\" : null\n",
    "    }\n",
    "  ]\n",
    "}\n",
    "'''"
   ]
  },
  {
   "cell_type": "markdown",
   "metadata": {},
   "source": [
    "### Trduzir JSON para Python \n",
    "\n",
    "Vamos agora tranformar esse String, que é um objeto JSON válido, em um objeto Python. Isso facilitará a manipulação dos dados armazenados no String. Para isso, utilizaremos a função ```json.loads(String_JSON)```, que foi importada por meio do comando ```import json```"
   ]
  },
  {
   "cell_type": "code",
   "execution_count": 25,
   "metadata": {},
   "outputs": [
    {
     "name": "stdout",
     "output_type": "stream",
     "text": [
      "{'aluno': [{'nome': 'Augusto', 'matrícula': '1111', 'isolada': False, 'email': 'augusto@ip.ufpe.br'}, {'nome': 'Heloisa', 'matrícula': '2222', 'isolada': False, 'email': 'heloisa@ip.ufpe.br'}, {'nome': 'Rui', 'matrícula': '3333', 'isolada': True, 'email': None}]}\n"
     ]
    }
   ],
   "source": [
    "dados = json.loads(turma_IP)\n",
    "\n",
    "print(dados)"
   ]
  },
  {
   "cell_type": "markdown",
   "metadata": {},
   "source": [
    "Observe que, quando imprimimos os dados carregados em ```dados```, o resultado se parece muito com um dicionário Python. De fato, se testarmos o tipo da variável ```dados``` veremos que se trata de um dicionário:"
   ]
  },
  {
   "cell_type": "code",
   "execution_count": 26,
   "metadata": {},
   "outputs": [
    {
     "name": "stdout",
     "output_type": "stream",
     "text": [
      "<class 'dict'>\n"
     ]
    }
   ],
   "source": [
    "print(type(dados))"
   ]
  },
  {
   "cell_type": "markdown",
   "metadata": {},
   "source": [
    "Vamos entender o que aconteceu...\n",
    "\n",
    "Quando carregamos o String que representa o objeto JSON por meio do comando ```json.loads```, é feita uma conversão dos tipos de dado em JSON para os tipos de dados em Python. A tabela a seguir apresenta as regras de conversão.\n",
    "\n",
    "| JSON          | Python            \n",
    "| ------------- |:-------:| \n",
    "| objeto        | dict    | \n",
    "| array         | list    |  \n",
    "| string        | str     | \n",
    "| número (int)  | int     | \n",
    "| número (real) | float   | \n",
    "| true          | True    | \n",
    "| false         | False   | \n",
    "| null          | none    | \n",
    "\n",
    "De fato, note a conversâo dos valores ```true``` e ```null``` de JSON para ```True``` e ```none``` em Python, quando foi feita a tradução do objeto do nosso exemplo acima:\n",
    "```python\n",
    "       {\n",
    "            \"nome\" : \"Rui\",\n",
    "            \"matrícula\": \"3333\",\n",
    "            \"isolada\" : true,\n",
    "            \"email\" : null\n",
    "        }\n",
    "```\n",
    "O resultado em Python foi:\n",
    "```python\n",
    "       {\n",
    "           'nome': 'Rui', \n",
    "           'matrícula': '3333', \n",
    "           'isolada': True, \n",
    "           'email': None\n",
    "       }\n",
    "```\n",
    "\n",
    "Observe ainda que, de acordo com a regra de conversão mostrada na tabela:\n",
    "\n",
    "| JSON          | Python            \n",
    "| ------------- |:-------:| \n",
    "| objeto        | dict    | \n",
    "| array         | list    |  \n",
    "| string        | str     | \n",
    "| número (int)  | int     | \n",
    "| número (real) | float   | \n",
    "| true          | True    | \n",
    "| false         | False   | \n",
    "| null          | none    | \n",
    "\n",
    "o ```array``` JSON armazenado na variável ```aluno```:\n",
    "```python\n",
    " [\n",
    "        {\n",
    "            \"nome\" : \"Augusto\",\n",
    "            \"matrícula\": \"1111\",\n",
    "            \"isolada\" : false,\n",
    "            \"email\" : \"augusto@ip.ufpe.br\"\n",
    "        },\n",
    "        {\n",
    "            \"nome\" : \"Heloisa\",\n",
    "            \"matrícula\": \"2222\",\n",
    "            \"isolada\" : false,\n",
    "            \"email\" : \"heloisa@ip.ufpe.br\"\n",
    "        },\n",
    "       {\n",
    "            \"nome\" : \"Rui\",\n",
    "            \"matrícula\": \"3333\",\n",
    "            \"isolada\" : true,\n",
    "            \"email\" : null\n",
    "        }\n",
    "]\n",
    "```\n",
    "será convertido para uma ```lista``` em Python. Para confirmar isso, vamos testar o tipo de ```aluno``` após a conversâo para Python."
   ]
  },
  {
   "cell_type": "code",
   "execution_count": 27,
   "metadata": {},
   "outputs": [
    {
     "name": "stdout",
     "output_type": "stream",
     "text": [
      "<class 'list'>\n"
     ]
    }
   ],
   "source": [
    "print(type(dados['aluno']))"
   ]
  },
  {
   "cell_type": "markdown",
   "metadata": {},
   "source": [
    "Agora que convertemos de JSON para Python, podemos trabalhar com mais facilidade. Por exemplo, vamos usar o comando ```for``` para iterar sobre o objeto ```dados``` e imprimir o ```nome``` de cada ```aluno```."
   ]
  },
  {
   "cell_type": "code",
   "execution_count": 30,
   "metadata": {},
   "outputs": [
    {
     "name": "stdout",
     "output_type": "stream",
     "text": [
      "Augusto\n",
      "Heloisa\n",
      "Rui\n"
     ]
    }
   ],
   "source": [
    "for aluno in dados['aluno']:\n",
    "    print(aluno['nome'])"
   ]
  },
  {
   "cell_type": "markdown",
   "metadata": {},
   "source": [
    "No exemplo abaixo, vamos remover todos os emails cadastrados."
   ]
  },
  {
   "cell_type": "code",
   "execution_count": 39,
   "metadata": {},
   "outputs": [
    {
     "name": "stdout",
     "output_type": "stream",
     "text": [
      "{'aluno': [{'nome': 'Augusto', 'matrícula': '1111', 'isolada': False}, {'nome': 'Heloisa', 'matrícula': '2222', 'isolada': False}, {'nome': 'Rui', 'matrícula': '3333', 'isolada': True}]}\n"
     ]
    }
   ],
   "source": [
    "for aluno in dados['aluno']:\n",
    "    del aluno['email']\n",
    "    \n",
    "print(dados)"
   ]
  },
  {
   "cell_type": "markdown",
   "metadata": {},
   "source": [
    "### Traduzir Python para JSON\n",
    "\n",
    "Agora que sabemos como converter de JSON para Python, vamos estudar como seguir o caminho inverso e obter um String no formato JSON a partir de objetos Python. Para isso, utilizaremos o método ```json.dumps(objeto_Python)```."
   ]
  },
  {
   "cell_type": "code",
   "execution_count": 35,
   "metadata": {},
   "outputs": [
    {
     "name": "stdout",
     "output_type": "stream",
     "text": [
      "<class 'str'>\n"
     ]
    }
   ],
   "source": [
    "novo_json = json.dumps(dados)\n",
    "\n",
    "print(type(novo_json))"
   ]
  },
  {
   "cell_type": "markdown",
   "metadata": {},
   "source": [
    "Como esperado, o tipo do objeto é uma string com as informações no formato JSON.\n",
    "\n",
    "Vamos ver agora como ficou o string gerado com as informações no formato JSON."
   ]
  },
  {
   "cell_type": "code",
   "execution_count": 36,
   "metadata": {},
   "outputs": [
    {
     "name": "stdout",
     "output_type": "stream",
     "text": [
      "{\"aluno\": [{\"nome\": \"Augusto\", \"matr\\u00edcula\": \"1111\", \"isolada\": false, \"email\": \"augusto@ip.ufpe.br\"}, {\"nome\": \"Heloisa\", \"matr\\u00edcula\": \"2222\", \"isolada\": false, \"email\": \"heloisa@ip.ufpe.br\"}, {\"nome\": \"Rui\", \"matr\\u00edcula\": \"3333\", \"isolada\": true, \"email\": null}]}\n"
     ]
    }
   ],
   "source": [
    "print(novo_json)"
   ]
  },
  {
   "cell_type": "markdown",
   "metadata": {},
   "source": [
    "Podemos observar também a conversão dos valores de ```True```, ```False``` e ```none``` em Python para ```true```, ```false``` e ```null``` em JSON.\n",
    "\n",
    "Entretanto, houve um problema na conversão. Os assentos não foram preservados. Para resolver isso, devemos usar o comando ```novo_json = json.dumps(dados, ensure_ascii=False)```."
   ]
  },
  {
   "cell_type": "code",
   "execution_count": 42,
   "metadata": {},
   "outputs": [
    {
     "name": "stdout",
     "output_type": "stream",
     "text": [
      "{\"aluno\": [{\"nome\": \"Augusto\", \"matrícula\": \"1111\", \"isolada\": false}, {\"nome\": \"Heloisa\", \"matrícula\": \"2222\", \"isolada\": false}, {\"nome\": \"Rui\", \"matrícula\": \"3333\", \"isolada\": true}]}\n"
     ]
    }
   ],
   "source": [
    "novo_json = json.dumps(dados, ensure_ascii=False)\n",
    "\n",
    "print(novo_json)"
   ]
  },
  {
   "cell_type": "markdown",
   "metadata": {},
   "source": [
    "Um outro problema que podemos notar é que, ao retornar para o formato de string JSON, perdemos a estrutura formatada com indentação. Para resolver o problema, utilizamos o parâmetro ```indent```:"
   ]
  },
  {
   "cell_type": "code",
   "execution_count": 41,
   "metadata": {},
   "outputs": [
    {
     "name": "stdout",
     "output_type": "stream",
     "text": [
      "{\n",
      "  \"aluno\": [\n",
      "    {\n",
      "      \"nome\": \"Augusto\",\n",
      "      \"matrícula\": \"1111\",\n",
      "      \"isolada\": false\n",
      "    },\n",
      "    {\n",
      "      \"nome\": \"Heloisa\",\n",
      "      \"matrícula\": \"2222\",\n",
      "      \"isolada\": false\n",
      "    },\n",
      "    {\n",
      "      \"nome\": \"Rui\",\n",
      "      \"matrícula\": \"3333\",\n",
      "      \"isolada\": true\n",
      "    }\n",
      "  ]\n",
      "}\n"
     ]
    }
   ],
   "source": [
    "novo_json = json.dumps(dados, indent=2, ensure_ascii=False)\n",
    "\n",
    "print(novo_json)"
   ]
  }
 ],
 "metadata": {
  "kernelspec": {
   "display_name": "Python 3",
   "language": "python",
   "name": "python3"
  },
  "language_info": {
   "codemirror_mode": {
    "name": "ipython",
    "version": 3
   },
   "file_extension": ".py",
   "mimetype": "text/x-python",
   "name": "python",
   "nbconvert_exporter": "python",
   "pygments_lexer": "ipython3",
   "version": "3.7.3"
  }
 },
 "nbformat": 4,
 "nbformat_minor": 2
}
