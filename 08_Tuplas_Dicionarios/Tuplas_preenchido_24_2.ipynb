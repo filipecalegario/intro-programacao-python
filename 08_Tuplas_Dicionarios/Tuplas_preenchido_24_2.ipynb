{
  "cells": [
    {
      "cell_type": "markdown",
      "metadata": {
        "id": "view-in-github",
        "colab_type": "text"
      },
      "source": [
        "<a href=\"https://colab.research.google.com/github/filipecalegario/intro-programacao-python/blob/main/08_Tuplas_Dicionarios/Tuplas_preenchido_24_2.ipynb\" target=\"_parent\"><img src=\"https://colab.research.google.com/assets/colab-badge.svg\" alt=\"Open In Colab\"/></a>"
      ]
    },
    {
      "cell_type": "markdown",
      "metadata": {
        "id": "eM-dHYvWx0tI"
      },
      "source": [
        "# Tuplas\n",
        "\n",
        "Tuplas são similares a listas. Ou seja, elas servem para armazenar uma coleção de objetos. Porém, diferente das listas, as tuplas são imutáveis, não permitindo modificar os valores armazenados. Uma consequência dessa propriedade é que muitas das funções disponíveis para listas não podem ser aplicadas em tuplas.\n",
        "\n",
        "O uso de tuplas é recomendado em situações em que existe uma garantia de que os dados armazenados não serão modificados.\n",
        "\n",
        "Para definir uma tupla, utiliza-se um conjunto de objetos entre parênteses (opcional, mas recomendado) e separados por vírgula.\n"
      ]
    },
    {
      "cell_type": "code",
      "execution_count": 1,
      "metadata": {
        "scrolled": true,
        "id": "2p9PUEYtx0tJ",
        "outputId": "1a4658e9-b91b-4547-b07b-dc93be8059d6",
        "colab": {
          "base_uri": "https://localhost:8080/"
        }
      },
      "outputs": [
        {
          "output_type": "stream",
          "name": "stdout",
          "text": [
            "O Brasil teve 4 presidentes no século IX.\n"
          ]
        }
      ],
      "source": [
        "presidentes_BR_sec_XIX = ('Deodoro da Fonseca', 'Floriano Peixoto','Prudente de Morais','Campos Sales')\n",
        "print(f'O Brasil teve {len(presidentes_BR_sec_XIX)} presidentes no século XIX.')"
      ]
    },
    {
      "cell_type": "code",
      "execution_count": null,
      "metadata": {
        "id": "FMQS_hMAx0tJ"
      },
      "outputs": [],
      "source": []
    },
    {
      "cell_type": "markdown",
      "metadata": {
        "id": "h_V25sPgx0tJ"
      },
      "source": [
        "Uma **tupla vazia** pode ser escrita com um par de parênteses  `tupla_vazia = ()`.\n",
        "\n",
        "Porém, é preciso ter cuidado para criar uma tupla com um elemento apenas. Se tentarmos colocar um elemento entre parênteses apenas `tupla_um_elemento = (2)`, Python vai entender que estamos criando uma expressão. O resultado será o inteiro `2`."
      ]
    },
    {
      "cell_type": "code",
      "execution_count": null,
      "metadata": {
        "id": "Lm1hScEQx0tK"
      },
      "outputs": [],
      "source": []
    },
    {
      "cell_type": "markdown",
      "metadata": {
        "id": "1MNIpUJJx0tK"
      },
      "source": [
        "Para evitar isso, temos que colocar uma vírgula após o **único** elemento da tupla `tupla_um_elemento = (2,)`."
      ]
    },
    {
      "cell_type": "code",
      "execution_count": null,
      "metadata": {
        "id": "_RxRhUxHx0tK"
      },
      "outputs": [],
      "source": []
    }
  ],
  "metadata": {
    "kernelspec": {
      "display_name": "Python 3",
      "language": "python",
      "name": "python3"
    },
    "language_info": {
      "codemirror_mode": {
        "name": "ipython",
        "version": 3
      },
      "file_extension": ".py",
      "mimetype": "text/x-python",
      "name": "python",
      "nbconvert_exporter": "python",
      "pygments_lexer": "ipython3",
      "version": "3.8.3"
    },
    "colab": {
      "provenance": [],
      "include_colab_link": true
    }
  },
  "nbformat": 4,
  "nbformat_minor": 0
}