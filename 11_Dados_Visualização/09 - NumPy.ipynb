{
 "cells": [
  {
   "cell_type": "markdown",
   "metadata": {},
   "source": [
    "# NumPy\n",
    "Nunca produzimos tantos dados. Nossa capacidade de tratar essa avalanche de conteúdo para transformá-la em informação útil requer sofisticados procedimentos de análise, impossíveis de implementar sem o apoio de ferramentas computacionais. Neste curso, mostraremos como carregar, armazenar e manipular estruturas de dados em Python.\n",
    "\n",
    "Embora seja um assunto complexo, pois os dados podem assumir diferentes formatos (ex. coleção de documentos, imagens, sons, números, etc), vamos pensar em todos os dados como sendo arrays de números. Por exemplo, imagens podem ser pensadas como arrays bi-dimensionais de números, que representam os pixels. Sons, como um array unidimensional de intensidade versus tempo. Texto podem ser convertidas em várias formatos de representação numérica. Em resumo, *não importa qual seja o dado, o primeiro passo para torná-lo analisável é transformá-lo em array numérico*.\n",
    "\n",
    "Assumindo esse cenário, para o nosso estudo de análise de dados, mostraremos como armazenar e manipular arrays numéricos de forma eficiente através da biblioteca *NumPy*, que é a *base para quase todo o ferramental de análise de dados em Python*. \n",
    "\n",
    "## NumPy vs List\n",
    "\n",
    "Uma lista em Python é capaz de armazenar objetos de diferentes tipos, como mostrado no exemplo a seguir:\n",
    "\n",
    "Embora possua estrutura similar a uma lista aninhada, *NumPy possui mecanismos bem mais eficientes para armazenamento e processamento de grandes volumes de dados*. \n",
    "\n"
   ]
  },
  {
   "cell_type": "code",
   "execution_count": 164,
   "metadata": {},
   "outputs": [
    {
     "data": {
      "text/plain": [
       "[int, str, bool, float]"
      ]
     },
     "execution_count": 164,
     "metadata": {},
     "output_type": "execute_result"
    }
   ],
   "source": [
    "lista = [2, 'Texto', True,  4.0]\n",
    "[type(item) for item in lista]"
   ]
  },
  {
   "cell_type": "markdown",
   "metadata": {},
   "source": [
    "Infelizmente, para oferecer essa flexibilidade, cada item da lista é um objeto completo, armazenando um conjunto de informações sobre tipo. Isso torna a estrutura bastante \"pesada\" e sua manipulação fica cara, tanto em termos de espaço de memória quanto em tempo de processamento.\n",
    "\n",
    "Por outro lado, se removermos essa flexibilidade, fazendo com que todas as variáveis da lista possuam o mesmo tipo, muitas das informações armazenadas tornam-se redundantes, possibilitando reduzir substancialmente o espaço de memória e o tempo de processamento. É justamente isso que NumPy faz ao armazenar os dados em uma *matriz com tipo fixo*.\n",
    "\n",
    "Portanto, se observarmos a implementação de um array NumPy, veremos um vetor contendo ponteiros para regiões contíguas de dados. Por outro lado uma list contém um vetor de ponteiros para blocos de ponteiros. Cada ponteiro no bloco referencia um objeto Python completo.\n",
    "\n",
    "Em resumo: \n",
    "\n",
    "| Estrutura de Dado | Eficiência | Flexibilidade |\n",
    "|------------------:|:----------:|:-------------:|\n",
    "| list              | baixa      | alta          | \n",
    "| NumPy             | alta       | baixa         |\n",
    "\n",
    "\n",
    "## Introdução a Arrays NumPy\n",
    "\n",
    "Desde sua versão 3.3, a linguagem Python disponibiliza uma forma nativa de arrays. O exemplo a seguir cria um array. 'i' indica que os dados são do tipo inteiro. "
   ]
  },
  {
   "cell_type": "code",
   "execution_count": 165,
   "metadata": {},
   "outputs": [
    {
     "data": {
      "text/plain": [
       "array('i', [0, 1, 2, 3, 4])"
      ]
     },
     "execution_count": 165,
     "metadata": {},
     "output_type": "execute_result"
    }
   ],
   "source": [
    "import array\n",
    "lista = list(range(5))\n",
    "array = array.array('i', lista)\n",
    "array"
   ]
  },
  {
   "cell_type": "markdown",
   "metadata": {},
   "source": [
    "O array nativo armazene dados de maneira eficiente. O `ndarray` de NumPy disponibiliza um conjunto de operações para operar tais arrays de forma bastante eficiente. \n",
    "\n",
    "### Criando Arrays a partir de Lists\n",
    "    \n",
    "O primeiro passo para trabalhar com NumPy é importar a biblioteca. Faremos isso com o seguinte comando, que também atribui o apelido `np` para a biblioteca."
   ]
  },
  {
   "cell_type": "code",
   "execution_count": 2,
   "metadata": {},
   "outputs": [],
   "source": [
    "import numpy as np"
   ]
  },
  {
   "cell_type": "markdown",
   "metadata": {},
   "source": [
    "Criando um array:"
   ]
  },
  {
   "cell_type": "code",
   "execution_count": 167,
   "metadata": {},
   "outputs": [
    {
     "data": {
      "text/plain": [
       "array([1, 2, 3, 4, 5])"
      ]
     },
     "execution_count": 167,
     "metadata": {},
     "output_type": "execute_result"
    }
   ],
   "source": [
    "array1 = np.array(range(1,6)) \n",
    "array1"
   ]
  },
  {
   "cell_type": "markdown",
   "metadata": {},
   "source": [
    "Criando um array de inteiros a partir de uma lista:"
   ]
  },
  {
   "cell_type": "code",
   "execution_count": 168,
   "metadata": {},
   "outputs": [
    {
     "data": {
      "text/plain": [
       "array([1, 2, 3, 4, 5])"
      ]
     },
     "execution_count": 168,
     "metadata": {},
     "output_type": "execute_result"
    }
   ],
   "source": [
    "np.array([1, 2, 3, 4, 5])"
   ]
  },
  {
   "cell_type": "markdown",
   "metadata": {},
   "source": [
    "Como uma lista pode ter valores de diferentes tipos, mas arrays NumPy só admitem valores do mesmo tipo, se os tipos forem diferentes, NumPy realiza o `upcast` (transformar o tipo mais restrito em um tipo mais amplo; ex: inteiro para real), quando possível:"
   ]
  },
  {
   "cell_type": "code",
   "execution_count": 169,
   "metadata": {},
   "outputs": [
    {
     "data": {
      "text/plain": [
       "array([1. , 2.2, 3. , 4.4, 5. ])"
      ]
     },
     "execution_count": 169,
     "metadata": {},
     "output_type": "execute_result"
    }
   ],
   "source": [
    "# upcast de inteiro para real\n",
    "np.array([1, 2.2, 3, 4.4, 5])"
   ]
  },
  {
   "cell_type": "markdown",
   "metadata": {},
   "source": [
    "Alternativamente, pode-se forçar o tipo do array:"
   ]
  },
  {
   "cell_type": "code",
   "execution_count": 170,
   "metadata": {},
   "outputs": [
    {
     "data": {
      "text/plain": [
       "array([1, 2, 3, 4, 5], dtype=int64)"
      ]
     },
     "execution_count": 170,
     "metadata": {},
     "output_type": "execute_result"
    }
   ],
   "source": [
    "# transforma todos os dados em inteiro com 64 bits\n",
    "array_int = np.array([1.1, 2.2, 3.3, 4.4, 5.5],'int64')\n",
    "array_int"
   ]
  },
  {
   "cell_type": "code",
   "execution_count": 171,
   "metadata": {},
   "outputs": [
    {
     "data": {
      "text/plain": [
       "array([0., 1., 2., 3., 4.], dtype=float32)"
      ]
     },
     "execution_count": 171,
     "metadata": {},
     "output_type": "execute_result"
    }
   ],
   "source": [
    "# transforma todos os dados em ponto flutuante com 32 bits\n",
    "array_float = np.array(list(range(5)),'float32')\n",
    "array_float"
   ]
  },
  {
   "cell_type": "markdown",
   "metadata": {},
   "source": [
    "A seguinte tabela apresenta a lista de tipos aceitos por Python:\n",
    "\n",
    "| Data | type Description | \n",
    "|:-----|:-----------------|\n",
    "| bool_ | Boolean (True or False) stored as a byte | \n",
    "| int_ | Default integer type (same as C long; normally either int64 or int32) | \n",
    "| intc | Identical to C int (normally int32 or int64) |\n",
    "| intp | Integer used for indexing (same as C ssize_t; normally either int32 or int64) |\n",
    "| int8 | Byte (–128 to 127) |\n",
    "| int16 | Integer (–32768 to 32767) |\n",
    "| int32 | Integer (–2147483648 to 2147483647) |\n",
    "| int64 | Integer (–9223372036854775808 to 9223372036854775807) |\n",
    "| uint8 | Unsigned integer (0 to 255) |\n",
    "| uint16 | Unsigned integer (0 to 65535) |\n",
    "| uint32 | Unsigned integer (0 to 4294967295) |\n",
    "| uint64 | Unsigned integer (0 to 18446744073709551615) |\n",
    "| float_ | Shorthand for float64 |\n",
    "| float16 | Half-precision float: sign bit, 5 bits exponent, 10 bits mantissa |\n",
    "| float32 | Single-precision float: sign bit, 8 bits exponent, 23 bits mantissa |\n",
    "| float64 | Double-precision float: sign bit, 11 bits exponent, 52 bits mantissa |\n",
    "| complex_ | Shorthand for complex128 |\n",
    "| complex64 | Complex number, represented by two 32-bit floats |\n",
    "| complex128 | Complex number, represented by two 64-bit floats |\n",
    "\n",
    "\n",
    "### Arrays Multidimensionais\n",
    "\n",
    "Pode-se utilizar listas aninhadas para criar arrays multidimensionais. As listas mais internas tornam-se linhas e a lista mais externa forma as colunas."
   ]
  },
  {
   "cell_type": "code",
   "execution_count": 172,
   "metadata": {},
   "outputs": [
    {
     "data": {
      "text/plain": [
       "array([[ 1,  2,  3,  4,  5],\n",
       "       [ 6,  7,  8,  9, 10]])"
      ]
     },
     "execution_count": 172,
     "metadata": {},
     "output_type": "execute_result"
    }
   ],
   "source": [
    "# array 2-dimensões a partir de listas aninhadas\n",
    "array_lista_aninhada = np.array([list(range(1,6)), list(range(6,11))]) \n",
    "array_lista_aninhada"
   ]
  },
  {
   "cell_type": "markdown",
   "metadata": {},
   "source": [
    "Outra forma para criar a mesma lista:"
   ]
  },
  {
   "cell_type": "code",
   "execution_count": 20,
   "metadata": {},
   "outputs": [
    {
     "data": {
      "text/plain": [
       "array([[ 1,  2,  3,  4,  5],\n",
       "       [ 6,  7,  8,  9, 10]])"
      ]
     },
     "execution_count": 20,
     "metadata": {},
     "output_type": "execute_result"
    }
   ],
   "source": [
    "# array 2-dimensões a partir de listas aninhadas\n",
    "array_lista_aninhada = np.array([range(i, i+5) for i in [1, 6]]) \n",
    "array_lista_aninhada"
   ]
  },
  {
   "cell_type": "markdown",
   "metadata": {},
   "source": [
    "Alguns *atributos* do array são bastante úteis:"
   ]
  },
  {
   "cell_type": "code",
   "execution_count": 21,
   "metadata": {},
   "outputs": [
    {
     "name": "stdout",
     "output_type": "stream",
     "text": [
      "[[ 1  2  3  4  5]\n",
      " [ 6  7  8  9 10]]\n",
      "array_lista_aninhada ndim:   2\n",
      "array_lista_aninhada shape:  (2, 5) -> (2 lin, 5 col)\n",
      "array_lista_aninhada size:   10\n",
      "array_lista_aninhada dtype:  int32\n"
     ]
    }
   ],
   "source": [
    "print(array_lista_aninhada)\n",
    "print('array_lista_aninhada ndim:  ', array_lista_aninhada.ndim)\n",
    "print('array_lista_aninhada shape: ', array_lista_aninhada.shape, '-> (2 lin, 5 col)')\n",
    "print('array_lista_aninhada size:  ', array_lista_aninhada.size)\n",
    "print('array_lista_aninhada dtype: ', array_lista_aninhada.dtype)"
   ]
  },
  {
   "cell_type": "markdown",
   "metadata": {},
   "source": [
    "O método `reshape` é útil para modificar o formato do array:"
   ]
  },
  {
   "cell_type": "code",
   "execution_count": 22,
   "metadata": {},
   "outputs": [
    {
     "data": {
      "text/plain": [
       "array([[ 1,  2],\n",
       "       [ 3,  4],\n",
       "       [ 5,  6],\n",
       "       [ 7,  8],\n",
       "       [ 9, 10]])"
      ]
     },
     "execution_count": 22,
     "metadata": {},
     "output_type": "execute_result"
    }
   ],
   "source": [
    "novo_array = array_lista_aninhada.reshape((5,2))\n",
    "novo_array"
   ]
  },
  {
   "cell_type": "code",
   "execution_count": 176,
   "metadata": {},
   "outputs": [
    {
     "name": "stdout",
     "output_type": "stream",
     "text": [
      "[[[ 1  2]\n",
      "  [ 4  5]\n",
      "  [ 7  8]]\n",
      "\n",
      " [[10 11]\n",
      "  [13 14]\n",
      "  [16 17]]]\n",
      "array_lista_aninhada ndim:   3\n",
      "array_lista_aninhada shape:  (2, 3, 2) -> (2 lin-ext, 3 lin-int, 2 col-int)\n",
      "array_lista_aninhada size:   12\n",
      "array_lista_aninhada dtype:  int32\n"
     ]
    }
   ],
   "source": [
    "# array 3-dimensões a partir de listas aninhadas\n",
    "array_lista_aninhada = np.array([np.array([list(range(1,  3)), list(range(4, 6)),  list(range(7,   9))]),\n",
    "                                 np.array([list(range(10,12)), list(range(13,15)), list(range(16, 18))])])\n",
    "print(array_lista_aninhada)\n",
    "print('array_lista_aninhada ndim:  ', array_lista_aninhada.ndim)\n",
    "print('array_lista_aninhada shape: ', array_lista_aninhada.shape, '-> (2 lin-ext, 3 lin-int, 2 col-int)')\n",
    "print('array_lista_aninhada size:  ', array_lista_aninhada.size)\n",
    "print('array_lista_aninhada dtype: ', array_lista_aninhada.dtype)"
   ]
  },
  {
   "cell_type": "markdown",
   "metadata": {},
   "source": [
    "### Concatenando Arrays\n",
    "\n",
    "O método `concatenate(tupla, axis=0)` é empregado para concatenar arrays, que possuem a mesma quantidade de dimensões e a mesma quantidade de colunas."
   ]
  },
  {
   "cell_type": "code",
   "execution_count": 68,
   "metadata": {},
   "outputs": [
    {
     "name": "stdout",
     "output_type": "stream",
     "text": [
      "array3:\n",
      " [[1 2 3]\n",
      " [4 5 6]\n",
      " [7 8 9]]\n"
     ]
    }
   ],
   "source": [
    "# array bi-dimensional com uma linha\n",
    "array1 = np.array([[1, 2, 3]])\n",
    "# array bi-dimensional com duas linha3\n",
    "array2 = np.array([[4, 5, 6], [7, 8, 9]])\n",
    "# concatenando array1 e array2\n",
    "array3 = np.concatenate([array1, array2],axis=0)\n",
    "print('array3:\\n',array3)\n"
   ]
  },
  {
   "cell_type": "markdown",
   "metadata": {},
   "source": [
    "O método `concatenate(tupla, axis=1)` é empregado para concatenar arrays, que possuem a mesma quantidade de dimensões e a mesma quantidade de linhas."
   ]
  },
  {
   "cell_type": "code",
   "execution_count": 70,
   "metadata": {},
   "outputs": [
    {
     "name": "stdout",
     "output_type": "stream",
     "text": [
      "array3:\n",
      " [[1 4 5 6]\n",
      " [2 7 8 9]]\n"
     ]
    }
   ],
   "source": [
    "# array 2x1 \n",
    "array1 = np.array([[1], \n",
    "                   [2]])\n",
    "# array 2x3\n",
    "array2 = np.array([[4, 5, 6], [7, 8, 9]])\n",
    "# concatenando array1 e array2\n",
    "array3 = np.concatenate([array1, array2],axis=1)\n",
    "print('array3:\\n',array3)"
   ]
  },
  {
   "cell_type": "markdown",
   "metadata": {},
   "source": [
    "### Dividindo Arrays\n",
    "\n",
    "O método `splip(array, ponto de divisão, axis=0)` é empregado para dividir as linhas de um array:"
   ]
  },
  {
   "cell_type": "code",
   "execution_count": 96,
   "metadata": {},
   "outputs": [
    {
     "name": "stdout",
     "output_type": "stream",
     "text": [
      "array0:\n",
      " [[1 2 3]\n",
      " [3 4 5]\n",
      " [6 7 8]]\n",
      "acima:\n",
      " [[1 2 3]]\n",
      "abaixo:\n",
      " [[3 4 5]\n",
      " [6 7 8]]\n"
     ]
    }
   ],
   "source": [
    "array0 = np.array([[1, 2, 3], [3, 4, 5], [6, 7, 8]])\n",
    "acima, abaixo = np.split(array0, [1], axis=0)\n",
    "print('array0:\\n',array0)\n",
    "print('acima:\\n', acima)\n",
    "print('abaixo:\\n', abaixo)"
   ]
  },
  {
   "cell_type": "markdown",
   "metadata": {},
   "source": [
    "O método `splip(array, ponto de divisão, axis=1)` é empregado para dividir as colunas de um array:"
   ]
  },
  {
   "cell_type": "code",
   "execution_count": 99,
   "metadata": {},
   "outputs": [
    {
     "name": "stdout",
     "output_type": "stream",
     "text": [
      "array0:\n",
      " [[1 2 3]\n",
      " [3 4 5]\n",
      " [6 7 8]]\n",
      "esquerda:\n",
      " [[1]\n",
      " [3]\n",
      " [6]]\n",
      "direita:\n",
      " [[2 3]\n",
      " [4 5]\n",
      " [7 8]]\n"
     ]
    }
   ],
   "source": [
    "array0 = np.array([[1, 2, 3], [3, 4, 5], [6, 7, 8]])\n",
    "esquerda, direita = np.split(array0, [1], axis=1)\n",
    "print('array0:\\n',array0)\n",
    "print('esquerda:\\n', esquerda)\n",
    "print('direita:\\n', direita)"
   ]
  },
  {
   "cell_type": "markdown",
   "metadata": {},
   "source": [
    "### Rotinas para criação e incialização de arrays\n",
    "\n",
    "Existem diversas rotinas para criar e inicializar arrays, que são muito úteis para arrays muito grandes."
   ]
  },
  {
   "cell_type": "code",
   "execution_count": 71,
   "metadata": {},
   "outputs": [
    {
     "data": {
      "text/plain": [
       "array([0, 0, 0, 0, 0])"
      ]
     },
     "execution_count": 71,
     "metadata": {},
     "output_type": "execute_result"
    }
   ],
   "source": [
    "# cria array de inteiros, inicializado com zero\n",
    "np.zeros(5, dtype=int)"
   ]
  },
  {
   "cell_type": "code",
   "execution_count": 178,
   "metadata": {},
   "outputs": [
    {
     "data": {
      "text/plain": [
       "array([[1., 1., 1.],\n",
       "       [1., 1., 1.]])"
      ]
     },
     "execution_count": 178,
     "metadata": {},
     "output_type": "execute_result"
    }
   ],
   "source": [
    "# cria a 2x3 de reais, inicializando com um\n",
    "np.ones((2, 3), dtype=float)"
   ]
  },
  {
   "cell_type": "code",
   "execution_count": 179,
   "metadata": {},
   "outputs": [
    {
     "data": {
      "text/plain": [
       "array([[3.14, 3.14, 3.14],\n",
       "       [3.14, 3.14, 3.14]])"
      ]
     },
     "execution_count": 179,
     "metadata": {},
     "output_type": "execute_result"
    }
   ],
   "source": [
    "# cria um array 2x3, inicializando com o número pi (3.14)\n",
    "np.full((2, 3), 3.14)"
   ]
  },
  {
   "cell_type": "code",
   "execution_count": 180,
   "metadata": {},
   "outputs": [
    {
     "data": {
      "text/plain": [
       "array([ 0,  5, 10, 15, 20, 25, 30])"
      ]
     },
     "execution_count": 180,
     "metadata": {},
     "output_type": "execute_result"
    }
   ],
   "source": [
    "# cria array com sequência iniciando em 0 e terminando em 31, com incremento de 5\n",
    "np.arange(0, 31, 5)"
   ]
  },
  {
   "cell_type": "code",
   "execution_count": 181,
   "metadata": {},
   "outputs": [
    {
     "data": {
      "text/plain": [
       "array([[0.69359553, 0.61705898, 0.15167913],\n",
       "       [0.66719534, 0.33110937, 0.31254565]])"
      ]
     },
     "execution_count": 181,
     "metadata": {},
     "output_type": "execute_result"
    }
   ],
   "source": [
    "# cria array (2,3) com valores randômicos\n",
    "np.random.random((2, 3))"
   ]
  },
  {
   "cell_type": "code",
   "execution_count": 182,
   "metadata": {},
   "outputs": [
    {
     "data": {
      "text/plain": [
       "array([[7, 0, 4],\n",
       "       [4, 4, 1]])"
      ]
     },
     "execution_count": 182,
     "metadata": {},
     "output_type": "execute_result"
    }
   ],
   "source": [
    "# cria array (2,3) com valores inteiros randômicos entre 0 e 10\n",
    "np.random.randint(0,10,(2, 3))"
   ]
  },
  {
   "cell_type": "markdown",
   "metadata": {},
   "source": [
    "### Acessando Elementos do Array\n",
    "\n",
    "Em arrays unidimensionais, utiliza-se a mesma notação de listas, com índice iniciando em zero."
   ]
  },
  {
   "cell_type": "code",
   "execution_count": 138,
   "metadata": {},
   "outputs": [
    {
     "data": {
      "text/plain": [
       "array([1, 2, 3, 4, 5])"
      ]
     },
     "execution_count": 138,
     "metadata": {},
     "output_type": "execute_result"
    }
   ],
   "source": [
    "# array unidimensional\n",
    "array1 = np.array(range(1,6)) \n",
    "array1"
   ]
  },
  {
   "cell_type": "code",
   "execution_count": 125,
   "metadata": {},
   "outputs": [
    {
     "data": {
      "text/plain": [
       "1"
      ]
     },
     "execution_count": 125,
     "metadata": {},
     "output_type": "execute_result"
    }
   ],
   "source": [
    "array1[0]"
   ]
  },
  {
   "cell_type": "code",
   "execution_count": 183,
   "metadata": {},
   "outputs": [
    {
     "data": {
      "text/plain": [
       "3"
      ]
     },
     "execution_count": 183,
     "metadata": {},
     "output_type": "execute_result"
    }
   ],
   "source": [
    "array1[2]"
   ]
  },
  {
   "cell_type": "markdown",
   "metadata": {},
   "source": [
    "Também aceita índices negativos:"
   ]
  },
  {
   "cell_type": "code",
   "execution_count": 185,
   "metadata": {},
   "outputs": [
    {
     "data": {
      "text/plain": [
       "4"
      ]
     },
     "execution_count": 185,
     "metadata": {},
     "output_type": "execute_result"
    }
   ],
   "source": [
    "# 2o elemento do fim para o início\n",
    "array1[-2]"
   ]
  },
  {
   "cell_type": "markdown",
   "metadata": {},
   "source": [
    "Acessando partes do array:"
   ]
  },
  {
   "cell_type": "code",
   "execution_count": 186,
   "metadata": {},
   "outputs": [
    {
     "data": {
      "text/plain": [
       "array([1, 2])"
      ]
     },
     "execution_count": 186,
     "metadata": {},
     "output_type": "execute_result"
    }
   ],
   "source": [
    "# até o 2o elemento\n",
    "array1[:2]"
   ]
  },
  {
   "cell_type": "code",
   "execution_count": 187,
   "metadata": {},
   "outputs": [
    {
     "data": {
      "text/plain": [
       "array([3, 4, 5])"
      ]
     },
     "execution_count": 187,
     "metadata": {},
     "output_type": "execute_result"
    }
   ],
   "source": [
    "# tudo depois do 2o elemento \n",
    "array1[2:]"
   ]
  },
  {
   "cell_type": "code",
   "execution_count": 188,
   "metadata": {},
   "outputs": [
    {
     "data": {
      "text/plain": [
       "array([3, 4])"
      ]
     },
     "execution_count": 188,
     "metadata": {},
     "output_type": "execute_result"
    }
   ],
   "source": [
    "# depois 2o elemento até o 4o elemento\n",
    "array1[2:4]"
   ]
  },
  {
   "cell_type": "code",
   "execution_count": 189,
   "metadata": {},
   "outputs": [
    {
     "data": {
      "text/plain": [
       "array([1, 3, 5])"
      ]
     },
     "execution_count": 189,
     "metadata": {},
     "output_type": "execute_result"
    }
   ],
   "source": [
    "# tudo, a partir do 1o elemento, pulando de 2 em 2\n",
    "array1[::2]"
   ]
  },
  {
   "cell_type": "code",
   "execution_count": 191,
   "metadata": {},
   "outputs": [
    {
     "data": {
      "text/plain": [
       "array([3, 4, 5])"
      ]
     },
     "execution_count": 191,
     "metadata": {},
     "output_type": "execute_result"
    }
   ],
   "source": [
    "# tudo, depois do 2o elemento pulando de 2 em 2\n",
    "array1[2::]"
   ]
  },
  {
   "cell_type": "code",
   "execution_count": 192,
   "metadata": {},
   "outputs": [
    {
     "data": {
      "text/plain": [
       "array([3, 5])"
      ]
     },
     "execution_count": 192,
     "metadata": {},
     "output_type": "execute_result"
    }
   ],
   "source": [
    "# tudo, depois do 2o elemento pulando de 2 em 2\n",
    "array1[2::2]"
   ]
  },
  {
   "cell_type": "markdown",
   "metadata": {},
   "source": [
    "Para arrays multidimensionais, utiliza-se tuplas como índice:"
   ]
  },
  {
   "cell_type": "code",
   "execution_count": 31,
   "metadata": {},
   "outputs": [
    {
     "ename": "SyntaxError",
     "evalue": "invalid syntax (<ipython-input-31-5f499e7ae2ce>, line 6)",
     "output_type": "error",
     "traceback": [
      "\u001b[1;36m  File \u001b[1;32m\"<ipython-input-31-5f499e7ae2ce>\"\u001b[1;36m, line \u001b[1;32m6\u001b[0m\n\u001b[1;33m    array2[,2]\u001b[0m\n\u001b[1;37m           ^\u001b[0m\n\u001b[1;31mSyntaxError\u001b[0m\u001b[1;31m:\u001b[0m invalid syntax\n"
     ]
    }
   ],
   "source": [
    "# array 2-dimensões \n",
    "array2 = np.array([list(range(1,5)), list(range(6,10)), list(range(11,15))]) \n",
    "print(array2)\n",
    "# segunda 2a linha, 3a coluna\n",
    "print(array2[1,2])"
   ]
  },
  {
   "cell_type": "code",
   "execution_count": 194,
   "metadata": {},
   "outputs": [
    {
     "data": {
      "text/plain": [
       "array([[1, 2, 3],\n",
       "       [6, 7, 8]])"
      ]
     },
     "execution_count": 194,
     "metadata": {},
     "output_type": "execute_result"
    }
   ],
   "source": [
    "# até a 2a linha e até a 3a coluna \n",
    "array2[:2, :3]"
   ]
  },
  {
   "cell_type": "code",
   "execution_count": 195,
   "metadata": {},
   "outputs": [
    {
     "data": {
      "text/plain": [
       "array([[ 1,  3],\n",
       "       [ 6,  8],\n",
       "       [11, 13]])"
      ]
     },
     "execution_count": 195,
     "metadata": {},
     "output_type": "execute_result"
    }
   ],
   "source": [
    "# até a 3a linha, a partir da 1a coluna, pulando de duas em duas\n",
    "array2[:3, ::2]"
   ]
  },
  {
   "cell_type": "markdown",
   "metadata": {},
   "source": [
    "Uma operação muito comum quando se trabalha com matriz é o acesso a uma coluna inteira ou uma linha inteira. Isso pode ser feito combinando um indexador escalar com o símbolo `:`, que acessa toda linha ou coluna."
   ]
  },
  {
   "cell_type": "code",
   "execution_count": 196,
   "metadata": {},
   "outputs": [
    {
     "data": {
      "text/plain": [
       "array([6, 7, 8, 9])"
      ]
     },
     "execution_count": 196,
     "metadata": {},
     "output_type": "execute_result"
    }
   ],
   "source": [
    "# acessando toda 2a linha\n",
    "array2[1, :]"
   ]
  },
  {
   "cell_type": "code",
   "execution_count": 197,
   "metadata": {},
   "outputs": [
    {
     "data": {
      "text/plain": [
       "array([ 2,  7, 12])"
      ]
     },
     "execution_count": 197,
     "metadata": {},
     "output_type": "execute_result"
    }
   ],
   "source": [
    "# acessando toda 2a coluna\n",
    "array2[:, 1]"
   ]
  },
  {
   "cell_type": "markdown",
   "metadata": {},
   "source": [
    "É possível modificar diretamente os valores de um array:"
   ]
  },
  {
   "cell_type": "code",
   "execution_count": 198,
   "metadata": {},
   "outputs": [
    {
     "name": "stdout",
     "output_type": "stream",
     "text": [
      "array1: [1 2 3 4 5]\n",
      "array1: [1 2 7 4 5]\n"
     ]
    }
   ],
   "source": [
    "# array unidimensional\n",
    "array1 = np.array(range(1,6)) \n",
    "print('array1:', array1)\n",
    "array1[2] = 7\n",
    "print('array1:', array1)"
   ]
  },
  {
   "cell_type": "markdown",
   "metadata": {},
   "source": [
    "**Atenção:** como NumPy só aceita arrays com tipo fixo, caso você tente inserir, por exemplo, um valor real em um array de inteiros, esse valor será truncado sem que você seja avisado sobre isso."
   ]
  },
  {
   "cell_type": "code",
   "execution_count": 200,
   "metadata": {},
   "outputs": [
    {
     "name": "stdout",
     "output_type": "stream",
     "text": [
      "array1: [1 2 3 4 5]\n",
      "array1: [1 2 7 4 5]\n"
     ]
    }
   ],
   "source": [
    "# array unidimensional\n",
    "array1 = np.array(range(1,6)) \n",
    "print('array1:', array1)\n",
    "array1[2] = 7.22\n",
    "print('array1:', array1)"
   ]
  },
  {
   "cell_type": "markdown",
   "metadata": {},
   "source": [
    "### Subarrays são visões, não cópias\n",
    "\n",
    "Diferente do que acontece com as listas, quando selecionamos um subarray, estamos criando uma visão do array e não uma cópia de parte do array. Isso é feito para tornar as operações mais eficientes. Veja o exemplo abaixo:"
   ]
  },
  {
   "cell_type": "code",
   "execution_count": 5,
   "metadata": {},
   "outputs": [
    {
     "name": "stdout",
     "output_type": "stream",
     "text": [
      "array2:\n",
      " [[ 1  2  3  4]\n",
      " [ 6  7  8  9]\n",
      " [11 12 13 14]]\n",
      "sub_array2:\n",
      " [[1 2 3]\n",
      " [6 7 8]]\n",
      "sub_array2:\n",
      " [[-1  2  3]\n",
      " [ 6  7  8]]\n",
      "array2:\n",
      " [[-1  2  3  4]\n",
      " [ 6  7  8  9]\n",
      " [11 12 13 14]]\n"
     ]
    }
   ],
   "source": [
    "# array 2-dimensões \n",
    "array2 = np.array([list(range(1,5)), list(range(6,10)), list(range(11,15))]) \n",
    "print('array2:\\n',array2)\n",
    "sub_array2 = array2[:2, :3]\n",
    "print('sub_array2:\\n', sub_array2)\n",
    "sub_array2[0, 0] = -1\n",
    "print('sub_array2:\\n', sub_array2)\n",
    "print('array2:\\n',array2)"
   ]
  },
  {
   "cell_type": "markdown",
   "metadata": {},
   "source": [
    "Porém, caso deseje criar uma cópia do array, isso pode ser feito com o método `copy`:"
   ]
  },
  {
   "cell_type": "code",
   "execution_count": 157,
   "metadata": {},
   "outputs": [
    {
     "name": "stdout",
     "output_type": "stream",
     "text": [
      "array2:\n",
      " [[ 1  2  3  4]\n",
      " [ 6  7  8  9]\n",
      " [11 12 13 14]]\n",
      "sub_array2:\n",
      " [[1 2 3]\n",
      " [6 7 8]]\n",
      "sub_array2:\n",
      " [[-1  2  3]\n",
      " [ 6  7  8]]\n",
      "array2:\n",
      " [[ 1  2  3  4]\n",
      " [ 6  7  8  9]\n",
      " [11 12 13 14]]\n"
     ]
    }
   ],
   "source": [
    "# array 2-dimensões \n",
    "array2 = np.array([list(range(1,5)), list(range(6,10)), list(range(11,15))]) \n",
    "print('array2:\\n',array2)\n",
    "# criando uma cópia do array\n",
    "sub_array2 = array2[:2, :3].copy()\n",
    "print('sub_array2:\\n', sub_array2)\n",
    "sub_array2[0, 0] = -1\n",
    "print('sub_array2:\\n', sub_array2)\n",
    "print('array2:\\n',array2)"
   ]
  },
  {
   "cell_type": "markdown",
   "metadata": {},
   "source": [
    "## Operando com Arrays NumPy (Funções Universais - UFuncs)\n",
    "\n",
    "Operações com array NumPy podem ser computadas de forma bem mais eficientes utilizando *operadores vetorizados* do que através de loops for. Esses operadores são implementados através das chamadas funções universais (*UFuncs*). \n",
    "\n",
    "Operações vetorizadas podem ocorrer entre um valor escalar e um array ou entre dois arrays:"
   ]
  },
  {
   "cell_type": "code",
   "execution_count": 151,
   "metadata": {},
   "outputs": [
    {
     "name": "stdout",
     "output_type": "stream",
     "text": [
      "a1:\n",
      " [0 1 2 3 4] \n",
      "\n",
      "2 * a1:\n",
      " [0 2 4 6 8] \n",
      "\n",
      "(2 * a1) + 1:\n",
      " [1 3 5 7 9] \n",
      "\n",
      "2 ** a1:\n",
      " [ 1  2  4  8 16] \n",
      "\n"
     ]
    }
   ],
   "source": [
    "a1 = np.array(range(5))\n",
    "print('a1:\\n',a1,'\\n')\n",
    "print('2 * a1:\\n', 2 * a1,'\\n')\n",
    "print('(2 * a1) + 1:\\n', (2 * a1) + 1,'\\n')\n",
    "print('2 ** a1:\\n', 2 ** a1,'\\n')"
   ]
  },
  {
   "cell_type": "code",
   "execution_count": 121,
   "metadata": {},
   "outputs": [
    {
     "name": "stdout",
     "output_type": "stream",
     "text": [
      "a1:\n",
      " [0 1 2 3 4] \n",
      "\n",
      "a2:\n",
      " [[0 1 2 3 4]\n",
      " [5 6 7 8 9]] \n",
      "\n",
      "a1 * a2:\n",
      " [[ 0  1  4  9 16]\n",
      " [ 0  6 14 24 36]] \n",
      "\n"
     ]
    }
   ],
   "source": [
    "print('a1:\\n',a1,'\\n')\n",
    "a2 = np.arange(0, 10).reshape((2,5))\n",
    "print('a2:\\n',a2,'\\n')\n",
    "print('a1 * a2:\\n', a1 * a2,'\\n')"
   ]
  },
  {
   "cell_type": "code",
   "execution_count": null,
   "metadata": {},
   "outputs": [],
   "source": [
    "a1 = np.arange(5)\n",
    "print('a1:\\n',a1,'\\n')\n",
    "a2 = np.zeros(15)\n",
    "print('a2:\\n',a2,'\\n')\n",
    "# calcula 2 elevado a a1 e armazena em a2\n",
    "# avançando as posições de a2 de 3 em 3\n",
    "a2[::3] = np.power(2, a1)\n",
    "print(a2)"
   ]
  },
  {
   "cell_type": "markdown",
   "metadata": {},
   "source": [
    "### Aggregates Functions\n",
    "\n",
    "Trata-se de uma família de funções que analisam e processam uma estrutura de dados e combina os resultados parciais para criar um valor de retorno. Um exemplo muito útil é o método `reduce`, que aplica uma determinada operação repetidamente aos elementos de um array até reduzir o conteúdo a um único valor. Por exemplo, ao aplicar reduce para a UFunc `add`, obtém-se como resultado a soma de todos os elementos do array:"
   ]
  },
  {
   "cell_type": "code",
   "execution_count": 176,
   "metadata": {},
   "outputs": [
    {
     "name": "stdout",
     "output_type": "stream",
     "text": [
      "a1: [0 1 2 3 4]\n",
      "soma_a1: 0\n"
     ]
    }
   ],
   "source": [
    "a1 = np.array(list(range(5)))\n",
    "soma_a1 = np.add.reduce(a1)\n",
    "print('a1:',a1)\n",
    "print('soma_a1:',soma_a1)"
   ]
  },
  {
   "cell_type": "markdown",
   "metadata": {},
   "source": [
    "Para calcular o resultado cumulativamente, utiliza-se `accumulate`:"
   ]
  },
  {
   "cell_type": "code",
   "execution_count": 172,
   "metadata": {},
   "outputs": [
    {
     "name": "stdout",
     "output_type": "stream",
     "text": [
      "a1: [0 1 2 3 4]\n",
      "soma_cumulativa_a1: [ 0  1  3  6 10]\n"
     ]
    }
   ],
   "source": [
    "a1 = np.array(list(range(5)))\n",
    "soma_a1 = np.add.accumulate(a1)\n",
    "print('a1:',a1)\n",
    "print('soma_cumulativa_a1:',soma_a1)"
   ]
  },
  {
   "cell_type": "markdown",
   "metadata": {},
   "source": [
    "NumPy oferece um conjunto de funções para computar agregações: \n",
    "\n",
    "`np.sum` é equivalente a `np.add.reduce`\n",
    "\n",
    "`np.prod ` é equivalente a `np.multiply.reduce`\n",
    "\n",
    "`np.cumsum` é equivalente a `np.add.accumulate`\n",
    "\n",
    "`np.cumprod` é equivalente a `np.multiply.accumulate`\n",
    "\n",
    "A tabela abaixo apresenta a lista completa de funções:\n",
    "\n",
    "| Function Name | NaN-safe Version | Description |\n",
    "|:--------------|:-----------------|:------------|\n",
    "| np.sum | np.nansum | Compute sum of elements\n",
    "| np.prod | np.nanprod | Compute product of elements\n",
    "| np.mean | np.nanmean | Compute median of elements\n",
    "| np.std | np.nanstd | Compute standard deviation\n",
    "| np.var | np.nanvar | Compute variance\n",
    "| np.min | np.nanmin | Find minimum value\n",
    "| np.max | np.nanmax | Find maximum value\n",
    "| np.argmin | np.nanargmin | Find index of minimum value\n",
    "| np.argmax | np.nanargmax | Find index of maximum value\n",
    "| np.median | np.nanmedian | Compute median of elements\n",
    "| np.percentile | np.nanpercentile | Compute rank-based statistics of elements\n",
    "| np.any | N/A | Evaluate whether any elements are true\n",
    "| np.all | N/A | Evaluate whether all elements are true\n",
    "\n",
    "As funções de agregação também funciona para arrays bi-dimensionais. Se quisermos aplicar parauma linha ou coluna específica de uma matriz bi-dimensional, é necessário controlar através do parâmetro `axis`:"
   ]
  },
  {
   "cell_type": "code",
   "execution_count": 197,
   "metadata": {},
   "outputs": [
    {
     "name": "stdout",
     "output_type": "stream",
     "text": [
      "array a1:\n",
      " [[0 1 2 3]\n",
      " [6 7 8 9]]\n",
      "\n",
      "soma de todos valores de a1:\n",
      " 36\n",
      "\n",
      "soma das linhas de a1 (axis=1):\n",
      " [ 6 30]\n",
      "\n",
      "soma das colunas de a1 (axis=1):\n",
      " [ 6  8 10 12]\n"
     ]
    }
   ],
   "source": [
    "a1 = np.array([list(range(4)), list(range(6,10))])\n",
    "# soma todos os elementos de a1\n",
    "sum_total_a1 = np.sum(a1)\n",
    "# soma todos os elementos em cada linha de a1\n",
    "sum_linha_a1 = np.sum(a1,  axis=1)\n",
    "# soma todos os elementos em cada coluna de a1\n",
    "sum_coluna_a1 = np.sum(a1, axis=0)\n",
    "print('array a1:\\n', a1)\n",
    "print('\\nsoma de todos valores de a1:\\n', sum_total_a1)\n",
    "print('\\nsoma das linhas de a1 (axis=1):\\n', sum_linha_a1)\n",
    "print('\\nsoma das colunas de a1 (axis=1):\\n', sum_coluna_a1)"
   ]
  },
  {
   "cell_type": "markdown",
   "metadata": {},
   "source": [
    "### Broadcasting\n",
    "\n",
    "Utiliza-se *broadcasting* para realizar operações vetorizadas em arrays de tamanhos diferentes. Para esses casos, NumPy \"estica\" a dimensão de menor tamanho de cada array para que ambos possuam o mesmo tamanho. Os arrays podem então ser operados, após esse alinhamento de tamanhos.\n",
    "\n",
    "#### Regra 1\n",
    "Se os dois arrays diferem no número de dimensões, o array com menor dimensão é \"esticado\" para obter o formato do array de maior tamanho. Isso é feito, preenchendo a dimensão faltante com tamanho 1 no lado esquerdo da tupla.\n",
    "\n",
    "##### Exemplo 1\n",
    "\n"
   ]
  },
  {
   "cell_type": "code",
   "execution_count": 5,
   "metadata": {},
   "outputs": [
    {
     "name": "stdout",
     "output_type": "stream",
     "text": [
      "Dimensões diferentes:\n",
      "\n",
      "array a1 dim: 2\n",
      "array a1 shape: (2, 3)\n",
      "array a1: [[1 2 3]\n",
      " [1 2 3]]\n",
      "\n",
      "array a2 dim: 1\n",
      "array a2 shape: (3,)\n",
      "array a2: [4 4 4]\n"
     ]
    }
   ],
   "source": [
    "a1 = np.array([[1, 2, 3],[1,2,3]])\n",
    "a2 = np.array([4, 4, 4])\n",
    "soma = a1 + a2\n",
    "print('Dimensões diferentes:\\n')\n",
    "print('array a1 dim:', a1.ndim)\n",
    "print('array a1 shape:', a1.shape)\n",
    "print('array a1:', a1)\n",
    "print('\\narray a2 dim:', a2.ndim)\n",
    "print('array a2 shape:', a2.shape)\n",
    "print('array a2:', a2)"
   ]
  },
  {
   "cell_type": "markdown",
   "metadata": {},
   "source": [
    "Aplicação da Regra 1:\n",
    "\n",
    "<img  src=\"./imagens/09-broadcasting.png\" width=\"500\" />"
   ]
  },
  {
   "cell_type": "markdown",
   "metadata": {},
   "source": [
    "De acordo com a *Regra 1*, como *a1* tem dimensão 2 e *a2* tem dimensão 1, devemos incluir uma dimensão a mais em *a2*, acrescentando uma dimensão de tamanho 1 do lado esquerdo da tupla. Portanto, *a2* passará a ter dimensão 2 com shape (1,3).\n",
    "\n",
    "#### Regra 2\n",
    "Se os dois arrays possuem o mesmo número de dimensões, mas as formas não batem em alguma dimensão, deve-se \"esticar\" o array que tenha tamanho igual a 1 na dimensão que é incompatível para se alinhar com a maior dimensão. \n",
    "\n",
    "**Obs:** é possível que nenhum dos dois arrays tenha tamanho 1 na dimensão incompatível. Veremos esse caso na *Regra 3*.\n",
    "\n",
    "Com base na *Regra 2*, a primeira dimensão de *a2* (linha) será esticada para se alinhar com a primeira dimensão de *a1*, que tem tamanho 3. Portanto, a nova dimensão de *a2* será (2, 3).\n",
    "\n",
    "Aplicação da Regra 2:\n",
    "\n",
    "<img  src=\"./imagens/09-broadcasting1.png\" width=\"500\" />\n",
    "\n",
    "Agora, com os dois arrays possuindo o mesmo tamanho e formato, podemos realizar a operação de soma."
   ]
  },
  {
   "cell_type": "code",
   "execution_count": 61,
   "metadata": {},
   "outputs": [
    {
     "name": "stdout",
     "output_type": "stream",
     "text": [
      "a1 + a2:\n",
      " [[5 6 7]\n",
      " [5 6 7]]\n"
     ]
    }
   ],
   "source": [
    "print('a1 + a2:\\n', a1 + a2)"
   ]
  },
  {
   "cell_type": "markdown",
   "metadata": {},
   "source": [
    "##### Exemplo 2"
   ]
  },
  {
   "cell_type": "code",
   "execution_count": 8,
   "metadata": {},
   "outputs": [
    {
     "name": "stdout",
     "output_type": "stream",
     "text": [
      "Dimensões iguais:\n",
      "\n",
      "array a1 dim: 2\n",
      "array a1 shape: (3, 1)\n",
      "array a1:\n",
      " [[1]\n",
      " [1]\n",
      " [1]]\n",
      "\n",
      "array a2 dim: 1\n",
      "array a2 shape: (3,)\n",
      "array a2: [4 4 4]\n"
     ]
    }
   ],
   "source": [
    "a1 = np.array([[1], [1], [1]] )\n",
    "a2 = np.array([4, 4, 4])\n",
    "soma = a1 + a2\n",
    "print('Dimensões diferentes:\\n')\n",
    "print('array a1 dim:', a1.ndim)\n",
    "print('array a1 shape:', a1.shape)\n",
    "print('array a1:\\n', a1)\n",
    "print('\\narray a2 dim:', a2.ndim)\n",
    "print('array a2 shape:', a2.shape)\n",
    "print('array a2:', a2)"
   ]
  },
  {
   "cell_type": "markdown",
   "metadata": {},
   "source": [
    "Aplicação da Regra 1:\n",
    "\n",
    "<img  src=\"./imagens/09-broadcasting2.png\" width=\"500\" />\n"
   ]
  },
  {
   "cell_type": "markdown",
   "metadata": {},
   "source": [
    "Aplicação da Regra 2:\n",
    "\n",
    "<img  src=\"./imagens/09-broadcasting3.png\" width=\"500\" />"
   ]
  },
  {
   "cell_type": "code",
   "execution_count": 9,
   "metadata": {},
   "outputs": [
    {
     "name": "stdout",
     "output_type": "stream",
     "text": [
      "\n",
      "a1 + a2:\n",
      " [[5 5 5]\n",
      " [5 5 5]\n",
      " [5 5 5]]\n"
     ]
    }
   ],
   "source": [
    "print('\\na1 + a2:\\n', soma)"
   ]
  },
  {
   "cell_type": "markdown",
   "metadata": {},
   "source": [
    "#### Exemplo 3"
   ]
  },
  {
   "cell_type": "code",
   "execution_count": 3,
   "metadata": {
    "scrolled": true
   },
   "outputs": [
    {
     "name": "stdout",
     "output_type": "stream",
     "text": [
      "Dimensões diferentes:\n",
      "\n",
      "array a1 dim: 2\n",
      "array a1 shape: (3, 2)\n",
      "array a1:\n",
      " [[1 1]\n",
      " [1 1]\n",
      " [1 1]]\n",
      "\n",
      "array a2 dim: 1\n",
      "array a2 shape: (3,)\n",
      "array a2: [4 4 4]\n"
     ]
    }
   ],
   "source": [
    "a1 = np.array([[1, 1], [1, 1], [1, 1]] )\n",
    "a2 = np.array([4, 4, 4])\n",
    "print('Dimensões diferentes:\\n')\n",
    "print('array a1 dim:', a1.ndim)\n",
    "print('array a1 shape:', a1.shape)\n",
    "print('array a1:\\n', a1)\n",
    "print('\\narray a2 dim:', a2.ndim)\n",
    "print('array a2 shape:', a2.shape)\n",
    "print('array a2:', a2)"
   ]
  },
  {
   "cell_type": "markdown",
   "metadata": {},
   "source": [
    "Aplicando a Regra 1:\n",
    "\n",
    "<img  src=\"./imagens/09-broadcasting4.png\" width=\"500\" />\n",
    "\n",
    "Neste ponto, aplicaremos a Regra 2 para alinhar o tamanho da dimensão linha:\n",
    "\n",
    "\n",
    "<img  src=\"./imagens/09-broadcasting5.png\" width=\"700\" />\n",
    "\n",
    "O problema acima nos leva à *Regra 3*.\n",
    "\n",
    "#### Regra 3\n",
    "Caso nenhum dos arrays possua tamanho igual a 1 na dimensão que não é compatível, não será possível realizar o broadcasting e obtém-se um erro.\n"
   ]
  },
  {
   "cell_type": "markdown",
   "metadata": {},
   "source": [
    "### Máscaras Booleanas\n",
    "\n",
    "Quando queremos extrair, modificar, contar ou manipular valores em uma matriz com base em algum critério, podemos utilizar as *máscaras booleanas*. Exemplos de critérios seria: contar todas as notas maiores ou iguais a 7 ou a remover todos os valores abaixo de um limite.\n",
    "\n",
    "Para exemplificar, vamos avaliar as médias obtidas por 3 turmas de alunos de programação, cada turma com 50 alunos."
   ]
  },
  {
   "cell_type": "code",
   "execution_count": 60,
   "metadata": {},
   "outputs": [
    {
     "data": {
      "image/png": "[encoded data removed]",
      "text/plain": [
       "<Figure size 432x288 with 1 Axes>"
      ]
     },
     "metadata": {
      "needs_background": "light"
     },
     "output_type": "display_data"
    }
   ],
   "source": [
    "# Geração das notas\n",
    "notas = np.random.randint(0,10,(50, 3))\n",
    "\n",
    "# Vamos plotar o histograma das notas\n",
    "import matplotlib.pyplot as plt\n",
    "plt.hist(notas);"
   ]
  },
  {
   "cell_type": "markdown",
   "metadata": {},
   "source": [
    "O histrograma nos forneceu uma visão interessante, mas queremos aprofundar o estudo e obter as notas maiores ou iguais a 7,00:"
   ]
  },
  {
   "cell_type": "code",
   "execution_count": 51,
   "metadata": {
    "scrolled": true
   },
   "outputs": [
    {
     "data": {
      "text/plain": [
       "array([[ True, False, False],\n",
       "       [False, False, False],\n",
       "       [False, False,  True],\n",
       "       [False, False, False],\n",
       "       [ True, False,  True],\n",
       "       [False, False, False],\n",
       "       [ True, False,  True],\n",
       "       [False, False,  True],\n",
       "       [False, False,  True],\n",
       "       [ True, False, False],\n",
       "       [False,  True,  True],\n",
       "       [False, False, False],\n",
       "       [ True,  True, False],\n",
       "       [False, False, False],\n",
       "       [ True, False,  True],\n",
       "       [False, False, False],\n",
       "       [False, False, False],\n",
       "       [ True,  True,  True],\n",
       "       [False,  True, False],\n",
       "       [False, False, False],\n",
       "       [False, False, False],\n",
       "       [False,  True, False],\n",
       "       [False, False, False],\n",
       "       [False,  True, False],\n",
       "       [False, False,  True],\n",
       "       [False, False, False],\n",
       "       [False, False,  True],\n",
       "       [False,  True, False],\n",
       "       [ True, False, False],\n",
       "       [ True, False, False],\n",
       "       [False, False, False],\n",
       "       [False, False, False],\n",
       "       [False,  True, False],\n",
       "       [ True, False, False],\n",
       "       [False, False,  True],\n",
       "       [False,  True, False],\n",
       "       [False, False, False],\n",
       "       [ True, False, False],\n",
       "       [False, False, False],\n",
       "       [False,  True, False],\n",
       "       [False, False, False],\n",
       "       [False,  True, False],\n",
       "       [False,  True, False],\n",
       "       [False, False, False],\n",
       "       [False, False, False],\n",
       "       [False,  True, False],\n",
       "       [False,  True, False],\n",
       "       [False, False, False],\n",
       "       [ True, False, False],\n",
       "       [False, False, False]])"
      ]
     },
     "execution_count": 51,
     "metadata": {},
     "output_type": "execute_result"
    }
   ],
   "source": [
    "mascara_bool = notas >= 7\n",
    "mascara_bool"
   ]
  },
  {
   "cell_type": "markdown",
   "metadata": {},
   "source": [
    "As demais operações e Ufunc funcionam de forma similar:\n",
    "\n",
    "| Operador | ufunc equivalente |\n",
    "|:---------|:-------------------|\n",
    "| == | np.equal |  \n",
    "| != | np.not_equal |\n",
    "| < | np.less |\n",
    "| <= | np.less_equal |\n",
    "| > | np.greater |\n",
    "| >= | np.greater_equal |"
   ]
  },
  {
   "cell_type": "markdown",
   "metadata": {},
   "source": [
    "Mas ainda está difícil de analisar os dados com a tabela acima. Na realidade, o que criamos foi um *mapa de booleanos*, sobre o qual podemos realizar algumas operações interessantes. Por exemplo, vamos contar quantos estudantes obtiveram notas iguais ou maiores do que a média 7,00 em cada turma:"
   ]
  },
  {
   "cell_type": "code",
   "execution_count": 52,
   "metadata": {},
   "outputs": [
    {
     "data": {
      "text/plain": [
       "array([12, 14, 11])"
      ]
     },
     "execution_count": 52,
     "metadata": {},
     "output_type": "execute_result"
    }
   ],
   "source": [
    "np.sum(mascara_bool, axis=0)"
   ]
  },
  {
   "cell_type": "markdown",
   "metadata": {},
   "source": [
    "Podemos avançar e calcular o percentual de estudantes que passaram por média:"
   ]
  },
  {
   "cell_type": "code",
   "execution_count": 53,
   "metadata": {},
   "outputs": [
    {
     "data": {
      "text/plain": [
       "array([0.24, 0.28, 0.22])"
      ]
     },
     "execution_count": 53,
     "metadata": {},
     "output_type": "execute_result"
    }
   ],
   "source": [
    "np.sum(mascara_bool/50, axis=0)"
   ]
  },
  {
   "cell_type": "markdown",
   "metadata": {},
   "source": [
    "Vamos testar agora se algum aluno conseguiu a nota máxima no curso:"
   ]
  },
  {
   "cell_type": "code",
   "execution_count": 43,
   "metadata": {},
   "outputs": [
    {
     "data": {
      "text/plain": [
       "array([False, False, False])"
      ]
     },
     "execution_count": 43,
     "metadata": {},
     "output_type": "execute_result"
    }
   ],
   "source": [
    "np.any(notas == 10, axis=0)"
   ]
  },
  {
   "cell_type": "markdown",
   "metadata": {},
   "source": [
    "Agora, imagine que os dados foram digitados manualmente. Para verificar a consistência desses dados, precisamos saber se todas as notas encontram-se entre 0 e 10:"
   ]
  },
  {
   "cell_type": "code",
   "execution_count": 47,
   "metadata": {},
   "outputs": [
    {
     "data": {
      "text/plain": [
       "True"
      ]
     },
     "execution_count": 47,
     "metadata": {},
     "output_type": "execute_result"
    }
   ],
   "source": [
    "np.all(notas >= 0) & np.all(notas <= 10)"
   ]
  },
  {
   "cell_type": "markdown",
   "metadata": {},
   "source": [
    "Sabemos o percentual de alunos que obtiveram notas acima de 7,0. Para saber quais foram essas notas, podemos aplicar realizar a seguinte consulta?"
   ]
  },
  {
   "cell_type": "code",
   "execution_count": 54,
   "metadata": {},
   "outputs": [
    {
     "data": {
      "text/plain": [
       "array([7, 7, 9, 9, 7, 8, 7, 8, 8, 8, 7, 7, 9, 7, 7, 9, 8, 9, 7, 8, 7, 8,\n",
       "       7, 7, 8, 9, 8, 9, 7, 9, 9, 9, 7, 8, 8, 7, 9])"
      ]
     },
     "execution_count": 54,
     "metadata": {},
     "output_type": "execute_result"
    }
   ],
   "source": [
    "notas[mascara_bool]"
   ]
  },
  {
   "cell_type": "markdown",
   "metadata": {},
   "source": [
    "Aplicando a função `mean` obteremos as médias das notas acima de 7,0 das 3 turmas:"
   ]
  },
  {
   "cell_type": "code",
   "execution_count": 55,
   "metadata": {},
   "outputs": [
    {
     "data": {
      "text/plain": [
       "7.891891891891892"
      ]
     },
     "execution_count": 55,
     "metadata": {},
     "output_type": "execute_result"
    }
   ],
   "source": [
    "np.mean(notas[mascara_bool])"
   ]
  },
  {
   "cell_type": "markdown",
   "metadata": {},
   "source": [
    "Vamos agora utilizar o algoritmo QuickSort para ordenar as notas de cada turma. Existem duas formas de fazer isso:\n",
    "   1. sem modificar o array original, por meio da função `sort(array)`;\n",
    "   2. modificando o array original, utilizando o método `array.sort()`.\n",
    "Além disso, para controlar se queremos ordenar as linhas ou colunas, utilizamos o argumento `axis`.   "
   ]
  },
  {
   "cell_type": "code",
   "execution_count": 70,
   "metadata": {},
   "outputs": [
    {
     "name": "stdout",
     "output_type": "stream",
     "text": [
      "Notas Ordenadas:\n",
      " [[0 0 0]\n",
      " [0 0 0]\n",
      " [0 0 0]\n",
      " [0 1 0]\n",
      " [0 1 0]\n",
      " [1 1 0]\n",
      " [1 1 1]\n",
      " [1 2 1]\n",
      " [1 2 1]\n",
      " [1 3 1]\n",
      " [1 3 1]\n",
      " [1 3 1]\n",
      " [1 3 1]\n",
      " [1 3 1]\n",
      " [2 4 1]\n",
      " [2 4 2]\n",
      " [3 4 2]\n",
      " [3 4 2]\n",
      " [3 4 2]\n",
      " [3 4 2]\n",
      " [3 4 3]\n",
      " [4 5 3]\n",
      " [4 5 3]\n",
      " [4 5 3]\n",
      " [5 5 3]\n",
      " [5 5 3]\n",
      " [5 5 4]\n",
      " [5 5 4]\n",
      " [5 5 4]\n",
      " [5 5 4]\n",
      " [5 6 5]\n",
      " [6 6 5]\n",
      " [6 6 5]\n",
      " [6 6 5]\n",
      " [6 6 5]\n",
      " [6 6 5]\n",
      " [6 7 6]\n",
      " [7 7 6]\n",
      " [7 7 7]\n",
      " [7 7 7]\n",
      " [7 8 7]\n",
      " [7 8 7]\n",
      " [8 8 8]\n",
      " [8 8 8]\n",
      " [8 8 8]\n",
      " [8 9 8]\n",
      " [9 9 9]\n",
      " [9 9 9]\n",
      " [9 9 9]\n",
      " [9 9 9]]\n",
      "\n",
      "Notas Originais:\n",
      " [[6 7 9]\n",
      " [4 5 0]\n",
      " [6 6 1]\n",
      " [3 5 0]\n",
      " [5 2 7]\n",
      " [5 9 3]\n",
      " [0 9 8]\n",
      " [7 6 9]\n",
      " [5 1 2]\n",
      " [5 0 4]\n",
      " [1 4 1]\n",
      " [9 6 1]\n",
      " [6 9 3]\n",
      " [8 8 5]\n",
      " [8 7 2]\n",
      " [1 0 7]\n",
      " [1 9 0]\n",
      " [6 4 3]\n",
      " [3 5 7]\n",
      " [1 0 4]\n",
      " [0 3 1]\n",
      " [9 3 8]\n",
      " [7 5 5]\n",
      " [7 5 0]\n",
      " [2 7 0]\n",
      " [6 5 1]\n",
      " [3 6 4]\n",
      " [1 5 3]\n",
      " [4 4 5]\n",
      " [1 6 2]\n",
      " [0 3 1]\n",
      " [2 7 4]\n",
      " [1 8 5]\n",
      " [0 1 1]\n",
      " [7 9 2]\n",
      " [5 4 1]\n",
      " [1 4 7]\n",
      " [0 8 6]\n",
      " [8 3 2]\n",
      " [8 1 0]\n",
      " [1 4 8]\n",
      " [4 3 3]\n",
      " [7 5 6]\n",
      " [9 5 5]\n",
      " [3 8 1]\n",
      " [9 1 3]\n",
      " [6 8 9]\n",
      " [5 4 9]\n",
      " [3 2 8]\n",
      " [5 6 5]]\n"
     ]
    }
   ],
   "source": [
    "# Não modifica o array original e ordena as colunas\n",
    "notas_ordenadas = np.sort(notas,axis=0)\n",
    "print('Notas Ordenadas:\\n',notas_ordenadas)\n",
    "print('\\nNotas Originais:\\n',notas)"
   ]
  },
  {
   "cell_type": "code",
   "execution_count": 71,
   "metadata": {},
   "outputs": [
    {
     "name": "stdout",
     "output_type": "stream",
     "text": [
      "\n",
      "Notas Originais Ordenadas:\n",
      " [[0 0 0]\n",
      " [0 0 0]\n",
      " [0 0 0]\n",
      " [0 1 0]\n",
      " [0 1 0]\n",
      " [1 1 0]\n",
      " [1 1 1]\n",
      " [1 2 1]\n",
      " [1 2 1]\n",
      " [1 3 1]\n",
      " [1 3 1]\n",
      " [1 3 1]\n",
      " [1 3 1]\n",
      " [1 3 1]\n",
      " [2 4 1]\n",
      " [2 4 2]\n",
      " [3 4 2]\n",
      " [3 4 2]\n",
      " [3 4 2]\n",
      " [3 4 2]\n",
      " [3 4 3]\n",
      " [4 5 3]\n",
      " [4 5 3]\n",
      " [4 5 3]\n",
      " [5 5 3]\n",
      " [5 5 3]\n",
      " [5 5 4]\n",
      " [5 5 4]\n",
      " [5 5 4]\n",
      " [5 5 4]\n",
      " [5 6 5]\n",
      " [6 6 5]\n",
      " [6 6 5]\n",
      " [6 6 5]\n",
      " [6 6 5]\n",
      " [6 6 5]\n",
      " [6 7 6]\n",
      " [7 7 6]\n",
      " [7 7 7]\n",
      " [7 7 7]\n",
      " [7 8 7]\n",
      " [7 8 7]\n",
      " [8 8 8]\n",
      " [8 8 8]\n",
      " [8 8 8]\n",
      " [8 9 8]\n",
      " [9 9 9]\n",
      " [9 9 9]\n",
      " [9 9 9]\n",
      " [9 9 9]]\n"
     ]
    }
   ],
   "source": [
    "# Modifica o array original e ordena as colunas\n",
    "notas.sort(axis=0)\n",
    "print('\\nNotas Originais Ordenadas:\\n',notas)"
   ]
  }
 ],
 "metadata": {
  "kernelspec": {
   "display_name": "Python 3",
   "language": "python",
   "name": "python3"
  },
  "language_info": {
   "codemirror_mode": {
    "name": "ipython",
    "version": 3
   },
   "file_extension": ".py",
   "mimetype": "text/x-python",
   "name": "python",
   "nbconvert_exporter": "python",
   "pygments_lexer": "ipython3",
   "version": "3.7.3"
  }
 },
 "nbformat": 4,
 "nbformat_minor": 2
}
