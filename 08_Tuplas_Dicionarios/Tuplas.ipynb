{
 "cells": [
  {
   "cell_type": "markdown",
   "metadata": {},
   "source": [
    "# Tuplas\n",
    "\n",
    "Tuplas são similares a listas. Ou seja, elas servem para armazenar uma coleção de objetos. Porém, diferente das listas, as tuplas são imutáveis, não permitindo modificar os valores armazenados. Uma consequência dessa propriedade é que muitas das funções disponíveis para listas não podem ser aplicadas em tuplas.\n",
    "\n",
    "O uso de tuplas é recomendado em situações em que existe uma garantia de que os dados armazenados não serão modificados.\n",
    "\n",
    "Para definir uma tupla, utiliza-se um conjunto de objetos entre parênteses (opcional, mas recomendado) e separados por vírgula. \n"
   ]
  },
  {
   "cell_type": "code",
   "execution_count": 2,
   "metadata": {
    "scrolled": true
   },
   "outputs": [
    {
     "name": "stdout",
     "output_type": "stream",
     "text": [
      "O Brasil teve 4 presidentes no século IX.\n",
      "O primeiro presidente do Brasil foi Deodoro da Fonseca.\n",
      "A relação completa de presidentes do século IX é a seguinte:\n",
      "Deodoro da Fonseca\n",
      "Floriano Peixoto\n",
      "Prudente de Morais\n",
      "Campos Sales\n"
     ]
    }
   ],
   "source": [
    "presidentes_BR_sec_IX = ('Deodoro da Fonseca', 'Floriano Peixoto','Prudente de Morais','Campos Sales') \n",
    "print(f'O Brasil teve {len(presidentes_BR_sec_IX)} presidentes no século IX.')\n",
    "print(f'O primeiro presidente do Brasil foi {presidentes_BR_sec_IX[0]}.')\n",
    "print(f'A relação completa de presidentes do século IX é a seguinte:')\n",
    "for presidente in presidentes_BR_sec_IX:\n",
    "    print(presidente)"
   ]
  },
  {
   "cell_type": "code",
   "execution_count": 3,
   "metadata": {},
   "outputs": [
    {
     "ename": "AttributeError",
     "evalue": "'tuple' object has no attribute 'remove'",
     "output_type": "error",
     "traceback": [
      "\u001b[1;31m---------------------------------------------------------------------------\u001b[0m",
      "\u001b[1;31mAttributeError\u001b[0m                            Traceback (most recent call last)",
      "\u001b[1;32m<ipython-input-3-cd92250a14ff>\u001b[0m in \u001b[0;36m<module>\u001b[1;34m\u001b[0m\n\u001b[1;32m----> 1\u001b[1;33m \u001b[0mpresidentes_BR_sec_IX\u001b[0m\u001b[1;33m.\u001b[0m\u001b[0mremove\u001b[0m\u001b[1;33m(\u001b[0m\u001b[1;34m'Campos Sales'\u001b[0m\u001b[1;33m)\u001b[0m\u001b[1;33m\u001b[0m\u001b[1;33m\u001b[0m\u001b[0m\n\u001b[0m",
      "\u001b[1;31mAttributeError\u001b[0m: 'tuple' object has no attribute 'remove'"
     ]
    }
   ],
   "source": [
    "presidentes_BR_sec_IX.remove('Campos Sales')"
   ]
  },
  {
   "cell_type": "markdown",
   "metadata": {},
   "source": [
    "Uma **tupla vazia** pode ser escrita com um par de parênteses  `tupla_vazia = ()`.\n",
    "\n",
    "Porém, é preciso ter cuidado para criar uma tupla com um elemento apenas. Se tentarmos colocar um elemento entre parênteses apenas `tupla_um_elemento = (2)`, Python vai entender que estamos criando uma expressão. O resultado será o inteiro `2`."
   ]
  },
  {
   "cell_type": "code",
   "execution_count": 4,
   "metadata": {},
   "outputs": [
    {
     "name": "stdout",
     "output_type": "stream",
     "text": [
      "2\n"
     ]
    },
    {
     "ename": "TypeError",
     "evalue": "'int' object is not subscriptable",
     "output_type": "error",
     "traceback": [
      "\u001b[1;31m---------------------------------------------------------------------------\u001b[0m",
      "\u001b[1;31mTypeError\u001b[0m                                 Traceback (most recent call last)",
      "\u001b[1;32m<ipython-input-4-1b4e56e8d505>\u001b[0m in \u001b[0;36m<module>\u001b[1;34m\u001b[0m\n\u001b[0;32m      1\u001b[0m \u001b[0mtupla_um_elemento\u001b[0m \u001b[1;33m=\u001b[0m \u001b[1;33m(\u001b[0m\u001b[1;36m2\u001b[0m\u001b[1;33m)\u001b[0m\u001b[1;33m\u001b[0m\u001b[1;33m\u001b[0m\u001b[0m\n\u001b[0;32m      2\u001b[0m \u001b[0mprint\u001b[0m\u001b[1;33m(\u001b[0m\u001b[0mtupla_um_elemento\u001b[0m\u001b[1;33m)\u001b[0m\u001b[1;33m\u001b[0m\u001b[1;33m\u001b[0m\u001b[0m\n\u001b[1;32m----> 3\u001b[1;33m \u001b[0mprint\u001b[0m\u001b[1;33m(\u001b[0m\u001b[0mtupla_um_elemento\u001b[0m\u001b[1;33m[\u001b[0m\u001b[1;36m0\u001b[0m\u001b[1;33m]\u001b[0m\u001b[1;33m)\u001b[0m\u001b[1;33m\u001b[0m\u001b[1;33m\u001b[0m\u001b[0m\n\u001b[0m",
      "\u001b[1;31mTypeError\u001b[0m: 'int' object is not subscriptable"
     ]
    }
   ],
   "source": [
    " tupla_um_elemento = (2)\n",
    "print(tupla_um_elemento) \n",
    "print(tupla_um_elemento[0])"
   ]
  },
  {
   "cell_type": "markdown",
   "metadata": {},
   "source": [
    "Para evitar isso, temos que colocar uma vírgula após o **único** elemento da tupla `tupla_um_elemento = (2,)`."
   ]
  },
  {
   "cell_type": "code",
   "execution_count": 5,
   "metadata": {},
   "outputs": [
    {
     "name": "stdout",
     "output_type": "stream",
     "text": [
      "(2,)\n",
      "2\n",
      "1\n"
     ]
    }
   ],
   "source": [
    "tupla_um_elemento = (2,)\n",
    "print(tupla_um_elemento) \n",
    "print(tupla_um_elemento[0]) \n",
    "print(len(tupla_um_elemento))"
   ]
  }
 ],
 "metadata": {
  "kernelspec": {
   "display_name": "Python 3",
   "language": "python",
   "name": "python3"
  },
  "language_info": {
   "codemirror_mode": {
    "name": "ipython",
    "version": 3
   },
   "file_extension": ".py",
   "mimetype": "text/x-python",
   "name": "python",
   "nbconvert_exporter": "python",
   "pygments_lexer": "ipython3",
   "version": "3.8.3"
  }
 },
 "nbformat": 4,
 "nbformat_minor": 2
}
