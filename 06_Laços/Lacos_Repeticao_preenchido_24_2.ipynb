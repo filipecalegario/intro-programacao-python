{
  "cells": [
    {
      "cell_type": "markdown",
      "metadata": {
        "id": "view-in-github",
        "colab_type": "text"
      },
      "source": [
        "<a href=\"https://colab.research.google.com/github/filipecalegario/intro-programacao-python/blob/main/06_La%C3%A7os/Lacos_Repeticao_preenchido_24_2.ipynb\" target=\"_parent\"><img src=\"https://colab.research.google.com/assets/colab-badge.svg\" alt=\"Open In Colab\"/></a>"
      ]
    },
    {
      "cell_type": "markdown",
      "metadata": {
        "id": "Q2uBQJhoZxPU"
      },
      "source": [
        "# Laços de Repetição (Loops)\n",
        "\n",
        "## O comando `while`\n",
        "\n",
        "A execução das instruções no bloco de comandos é repetida enquanto uma condição (EXP_BOOL) for verdadeira.\n",
        "\n",
        "<img  src=\"https://github.com/filipecalegario/intro-programacao-python/blob/main/06_La%C3%A7os/imgs/while.png?raw=1\" width=\"600\" />\n",
        "\n",
        "Vamos ver um exemplo."
      ]
    },
    {
      "cell_type": "code",
      "execution_count": 16,
      "metadata": {
        "colab": {
          "base_uri": "https://localhost:8080/"
        },
        "id": "HAbIgfMmZxPW",
        "outputId": "04b26425-bd36-484d-b704-2d1c14d73ceb"
      },
      "outputs": [
        {
          "output_type": "stream",
          "name": "stdout",
          "text": [
            "Escreva sim ou não: sim\n",
            "Você escreveu sim\n",
            "Escreva sim ou não ainda: não\n",
            "Você escreveu não\n",
            "Escreva sim ou não ainda: sim\n",
            "Você escreveu sim\n",
            "Escreva sim ou não ainda: hein\n",
            "Você inseriu algo diferente!\n"
          ]
        }
      ],
      "source": [
        "entrada = input('Escreva sim ou não: ').lower().strip()\n",
        "\n",
        "while entrada == 'sim' or entrada == 'não':\n",
        "  if entrada == 'sim':\n",
        "    print('Você escreveu sim')\n",
        "  elif entrada == 'não':\n",
        "    print('Você escreveu não')\n",
        "  entrada = input('Escreva sim ou não ainda: ')\n",
        "print('Você inseriu algo diferente!')"
      ]
    },
    {
      "cell_type": "code",
      "source": [
        "entrada = int(input('Adicione um número: '))\n",
        "\n",
        "while entrada > 0:\n",
        "  entrada = entrada - 1\n",
        "  print(entrada)\n",
        "\n",
        "print('Acabou a contagem regressiva!')"
      ],
      "metadata": {
        "colab": {
          "base_uri": "https://localhost:8080/"
        },
        "id": "ZKgm2vTjeI3D",
        "outputId": "e851b001-824d-4427-9fb0-b5872f3f4d26"
      },
      "execution_count": 18,
      "outputs": [
        {
          "output_type": "stream",
          "name": "stdout",
          "text": [
            "Adicione um número: 5\n",
            "5\n",
            "4\n",
            "3\n",
            "2\n",
            "1\n",
            "Acabou a contagem regressiva!\n"
          ]
        }
      ]
    },
    {
      "cell_type": "markdown",
      "metadata": {
        "id": "Avo7xBwpZxPX"
      },
      "source": [
        "#### Exercício - Adivinhe o número sorteado\n",
        "<img  src=\"https://github.com/filipecalegario/intro-programacao-python/blob/main/06_La%C3%A7os/imagens/sorteio.png?raw=1\" align=\"right\" width=\"100\" />\n",
        "\n",
        "Sua tarefa é criar um jogo que vai sortear um número entre 0 e 100 e perguntar ao jogador qual foi o número sorteado.  \n",
        "\n",
        "Caso ele chute um número maior, você dá uma dica, informando que ele deve tentar um número menor e faz o inverso, caso ele digite um número menor.  \n",
        "\n",
        "O programa só termina quando o jogador acertar.\n",
        "\n",
        "utilize a função `randint` para gerar um número aleatório. Veja como ela funciona:"
      ]
    },
    {
      "cell_type": "code",
      "execution_count": 22,
      "metadata": {
        "colab": {
          "base_uri": "https://localhost:8080/"
        },
        "id": "xIIGAb-mZxPX",
        "outputId": "1ce721ff-1450-42e8-eb04-f04dde85830b"
      },
      "outputs": [
        {
          "output_type": "stream",
          "name": "stdout",
          "text": [
            "92\n"
          ]
        }
      ],
      "source": [
        "from random import randint\n",
        "\n",
        "# gera número inteiro aleatório entre 0 e 100\n",
        "num = randint(0, 100)\n",
        "print(num)"
      ]
    },
    {
      "cell_type": "markdown",
      "metadata": {
        "id": "wulEffB4ZxPX"
      },
      "source": [
        "#### Solução"
      ]
    },
    {
      "cell_type": "code",
      "execution_count": 27,
      "metadata": {
        "colab": {
          "base_uri": "https://localhost:8080/"
        },
        "id": "L-JbQAzZZxPX",
        "outputId": "6ab52cb2-1fdf-4797-d548-6366442835b2"
      },
      "outputs": [
        {
          "output_type": "stream",
          "name": "stdout",
          "text": [
            "Digite um inteiro entre 0 e 100: 5\n",
            "Tente um número maior que 5\n",
            "Digite um inteiro entre 0 e 100: 90\n",
            "Tente um número menor que 90\n",
            "Digite um inteiro entre 0 e 100: 50\n",
            "Tente um número menor que 50\n",
            "Digite um inteiro entre 0 e 100: 20\n",
            "Tente um número maior que 20\n",
            "Digite um inteiro entre 0 e 100: 25\n",
            "Tente um número maior que 25\n",
            "Digite um inteiro entre 0 e 100: 30\n",
            "Tente um número maior que 30\n",
            "Digite um inteiro entre 0 e 100: 45\n",
            "Tente um número menor que 45\n",
            "Digite um inteiro entre 0 e 100: 32\n",
            "Tente um número maior que 32\n",
            "Digite um inteiro entre 0 e 100: 34\n",
            "Tente um número maior que 34\n",
            "Digite um inteiro entre 0 e 100: 40\n",
            "Tente um número menor que 40\n",
            "Digite um inteiro entre 0 e 100: 39\n",
            "Tente um número menor que 39\n",
            "Digite um inteiro entre 0 e 100: 38\n",
            "Tente um número menor que 38\n",
            "Digite um inteiro entre 0 e 100: 35\n",
            "Tente um número maior que 35\n",
            "Digite um inteiro entre 0 e 100: 37\n",
            "Tente um número menor que 37\n",
            "Digite um inteiro entre 0 e 100: 36\n",
            "Você é um danadão ou uma danadona! Acertou!\n",
            "Fim do jogo!\n"
          ]
        }
      ],
      "source": [
        "from random import randint\n",
        "\n",
        "# gera número inteiro aleatório entre 0 e 100\n",
        "num_sorteado = randint(0, 100)\n",
        "\n",
        "acertou = False\n",
        "while not acertou:\n",
        "  chute = int(input('Digite um inteiro entre 0 e 100: '))\n",
        "  if chute == num_sorteado:\n",
        "    print('Você é um danadão ou uma danadona! Acertou!')\n",
        "    acertou = True\n",
        "  elif chute > num_sorteado:\n",
        "    print(f'Tente um número menor que {chute}')\n",
        "  elif chute < num_sorteado:\n",
        "    print(f'Tente um número maior que {chute}')\n",
        "print('Fim do jogo!')"
      ]
    },
    {
      "cell_type": "markdown",
      "metadata": {
        "id": "nHjAat0jZxPY"
      },
      "source": [
        "#### Exercício - Números Ímpares\n",
        "Faça um programa para:\n",
        "- Ler um número inteiro maior que zero e menor que 100\n",
        "- Imprimir todos os números ímpares seguintes até 100 (separados por “,” e o último finaliza com um ‘“.”)\n",
        "\n",
        "**Obs:** *O Operador `%` calcula o módulo da divisão:*"
      ]
    },
    {
      "cell_type": "code",
      "execution_count": 28,
      "metadata": {
        "colab": {
          "base_uri": "https://localhost:8080/"
        },
        "id": "amh0jcQyZxPY",
        "outputId": "8a1ac1c8-9006-4c68-e109-afd5bee734ad"
      },
      "outputs": [
        {
          "output_type": "stream",
          "name": "stdout",
          "text": [
            "0\n"
          ]
        }
      ],
      "source": [
        "print(10 % 2)"
      ]
    },
    {
      "cell_type": "code",
      "execution_count": 29,
      "metadata": {
        "colab": {
          "base_uri": "https://localhost:8080/"
        },
        "id": "lRIZdpn-ZxPY",
        "outputId": "ba2515fb-2030-46a6-b659-92a423ad4194"
      },
      "outputs": [
        {
          "output_type": "stream",
          "name": "stdout",
          "text": [
            "1\n"
          ]
        }
      ],
      "source": [
        "print(13 % 2)"
      ]
    },
    {
      "cell_type": "markdown",
      "metadata": {
        "id": "HM0TH6NiZxPY"
      },
      "source": [
        "##### Solução"
      ]
    },
    {
      "cell_type": "code",
      "execution_count": 47,
      "metadata": {
        "colab": {
          "base_uri": "https://localhost:8080/"
        },
        "id": "8Mj4CiuLZxPY",
        "outputId": "93b5eaed-8f89-4ea5-e861-4349b86a4b1b"
      },
      "outputs": [
        {
          "output_type": "stream",
          "name": "stdout",
          "text": [
            "Digite um número entre 0 e 100: 90\n",
            "91, 93, 95, 97, 99.\n"
          ]
        }
      ],
      "source": [
        "num = 0\n",
        "\n",
        "eh_entrada_invalida = True\n",
        "\n",
        "while eh_entrada_invalida:\n",
        "  try:\n",
        "    num = int(input('Digite um número entre 0 e 100: '))\n",
        "    if num >= 0 and num <= 100:\n",
        "      eh_entrada_invalida = False\n",
        "    else:\n",
        "      print('Número fora do intervalo. Tente outra vez.')\n",
        "  except ValueError:\n",
        "    print('Não é um número. Tente outra vez.')\n",
        "\n",
        "if num % 2 == 0:\n",
        "  num = num + 1\n",
        "\n",
        "while num < 99:\n",
        "  print(num, end=', ')\n",
        "  num = num + 2\n",
        "print(f'{num}.')"
      ]
    },
    {
      "cell_type": "markdown",
      "metadata": {
        "id": "c48ca6P5ZxPY"
      },
      "source": [
        "Melhore seu programa, fazendo com que ele continue pedindo o número inteiro positivo enquanto o usuário não digitar um número maior que zero.\n",
        "\n",
        "##### Solução"
      ]
    },
    {
      "cell_type": "code",
      "execution_count": null,
      "metadata": {
        "id": "D1E-n25GZxPZ"
      },
      "outputs": [],
      "source": []
    },
    {
      "cell_type": "markdown",
      "metadata": {
        "id": "YmE0qQENZxPZ"
      },
      "source": [
        "#### Exercício - Multiplicação com while\n",
        "Implemente um programa em Python para realizar uma operação de multiplicação através de múltiplas operações de soma.\n",
        "\n",
        "##### Solução"
      ]
    },
    {
      "cell_type": "code",
      "execution_count": null,
      "metadata": {
        "id": "B-wN5rocZxPZ"
      },
      "outputs": [],
      "source": []
    },
    {
      "cell_type": "markdown",
      "metadata": {
        "id": "zDq9rvlLZxPZ"
      },
      "source": [
        "### Lista de Números\n",
        "\n",
        "Uma lista de números é uma coleção de valores numéricos armazenados em uma variável. Vamos ver um exemplo."
      ]
    },
    {
      "cell_type": "code",
      "execution_count": 51,
      "metadata": {
        "colab": {
          "base_uri": "https://localhost:8080/"
        },
        "id": "GkUlbOQtZxPZ",
        "outputId": "067683c0-44f2-4e0c-f9ae-1c231395ded8"
      },
      "outputs": [
        {
          "output_type": "stream",
          "name": "stdout",
          "text": [
            "13\n"
          ]
        }
      ],
      "source": [
        "lista_num = [13, 11, 22, 32, 10]\n",
        "print(lista_num[0])"
      ]
    },
    {
      "cell_type": "markdown",
      "metadata": {
        "id": "xhQioHvOZxPZ"
      },
      "source": [
        "Por enquanto, é só o que precisamos saber para avançarmos no curso.\n",
        "Falaremos em detalhes sobre listas mais adiante!\n",
        "\n",
        "### A função `range`\n",
        "\n",
        "A função `range` foi criada para gerar uma lista de números.\n",
        "\n",
        "**range(start, stop, step)**\n",
        "- start - início da sequência (opcional; default -> 0)\n",
        "- stop - último elemento da sequência (obrigatório)\n",
        "- step - intervalo entre os elementos (opcional; default -> 1)\n",
        "\n",
        "Vamos ver alguns exemplos:"
      ]
    },
    {
      "cell_type": "code",
      "execution_count": 52,
      "metadata": {
        "colab": {
          "base_uri": "https://localhost:8080/"
        },
        "id": "ayTzO7c5ZxPZ",
        "outputId": "132a9fba-20e1-492c-c62a-f448e56e399e"
      },
      "outputs": [
        {
          "output_type": "execute_result",
          "data": {
            "text/plain": [
              "[0, 1, 2, 3, 4]"
            ]
          },
          "metadata": {},
          "execution_count": 52
        }
      ],
      "source": [
        "list(range(5))"
      ]
    },
    {
      "cell_type": "code",
      "execution_count": 53,
      "metadata": {
        "colab": {
          "base_uri": "https://localhost:8080/"
        },
        "id": "pQPEP-fFZxPa",
        "outputId": "9cc00d7b-bcd4-47dd-bd94-83b2af175782"
      },
      "outputs": [
        {
          "output_type": "execute_result",
          "data": {
            "text/plain": [
              "[1, 3]"
            ]
          },
          "metadata": {},
          "execution_count": 53
        }
      ],
      "source": [
        "list(range(1,5,2))"
      ]
    },
    {
      "cell_type": "code",
      "execution_count": 54,
      "metadata": {
        "colab": {
          "base_uri": "https://localhost:8080/"
        },
        "id": "D4Z6ASd-ZxPa",
        "outputId": "996f5fb8-e812-4a91-89d8-5395e189d3fe"
      },
      "outputs": [
        {
          "output_type": "execute_result",
          "data": {
            "text/plain": [
              "[1, 3, 5]"
            ]
          },
          "metadata": {},
          "execution_count": 54
        }
      ],
      "source": [
        "list(range(1,6,2))"
      ]
    },
    {
      "cell_type": "code",
      "execution_count": 55,
      "metadata": {
        "colab": {
          "base_uri": "https://localhost:8080/"
        },
        "id": "3-OQijIvZxPa",
        "outputId": "ddc7d1bf-392e-45b8-b068-fdb98ca5aae4"
      },
      "outputs": [
        {
          "output_type": "execute_result",
          "data": {
            "text/plain": [
              "[5, 4, 3, 2]"
            ]
          },
          "metadata": {},
          "execution_count": 55
        }
      ],
      "source": [
        "list(range(5,1,-1))"
      ]
    },
    {
      "cell_type": "code",
      "execution_count": 57,
      "metadata": {
        "colab": {
          "base_uri": "https://localhost:8080/"
        },
        "id": "-IoyO1g9ZxPa",
        "outputId": "dae3b409-3c98-468d-c856-0f0209d689e1"
      },
      "outputs": [
        {
          "output_type": "execute_result",
          "data": {
            "text/plain": [
              "[]"
            ]
          },
          "metadata": {},
          "execution_count": 57
        }
      ],
      "source": [
        "list(range(5,1))"
      ]
    },
    {
      "cell_type": "markdown",
      "metadata": {
        "id": "6kq2gHcFZxPa"
      },
      "source": [
        "### O comando `for`\n",
        "\n",
        "De maneira similar ao `while` o comando `for` repete um bloco de comandos.\n",
        "\n",
        "O comando `for` é indicado para situações em que se sabe antecipadamente o número de repetições que serão executadas.\n",
        "\n",
        "O `for` possui a seguinte estrutura:\n",
        "\n",
        "<img  src=\"https://github.com/filipecalegario/intro-programacao-python/blob/main/06_La%C3%A7os/imgs/for.png?raw=1\" width=\"400\" />\n",
        "\n",
        "O exemplo a seguir, executará o comando print(i), com i variando de 1 até 5. Em seguida, imprime Fim."
      ]
    },
    {
      "cell_type": "code",
      "execution_count": 58,
      "metadata": {
        "colab": {
          "base_uri": "https://localhost:8080/"
        },
        "id": "QjcbYIXbZxPa",
        "outputId": "c08f5a25-f53b-4fb3-da07-2341e4db3d77"
      },
      "outputs": [
        {
          "output_type": "stream",
          "name": "stdout",
          "text": [
            "1\n",
            "2\n",
            "3\n",
            "4\n",
            "Fim\n"
          ]
        }
      ],
      "source": [
        "for i in range(1,5):\n",
        "    print(i)\n",
        "print('Fim')"
      ]
    },
    {
      "cell_type": "markdown",
      "metadata": {
        "id": "gO87xqIXZxPa"
      },
      "source": [
        "#### Exercício - Ímpares com o comando `for`\n",
        "\n",
        "Faça um programa que use o comando `for` para:\n",
        "1. Ler um número inteiro maior que zero e menor que 100\n",
        "2. Imprimir todos os números ímpares seguintes até 100   \n",
        "    (separados por “,” e o último finaliza com um ‘“.”)\n"
      ]
    },
    {
      "cell_type": "code",
      "execution_count": 60,
      "metadata": {
        "colab": {
          "base_uri": "https://localhost:8080/"
        },
        "id": "kP48ntIAZxPa",
        "outputId": "bf8219c6-1ee1-4fd0-8afa-cb8f6a25c51e"
      },
      "outputs": [
        {
          "output_type": "stream",
          "name": "stdout",
          "text": [
            "Digite um número entre 0 e 100: 90\n",
            "91, 93, 95, 97, 99, 99.\n"
          ]
        }
      ],
      "source": [
        "num = 0\n",
        "\n",
        "eh_entrada_invalida = True\n",
        "\n",
        "while eh_entrada_invalida:\n",
        "  try:\n",
        "    num = int(input('Digite um número entre 0 e 100: '))\n",
        "    if num >= 0 and num <= 100:\n",
        "      eh_entrada_invalida = False\n",
        "    else:\n",
        "      print('Número fora do intervalo. Tente outra vez.')\n",
        "  except ValueError:\n",
        "    print('Não é um número. Tente outra vez.')\n",
        "\n",
        "if num % 2 == 0:\n",
        "  num = num + 1\n",
        "\n",
        "# while num < 99:\n",
        "#   print(num, end=', ')\n",
        "#   num = num + 2\n",
        "# print(f'{num}.')\n",
        "\n",
        "for i in range(num, 100, 2):\n",
        "  print(i, end = ', ')\n",
        "else:\n",
        "  print(f'{i}.')"
      ]
    },
    {
      "cell_type": "markdown",
      "metadata": {
        "id": "DqChLJs4ZxPa"
      },
      "source": [
        "### Comando `for` com dois índices\n",
        "\n",
        "E se desejarmos variar dois índices em um comando for?\n",
        "\n",
        "<img  src=\"https://github.com/filipecalegario/intro-programacao-python/blob/main/06_La%C3%A7os/imgs/for_dois_indices.png?raw=1\" width=\"200\" />\n",
        "\n",
        "A solução é usar uma lista de tuplas:"
      ]
    },
    {
      "cell_type": "code",
      "execution_count": null,
      "metadata": {
        "id": "GP9jxqelZxPa"
      },
      "outputs": [],
      "source": []
    },
    {
      "cell_type": "markdown",
      "metadata": {
        "id": "Oi1UOMksZxPa"
      },
      "source": [
        "`i` será associado ao 1º item da tupla  \n",
        "`j` será assocido ao 2º item da tupla\n",
        "\n",
        "Uma maneira mais prática utiliza a função `zip`, que recebe duas ou mais listas e cria uma lista de tuplas do tamanho da menor lista recebida."
      ]
    },
    {
      "cell_type": "code",
      "execution_count": null,
      "metadata": {
        "id": "Cr0CF_zeZxPb"
      },
      "outputs": [],
      "source": []
    },
    {
      "cell_type": "code",
      "execution_count": null,
      "metadata": {
        "id": "gU3MNwuEZxPb"
      },
      "outputs": [],
      "source": []
    },
    {
      "cell_type": "markdown",
      "metadata": {
        "id": "VsOFRV6RZxPb"
      },
      "source": [
        "Os códigos a seguir fazem a mesma coisa:"
      ]
    },
    {
      "cell_type": "code",
      "execution_count": null,
      "metadata": {
        "id": "hxbrKgy-ZxPb"
      },
      "outputs": [],
      "source": []
    },
    {
      "cell_type": "code",
      "execution_count": null,
      "metadata": {
        "id": "KWX8RBxXZxPb"
      },
      "outputs": [],
      "source": []
    },
    {
      "cell_type": "code",
      "execution_count": null,
      "metadata": {
        "id": "oQybPXGSZxPb"
      },
      "outputs": [],
      "source": []
    },
    {
      "cell_type": "markdown",
      "metadata": {
        "id": "Bb8pyaK5ZxPb"
      },
      "source": [
        "### Comando `break`\n",
        "\n",
        "Causa uma interrupção imediata do laço, continuando a execução do programa na próxima linha após o laço.\n",
        "\n",
        "O programa a seguir verifica uma senha, que pode conter qualquer símbolo, menos @"
      ]
    },
    {
      "cell_type": "code",
      "source": [
        "senha = 'senh@ errada'\n",
        "\n",
        "for i in range(0,len(senha)):\n",
        "  if senha[i] == '@':\n",
        "    print('caracter inválido')\n",
        "    break\n",
        "  else:\n",
        "    print(senha[i])\n"
      ],
      "metadata": {
        "colab": {
          "base_uri": "https://localhost:8080/"
        },
        "id": "Oqy3KDbytqzF",
        "outputId": "c0776a9a-2666-4924-956b-e9d6c338ce21"
      },
      "execution_count": 64,
      "outputs": [
        {
          "output_type": "stream",
          "name": "stdout",
          "text": [
            "s\n",
            "e\n",
            "n\n",
            "h\n",
            "caracter inválido\n"
          ]
        }
      ]
    },
    {
      "cell_type": "code",
      "source": [
        "minha_lista = []\n",
        "\n",
        "for i in range(4):\n",
        "  for j in range(4):\n",
        "    pass"
      ],
      "metadata": {
        "colab": {
          "base_uri": "https://localhost:8080/",
          "height": 211
        },
        "id": "2i6Ndup_u3_r",
        "outputId": "00297ba6-bcda-499f-a8ba-649f9fc5d1dc"
      },
      "execution_count": 76,
      "outputs": [
        {
          "output_type": "error",
          "ename": "IndexError",
          "evalue": "list assignment index out of range",
          "traceback": [
            "\u001b[0;31m---------------------------------------------------------------------------\u001b[0m",
            "\u001b[0;31mIndexError\u001b[0m                                Traceback (most recent call last)",
            "\u001b[0;32m<ipython-input-76-e7c8e89886b5>\u001b[0m in \u001b[0;36m<cell line: 0>\u001b[0;34m()\u001b[0m\n\u001b[1;32m      3\u001b[0m \u001b[0;32mfor\u001b[0m \u001b[0mi\u001b[0m \u001b[0;32min\u001b[0m \u001b[0mrange\u001b[0m\u001b[0;34m(\u001b[0m\u001b[0;36m4\u001b[0m\u001b[0;34m)\u001b[0m\u001b[0;34m:\u001b[0m\u001b[0;34m\u001b[0m\u001b[0;34m\u001b[0m\u001b[0m\n\u001b[1;32m      4\u001b[0m   \u001b[0;32mfor\u001b[0m \u001b[0mj\u001b[0m \u001b[0;32min\u001b[0m \u001b[0mrange\u001b[0m\u001b[0;34m(\u001b[0m\u001b[0;36m4\u001b[0m\u001b[0;34m)\u001b[0m\u001b[0;34m:\u001b[0m\u001b[0;34m\u001b[0m\u001b[0;34m\u001b[0m\u001b[0m\n\u001b[0;32m----> 5\u001b[0;31m     \u001b[0mminha_lista\u001b[0m\u001b[0;34m[\u001b[0m\u001b[0mi\u001b[0m\u001b[0;34m]\u001b[0m \u001b[0;34m=\u001b[0m \u001b[0;36m0\u001b[0m\u001b[0;34m\u001b[0m\u001b[0;34m\u001b[0m\u001b[0m\n\u001b[0m\u001b[1;32m      6\u001b[0m \u001b[0;34m\u001b[0m\u001b[0m\n\u001b[1;32m      7\u001b[0m \u001b[0mprint\u001b[0m\u001b[0;34m(\u001b[0m\u001b[0mminha_lista\u001b[0m\u001b[0;34m)\u001b[0m\u001b[0;34m\u001b[0m\u001b[0;34m\u001b[0m\u001b[0m\n",
            "\u001b[0;31mIndexError\u001b[0m: list assignment index out of range"
          ]
        }
      ]
    },
    {
      "cell_type": "code",
      "execution_count": 73,
      "metadata": {
        "colab": {
          "base_uri": "https://localhost:8080/"
        },
        "id": "BD1VLLkKZxPb",
        "outputId": "f96412c8-f99b-4e27-95e9-80f7de895071"
      },
      "outputs": [
        {
          "output_type": "stream",
          "name": "stdout",
          "text": [
            "Letra permitida\n",
            "Letra permitida\n",
            "Letra permitida\n",
            "Letra permitida\n",
            "Letra permitida\n",
            "Letra permitida\n",
            "Letra permitida\n",
            "Letra permitida\n",
            "Letra permitida\n",
            "Letra permitida\n",
            "Letra permitida\n",
            "Letra permitida\n",
            "Passou no teste\n"
          ]
        }
      ],
      "source": [
        "senha = 'senha errada'\n",
        "\n",
        "for i in range(0,len(senha)):\n",
        "    if senha[i] == '@':\n",
        "       print('Falhou no teste')\n",
        "       break\n",
        "    print('Letra permitida')\n",
        "else:\n",
        "    print('Passou no teste')"
      ]
    },
    {
      "cell_type": "markdown",
      "metadata": {
        "id": "A6DViDfpZxPb"
      },
      "source": [
        "Note que o `else` não foi executado, pois a execução do `for` for interrompida."
      ]
    },
    {
      "cell_type": "code",
      "execution_count": null,
      "metadata": {
        "id": "S3mt7egFZxPf"
      },
      "outputs": [],
      "source": []
    },
    {
      "cell_type": "markdown",
      "metadata": {
        "id": "Jxl3ovf5ZxPf"
      },
      "source": [
        "### O comando `continue`\n",
        "\n",
        "Quando é executado, o laço volta para o teste de condição do laço de repetição.\n",
        "\n",
        "**obs:** pode ser substituído por um comando `if` simples.\n",
        "\n",
        "Em que situação o programa não vai imprimir 10 números?"
      ]
    },
    {
      "cell_type": "code",
      "execution_count": null,
      "metadata": {
        "id": "jTIFl5hYZxPf"
      },
      "outputs": [],
      "source": []
    },
    {
      "cell_type": "markdown",
      "metadata": {
        "id": "cvSEHSANZxPf"
      },
      "source": [
        "# Exercícios"
      ]
    },
    {
      "cell_type": "markdown",
      "metadata": {
        "id": "MtoHhUKFZxPf"
      },
      "source": [
        "## Contagem de Voltas no Autódromo** 🏎️🏁  \n",
        "\n",
        "Você está treinando em um autódromo e quer registrar o **tempo de cada volta** para calcular o **tempo total e a volta mais rápida**.  \n",
        "\n",
        "#### **Tarefa:**  \n",
        "✅ Peça para o usuário informar **quantas voltas foram completadas**.  \n",
        "✅ Para cada volta, peça o **tempo (em segundos)** e armazene essa informação.  \n",
        "✅ Após coletar os tempos, exiba:  \n",
        "   - **Tempo total da sessão** (soma de todos os tempos).  \n",
        "   - **Volta mais rápida** (menor tempo registrado).\n",
        "   - **Média de tempo por volta** (tempo total dividido pelo número de voltas)  \n",
        "\n",
        "#### **Exemplo de entrada e saída esperada:**  \n",
        "```md\n",
        "Quantas voltas você completou? 4\n",
        "Tempo da volta 1 (segundos): 72\n",
        "Tempo da volta 2 (segundos): 69\n",
        "Tempo da volta 3 (segundos): 75\n",
        "Tempo da volta 4 (segundos): 68\n",
        "\n",
        "Tempo total: 284 segundos\n",
        "Volta mais rápida: 68 segundos\n",
        "Tempo médio por volta: 71\n",
        "```"
      ]
    },
    {
      "cell_type": "code",
      "source": [
        "voltas = int(input('Quantas voltas você completou? '))\n",
        "\n",
        "tempo_total = 0\n",
        "volta_mais_rapida = 999999\n",
        "\n",
        "for i in range(1, voltas + 1):\n",
        "  tempo = float(input(f'Qual o tempo da volta {i}? '))\n",
        "  tempo_total = tempo_total + tempo\n",
        "  if tempo < volta_mais_rapida:\n",
        "    volta_mais_rapida = tempo\n",
        "print(f'Tempo total: {tempo_total:.2f}')\n",
        "print(f'Volta mais rápida: {volta_mais_rapida:.2f}')\n",
        "print(f'Tempo médio das voltas: {tempo_total/voltas:.2f}')"
      ],
      "metadata": {
        "colab": {
          "base_uri": "https://localhost:8080/"
        },
        "id": "FOL7Gf0PwOrJ",
        "outputId": "349d0262-1784-40e8-f033-c5db8e7cc51c"
      },
      "execution_count": 88,
      "outputs": [
        {
          "output_type": "stream",
          "name": "stdout",
          "text": [
            "Quantas voltas você completou? 2\n",
            "Qual o tempo da volta 1? 10\n",
            "Qual o tempo da volta 2? 20\n",
            "\n",
            "Tempo total: 30.00\n",
            "Volta mais rápida: 10.00\n",
            "Tempo médio das voltas: 15.00\n"
          ]
        }
      ]
    },
    {
      "cell_type": "code",
      "source": [],
      "metadata": {
        "id": "9LBCRH_iz89w",
        "outputId": "53bbda3e-c15a-4137-e2d5-31a08d9bda6a",
        "colab": {
          "base_uri": "https://localhost:8080/",
          "height": 141
        }
      },
      "execution_count": 89,
      "outputs": [
        {
          "output_type": "error",
          "ename": "NameError",
          "evalue": "name 'sleep' is not defined",
          "traceback": [
            "\u001b[0;31m---------------------------------------------------------------------------\u001b[0m",
            "\u001b[0;31mNameError\u001b[0m                                 Traceback (most recent call last)",
            "\u001b[0;32m<ipython-input-89-3de9a66f4e3b>\u001b[0m in \u001b[0;36m<cell line: 0>\u001b[0;34m()\u001b[0m\n\u001b[0;32m----> 1\u001b[0;31m \u001b[0msleep\u001b[0m\u001b[0;34m(\u001b[0m\u001b[0;34m)\u001b[0m\u001b[0;34m\u001b[0m\u001b[0;34m\u001b[0m\u001b[0m\n\u001b[0m",
            "\u001b[0;31mNameError\u001b[0m: name 'sleep' is not defined"
          ]
        }
      ]
    },
    {
      "cell_type": "code",
      "source": [
        "import time\n",
        "from datetime import datetime\n",
        "\n",
        "for i in range(10):\n",
        "  print('===============')\n",
        "  print(f'antes : {datetime.now()}')\n",
        "  time.sleep(2)\n",
        "  print(f'depois: {datetime.now()}')"
      ],
      "metadata": {
        "id": "yl5rPcmY00em",
        "outputId": "349f2b5c-101e-4663-d748-ebd189698ba8",
        "colab": {
          "base_uri": "https://localhost:8080/"
        }
      },
      "execution_count": 99,
      "outputs": [
        {
          "output_type": "stream",
          "name": "stdout",
          "text": [
            "===============\n",
            "antes : 2025-03-12 14:52:56.538192\n",
            "depois: 2025-03-12 14:52:58.538312\n",
            "===============\n",
            "antes : 2025-03-12 14:52:58.538432\n",
            "depois: 2025-03-12 14:53:00.538552\n",
            "===============\n",
            "antes : 2025-03-12 14:53:00.538709\n",
            "depois: 2025-03-12 14:53:02.538811\n",
            "===============\n",
            "antes : 2025-03-12 14:53:02.538909\n",
            "depois: 2025-03-12 14:53:04.539013\n",
            "===============\n",
            "antes : 2025-03-12 14:53:04.539151\n",
            "depois: 2025-03-12 14:53:06.539275\n",
            "===============\n",
            "antes : 2025-03-12 14:53:06.539398\n",
            "depois: 2025-03-12 14:53:08.539497\n",
            "===============\n",
            "antes : 2025-03-12 14:53:08.539609\n",
            "depois: 2025-03-12 14:53:10.539712\n",
            "===============\n",
            "antes : 2025-03-12 14:53:10.539859\n",
            "depois: 2025-03-12 14:53:12.539961\n",
            "===============\n",
            "antes : 2025-03-12 14:53:12.540078\n",
            "depois: 2025-03-12 14:53:14.540205\n",
            "===============\n",
            "antes : 2025-03-12 14:53:14.540330\n",
            "depois: 2025-03-12 14:53:16.540442\n"
          ]
        }
      ]
    },
    {
      "cell_type": "code",
      "source": [
        "import time\n",
        "\n",
        "inicio = time.perf_counter_ns()  # Captura o tempo inicial em nanossegundos\n",
        "espera = 10_000*10  # 10 microssegundos (10.000 ns)\n",
        "\n",
        "print(f'antes : {datetime.now()}')\n",
        "\n",
        "while (time.perf_counter_ns() - inicio) < espera:\n",
        "    pass  # Loop de espera ativa\n",
        "\n",
        "print(f'depois: {datetime.now()}')\n",
        "print(\"Aguardou aproximadamente 10 µs\")"
      ],
      "metadata": {
        "id": "LpgrT1j82XPo",
        "outputId": "396419b5-6da1-441c-ce8d-2880a53b71c7",
        "colab": {
          "base_uri": "https://localhost:8080/"
        }
      },
      "execution_count": 111,
      "outputs": [
        {
          "output_type": "stream",
          "name": "stdout",
          "text": [
            "antes : 2025-03-12 14:56:05.010710\n",
            "depois: 2025-03-12 14:56:05.010841\n",
            "Aguardou aproximadamente 10 µs\n"
          ]
        }
      ]
    }
  ],
  "metadata": {
    "kernelspec": {
      "display_name": "Python 3.10.8 64-bit",
      "language": "python",
      "name": "python3"
    },
    "language_info": {
      "codemirror_mode": {
        "name": "ipython",
        "version": 3
      },
      "file_extension": ".py",
      "mimetype": "text/x-python",
      "name": "python",
      "nbconvert_exporter": "python",
      "pygments_lexer": "ipython3",
      "version": "3.10.8"
    },
    "toc": {
      "base_numbering": 1,
      "nav_menu": {},
      "number_sections": true,
      "sideBar": true,
      "skip_h1_title": false,
      "title_cell": "Table of Contents",
      "title_sidebar": "Contents",
      "toc_cell": false,
      "toc_position": {},
      "toc_section_display": true,
      "toc_window_display": false
    },
    "vscode": {
      "interpreter": {
        "hash": "949777d72b0d2535278d3dc13498b2535136f6dfe0678499012e853ee9abcab1"
      }
    },
    "colab": {
      "provenance": [],
      "include_colab_link": true
    }
  },
  "nbformat": 4,
  "nbformat_minor": 0
}