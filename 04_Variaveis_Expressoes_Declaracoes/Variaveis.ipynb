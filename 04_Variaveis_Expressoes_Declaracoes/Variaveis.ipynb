{
 "cells": [
  {
   "cell_type": "markdown",
   "metadata": {},
   "source": [
    "# Tipos primitivos de Python, Entrada de Dados, Formatação da Saída\n",
    "\n",
    "Um **tipo** é um conjunto de valores equipados com um conjunto de operações. Por exemplo, o tipo inteiro possui valores inteiros e podemos realizar operações de soma, subtração, multiplicação e divisão.\n",
    "\n",
    "**Tipos Primitivos** são os tipos que a linguagem já disponibiliza para uso e que não precisam ser definidos. Existem ainda os tipos definidos pelo usuário, porém não iremos abordar neste módulo.\n",
    "\n",
    "## Tipos Dinâmicos vs Tipos Estáticos\n",
    "\n",
    "Uma das pricipais características dos defensores de Python é sua facilidade de uso. Dentre as propriedades da linguagem que contribuem para isso é a chamada `tipagem dinâmica`. Ou seja, programadores Python não precisam declarar previamente o tipo da variável. Esse tipo é inferido quando um valor é atribuído à variável. Além disso, a depender dos valores atribuídos a ela, uma mesma variável pode assumir diferentes tipos em um mesmo programa. \n",
    "\n",
    "Por outro lado, linguagens com `tipos estáticos`, como Java e C, requerem a declaração prévia do tipo. A variável manterá o mesmo tipo até o fim do programa. Vamos comparar as duas abordagens:\n",
    "\n",
    "```c\n",
    "/* código C */\n",
    "int cont;\n",
    "cont = 0;\n",
    "for(int i = 0; i < 100; i++){\n",
    "    cont += i;\n",
    "}\n",
    "```\n",
    "\n",
    "```python\n",
    "# código Python\n",
    "cont = 0\n",
    "for i in range(100):\n",
    "cont += i\n",
    "```\n",
    "\n",
    "Note que, enquanto C declara a variável ```cont``` (int cont;), Python atribui 0 à ```cont``` sem declarar o tipo.\n",
    "\n",
    "No exemplo abaixo, são feitas duas atribuições a uma variáve ```val```. Na primeira, ```val``` recebe um valor numérico e assume um tipo numérico. Na segunda, ```val``` recebe um valor textual e assume um tipo textual.\n",
    "```python\n",
    "# código Python\n",
    "val = 3\n",
    "val = 'três'\n",
    "```\n",
    "Se tentarmos fazer o mesmo em C, o compilador enviaria uma mensagem de erro, pois o tipo de ```val``` deve permanecer o mesmo em todo o programa.\n",
    "```c\n",
    "/* código C */\n",
    "int val;\n",
    "val = 3;\n",
    "val = \"três\"; // Erro: o tipo de val foi declarado como int e não pode receber um string\n",
    "```\n",
    "#### There is no free lunch\n",
    "\n",
    "Mas, se é a tipagem dinâmica é tão boa, pois simplifica a escrita do código, por que todas as linguagens não seguem o mesmo caminho? A resposta é: por que elas querem ter mais garantias de que o código esteja correto. \n",
    "\n",
    "De fato, nas linguagens com tipo estático, não há risco de que o programador atribua acidentalmente um valor de um tipo diferente daquele esperado pela variável. Assim, há uma maior consistência ao longo de todo programa sobre o uso daquela variável. \n",
    "\n",
    "Além disso, ao ter que definir um tipo para uma variável ou função, o programador é forçado a pensar com mais cuidado sobre as propriedades e formas de uso dessa variável ou função. Esse exercício, tem o benefício de produzir códigos mais corretos e de melhor qualidade.\n",
    "\n",
    "Em resumo, existem vantagens e desvantagens da tipagem estática e tipagem dinâmica. É preciso sempre colocar tais questões em perspectiva no momento da escolha de uma linguagem de programação.\n",
    "\n",
    "### Tipos Numéricos\n",
    "\n",
    "Existem dois tipos numéricos:\n",
    "* integers: \n",
    "    … -1, -2, 0, 1, 2 ...\n",
    "* floats: \n",
    "    - 2.24\n",
    "    - 32.2E-5 (a notação E indica potência de 10: 32.2 * 10^5\n",
    "\n",
    "Em Python, não existem diferentes tamanhos para tipos numéricos, como ocorre em outras linguagens, como C e Java.\n",
    "\n"
   ]
  },
  {
   "cell_type": "code",
   "execution_count": null,
   "metadata": {},
   "outputs": [],
   "source": [
    "variavel_1 = 14\n",
    "variavel_2 = 14.5\n",
    "variavel_3 = 67.2E-5\n",
    "print(type(variavel_1))\n",
    "print(type(variavel_2))\n",
    "print(type(variavel_3))"
   ]
  },
  {
   "cell_type": "code",
   "execution_count": null,
   "metadata": {},
   "outputs": [],
   "source": [
    "print('linhas de cima\\nlinha de baixo')"
   ]
  },
  {
   "cell_type": "code",
   "execution_count": null,
   "metadata": {},
   "outputs": [],
   "source": [
    "print('o tab\\t :')"
   ]
  },
  {
   "cell_type": "code",
   "execution_count": null,
   "metadata": {},
   "outputs": [],
   "source": [
    "print('I\\'m going to study Python:')"
   ]
  },
  {
   "cell_type": "markdown",
   "metadata": {},
   "source": [
    "Alguns exemplos do uso de strings são:\n",
    "- nome e sobrenome\n",
    "- nome de usuário\n",
    "- passwords\n",
    "- endereço postal\n",
    "- endereço de email\n",
    "- mensagens para o usuário\n",
    "\n",
    "Vamos agora aplicar algumas funções para manipulação com Strings.\n",
    "\n",
    "Quando usado em strings, o operador **+** realiza a concatenação dos strings.\n",
    "\n",
    "O operador foi usado no programa abaixo, que deveria imprimir a mensagen:\n",
    "\n",
    "*Bom dia, Augusto!*  \n",
    "*Augusto, o que você deseja hoje?*\n",
    "\n",
    "Teste o programa. Se algo der errado, corrija para que imprima a mensagem desejada."
   ]
  },
  {
   "cell_type": "code",
   "execution_count": null,
   "metadata": {},
   "outputs": [],
   "source": [
    "nome = 'Augusto,'\n",
    "boas_vindas = 'Bom dia!'\n",
    "pergunta = 'O que você deseja hoje?'\n",
    "msg_completa = nome + boas_vindas + pergunta\n",
    "print(msg_completa)"
   ]
  },
  {
   "cell_type": "code",
   "execution_count": null,
   "metadata": {},
   "outputs": [],
   "source": [
    "msg = 'Bom dia!'\n",
    "print(msg.title())"
   ]
  },
  {
   "cell_type": "code",
   "execution_count": null,
   "metadata": {},
   "outputs": [],
   "source": [
    "print(msg.upper())"
   ]
  },
  {
   "cell_type": "code",
   "execution_count": null,
   "metadata": {},
   "outputs": [],
   "source": [
    "print(msg.lower())"
   ]
  },
  {
   "cell_type": "code",
   "execution_count": null,
   "metadata": {},
   "outputs": [],
   "source": [
    "msg_palavras = msg.split()\n",
    "print(msg_palavras)"
   ]
  },
  {
   "cell_type": "code",
   "execution_count": null,
   "metadata": {},
   "outputs": [],
   "source": [
    "junta_palavras = ' '.join(msg_palavras)\n",
    "print(junta_palavras)"
   ]
  },
  {
   "cell_type": "code",
   "execution_count": null,
   "metadata": {},
   "outputs": [],
   "source": [
    "junta_palavras = '-'.join(msg_palavras)\n",
    "print(junta_palavras)"
   ]
  },
  {
   "cell_type": "markdown",
   "metadata": {},
   "source": [
    "Existe uma grande variedade de funções disponíveis para manipular strings. Para consultá-las, utilize a opção de autocomplete, que pode ser ativada no Jupyter através do comando a seguir: "
   ]
  },
  {
   "cell_type": "code",
   "execution_count": null,
   "metadata": {},
   "outputs": [],
   "source": [
    "%config IPCompleter.greedy=True"
   ]
  },
  {
   "cell_type": "markdown",
   "metadata": {},
   "source": [
    "Agora, basta digitar o nome da variável que armazena a string seguida de ponto e clicar na tecla tab."
   ]
  },
  {
   "cell_type": "markdown",
   "metadata": {},
   "source": [
    "### Usando _f-string_ para formatar a saída\n",
    "\n",
    "Vamos agora estudar maneira mais sofisticadas para formatar a saída do programa através da _f-string_.\n",
    "\n",
    "Até agora, temos utilizado a seguinte estrutura:"
   ]
  },
  {
   "cell_type": "code",
   "execution_count": null,
   "metadata": {},
   "outputs": [],
   "source": [
    "nome = 'Augusto'\n",
    "idade = 18\n",
    "print('Parabéns, ' + nome + '! Hoje você completa ' + str(idade) + ' anos!')"
   ]
  },
  {
   "cell_type": "markdown",
   "metadata": {},
   "source": [
    "Não é uma forma tão interessante de formatar a saída, pois o programador precisa:\n",
    "1. Incluir os operadores de concatenação\n",
    "2. Ter cuidado para inserir espaços corretamente\n",
    "3. Converter explicitamente os tipos numéricos para strings\n",
    "\n",
    "Usando a _f-string_, o programador evita essas dificuldades.\n",
    "\n",
    "O código a seguir produzirá o mesmo efeito:"
   ]
  },
  {
   "cell_type": "code",
   "execution_count": null,
   "metadata": {},
   "outputs": [],
   "source": [
    "nome = 'Augusto'\n",
    "idade = 18\n",
    "print(f'Parabéns, {nome}! Hoje você completa {idade} anos!')"
   ]
  },
  {
   "cell_type": "markdown",
   "metadata": {},
   "source": [
    "Note que _f-string_ já converte o valor numérico armazenado em `idade` em uma string.\n",
    "\n",
    "Você também pode usar expressões e comandos dentro das chaves de uma _f-string_:"
   ]
  },
  {
   "cell_type": "code",
   "execution_count": null,
   "metadata": {},
   "outputs": [],
   "source": [
    "print(f'O resultado da expressão 50 * 3 é {50 * 3}')\n",
    "print(f'Parabéns, {nome.lower()}! Hoje você completa {idade * 12} meses de vida!')"
   ]
  },
  {
   "cell_type": "markdown",
   "metadata": {},
   "source": [
    "Se você quiser formatar um número decimal especificando o número de casas depois da vírgula, é possível fazer com a seguinte sintaxe:"
   ]
  },
  {
   "cell_type": "code",
   "execution_count": null,
   "metadata": {},
   "outputs": [],
   "source": [
    "preco_total = 100.0\n",
    "quant_parcelas = 6\n",
    "valor_parcela = preco_total / quant_parcelas\n",
    "print(f'O valor da parcela será: R$ {valor_parcela}')\n",
    "print(f'O valor da parcela será: R$ {valor_parcela:.2f}')"
   ]
  },
  {
   "cell_type": "markdown",
   "metadata": {},
   "source": [
    "----------------------"
   ]
  },
  {
   "cell_type": "markdown",
   "metadata": {},
   "source": [
    "### Uma dica legal sobre o comando `print`"
   ]
  },
  {
   "cell_type": "markdown",
   "metadata": {},
   "source": [
    "O comando `print` sempre inclui uma quebra de linhas no final. \n",
    "Para evitar isso, é possível usar o parâmetro `end`."
   ]
  },
  {
   "cell_type": "code",
   "execution_count": null,
   "metadata": {},
   "outputs": [],
   "source": [
    "print('Bom dia,')\n",
    "print('Augusto!')"
   ]
  },
  {
   "cell_type": "code",
   "execution_count": null,
   "metadata": {},
   "outputs": [],
   "source": [
    "print('Bom dia,',end=' ')\n",
    "print('Augusto!')"
   ]
  },
  {
   "cell_type": "code",
   "execution_count": null,
   "metadata": {},
   "outputs": [],
   "source": [
    "print('Bom dia,',end='-----')\n",
    "print('Augusto!')"
   ]
  },
  {
   "cell_type": "markdown",
   "metadata": {},
   "source": [
    "### Entrada de Dados\n",
    "\n",
    "A entrada de dados serve para que o usuário forneça valores para o programa.\n",
    "\n",
    "Os valores fornecidos pelo usuário podem ser armazenados em variáveis, por exemplo:"
   ]
  },
  {
   "cell_type": "code",
   "execution_count": null,
   "metadata": {},
   "outputs": [],
   "source": [
    "nome = input('Digite o seu nome: ')\n",
    "print(f'Bom dia, {nome}!')"
   ]
  },
  {
   "cell_type": "markdown",
   "metadata": {},
   "source": [
    "O comando `input` sempre lê o valor digitado como uma string."
   ]
  },
  {
   "cell_type": "code",
   "execution_count": null,
   "metadata": {},
   "outputs": [],
   "source": [
    "operando1 = input('Digite o primeiro operando: ')\n",
    "operando2 = input('Digite o segundo operando: ')\n",
    "resultado = operando1 + operando2\n",
    "print(f'O resultado é {resultado}')"
   ]
  },
  {
   "cell_type": "markdown",
   "metadata": {},
   "source": [
    "Se você testar o tipo de `operando1` e `operando2`:"
   ]
  },
  {
   "cell_type": "code",
   "execution_count": null,
   "metadata": {},
   "outputs": [],
   "source": [
    "type(operando1)"
   ]
  },
  {
   "cell_type": "code",
   "execution_count": null,
   "metadata": {},
   "outputs": [],
   "source": [
    "type(operando2)"
   ]
  },
  {
   "cell_type": "markdown",
   "metadata": {},
   "source": [
    "Para efetuar a leitura de valores int e float, temos que forçar a conversão: "
   ]
  },
  {
   "cell_type": "code",
   "execution_count": null,
   "metadata": {},
   "outputs": [],
   "source": [
    "operando1 = int(input('Digite o primeiro operando: '))\n",
    "operando2 = float(input('Digite o segundo operando:'))\n",
    "resultado = operando1 + operando2\n",
    "print(f'O resultado é {resultado}')"
   ]
  },
  {
   "cell_type": "markdown",
   "metadata": {},
   "source": [
    "### Exercício\n",
    "Escreva um programa que pede o nome e a idade (`int`) e peso (`float`) de uma pessoa e imprime uma mensagem com tais informações. O peso tem que ser impresso com duas casas decimais (utilize pontos como separador decimal).\n",
    "- *Ex: José, 25 anos, pesa 72,18 kg!*"
   ]
  },
  {
   "cell_type": "code",
   "execution_count": null,
   "metadata": {
    "tags": [
     "hide-input",
     "remove-output"
    ]
   },
   "outputs": [],
   "source": [
    "nome = input('Digite seu nome: ')\n",
    "idade = int(input('Digite sua idade: '))\n",
    "peso = float(input('Digite seu peso: '))\n",
    "print(f'{nome}, {idade} anos, pesa {peso:0.2f}kg!')"
   ]
  }
 ],
 "metadata": {
  "kernelspec": {
   "display_name": "Python 3.10.8 64-bit",
   "language": "python",
   "name": "python3"
  },
  "language_info": {
   "codemirror_mode": {
    "name": "ipython",
    "version": 3
   },
   "file_extension": ".py",
   "mimetype": "text/x-python",
   "name": "python",
   "nbconvert_exporter": "python",
   "pygments_lexer": "ipython3",
   "version": "3.10.8"
  },
  "toc": {
   "base_numbering": 1,
   "nav_menu": {},
   "number_sections": true,
   "sideBar": true,
   "skip_h1_title": false,
   "title_cell": "Table of Contents",
   "title_sidebar": "Contents",
   "toc_cell": false,
   "toc_position": {},
   "toc_section_display": true,
   "toc_window_display": false
  },
  "vscode": {
   "interpreter": {
    "hash": "949777d72b0d2535278d3dc13498b2535136f6dfe0678499012e853ee9abcab1"
   }
  }
 },
 "nbformat": 4,
 "nbformat_minor": 2
}
