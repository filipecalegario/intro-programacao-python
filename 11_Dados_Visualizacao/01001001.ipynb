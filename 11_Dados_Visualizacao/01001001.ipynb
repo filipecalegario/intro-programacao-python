{
 "cells": [
  {
   "cell_type": "code",
   "execution_count": null,
   "id": "fa9e5aa5-43af-4589-8297-3e53e1e4ec26",
   "metadata": {},
   "outputs": [],
   "source": [
    "my_series.plot()"
   ]
  },
  {
   "cell_type": "markdown",
   "id": "9e366517-99af-4bd0-a761-b459187ab176",
   "metadata": {
    "tags": []
   },
   "source": [
    "# OLD"
   ]
  },
  {
   "cell_type": "code",
   "execution_count": null,
   "id": "c988964c-deab-4b13-bbff-04bd9f436564",
   "metadata": {},
   "outputs": [],
   "source": [
    "serie_acoes = pd.Series(['Vale do Rio Doce', 'Petrobras', 'Usiminas'])\n",
    "serie_acoes"
   ]
  },
  {
   "cell_type": "markdown",
   "id": "12009f3b-0219-41de-9fa0-1786d188b7b0",
   "metadata": {},
   "source": [
    "O índices são apresentados na coluna esquerda e os dados são mostrados na coluna direita. Nesse caso específico, como não definimos quais índices serão associados a cada dado, são utilizados valores inteiros, de 0 à N, para representar os índices. Porém, poderíamos definir os índices explicitamente.\n",
    "\n",
    "No exemplo abaixo, os índices são *VALE3*, *PETR4* e *USIM5*. Eles foram explicitamente definidos."
   ]
  },
  {
   "cell_type": "code",
   "execution_count": null,
   "id": "99eeb21c-f18a-4bff-bf4c-72dea321407c",
   "metadata": {},
   "outputs": [],
   "source": [
    "serie_acoes = pd.Series(['Vale do Rio Doce', 'Petrobras', 'Usiminas'],index=['VALE3','PETR4','USIM5'])\n",
    "serie_acoes"
   ]
  },
  {
   "cell_type": "markdown",
   "id": "6f69a9d6-1eb1-48f6-bfcf-704d0e7f92a8",
   "metadata": {},
   "source": [
    "Para acessar os valores dos dados, utilizamos:"
   ]
  },
  {
   "cell_type": "code",
   "execution_count": null,
   "id": "e81495aa-e85b-4e9a-b614-952b35a50aef",
   "metadata": {},
   "outputs": [],
   "source": [
    "serie_acoes.values"
   ]
  },
  {
   "cell_type": "markdown",
   "id": "f2fdf9f5-f1d2-4a78-81a3-6172d6f44290",
   "metadata": {},
   "source": [
    "Para acessar os valores dos índices, utilizamos:"
   ]
  },
  {
   "cell_type": "code",
   "execution_count": null,
   "id": "3c5b6bf8-8950-4501-b48e-9d6ef81537f4",
   "metadata": {},
   "outputs": [],
   "source": [
    "serie_acoes.index"
   ]
  },
  {
   "cell_type": "markdown",
   "id": "d9e01bfa-19ca-4ddf-aa00-eeb3bdfa6815",
   "metadata": {},
   "source": [
    "Tanto o objeto Series quanto os seus índices possuem um atributo chamado ``name``:"
   ]
  },
  {
   "cell_type": "code",
   "execution_count": null,
   "id": "8d312f23-d84a-4976-bad6-00412cd33400",
   "metadata": {},
   "outputs": [],
   "source": [
    "serie_acoes.name = 'Ações'\n",
    "serie_acoes.index.name = 'Símbolo'\n",
    "serie_acoes"
   ]
  },
  {
   "cell_type": "markdown",
   "id": "af265a67-a4e1-466f-b4e9-4505914ea399",
   "metadata": {},
   "source": [
    "É possível forçar a mudança dos índices por meio de atribuição:"
   ]
  },
  {
   "cell_type": "code",
   "execution_count": null,
   "id": "3ef041a0-5901-4c48-b28e-f388c6d1b9f6",
   "metadata": {},
   "outputs": [],
   "source": [
    "serie_acoes.index = ['Idx1','Idx2','Idx3']\n",
    "serie_acoes"
   ]
  },
  {
   "cell_type": "markdown",
   "id": "c6a64280-741a-4e19-bb53-204c203294ce",
   "metadata": {},
   "source": [
    "#### Operações básicas com Series\n",
    "A seguir, apresentamos algumas operações básicas que podem ser realizadas utilizando Series.\n",
    "\n",
    "##### Acessando dados"
   ]
  },
  {
   "cell_type": "code",
   "execution_count": null,
   "id": "5dcb3664-e394-4843-b49e-3862bb004e9e",
   "metadata": {},
   "outputs": [],
   "source": [
    "serie_acoes['PETR4']"
   ]
  },
  {
   "cell_type": "code",
   "execution_count": null,
   "id": "98a93d9b-1997-4127-b248-f60a4fdfc092",
   "metadata": {},
   "outputs": [],
   "source": [
    "serie_acoes[['VALE3','PETR4']]"
   ]
  },
  {
   "cell_type": "code",
   "execution_count": null,
   "id": "3961a20d-0dd7-4a3f-b861-585f952767e0",
   "metadata": {},
   "outputs": [],
   "source": [
    "### Transformando dicionário em Series\n",
    "Para transformar um dicionário em uma série é bastante simples. "
   ]
  },
  {
   "cell_type": "code",
   "execution_count": null,
   "id": "dbe8aab5-87e1-489e-afd4-5af0bfc5eb74",
   "metadata": {},
   "outputs": [],
   "source": [
    "# criando o dicionário\n",
    "dict_bolsa = {'VALE3': 42, 'PETR4': 16, 'USMI5': 5}\n",
    "print(dict_bolsa)"
   ]
  },
  {
   "cell_type": "code",
   "execution_count": null,
   "id": "37d553ce-716b-4e7c-b26b-e17772d138d6",
   "metadata": {},
   "outputs": [],
   "source": [
    "# transformando o dicionário em Series\n",
    "series_bolsa = pd.Series(dict_bolsa)\n",
    "print(series_bolsa)"
   ]
  },
  {
   "cell_type": "markdown",
   "id": "a89a09ca-e84f-4ecb-af9f-ee188f4e3719",
   "metadata": {},
   "source": [
    "Se durante a conversão de dicionário para Series utilizarmos índices que não tenham correspondência, o valor do índice ficará vazio na Série (veja o caso do índice ``BBAS3``). Se, por outro lado, utilizarmos um índice mais de uma vez duante a conversão, o valor associado ao índice aparecerá diversas mais de uma vez na Série (veja o caso de ``PETR4``)."
   ]
  },
  {
   "cell_type": "code",
   "execution_count": null,
   "id": "42162bb1-1db9-40ef-a8ad-46d113382c47",
   "metadata": {},
   "outputs": [],
   "source": [
    "# criando o dicionário\n",
    "dict_bolsa = {'VALE3': 42, 'PETR4': 16, 'USMI5': 5}\n",
    "series_bolsa = pd.Series(dict_bolsa,index=['PETR4','VALE3', 'PETR4', 'BBAS3', 'USIM5'])\n",
    "print(series_bolsa)"
   ]
  },
  {
   "cell_type": "markdown",
   "id": "77f37a23-1cce-42f2-9e3c-24f176014bb9",
   "metadata": {},
   "source": [
    "O símbolo ``NaN`` indica que o valor está faltando para ``BBAS``. A função ``isnull`` (retorna True se estiver faltando e False, caso contrário) ou ``notnul`` (retorna False se estiver faltando e True, caso contrário) podem ser utilizadas para saber quais são os valores faltando na Serie ou em um Data Frame. Mais adiante discutiremos como tratar com dados ausentes."
   ]
  },
  {
   "cell_type": "code",
   "execution_count": null,
   "id": "e3cf5a7d-e516-471a-a374-0eaa51ad825b",
   "metadata": {},
   "outputs": [],
   "source": [
    "pd.isnull(series_bolsa)"
   ]
  },
  {
   "cell_type": "code",
   "execution_count": null,
   "id": "9a0ef1bb-4c17-411e-a941-c2e414b35c20",
   "metadata": {},
   "outputs": [],
   "source": [
    "pd.notnull(series_bolsa)"
   ]
  },
  {
   "cell_type": "markdown",
   "id": "9bf6dff7-ca0a-46a7-90b1-18cb725b41af",
   "metadata": {},
   "source": [
    "Vamos agora criar duas séries. Se somarmos as duas, os valores com índices iguais serão somados. Caso uma das séries contenha um valor ``NaN`` associado a um determinado índice (``USIM5``, na ``serie_bolsa1`` e ``BBAS3`` na ``serie_bolsa2``), o resultado da soma para esse índice será ``NaN``. O mesmo acontecerá se o índice não tiver um índice correspondente para ser somado na outra série (``BBAS3``, na ``serie_bolsa2`` não tem um correspondente na ``serie_bolsa1``)."
   ]
  },
  {
   "cell_type": "code",
   "execution_count": null,
   "id": "39806965-2c73-45ba-9a79-4e5765e6fc41",
   "metadata": {},
   "outputs": [],
   "source": [
    "# criação e impressão da série 1 (USIM5 não terá valor)\n",
    "dict_bolsa1 = {'VALE3': 42, 'PETR4': 16}\n",
    "series_bolsa1 = pd.Series(dict_bolsa1,index=['PETR4','VALE3', 'USIM5'])\n",
    "print('series_bolsa1')\n",
    "print(series_bolsa1)\n",
    "\n",
    "# criação e impressão da série 2 (BBAS3 não terá valor)\n",
    "dict_bolsa2 = {'VALE3': 50, 'PETR4': 20, 'USIM5': 8}\n",
    "series_bolsa2 = pd.Series(dict_bolsa2,index=['PETR4','VALE3', 'USIM5','BBAS3'])\n",
    "print('series_bolsa2')\n",
    "print(series_bolsa2)\n",
    "\n",
    "# cálculo do preço médio das ações \n",
    "# USIM5 retornará NaN, pois não tem um valor correspondente na série 1\n",
    "# BBAS3 retornará NaN, pois seu valor é NaN na série 2\n",
    "preco_medio = (series_bolsa1 + series_bolsa2)/2\n",
    "print('preco_medio')\n",
    "print(preco_medio)"
   ]
  },
  {
   "cell_type": "markdown",
   "id": "928b5daa-be61-4209-9d40-0d53e09b9eb9",
   "metadata": {},
   "source": [
    "Para saber mais sobre ``Series``, acesse a documentação do Pandas em: \n",
    "\n",
    "https://pandas.pydata.org/pandas-docs/stable/reference/series.html\n",
    "\n",
    "### DataFrame\n",
    "\n",
    "Um DataFrame é uma estrutura de dados similar a uma planilha, com linhas e colunas indexadas. Cada coluna é ordenada e pode conter armazena valores de um determinado tipo. Vamos retornar ao arquivo com as cotações da Petrobras. "
   ]
  },
  {
   "cell_type": "code",
   "execution_count": null,
   "id": "3599840b-2b3d-42f3-bb23-0166253d2713",
   "metadata": {},
   "outputs": [],
   "source": [
    "import pandas as pd\n",
    "nome_acao = 'PETR4 Dados Históricos.csv'\n",
    "petr4 = pd.read_csv(nome_acao)\n",
    "petr4.head()"
   ]
  },
  {
   "cell_type": "markdown",
   "id": "b5720996-1754-4fed-aef9-0e1184081381",
   "metadata": {},
   "source": [
    "*Obs:* todas as colunas devem ter tamanhos iguais.\n",
    "\n",
    "Pode-se pensar em um DataFrame como um Dicionário de Series."
   ]
  },
  {
   "cell_type": "code",
   "execution_count": null,
   "id": "84a99d5b-8e40-4f09-a8d0-1bf2d6db73a8",
   "metadata": {},
   "outputs": [],
   "source": [
    "petr4_data = {  'Data':['07.04.2020', '06.04.2020', '03.05.2020', '02.04.2020'],\n",
    "                'Último':[16.66, 15.77, 15.34, 15.51],\n",
    "                'Abertura':[15.77, 16.05, 16.30, 15.40],\n",
    "                'Máxima':[16.98, 16.10, 16.36, 16.55],\n",
    "                'Mínima':[15.77, 15.18, 14.93, 15.01]}\n",
    "petr4 = pd.DataFrame(petr4_data)\n",
    "petr4"
   ]
  },
  {
   "cell_type": "markdown",
   "id": "c10210c6-fa0c-4789-86d6-d16ff982623f",
   "metadata": {},
   "source": [
    "É possível selecionar um subconjunto das colunas e apresentá-las na ordem desejada:"
   ]
  },
  {
   "cell_type": "code",
   "execution_count": null,
   "id": "76e4dde4-11cc-49ba-ba65-1a998c1dc607",
   "metadata": {},
   "outputs": [],
   "source": [
    "petr4_data = {  'Data':['07.04.2020', '06.04.2020', '03.05.2020', '02.04.2020'],\n",
    "                'Último':[16.66, 15.77, 15.34, 15.51],\n",
    "                'Abertura':[15.77, 16.05, 16.30, 15.40],\n",
    "                'Máxima':[16.98, 16.10, 16.36, 16.55],\n",
    "                'Mínima':[15.77, 15.18, 14.93, 15.01]}\n",
    "petr4 = pd.DataFrame(petr4_data, columns=['Abertura','Último','Data'])\n",
    "petr4"
   ]
  },
  {
   "cell_type": "markdown",
   "id": "712876e6-10d5-4f9f-915e-ed4d0dd98db7",
   "metadata": {},
   "source": [
    "Caso seja selecionada para apresentação uma coluna inexistente, os valores para essa coluna serão todos nulos (NaN):"
   ]
  },
  {
   "cell_type": "code",
   "execution_count": null,
   "id": "eb8a5ba4-1bb3-4ee6-bf33-3ff328d92cb6",
   "metadata": {},
   "outputs": [],
   "source": [
    "petr4_data = {  'Data':['07.04.2020', '06.04.2020', '03.05.2020', '02.04.2020'],\n",
    "                'Último':[16.66, 15.77, 15.34, 15.51],\n",
    "                'Abertura':[15.77, 16.05, 16.30, 15.40],\n",
    "                'Máxima':[16.98, 16.10, 16.36, 16.55],\n",
    "                'Mínima':[15.77, 15.18, 14.93, 15.01]}\n",
    "petr4 = pd.DataFrame(petr4_data, columns=['Data','Abertura','Último','Percentual'])\n",
    "petr4"
   ]
  },
  {
   "cell_type": "markdown",
   "id": "496e3a34-1ccf-4589-9987-b4084ad3457c",
   "metadata": {},
   "source": [
    "Assim como fizemos com a Series, podemos modificar os nomes dos índices:"
   ]
  },
  {
   "cell_type": "code",
   "execution_count": null,
   "id": "40e1a785-fe13-4f65-b209-50b24e8991d7",
   "metadata": {},
   "outputs": [],
   "source": [
    "petr4_data = {  'Data':['07.04.2020', '06.04.2020', '03.05.2020', '02.04.2020'],\n",
    "                'Último':[16.66, 15.77, 15.34, 15.51],\n",
    "                'Abertura':[15.77, 16.05, 16.30, 15.40]}\n",
    "petr4 = pd.DataFrame(petr4_data, index=['Primeiro','Segundo','Terceiro','Quarto'])\n",
    "petr4"
   ]
  },
  {
   "cell_type": "markdown",
   "id": "52304ed1-8972-4478-9f7a-991a3177d09f",
   "metadata": {},
   "source": [
    "Se desejarmos atribuir um nome a aos índices ou colunas, basta utilizar o atributo ``name``"
   ]
  },
  {
   "cell_type": "code",
   "execution_count": null,
   "id": "71336e19-e865-4b5c-9940-ebaae5b4a066",
   "metadata": {},
   "outputs": [],
   "source": [
    "# atribuindo o nome às colunas\n",
    "petr4.columns.name = 'Cabeçalho'\n",
    "\n",
    "# atribuindo o nome aos índices\n",
    "petr4.index.name = 'Índices'\n",
    "\n",
    "petr4"
   ]
  },
  {
   "cell_type": "markdown",
   "id": "1ff1a6a7-86b2-4d82-8836-53d727ad50fd",
   "metadata": {},
   "source": [
    "Os valores de uma coluna podem ser acessados utilizando a notação de Series ou a notação de atributos:"
   ]
  },
  {
   "cell_type": "code",
   "execution_count": null,
   "id": "cd1687b2-e9a2-44ed-9ac1-d08e22172efe",
   "metadata": {},
   "outputs": [],
   "source": [
    "petr4_data = {  'Data':['07.04.2020', '06.04.2020', '03.05.2020', '02.04.2020'],\n",
    "                'Último':[16.66, 15.77, 15.34, 15.51],\n",
    "                'Abertura':[15.77, 16.05, 16.30, 15.40]}\n",
    "petr4 = pd.DataFrame(petr4_data, index=['Primeiro','Segundo','Terceiro','Quarto'])\n",
    "\n",
    "# acessando com notação de uma série\n",
    "petr4['Último']"
   ]
  },
  {
   "cell_type": "code",
   "execution_count": null,
   "id": "bf7830b9-5820-4861-9fef-0eb76b039328",
   "metadata": {},
   "outputs": [],
   "source": [
    "# acessando com notação de atributo\n",
    "petr4.Último"
   ]
  },
  {
   "cell_type": "markdown",
   "id": "fc06518d-edbe-4f88-90a7-2898a854c368",
   "metadata": {},
   "source": [
    "É possível acessar os dados em uma linha utilizando o método ``loc`` para índices rotulados ou ``iloc`` para índices posicionais:"
   ]
  },
  {
   "cell_type": "code",
   "execution_count": null,
   "id": "663a44fe-4c18-45f6-bc2d-4ef11ab0c81b",
   "metadata": {},
   "outputs": [],
   "source": [
    "# índice rotulado\n",
    "petr4.loc['Segundo']"
   ]
  },
  {
   "cell_type": "code",
   "execution_count": null,
   "id": "8e782f62-e2c9-4865-8b58-c8b73d3313a4",
   "metadata": {},
   "outputs": [],
   "source": [
    "# índice posicional\n",
    "petr4.iloc[1]"
   ]
  },
  {
   "cell_type": "markdown",
   "id": "425198c6-8452-4d82-bcac-16336df75505",
   "metadata": {},
   "source": [
    "Para acessar apenas os valores, podemos usar o atributo ``values``, que retorna os dados em forma de array bidimensional:"
   ]
  },
  {
   "cell_type": "code",
   "execution_count": null,
   "id": "f836a6fc-3962-42d5-954f-3fe8b858307f",
   "metadata": {},
   "outputs": [],
   "source": [
    "petr4.values"
   ]
  },
  {
   "cell_type": "markdown",
   "id": "c9a76570-7696-45de-868a-d3eb1a091dc6",
   "metadata": {},
   "source": [
    "Colunas podem ser modificadas por meio de atribuição de um valor escalar ou uma lista com tamanho igual ao do DataFrame:"
   ]
  },
  {
   "cell_type": "code",
   "execution_count": null,
   "id": "21b7ae9a-15aa-497b-b8c5-8217b7fc75f3",
   "metadata": {},
   "outputs": [],
   "source": [
    "# atribuindo valor escalar\n",
    "petr4['Último'] = 17.55\n",
    "petr4"
   ]
  },
  {
   "cell_type": "code",
   "execution_count": null,
   "id": "6f673e62-f213-4a27-8b0b-a255f2fe13d5",
   "metadata": {},
   "outputs": [],
   "source": [
    "# atribuindo array\n",
    "petr4['Último'] = [17.55, 16.67, 14.00, 15.78]\n",
    "petr4"
   ]
  },
  {
   "cell_type": "markdown",
   "id": "59bc40bd-b925-4a30-b53c-b8c5eb59ebd5",
   "metadata": {},
   "source": [
    "Utiliza-se o método `isin` para testar se um conjunto de valores pertence ao DataFrame."
   ]
  },
  {
   "cell_type": "code",
   "execution_count": null,
   "id": "b33b9a55-fb48-4251-859b-e3daa8d7ce1d",
   "metadata": {},
   "outputs": [],
   "source": [
    "petr4.isin([15.77, 14.00])"
   ]
  },
  {
   "cell_type": "markdown",
   "id": "5e687388-709f-4217-8837-1a827298f9f9",
   "metadata": {},
   "source": [
    "Também é possível atribuir uma Series a uma coluna de um DataFrame. Nesse, caso, porém, o tamanho da Series pode ser menor, havendo um casamento exato com os índices do DataFrame, deixando os demais índices sem valor (NaN):"
   ]
  },
  {
   "cell_type": "code",
   "execution_count": null,
   "id": "54639eaa-75ac-4860-9edc-fc0ec08f6984",
   "metadata": {},
   "outputs": [],
   "source": [
    "petr4['Último'] = pd.Series([15.10, 14.90], index=['Primeiro', 'Terceiro'])\n",
    "petr4"
   ]
  },
  {
   "cell_type": "markdown",
   "id": "9da664d0-fb79-45eb-8b07-5a7828e1f602",
   "metadata": {},
   "source": [
    "Realizar uma atribuição a uma coluna que não existe, cria um nova coluna:"
   ]
  },
  {
   "cell_type": "code",
   "execution_count": null,
   "id": "a454c0d7-4734-4d14-8fd5-cb6a61e36437",
   "metadata": {},
   "outputs": [],
   "source": [
    "petr4_data = { 'Data':['07.04.2020', '06.04.2020', '03.05.2020', '02.04.2020'],\n",
    "               'Último':[16.66, 15.77, 15.34, 15.51],\n",
    "               'Abertura':[15.77, 16.05, 16.30, 15.40]}\n",
    "petr4 = pd.DataFrame(petr4,index=['Primeiro','Segundo','Terceiro','Quarto'])\n",
    "\n",
    "# Criará a coluna Máxima\n",
    "petr4['Máxima'] = [18.20, 17.84, 16.71, 17.78]\n",
    "petr4"
   ]
  },
  {
   "cell_type": "markdown",
   "id": "d50f2a73-7af6-42aa-860e-b2e086cea67c",
   "metadata": {},
   "source": [
    "Assim como ocorre com um dicionário, ``del`` pode ser usado para remover uma coluna:"
   ]
  },
  {
   "cell_type": "code",
   "execution_count": null,
   "id": "192ec426-ecda-4a87-ad30-6fb3f88f6e3b",
   "metadata": {},
   "outputs": [],
   "source": [
    "del petr4['Máxima']\n",
    "petr4"
   ]
  },
  {
   "cell_type": "markdown",
   "id": "b4e6810d-c3bd-4574-88d5-a57fd475c196",
   "metadata": {},
   "source": [
    "Se passarmos um dicionário aninhado para um DataFrame, as chaves externas serão interpretadas como colunas e as chaves internas como índices das linhas."
   ]
  },
  {
   "cell_type": "code",
   "execution_count": null,
   "id": "de82ae55-5884-4612-b21e-8deb5e808c38",
   "metadata": {},
   "outputs": [],
   "source": [
    "petr4 = {   'Data':{'Primeiro':'07.04.2020', 'Segundo':'06.04.2020', 'Terceiro:':'03.05.2020'},\n",
    "            'Último':{'Primeiro':16.66, 'Segundo':15.77},\n",
    "            'Abertura':{'Primeiro':15.77, 'Segundo':16.05, 'Terceiro:':16.30}}\n",
    "petr4 = pd.DataFrame(petr4)\n",
    "petr4"
   ]
  },
  {
   "cell_type": "markdown",
   "id": "890b1fc3-9563-4922-acf8-9b71cec789bb",
   "metadata": {},
   "source": [
    "Observe que a quantidade de elementos em cada dicionário interno pode ser diferente. Por exemplo, no código acima, a coluna ``Último`` não possui valor para o índice ``Terceiro``.\n",
    "\n",
    "Para obter a matriz transposta, deve-se utilizar o atributo ``T``:"
   ]
  },
  {
   "cell_type": "code",
   "execution_count": null,
   "id": "a212cdce-c55f-435a-a809-e6b2d62530d6",
   "metadata": {},
   "outputs": [],
   "source": [
    "petr4.T"
   ]
  },
  {
   "cell_type": "markdown",
   "id": "03b7990b-bd16-4fc3-b462-527931fb973c",
   "metadata": {},
   "source": [
    "A tabela a seguir apresenta a relação completa de tipos de dados que podem ser passados para o ``construtor`` DataFrame:\n",
    "\n",
    " \n",
    " | Tipo | Descrição |\n",
    " |------|:-----------|\n",
    " | **2D array** | *Uma matriz de dados, sendo opcional passar o rótulo das linhas e colunas.*|\n",
    " | **Lista de listas ou tuplas** | *Uma matriz de dados, sendo opcional passar o rótulo das linhas e colunas.*|\n",
    " | **Dicionário de arrays,  listas ou tuplas** | *Cada sequência se torna uma coluna no DataFrame. Todas as sequências devem ter o mesmo tamanho.*|\n",
    " | **Dicionário de Serie** | *Cada ``valor`` se torna uma ``coluna`` do DataFrame. Se nenhum índice for passado, as chaves posicionais dos elementos das Series para formar o índice do das linhas.*|\n",
    " | **Dicionário de Dicionários** | *Cada ``Dicionário interno`` se torna uma ``coluna`` do DataFrame. As chaves são unidas para formar o índice do das linhas.*|\n",
    " | **Lista de Dicionário ou Series** | *Cada item se torna uma ``linha`` do DataFrame. As chaves dos Dicionários ou os índices das Series se tornam o rótulo das ``colunas`` do DataFrame.*|\n",
    "\n",
    "---\n",
    "\n",
    "\n",
    "\n",
    "Para saber mais sobre ``DataFrame``, acesse a documentação do Pandas em:\n",
    "\n",
    "https://pandas.pydata.org/pandas-docs/stable/reference/frame.html\n",
    "\n",
    "## Objeto Index\n",
    "\n",
    "Todo array ou outra sequência de rótulos usada para construir uma Serie ou DataFrame é convertido internamente em um Objeto Index."
   ]
  },
  {
   "cell_type": "code",
   "execution_count": null,
   "id": "535d8fb6-07f9-4173-bbc3-9d53abe37fca",
   "metadata": {},
   "outputs": [],
   "source": [
    "# criação da Series \n",
    "acoes = pd.Series([21.52, 52.34, 7.23],index=['PETR4','VALE3', 'USIM5'])\n",
    "# acessando o objeto Index\n",
    "acoes.index"
   ]
  },
  {
   "cell_type": "code",
   "execution_count": null,
   "id": "0cf662ad-4a4f-46bf-8a72-a6bad4e8ed85",
   "metadata": {},
   "outputs": [],
   "source": [
    "# acessando elementos do objeto Index\n",
    "acoes.index[1:]"
   ]
  },
  {
   "cell_type": "markdown",
   "id": "adbf48e8-ed93-458c-88c0-2bfc2ba53d0b",
   "metadata": {},
   "source": [
    "Os objeto Index é imutável e não pode ser modificado, pode apenas ser substituído completamente."
   ]
  },
  {
   "cell_type": "code",
   "execution_count": null,
   "id": "26455010-485c-4393-b477-e1009b0c537c",
   "metadata": {},
   "outputs": [],
   "source": [
    "# tentando modificar o objeto Index\n",
    "acoes.index[1] = 'BBAS3'"
   ]
  },
  {
   "cell_type": "code",
   "execution_count": null,
   "id": "e16bef0b-6c92-4b97-bdba-5052305567db",
   "metadata": {},
   "outputs": [],
   "source": [
    "acoes1 = pd.Series([21.52, 52.34, 7.23, 20.32],index=['PETR4','VALE3', 'USIM5', 'LAME4'])\n",
    "acoes2 = pd.Series([22.34, 51.33, 45.32],index=['PETR4','VALE3', 'BBAS3'])\n",
    "acoes1.index ^ acoes2.index"
   ]
  },
  {
   "cell_type": "markdown",
   "id": "b37ad807-d894-42df-bee4-030d9ce5eed9",
   "metadata": {},
   "source": [
    "Objetos Index possuem um conjunto de métodos, conforme resumido na tabela a seguir. Considere essas duas Series para os exemplos apresentados na tabela:\n",
    "```python\n",
    "acoes1 = pd.Series([21.52, 52.34, 7.23, 20.32],index=['PETR4','VALE3', 'USIM5', 'LAME4'])\n",
    "acoes2 = pd.Series([22.34, 51.33, 45.32],index=['PETR4','VALE3', 'BBAS3'])\n",
    "```\n",
    "\n",
    "| Método | Descrição |\n",
    "|--------|:-----------|\n",
    "| **append** | Concatena dois objetos Index, produzindo um novo objeto Index. Ex: acoes1.index.append(acoes2.index) |\n",
    "| **difference** | Computa o conjunto contendo todos os objetos do 1o objeto Index que não possuem correspondência no 2o objeto Index.  Ex: acoes1.index.difference(acoes2.index) |\n",
    "| **^** | É a diferença simétrica. Computa o conjunto contendo todos os objetos do 1o objeto Index que não possuem correspondência no 2o objeto Index e vice-versa.  Ex: acoes1.index ^ acoes2.index |\n",
    "| **intersection** | Computa o conjunto interseção entre dois objetos Index. Ex: acoes1.index.intersection(acoes2.index) |\n",
    "| **&** | Computa o conjunto interseção entre dois objetos Index. Ex: acoes1.index & acoes2.index |\n",
    "| **union** | Computa o conjunto união entre dois objetos Index. Ex: acoes1.index.union(acoes2.index) |\n",
    "| **|** | Computa o conjunto união entre dois objetos Index. Ex: acoes1.index | acoes2.index |\n",
    "| **isin** | Verifica se um conjunto de valores pertencem ao objeto Index. Ex: acoes.isin([14.66, 52.34]) |\n",
    "| **delete** | Cria uma novo objeto Index sem o elemento com índice `i`. Ex: acoes.index.delete(1)|\n",
    "| **drop** | Cria uma novo objeto Index sem os elemento passados como parâmetro. Ex:acoes1.drop(['VALE3', 'USIM5'])|\n",
    "| **insert** | Cria uma novo objeto Index com um novo elemento `val` na posição `i`. Ex: acoes.index.insert(1,'BBAS3') |\n",
    "| **ismonotonic** | Retorna True se cada elemento é maior ou igual ao elemento anterior. Ex: acoes2.is_monotonic |\n",
    "| **is_unique** | Retorna True se o índice não possue nenhum valor duplicado. Ex: acoes1.is_unique |\n",
    "| **unique** | Cria um array com todos os elementos não duplicados no índice. Ex: acoes1.unique |\n",
    "\n",
    "\n",
    "\n"
   ]
  },
  {
   "cell_type": "code",
   "execution_count": null,
   "id": "eaaf98f6-45b1-4220-8f4d-e051a6c44f6a",
   "metadata": {},
   "outputs": [],
   "source": [
    "savings = 800\n",
    "tax = 0.08\n",
    "time = 24\n",
    "profit = savings * tax * 24\n",
    "print('profit: ' + str(profit))\n",
    "print('Total: ' + str(profit+savings))"
   ]
  }
 ],
 "metadata": {
  "kernelspec": {
   "display_name": "Python 3 (ipykernel)",
   "language": "python",
   "name": "python3"
  },
  "language_info": {
   "codemirror_mode": {
    "name": "ipython",
    "version": 3
   },
   "file_extension": ".py",
   "mimetype": "text/x-python",
   "name": "python",
   "nbconvert_exporter": "python",
   "pygments_lexer": "ipython3",
   "version": "3.9.12"
  }
 },
 "nbformat": 4,
 "nbformat_minor": 5
}
