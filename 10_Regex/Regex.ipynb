{
 "cells": [
  {
   "cell_type": "markdown",
   "metadata": {},
   "source": [
    "# Expressões Regulares em Python\n",
    "\n",
    "Este notebook demonstra como utilizar expressões regulares (regex) em Python utilizando o módulo `re`.\n",
    "\n",
    "## O que são expressões regulares?\n",
    "Expressões regulares são padrões utilizados para **buscar, extrair e manipular** strings de maneira eficiente.\n"
   ]
  },
  {
   "cell_type": "code",
   "execution_count": null,
   "metadata": {},
   "outputs": [],
   "source": [
    "import re"
   ]
  },
  {
   "cell_type": "markdown",
   "metadata": {},
   "source": [
    "## Métodos Principais do Módulo `re`\n",
    "\n",
    "| Método       | Descrição |\n",
    "|-------------|-----------|\n",
    "| `re.search()` | Procura pelo padrão dentro da string e retorna a **primeira ocorrência**. |\n",
    "| `re.findall()` | Retorna **todas as ocorrências** do padrão dentro da string. |\n",
    "| `re.match()` | Verifica se a string **começa** com o padrão. |\n",
    "| `re.sub()` | Substitui partes da string que correspondem ao padrão. |\n",
    "\n",
    "Vamos explorar cada um deles com exemplos práticos! 🚀"
   ]
  },
  {
   "cell_type": "code",
   "execution_count": null,
   "metadata": {},
   "outputs": [],
   "source": [
    "# Exemplo 1: Usando `re.search()` para encontrar um e-mail em um texto\n",
    "txt = \"Meu e-mail é exemplo@email.com, entre em contato!\"\n",
    "padrao = r\"[a-zA-Z0-9._%+-]+@[a-zA-Z0-9.-]+\\\\.[a-zA-Z]{2,}\"\n",
    "\n",
    "match = re.search(padrao, txt)\n",
    "if match:\n",
    "    print(\"E-mail encontrado:\", match.group())\n",
    "else:\n",
    "    print(\"Nenhum e-mail encontrado.\")"
   ]
  },
  {
   "cell_type": "markdown",
   "metadata": {},
   "source": [
    "## Encontrando todas as ocorrências com `re.findall()`\n",
    "\n",
    "Vamos buscar **todas** as palavras que começam com letra maiúscula."
   ]
  },
  {
   "cell_type": "code",
   "execution_count": 3,
   "metadata": {},
   "outputs": [],
   "source": [
    "texto = \"Maria foi à feira com João e Pedro.\"\n",
    "padrao = r\"\\\\b[A-Z][a-z]+\\\\b\"\n",
    "\n",
    "nomes = re.findall(padrao, texto)\n",
    "print(\"Nomes encontrados:\", nomes)"
   ]
  },
  {
   "cell_type": "markdown",
   "metadata": {},
   "source": [
    "## Verificando correspondências no início da string com `re.match()`\n",
    "\n",
    "Aqui, verificamos se um texto **começa com uma data no formato DD/MM/AAAA**."
   ]
  },
  {
   "cell_type": "code",
   "execution_count": 4,
   "metadata": {},
   "outputs": [],
   "source": [
    "texto = \"12/05/2023 é a data do evento.\"\n",
    "padrao = r\"\\\\d{2}/\\\\d{2}/\\\\d{4}\"\n",
    "\n",
    "if re.match(padrao, texto):\n",
    "    print(\"O texto começa com uma data!\")\n",
    "else:\n",
    "    print(\"O texto NÃO começa com uma data!\")"
   ]
  },
  {
   "cell_type": "markdown",
   "metadata": {},
   "source": [
    "## Substituindo textos com `re.sub()`\n",
    "\n",
    "Aqui, substituímos números de telefone por `***-****` para ocultá-los."
   ]
  },
  {
   "cell_type": "code",
   "execution_count": 5,
   "metadata": {},
   "outputs": [],
   "source": [
    "texto = \"Meu número é 1234-5678, me ligue!\"\n",
    "padrao = r\"\\\\d{4}-\\\\d{4}\"\n",
    "novo_texto = re.sub(padrao, \"****-****\", texto)\n",
    "\n",
    "print(\"Texto anonimizado:\", novo_texto)"
   ]
  },
  {
   "cell_type": "markdown",
   "metadata": {},
   "source": [
    "## Caracteres Especiais e suas Funções\n",
    "\n",
    "Aqui estão alguns **caracteres especiais** comuns em expressões regulares e suas funções:\n",
    "\n",
    "| Símbolo  | Função |\n",
    "|----------|--------|\n",
    "| `.` | Representa **qualquer caractere**, exceto nova linha. |\n",
    "| `^` | Indica **início da string**. |\n",
    "| `$` | Indica **final da string**. |\n",
    "| `\\d` | Representa **qualquer dígito** (0-9). |\n",
    "| `\\D` | Representa **qualquer caractere que não seja um dígito**. |\n",
    "| `\\w` | Representa **qualquer caractere alfanumérico** (letras, números e `_`). |\n",
    "| `\\W` | Representa **qualquer caractere não alfanumérico**. |\n",
    "| `\\s` | Representa **qualquer espaço em branco** (espaço, tabulação, nova linha). |\n",
    "| `\\S` | Representa **qualquer caractere que não seja um espaço em branco**. |\n",
    "| `*` | Casa **zero ou mais** ocorrências do padrão anterior. |\n",
    "| `+` | Casa **uma ou mais** ocorrências do padrão anterior. |\n",
    "| `?` | Casa **zero ou uma** ocorrência do padrão anterior. |\n",
    "| `{n,m}` | Casa **entre `n` e `m`** ocorrências do padrão anterior. |"
   ]
  },
  {
   "cell_type": "markdown",
   "metadata": {},
   "source": [
    "# Exemplos"
   ]
  },
  {
   "cell_type": "markdown",
   "metadata": {},
   "source": [
    "## Exemplo: Encontrando palavras com pelo menos 5 letras"
   ]
  },
  {
   "cell_type": "code",
   "execution_count": null,
   "metadata": {},
   "outputs": [],
   "source": [
    "texto = \"O carro é veloz e eficiente.\"\n",
    "padrao = r\"\\b\\w{5,}\\b\"\n",
    "\n",
    "palavras = re.findall(padrao, texto)\n",
    "print(\"Palavras com 5 ou mais letras:\", palavras)"
   ]
  },
  {
   "cell_type": "markdown",
   "metadata": {},
   "source": [
    "## Exemplo: Extração de URLs"
   ]
  },
  {
   "cell_type": "code",
   "execution_count": null,
   "metadata": {},
   "outputs": [],
   "source": [
    "texto = \"Acesse nosso site em https://www.exemplo.com ou veja https://docs.python.org.\"\n",
    "padrao = r\"https?://[a-zA-Z0-9./-]+\"\n",
    "urls = re.findall(padrao, texto)\n",
    "print(\"URLs encontradas:\", urls)"
   ]
  },
  {
   "cell_type": "markdown",
   "metadata": {},
   "source": [
    "## Exemplo: Divisão de texto por múltiplos separadores"
   ]
  },
  {
   "cell_type": "code",
   "execution_count": null,
   "metadata": {},
   "outputs": [],
   "source": [
    "texto = \"banana, maçã; laranja - morango\"\n",
    "padrao = r\"[,; -]+\"\n",
    "frutas = re.split(padrao, texto)\n",
    "print(\"Lista de frutas:\", frutas)"
   ]
  },
  {
   "cell_type": "markdown",
   "metadata": {},
   "source": [
    "## Exemplo: Validação de E-mails"
   ]
  },
  {
   "cell_type": "code",
   "execution_count": null,
   "metadata": {},
   "outputs": [],
   "source": [
    "def validar_email(email):\n",
    "    padrao = r\"^[a-zA-Z0-9._%+-]+@[a-zA-Z0-9.-]+\\.[a-zA-Z]{2,}$\"\n",
    "    return bool(re.match(padrao, email))\n",
    "\n",
    "emails = [\"usuario@email.com\", \"email.invalido@\", \"outro.email@dominio.net\"]\n",
    "for email in emails:\n",
    "    print(f\"{email}: {'Válido' if validar_email(email) else 'Inválido'}\")"
   ]
  },
  {
   "cell_type": "markdown",
   "metadata": {},
   "source": [
    "## Exemplo: Extração de Telefones"
   ]
  },
  {
   "cell_type": "code",
   "execution_count": null,
   "metadata": {},
   "outputs": [],
   "source": [
    "texto = \"Me ligue no número (11) 98765-4321 ou (21) 91234-5678.\"\n",
    "padrao = r\"\\(\\d{2}\\) \\d{4,5}-\\d{4}\"\n",
    "telefones = re.findall(padrao, texto)\n",
    "print(\"Telefones encontrados:\", telefones)"
   ]
  },
  {
   "cell_type": "markdown",
   "metadata": {},
   "source": [
    "## Exemplo: Anonimização de CPF"
   ]
  },
  {
   "cell_type": "code",
   "execution_count": null,
   "metadata": {},
   "outputs": [],
   "source": [
    "\n",
    "texto = \"O CPF do cliente é 123.456.789-00.\"\n",
    "padrao = r\"\\d{3}\\.\\d{3}\\.\\d{3}-\\d{2}\"\n",
    "texto_anonimizado = re.sub(padrao, \"XXX.XXX.XXX-XX\", texto)\n",
    "print(\"Texto anonimizado:\", texto_anonimizado)"
   ]
  },
  {
   "cell_type": "markdown",
   "metadata": {},
   "source": [
    "# Conclusão 📌\n",
    "\n",
    "Expressões regulares são ferramentas poderosas para manipulação de strings! Com `re.search()`, `re.findall()`, `re.match()` e `re.sub()`, conseguimos:\n",
    "- ✅ Encontrar padrões;\n",
    "- ✅ Extrair informações;\n",
    "- ✅ Substituir textos de maneira eficiente."
   ]
  }
 ],
 "metadata": {
  "kernelspec": {
   "display_name": "Python 3",
   "language": "python",
   "name": "python3"
  },
  "language_info": {
   "codemirror_mode": {
    "name": "ipython",
    "version": 3
   },
   "file_extension": ".py",
   "mimetype": "text/x-python",
   "name": "python",
   "nbconvert_exporter": "python",
   "pygments_lexer": "ipython3",
   "version": "3.8.10"
  }
 },
 "nbformat": 4,
 "nbformat_minor": 4
}
