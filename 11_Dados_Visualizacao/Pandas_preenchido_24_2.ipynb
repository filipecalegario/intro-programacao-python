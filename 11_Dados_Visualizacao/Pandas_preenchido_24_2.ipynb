{
  "cells": [
    {
      "cell_type": "markdown",
      "metadata": {
        "id": "view-in-github",
        "colab_type": "text"
      },
      "source": [
        "<a href=\"https://colab.research.google.com/github/filipecalegario/intro-programacao-python/blob/main/11_Dados_Visualizacao/Pandas_preenchido_24_2.ipynb\" target=\"_parent\"><img src=\"https://colab.research.google.com/assets/colab-badge.svg\" alt=\"Open In Colab\"/></a>"
      ]
    },
    {
      "cell_type": "markdown",
      "metadata": {
        "id": "CRjFDdQU9CSc"
      },
      "source": [
        "# Pandas\n",
        "\n",
        "Pandas é uma biblioteca de Python que facilita a manipulação, preparação e limpeza dos dados.\n",
        "\n",
        "<img  src=\"https://github.com/filipecalegario/intro-programacao-python/blob/main/11_Dados_Visualizacao/imgs/pandas.jpeg?raw=1\" width=\"200\" />"
      ]
    },
    {
      "cell_type": "markdown",
      "metadata": {
        "id": "apTuBx6y9CSd"
      },
      "source": [
        "- Pandas é orientada a objetos.\n",
        "\n",
        "- Criamos estruturas de dados pela construção de instâncias de diferentes classes.\n",
        "\n",
        "- As duas classes mais importantes de Pandas são:\n",
        "\n",
        "    - `Series`\n",
        "    - `DataFrame`\n",
        "    \n",
        "- Pandas segue a convenção de Java de começar o nome das classes com uma letra maiúscula, enquanto as instâncias em letras minúsculas.\n",
        "  \n",
        "- Geralmente, importamos o módulo de Pandas e o assinalamos com a versão reduzida do nome: `pd`."
      ]
    },
    {
      "cell_type": "markdown",
      "metadata": {
        "id": "bMKuq3f19CSd"
      },
      "source": [
        "Para importar a biblioteca, usamos o comando:"
      ]
    },
    {
      "cell_type": "code",
      "source": [
        "!pip install pandas"
      ],
      "metadata": {
        "id": "gsLYhgo7AMLc"
      },
      "execution_count": null,
      "outputs": []
    },
    {
      "cell_type": "code",
      "execution_count": 2,
      "metadata": {
        "id": "tWlG863c9CSd"
      },
      "outputs": [],
      "source": [
        "import pandas as pd"
      ]
    },
    {
      "cell_type": "markdown",
      "metadata": {
        "id": "gFGvQKK99CSe"
      },
      "source": [
        "A partir de agora, sempre que você utilizar `pd` dentro do código, estará referenciado a biblioteca pandas."
      ]
    },
    {
      "cell_type": "markdown",
      "metadata": {
        "tags": [],
        "id": "vJr9i5rB9CSe"
      },
      "source": [
        "# Series\n",
        "\n",
        "Trata-se de uma lista (também chamado de array) de ```dados``` unidimensional, que possui um array de rótulos chamado ```index```. Cada elemento do array de dados possui uma associação com um elemento do *index*."
      ]
    },
    {
      "cell_type": "code",
      "execution_count": 3,
      "metadata": {
        "id": "MSwBpBSg9CSe",
        "outputId": "dcf8433f-b3b9-42d5-8d83-1739edbc91e6",
        "colab": {
          "base_uri": "https://localhost:8080/"
        }
      },
      "outputs": [
        {
          "output_type": "stream",
          "name": "stdout",
          "text": [
            "0    1\n",
            "1    2\n",
            "2    3\n",
            "3    4\n",
            "4    5\n",
            "dtype: int64\n",
            "a    1\n",
            "b    2\n",
            "c    3\n",
            "d    4\n",
            "e    5\n",
            "dtype: int64\n"
          ]
        }
      ],
      "source": [
        "data = [1, 2, 3, 4, 5] # Esta linha cria uma lista\n",
        "my_series = pd.Series(data) # Esta linha cria uma instância do objeto Series de pandas, os índices são automaticamente gerados.\n",
        "my_series2 = pd.Series(data, index=['a', 'b', 'c', 'd', 'e'])  # Parecido com o dicionário de Python, índices são definidos\n",
        "print(my_series)\n",
        "print(my_series2)"
      ]
    },
    {
      "cell_type": "code",
      "execution_count": 5,
      "metadata": {
        "id": "YCh20Kgy9CSe",
        "outputId": "01dc112d-1b94-4427-be28-545375e80a91",
        "colab": {
          "base_uri": "https://localhost:8080/",
          "height": 638
        }
      },
      "outputs": [
        {
          "output_type": "stream",
          "name": "stdout",
          "text": [
            "Requirement already satisfied: matplotlib in /usr/local/lib/python3.11/dist-packages (3.10.0)\n",
            "Requirement already satisfied: contourpy>=1.0.1 in /usr/local/lib/python3.11/dist-packages (from matplotlib) (1.3.1)\n",
            "Requirement already satisfied: cycler>=0.10 in /usr/local/lib/python3.11/dist-packages (from matplotlib) (0.12.1)\n",
            "Requirement already satisfied: fonttools>=4.22.0 in /usr/local/lib/python3.11/dist-packages (from matplotlib) (4.56.0)\n",
            "Requirement already satisfied: kiwisolver>=1.3.1 in /usr/local/lib/python3.11/dist-packages (from matplotlib) (1.4.8)\n",
            "Requirement already satisfied: numpy>=1.23 in /usr/local/lib/python3.11/dist-packages (from matplotlib) (2.0.2)\n",
            "Requirement already satisfied: packaging>=20.0 in /usr/local/lib/python3.11/dist-packages (from matplotlib) (24.2)\n",
            "Requirement already satisfied: pillow>=8 in /usr/local/lib/python3.11/dist-packages (from matplotlib) (11.1.0)\n",
            "Requirement already satisfied: pyparsing>=2.3.1 in /usr/local/lib/python3.11/dist-packages (from matplotlib) (3.2.1)\n",
            "Requirement already satisfied: python-dateutil>=2.7 in /usr/local/lib/python3.11/dist-packages (from matplotlib) (2.8.2)\n",
            "Requirement already satisfied: six>=1.5 in /usr/local/lib/python3.11/dist-packages (from python-dateutil>=2.7->matplotlib) (1.17.0)\n"
          ]
        },
        {
          "output_type": "execute_result",
          "data": {
            "text/plain": [
              "<Axes: >"
            ]
          },
          "metadata": {},
          "execution_count": 5
        },
        {
          "output_type": "display_data",
          "data": {
            "text/plain": [
              "<Figure size 640x480 with 1 Axes>"
            ],
            "image/png": "[encoded data removed]"
          },
          "metadata": {}
        }
      ],
      "source": [
        "!pip install matplotlib\n",
        "import matplotlib\n",
        "my_series.plot()\n",
        "my_series2.plot()"
      ]
    },
    {
      "cell_type": "markdown",
      "metadata": {
        "id": "LgL8iCvT9CSe"
      },
      "source": [
        "Ou  você pode usar o comando do Jupyter `%` chamado de Magic"
      ]
    },
    {
      "cell_type": "code",
      "execution_count": 7,
      "metadata": {
        "id": "McMlp4aJ9CSe",
        "outputId": "9eaaef2b-92b1-4726-93ee-c60d5cd1b14e",
        "colab": {
          "base_uri": "https://localhost:8080/",
          "height": 447
        }
      },
      "outputs": [
        {
          "output_type": "execute_result",
          "data": {
            "text/plain": [
              "<Axes: >"
            ]
          },
          "metadata": {},
          "execution_count": 7
        },
        {
          "output_type": "display_data",
          "data": {
            "text/plain": [
              "<Figure size 640x480 with 1 Axes>"
            ],
            "image/png": "[encoded data removed]"
          },
          "metadata": {}
        }
      ],
      "source": [
        "%matplotlib inline\n",
        "my_series.plot()"
      ]
    },
    {
      "cell_type": "markdown",
      "metadata": {
        "id": "LY06T1cV9CSe"
      },
      "source": [
        "## Criando uma Series de um dicionário"
      ]
    },
    {
      "cell_type": "code",
      "execution_count": 22,
      "metadata": {
        "id": "AJQ9A4WJ9CSf",
        "outputId": "59ac0824-ddc1-415e-9140-d7c348133277",
        "colab": {
          "base_uri": "https://localhost:8080/",
          "height": 178
        }
      },
      "outputs": [
        {
          "output_type": "execute_result",
          "data": {
            "text/plain": [
              "a             0.0\n",
              "meu_indice    1.0\n",
              "c             2.0\n",
              "dtype: float64"
            ],
            "text/html": [
              "<div>\n",
              "<style scoped>\n",
              "    .dataframe tbody tr th:only-of-type {\n",
              "        vertical-align: middle;\n",
              "    }\n",
              "\n",
              "    .dataframe tbody tr th {\n",
              "        vertical-align: top;\n",
              "    }\n",
              "\n",
              "    .dataframe thead th {\n",
              "        text-align: right;\n",
              "    }\n",
              "</style>\n",
              "<table border=\"1\" class=\"dataframe\">\n",
              "  <thead>\n",
              "    <tr style=\"text-align: right;\">\n",
              "      <th></th>\n",
              "      <th>0</th>\n",
              "    </tr>\n",
              "  </thead>\n",
              "  <tbody>\n",
              "    <tr>\n",
              "      <th>a</th>\n",
              "      <td>0.0</td>\n",
              "    </tr>\n",
              "    <tr>\n",
              "      <th>meu_indice</th>\n",
              "      <td>1.0</td>\n",
              "    </tr>\n",
              "    <tr>\n",
              "      <th>c</th>\n",
              "      <td>2.0</td>\n",
              "    </tr>\n",
              "  </tbody>\n",
              "</table>\n",
              "</div><br><label><b>dtype:</b> float64</label>"
            ]
          },
          "metadata": {},
          "execution_count": 22
        }
      ],
      "source": [
        "d = {'a' : 0., 'meu_indice' : 1., 'c' : 2.}\n",
        "my_series = pd.Series(d)\n",
        "# print(my_series2)\n",
        "my_series"
      ]
    },
    {
      "cell_type": "markdown",
      "metadata": {
        "id": "GnXlrPqa9CSf"
      },
      "source": [
        "## Indexando e Fatiando uma Series com `[]` ou .\n",
        "\n",
        "- As séries podem ser acessadas usando a mesma sintaxe de listas e dicionários em Python.\n",
        "- Usamos os rótulos no índice para acessar cada elemento.\n",
        "- Também podemos usar o rótulo como um atributo `my_series.b`\n",
        "- Podemos especificar um intervalo com `my_series[['b', 'c']]`"
      ]
    },
    {
      "cell_type": "code",
      "execution_count": 26,
      "metadata": {
        "id": "BD3EUek59CSf",
        "outputId": "9ca2f29b-79cf-4b80-edff-630f7fb51e3e",
        "colab": {
          "base_uri": "https://localhost:8080/"
        }
      },
      "outputs": [
        {
          "output_type": "stream",
          "name": "stdout",
          "text": [
            "1.0\n",
            "1.0\n",
            "a    0.0\n",
            "c    2.0\n",
            "dtype: float64\n"
          ]
        }
      ],
      "source": [
        "print(my_series['meu_indice'])\n",
        "print(my_series.meu_indice)\n",
        "minha_nova_serie = my_series[['a', 'c']]\n",
        "print(minha_nova_serie)"
      ]
    },
    {
      "cell_type": "markdown",
      "metadata": {
        "id": "7Bz_sDd59CSf"
      },
      "source": [
        "## Operações com Series"
      ]
    },
    {
      "cell_type": "code",
      "execution_count": 27,
      "metadata": {
        "id": "uQasQ9Tt9CSf",
        "outputId": "e449dede-12d9-446e-b833-6e48a184682f",
        "colab": {
          "base_uri": "https://localhost:8080/"
        }
      },
      "outputs": [
        {
          "output_type": "stream",
          "name": "stdout",
          "text": [
            "Imprimindo o array \"a\":\n",
            " a    0.0\n",
            "b    1.0\n",
            "c    2.0\n",
            "dtype: float64\n",
            "==========================\n",
            "Multiplicando diretamente por 10:\n",
            " a     0.0\n",
            "b    10.0\n",
            "c    20.0\n",
            "dtype: float64\n",
            "==========================\n",
            "Multiplicando por 10 usando a função:\n",
            " a     0.0\n",
            "b    10.0\n",
            "c    20.0\n",
            "dtype: float64\n",
            "==========================\n",
            "Somando \"a\" e \"b\" diretamente:\n",
            " a     0.0\n",
            "b    11.0\n",
            "c    22.0\n",
            "dtype: float64\n",
            "==========================\n",
            "Somando \"a\" e \"b\" com uma função:\n",
            " a     0.0\n",
            "b    11.0\n",
            "c    22.0\n",
            "dtype: float64\n",
            "==========================\n"
          ]
        }
      ],
      "source": [
        "dados_entrada = {'a' : 0., 'b' : 1., 'c' : 2.}\n",
        "\n",
        "minha_serie = pd.Series(dados_entrada)\n",
        "print('Imprimindo o array \"a\":\\n', minha_serie)\n",
        "print('==========================')\n",
        "\n",
        "b1 = 10 * minha_serie\n",
        "print('Multiplicando diretamente por 10:\\n', b1)\n",
        "print('==========================')\n",
        "\n",
        "b2 = minha_serie.multiply(10)\n",
        "print('Multiplicando por 10 usando a função:\\n', b2)\n",
        "print('==========================')\n",
        "\n",
        "c1 = minha_serie + b1\n",
        "print('Somando \"a\" e \"b\" diretamente:\\n', c1)\n",
        "print('==========================')\n",
        "\n",
        "c2 = pd.Series.add(minha_serie, b1)\n",
        "print('Somando \"a\" e \"b\" com uma função:\\n', c2)\n",
        "print('==========================')\n",
        "\n"
      ]
    },
    {
      "cell_type": "code",
      "execution_count": null,
      "metadata": {
        "id": "hd-YP3119CSf"
      },
      "outputs": [],
      "source": [
        "sum_a = pd.Series.sum(a)\n",
        "print('Somando todos os elementos de \"a\":\\n', sum_a)\n",
        "print(\"==========================\")\n",
        "\n",
        "f = a ** 2\n",
        "print('square a:\\n', f)\n",
        "print('Elevando todos os elementos de \"a\" a dois:\\n', sum_a)\n",
        "print(\"==========================\")\n",
        "\n",
        "x = pd.Series({'a' : 0., 'b' : 1., 'c' : 2.})\n",
        "y = pd.Series({'a' : 3., 'b' : 4., 'c' : 5.})\n",
        "z = x + y\n",
        "print('Adicionando duas Series:\\n', z)\n",
        "print(\"==========================\")"
      ]
    },
    {
      "cell_type": "markdown",
      "metadata": {
        "tags": [],
        "id": "AMHofQQx9CSf"
      },
      "source": [
        "## Séries Temporais (Time Series)\n",
        "\n",
        "- Times Series em pandas associam tempos específicos com valores em cada linha"
      ]
    },
    {
      "cell_type": "code",
      "execution_count": null,
      "metadata": {
        "id": "Dox8ZsxD9CSf"
      },
      "outputs": [],
      "source": [
        "dates = pd.date_range('1/1/2000', periods=5)\n",
        "print(dates)"
      ]
    },
    {
      "cell_type": "code",
      "execution_count": null,
      "metadata": {
        "id": "FB0TK6Gs9CSf"
      },
      "outputs": [],
      "source": [
        "time_series = pd.Series(data, index=dates)\n",
        "time_series"
      ]
    },
    {
      "cell_type": "markdown",
      "metadata": {
        "id": "nt3ZiVX_9CSf"
      },
      "source": [
        "### Plotando uma Série Temporal\n",
        "\n",
        "- Com os valores associados ao tempo, o comando `plot` pode ser usado para se obter uma visualização rápida na forma de um gráfico de linhas"
      ]
    },
    {
      "cell_type": "code",
      "execution_count": null,
      "metadata": {
        "id": "39RGkGdH9CSf"
      },
      "outputs": [],
      "source": [
        "ax = time_series.plot()"
      ]
    },
    {
      "cell_type": "code",
      "execution_count": null,
      "metadata": {
        "id": "xaEJwrWH9CSf"
      },
      "outputs": [],
      "source": [
        "type(time_series)"
      ]
    },
    {
      "cell_type": "markdown",
      "metadata": {
        "id": "kL1voYE69CSf"
      },
      "source": [
        "## Filtrando dados"
      ]
    },
    {
      "cell_type": "code",
      "execution_count": null,
      "metadata": {
        "id": "asBHwhJV9CSf"
      },
      "outputs": [],
      "source": [
        "# cria a série\n",
        "num = pd.Series([1, 2, 3, 4, 5, 6], index=['n1', 'n2', 'n3', 'n4', 'n5', 'n6'])\n",
        "\n",
        "# filtra números pares\n",
        "par = num[num % 2 == 0]\n",
        "\n",
        "# filtra números impares\n",
        "impar = num[num % 2 != 0]\n",
        "\n",
        "print('todos')\n",
        "print(num)\n",
        "print('pares:')\n",
        "print(par)\n",
        "print('impares:')\n",
        "print(impar)"
      ]
    },
    {
      "cell_type": "markdown",
      "metadata": {
        "tags": [],
        "id": "2SOcTTuI9CSf"
      },
      "source": [
        "# DataFrames\n",
        "\n",
        "- O `pandas` fornece uma poderosa estrutura de dados chamada DataFrames (uma tradução possível seria Quadro de Dados, mas ninguém usa assim).\n",
        "\n",
        "- É semelhante, mas não idêntico a:\n",
        "     - uma tabela em um banco de dados relacional,\n",
        "     - uma planilha Excel,\n",
        "     - um dataframe em R.\n",
        "\n",
        "- Um DataFrame tem várias colunas, cada uma das quais pode conter um tipo *diferente* de valor.\n",
        "\n",
        "- Como uma série, possui um índice que fornece um rótulo para cada linha.\n"
      ]
    },
    {
      "cell_type": "markdown",
      "metadata": {
        "id": "KsqAXRYc9CSf"
      },
      "source": [
        "## Criando um DataFrame a partir de dados externos\n",
        "- Os DataFrames podem ser lidos e gravados de/para:\n",
        "     - consultas de banco de dados, tabelas de banco de dados\n",
        "     - arquivos CSV\n",
        "     - arquivos JSON\n",
        "     - etc\n",
        "    \n",
        "- Esteja ciente de que os DataFrames ficam armazenados na memória:\n",
        "     - Se você ler uma grande quantidade de dados, seu computador pode travar\n",
        "     - Com big data, normalmente você leria um subconjunto ou resumo dos dados (ver mais sobre select statement)"
      ]
    },
    {
      "cell_type": "markdown",
      "metadata": {
        "id": "nhc250o79CSf"
      },
      "source": [
        "## Criando um DataFrame a partir de estruturas de dados Python\n",
        "\n",
        "- Os quadros de dados podem ser construídos a partir de outras estruturas de dados:\n",
        "  - dicionário de listas\n",
        "  - dicionário de dicionários\n",
        "  - dicionário de Series\n",
        "  - uma única Series\n",
        "  - outro DataFrame"
      ]
    },
    {
      "cell_type": "markdown",
      "metadata": {
        "id": "y4nGTinj9CSf"
      },
      "source": [
        "## Exemplo: Criando um DataFrame de várias Series\n",
        "- Pandas codifica valores ausentes como `NaN` em vez de `None`\n",
        "- A série deve ter chaves correspondentes para cada linha correspondente."
      ]
    },
    {
      "cell_type": "code",
      "execution_count": null,
      "metadata": {
        "id": "HRoZnyc99CSg"
      },
      "outputs": [],
      "source": [
        "d = {\n",
        "        'x' : pd.Series([1., 2., 3.], index=['a', 'b', 'c']),\n",
        "        'y' : pd.Series([4.,  6., 7.], index=['a',  'c', 'd']),\n",
        "        'z' : pd.Series([0.2, 0.3, 0.4], index=[ 'b', 'c', 'd'])\n",
        "}\n",
        "print(type(d))\n",
        "\n",
        "df = pd.DataFrame(d)\n",
        "print (df)"
      ]
    },
    {
      "cell_type": "markdown",
      "metadata": {
        "id": "4lj4AOM49CSg"
      },
      "source": [
        "## Plotando DataFrames\n",
        "\n",
        "- Ao plotar um DataFrame, cada coluna é plotada como sua própria série no mesmo gráfico.\n",
        "\n",
        "- Os nomes das colunas são usados para rotular cada série.\n",
        "\n",
        "- Os nomes das linhas (índice) são usados para rotular o eixo x."
      ]
    },
    {
      "cell_type": "code",
      "execution_count": null,
      "metadata": {
        "id": "gf-3XHNe9CSg"
      },
      "outputs": [],
      "source": [
        "ax = df.plot()"
      ]
    },
    {
      "cell_type": "markdown",
      "metadata": {
        "id": "tMz0F1em9CSg"
      },
      "source": [
        "## Funções e DataFrames\n",
        "\n",
        "- Podemos fazer cálculos e funções com DataFrames como Series.\n",
        "- As funções normalmente retornarão um DataFrames ou uma Serie, dependendo.\n",
        "- Para fazer uma cópia, não defina dois DataFrames usando o comando de atribuição, usem o método copy: `df2= df.copy()`"
      ]
    },
    {
      "cell_type": "code",
      "execution_count": null,
      "metadata": {
        "id": "IMW68q5Q9CSg"
      },
      "outputs": [],
      "source": [
        "df2 = df.copy()\n",
        "print(df, '\\n', df2)"
      ]
    },
    {
      "cell_type": "markdown",
      "metadata": {
        "id": "5R8TGl1F9CSg"
      },
      "source": [
        "## Estatísticas resumidas\n",
        "- Para obter estatísticas resumidas rapidamente sobre valores numéricos, use o método `describe`.\n",
        "- Você receberá um aviso se houver valores ausentes.\n",
        "- O resultado é em si um DataFrame, que podemos fatiar `dfstats.y['mean']`."
      ]
    },
    {
      "cell_type": "code",
      "execution_count": null,
      "metadata": {
        "id": "NkWIP2rL9CSg"
      },
      "outputs": [],
      "source": [
        "dfstats = df.describe()\n",
        "print(dfstats)\n",
        "# Vejam a diferença de usar o interactive output\n",
        "dfstats"
      ]
    },
    {
      "cell_type": "markdown",
      "metadata": {
        "id": "Vf3fR6cC9CSg"
      },
      "source": [
        "## Acessando os rótulos de linha e coluna\n",
        "\n",
        "- Os rótulos das linhas (índice) podem ser acessados através do `df.index`.\n",
        "- Os rótulos das colunas podem ser acessados através de `df.columns`."
      ]
    },
    {
      "cell_type": "code",
      "execution_count": null,
      "metadata": {
        "id": "5Ixvd8it9CSg"
      },
      "outputs": [],
      "source": [
        "print(df.index)\n",
        "print(df.columns)"
      ]
    },
    {
      "cell_type": "markdown",
      "metadata": {
        "id": "VLTOHcs69CSg"
      },
      "source": [
        "## Carregando arquivos com Pandas\n",
        "- Sempre que você tiver um conjunto de dados com uma variedade de campos de vários tipos, carregá-lo no Pandas é uma boa estratégia.\n",
        "- Você pode carregar de um arquivo local ou de um URL."
      ]
    },
    {
      "cell_type": "code",
      "execution_count": null,
      "metadata": {
        "id": "ps0OaGcU9CSn"
      },
      "outputs": [],
      "source": [
        "frame_iris = pd.read_csv('https://raw.githubusercontent.com/rpi-techfundamentals/spring2019-materials/master/input/iris.csv')\n",
        "frame_iris"
      ]
    },
    {
      "cell_type": "markdown",
      "metadata": {
        "tags": [],
        "id": "f0K_rm679CSn"
      },
      "source": [
        "## Exemplo: Carregando dados da bolsa\n",
        "\n",
        "Vamos iniciar com um arquivo CSV.\n",
        "\n",
        "A biblioteca Pandas carrega os dados em uma estrutura de dados própria, indexando cada linha, separando variáveis com delimitadores customizáveis, inferindo qual o tipo de dado de cada coluna, convertendo os dados (se necessário, por exemplo, texto para número), fazendo o tratamento de datas, valores ausentes e valores incorretos.\n",
        "\n",
        "Para isso, utilizaremos uma base com o histórico de cotação das ações preferenciais da Petrobras no período de 07/03/2020 até 07/04/2020, que está no arquivo PETR4 Dados ``PETR4 Dados Históricos.csv``. Para tanto, utilizaremos os seguintes comandos:"
      ]
    },
    {
      "cell_type": "code",
      "execution_count": null,
      "metadata": {
        "id": "s6pwj6vW9CSn"
      },
      "outputs": [],
      "source": [
        "nome_acao = 'PETR4 Dados Históricos.csv'\n",
        "petr4 = pd.read_csv(nome_acao, decimal=\",\")\n",
        "type(petr4)"
      ]
    },
    {
      "cell_type": "code",
      "execution_count": null,
      "metadata": {
        "id": "S_3Qpu-R9CSn"
      },
      "outputs": [],
      "source": [
        "petr4"
      ]
    },
    {
      "cell_type": "markdown",
      "metadata": {
        "id": "U7bNWQS29CSo"
      },
      "source": [
        "O resultado é um objeto, chamado ``petr4``, que armazena um ``DataFrame`` Pandas. Note o uso de ``decimal=\",\"`` para indicar que o arquivo está utilizando o separador decimal brasileiro.  Para ter uma ideia de sua estrutura, vamos imprimir as primeiras linhas do DataFrame, usando o seguinte comando para isso:"
      ]
    },
    {
      "cell_type": "markdown",
      "metadata": {
        "id": "Eu_IT6ov9CSo"
      },
      "source": [
        "Um ``DataFrame`` se assemelha a uma estrutura de matriz.\n",
        "\n",
        "Cada linha da matriz possui um índice, que aparece na coluna mais à esquerda. Cada coluna, possui um índice, que é o próprio nome da coluna."
      ]
    },
    {
      "cell_type": "markdown",
      "metadata": {
        "id": "_96uyvgr9CSo"
      },
      "source": [
        "Se quiséssemos imprimir as últimas linhas do Data Frame ``petr4``, poderíamos usar a função ``tail``.\n",
        "\n",
        "A função ``head``/``tail`` imprime a 5 primeiras/últimas linhas. É possível controlar o número de linhas impressas, passando um parâmetro. Por exemplo, vamos imprimir apenas as duas primeiras linhas."
      ]
    },
    {
      "cell_type": "code",
      "execution_count": null,
      "metadata": {
        "id": "zx0OClN69CSo"
      },
      "outputs": [],
      "source": [
        "petr4.head()"
      ]
    },
    {
      "cell_type": "code",
      "execution_count": null,
      "metadata": {
        "id": "2usPEjBJ9CSo"
      },
      "outputs": [],
      "source": [
        "petr4.tail()"
      ]
    },
    {
      "cell_type": "markdown",
      "metadata": {
        "id": "LohcDdiu9CSo"
      },
      "source": [
        "Se desejarmos visualizar apenas os nomes das colunas, podemos usar:"
      ]
    },
    {
      "cell_type": "code",
      "execution_count": null,
      "metadata": {
        "id": "7UZ47BGc9CSo"
      },
      "outputs": [],
      "source": [
        "petr4.columns"
      ]
    },
    {
      "cell_type": "markdown",
      "metadata": {
        "id": "AGlhIVmP9CSo"
      },
      "source": [
        "## Indexando e Fatiando colunas de DataFrames\n",
        "- Maneira simples de selecionar coluna(s) `frame[[nome(s) da coluna]]`.\n",
        "- Podem ter uma coluna (`df['x']`) ou múltiplas (`df[['x', 'y']]`).\n",
        "- Ao especificar uma coluna, pode-se usar a notação de ponto simplificada `df.x`.\n",
        "- Quando incluímos várias colunas, a fatia resultante é um DataFrame.\n",
        "- Quando recuperamos uma única coluna, o resultado é uma Serie.\n",
        "- Quando recuperamos várias colunas, o resultado é um Dataframe."
      ]
    },
    {
      "cell_type": "code",
      "execution_count": null,
      "metadata": {
        "id": "NQVVsMcW9CSo"
      },
      "outputs": [],
      "source": [
        "datas = petr4['Data']\n",
        "datas"
      ]
    },
    {
      "cell_type": "markdown",
      "metadata": {
        "tags": [],
        "id": "r6638tMy9CSo"
      },
      "source": [
        "Note que, ao extrairmos os dados referenciados pela coluna `Data`, obtivemos um conjunto de valores em uma estrutura unidimensional. Cada um desses valores possuem um índice associado. Isso é uma...?"
      ]
    },
    {
      "cell_type": "code",
      "execution_count": null,
      "metadata": {
        "id": "WU-96Lbi9CSo"
      },
      "outputs": [],
      "source": [
        "type(datas)"
      ]
    },
    {
      "cell_type": "code",
      "execution_count": null,
      "metadata": {
        "id": "uc0L_kNh9CSo"
      },
      "outputs": [],
      "source": [
        "print(petr4[['Data', 'Máxima']])"
      ]
    },
    {
      "cell_type": "markdown",
      "metadata": {
        "id": "smBBmS5M9CSo"
      },
      "source": [
        "## Jogando fora (Dropping) colunas de um DataFrame"
      ]
    },
    {
      "cell_type": "markdown",
      "metadata": {
        "id": "A2CBSB1O9CSo"
      },
      "source": [
        "Tirando, por exemplo, a coluna de variação do DataFrame `petr4`"
      ]
    },
    {
      "cell_type": "code",
      "execution_count": null,
      "metadata": {
        "id": "DXSmfWZV9CSo"
      },
      "outputs": [],
      "source": [
        "petr4.head()"
      ]
    },
    {
      "cell_type": "code",
      "execution_count": null,
      "metadata": {
        "id": "zOsRaf1x9CSo"
      },
      "outputs": [],
      "source": [
        "petr4_copy = petr4.copy()\n",
        "petr4_copy.head()"
      ]
    },
    {
      "cell_type": "code",
      "execution_count": null,
      "metadata": {
        "id": "V0Vyt-Ig9CSo"
      },
      "outputs": [],
      "source": [
        "petr4_copy.drop(columns = ['Var%', 'Vol.'])\n",
        "petr4_copy.head()"
      ]
    },
    {
      "cell_type": "markdown",
      "metadata": {
        "id": "0Tihs5Uh9CSo"
      },
      "source": [
        "Não apagou, não é? Veja por que:"
      ]
    },
    {
      "cell_type": "code",
      "execution_count": null,
      "metadata": {
        "id": "r7sBPlGl9CSo"
      },
      "outputs": [],
      "source": [
        "petr4_copy_drop = petr4_copy.drop(columns = ['Var%', 'Vol.'])\n",
        "petr4_copy_drop.head()"
      ]
    },
    {
      "cell_type": "code",
      "execution_count": null,
      "metadata": {
        "id": "xXRZ5eI59CSo"
      },
      "outputs": [],
      "source": [
        "petr4_copy.drop(columns = ['Var%', 'Vol.'], inplace=True)\n",
        "petr4_copy"
      ]
    },
    {
      "cell_type": "markdown",
      "metadata": {
        "tags": [],
        "id": "8WZwoTAm9CSo"
      },
      "source": [
        "## Renomeando colunas"
      ]
    },
    {
      "cell_type": "code",
      "execution_count": null,
      "metadata": {
        "id": "GwChuNZc9CSo"
      },
      "outputs": [],
      "source": [
        "petr4.rename(columns = {'Vol.': 'Volume', 'Var%': 'Variação'}, inplace = True)\n",
        "petr4"
      ]
    },
    {
      "cell_type": "markdown",
      "metadata": {
        "id": "Owv8dqsz9CSo"
      },
      "source": [
        "## Fazendo uma cópia do DataFrame"
      ]
    },
    {
      "cell_type": "code",
      "execution_count": null,
      "metadata": {
        "id": "LTRraqkN9CSo"
      },
      "outputs": [],
      "source": [
        "df = petr4.copy()\n",
        "df.head(2)"
      ]
    },
    {
      "cell_type": "markdown",
      "metadata": {
        "id": "Ym84xi7M9CSo"
      },
      "source": [
        "## Selecionando linhas"
      ]
    },
    {
      "cell_type": "code",
      "execution_count": null,
      "metadata": {
        "id": "xphTW8Oc9CSp"
      },
      "outputs": [],
      "source": [
        "print (df[0:3])     # Seleciona linhas 0 a 2\n",
        "print (df.iloc[0:3,:])     # Seleciona linhas 0 a 2\n",
        "print (df.iloc[0:3,])      # Seleciona linhas 0 a 2\n",
        "print (df.iloc[0:3])       # Seleciona linhas 0 a 2\n",
        "print (df.iloc[[1,2,4]])   # Seleciona linhas 1, 2, and 4"
      ]
    },
    {
      "cell_type": "markdown",
      "metadata": {
        "id": "cwF4Mg5K9CSp"
      },
      "source": [
        "Mais sobre a documentação do método `iloc`:\n",
        "\n",
        "https://pandas.pydata.org/pandas-docs/stable/generated/pandas.DataFrame.iloc.html"
      ]
    },
    {
      "cell_type": "markdown",
      "metadata": {
        "id": "YpG45hUQ9CSp"
      },
      "source": [
        "## Limpando e convertendo dados"
      ]
    },
    {
      "cell_type": "code",
      "execution_count": null,
      "metadata": {
        "id": "PzwnFEWe9CSp"
      },
      "outputs": [],
      "source": [
        "df['Variação'] = df['Variação'].str.replace(',','.')\n",
        "df['Variação'] = df['Variação'].str.replace('%','')\n",
        "df['Variação'] = pd.to_numeric(df['Variação'], errors='raise')\n",
        "df"
      ]
    },
    {
      "cell_type": "markdown",
      "metadata": {
        "id": "lUuaUhwz9CSp"
      },
      "source": [
        "## Filtrando dados (Indexação Lógica)\n",
        "\n",
        "- Os filtros são a seleção de linhas com base em critérios.\n",
        "- Podemos selecionar com base em critérios específicos.\n"
      ]
    },
    {
      "cell_type": "code",
      "execution_count": null,
      "metadata": {
        "id": "O366HWrU9CSp"
      },
      "outputs": [],
      "source": [
        "# Como elemento fundamental de um filtro, temos uma lista de booleanos baseada em algum tipo de condição\n",
        "print(df)\n",
        "df['Último'] >= 30"
      ]
    },
    {
      "cell_type": "code",
      "execution_count": null,
      "metadata": {
        "id": "FnvXVUuM9CSp"
      },
      "outputs": [],
      "source": [
        "df[df['Último'] >= 30]"
      ]
    },
    {
      "cell_type": "markdown",
      "metadata": {
        "id": "nDFkOMfM9CSp"
      },
      "source": [
        "Poderíamos ter organizado em uma variável:"
      ]
    },
    {
      "cell_type": "code",
      "execution_count": null,
      "metadata": {
        "id": "DnV-t3Dc9CSp"
      },
      "outputs": [],
      "source": [
        "maiores_trinta = df['Último'] >= 30\n",
        "df[maiores_trinta]"
      ]
    },
    {
      "cell_type": "code",
      "execution_count": null,
      "metadata": {
        "id": "Y_A_R5Au9CSp"
      },
      "outputs": [],
      "source": [
        "df.loc[maiores_trinta, ['Data', 'Último']]"
      ]
    },
    {
      "cell_type": "markdown",
      "metadata": {
        "id": "pZIHN-kw9CSp"
      },
      "source": [
        "Mais informações sobre o método `loc`\n",
        "\n",
        "https://pandas.pydata.org/pandas-docs/stable/reference/api/pandas.DataFrame.loc.html"
      ]
    },
    {
      "cell_type": "code",
      "execution_count": null,
      "metadata": {
        "id": "CUB82B1I9CSp"
      },
      "outputs": [],
      "source": [
        "df['Maior que 30'] = 0  # Definimos o valor default\n",
        "df.loc[df['Último'] >= 30, 'Maior que 30'] = 1 # Aqui então, mudamos todas as linhas para 1 caso >= 30\n",
        "print(df['Maior que 30'])"
      ]
    },
    {
      "cell_type": "code",
      "execution_count": null,
      "metadata": {
        "id": "bIO7ApAo9CSp"
      },
      "outputs": [],
      "source": [
        "df['Maior que 30'] = 'Ruim'  # Definimos o valor default\n",
        "df.loc[df['Último'] >= 30, 'Maior que 30'] = 'Bom' # Aqui então, mudamos todas as linhas para 'Bom' caso >= 30\n",
        "print(df['Maior que 30'])"
      ]
    },
    {
      "cell_type": "markdown",
      "metadata": {
        "id": "J20UH0Gw9CSp"
      },
      "source": [
        "### Filtrando datas"
      ]
    },
    {
      "cell_type": "markdown",
      "metadata": {
        "id": "xCEtkp_59CSp"
      },
      "source": [
        "O que tem errado com o código abaixo?"
      ]
    },
    {
      "cell_type": "code",
      "execution_count": null,
      "metadata": {
        "id": "qudCz-uq9CSp"
      },
      "outputs": [],
      "source": [
        "df[df['Data'] >= '01.11.2022']"
      ]
    },
    {
      "cell_type": "code",
      "execution_count": null,
      "metadata": {
        "id": "kRc7EpmF9CSp"
      },
      "outputs": [],
      "source": [
        "df.dtypes"
      ]
    },
    {
      "cell_type": "markdown",
      "metadata": {
        "id": "NfeVH6U49CSp"
      },
      "source": [
        "Uma data em Pandas é representada pelo type `datetime64`, assim, no caso acima, a coluna Data está apenas como string.\n",
        "\n",
        "Como converter a string em um formato de data?"
      ]
    },
    {
      "cell_type": "code",
      "execution_count": null,
      "metadata": {
        "id": "mFazmPtF9CSp"
      },
      "outputs": [],
      "source": [
        "df['Data Convertida'] = pd.to_datetime(df['Data'], format='%d.%m.%Y')\n",
        "df.head()"
      ]
    },
    {
      "cell_type": "code",
      "execution_count": null,
      "metadata": {
        "id": "-rVf7DbR9CSq"
      },
      "outputs": [],
      "source": [
        "df.dtypes"
      ]
    },
    {
      "cell_type": "code",
      "execution_count": null,
      "metadata": {
        "id": "c0zKO4G39CSq"
      },
      "outputs": [],
      "source": [
        "df[df['Data Convertida'] >= '2022-11-01']"
      ]
    },
    {
      "cell_type": "markdown",
      "metadata": {
        "id": "BS22hXgM9CSq"
      },
      "source": [
        "Mais informações sobre a função `pandas.to_datetime()`\n",
        "\n",
        "https://pandas.pydata.org/docs/reference/api/pandas.to_datetime.html"
      ]
    },
    {
      "cell_type": "markdown",
      "metadata": {
        "tags": [],
        "id": "HamXJH9V9CSq"
      },
      "source": [
        "## Juntando dados de DataFrames diferentes\n",
        "\n",
        "- Muitas vezes você precisa combinar DataFrames\n",
        "- Com colunas correspondentes para as mesmas linhas (vinculação de coluna, _column bind_)\n",
        "- Adicionar linhas para as mesmas colunas (vinculação de linha, _row bind_)"
      ]
    },
    {
      "cell_type": "code",
      "execution_count": null,
      "metadata": {
        "id": "AeUT1_Rg9CSq"
      },
      "outputs": [],
      "source": [
        "df  = pd.read_csv('PETR4 Dados Históricos.csv',          decimal=\",\", parse_dates = ['Data'], dayfirst = True)\n",
        "df2 = pd.read_csv('PETR4 Dados Históricos_setembro.csv', decimal=\",\", parse_dates = ['Data'], dayfirst = True)\n",
        "print(df.dtypes)\n",
        "print(df2.dtypes)"
      ]
    },
    {
      "cell_type": "code",
      "execution_count": null,
      "metadata": {
        "id": "fYvA4DqP9CSq"
      },
      "outputs": [],
      "source": [
        "df_todos = pd.concat([df, df2])\n",
        "df_todos.info()"
      ]
    },
    {
      "cell_type": "code",
      "execution_count": null,
      "metadata": {
        "id": "U3yxvUlb9CSq"
      },
      "outputs": [],
      "source": []
    },
    {
      "cell_type": "code",
      "execution_count": null,
      "metadata": {
        "id": "hBd5zdtX9CSq"
      },
      "outputs": [],
      "source": [
        "print(\"===============\")\n",
        "print(df)\n",
        "print(\"===============\")\n",
        "print(df2)\n",
        "\n",
        "#This will stack the 2 dataframes vertically on top of one another\n",
        "dfbyrow=pd.concat([df, df2])  #This is equivalent to a rowbind in R.\n",
        "print (dfbyrow)\n",
        "dfbyrow=pd.concat([df, df2], axis = 1)  #This is equivalent to a rowbind in R.\n",
        "print (dfbyrow)"
      ]
    },
    {
      "cell_type": "markdown",
      "metadata": {
        "id": "sf82YP1I9CSq"
      },
      "source": [
        "## Ordenando DataFrames"
      ]
    },
    {
      "cell_type": "code",
      "execution_count": null,
      "metadata": {
        "id": "Z6tj6zHX9CSq"
      },
      "outputs": [],
      "source": [
        "df"
      ]
    },
    {
      "cell_type": "code",
      "execution_count": null,
      "metadata": {
        "id": "QYtmbUAI9CSq"
      },
      "outputs": [],
      "source": [
        "df.sort_values(by = ['Data'], ascending = True)"
      ]
    },
    {
      "cell_type": "markdown",
      "metadata": {
        "id": "U9K9gBZc9CSq"
      },
      "source": [
        "__________________________________________________"
      ]
    },
    {
      "cell_type": "markdown",
      "metadata": {
        "id": "VA6BfH179CSq"
      },
      "source": [
        "# Plotando com plotly"
      ]
    },
    {
      "cell_type": "code",
      "execution_count": null,
      "metadata": {
        "id": "KgRBzOhL9CSq"
      },
      "outputs": [],
      "source": [
        "import plotly.express as px"
      ]
    },
    {
      "cell_type": "code",
      "execution_count": null,
      "metadata": {
        "id": "EW6mciP89CSq"
      },
      "outputs": [],
      "source": [
        "fig = px.scatter(df,\n",
        "                x='Data',\n",
        "                y='Último')\n",
        "fig.show()"
      ]
    },
    {
      "cell_type": "code",
      "execution_count": null,
      "metadata": {
        "id": "Nm8GJNQ_9CSq"
      },
      "outputs": [],
      "source": [
        "fig = px.scatter(df,\n",
        "                x='Data',\n",
        "                y='Último')\n",
        "fig.show()"
      ]
    },
    {
      "cell_type": "code",
      "execution_count": null,
      "metadata": {
        "id": "8ZtuAMez9CSq"
      },
      "outputs": [],
      "source": [
        "fig = px.line(df,\n",
        "                x='Data',\n",
        "                y='Último')\n",
        "fig.show()"
      ]
    },
    {
      "cell_type": "code",
      "execution_count": null,
      "metadata": {
        "id": "kWwDoMG-9CSq"
      },
      "outputs": [],
      "source": [
        "fig = px.bar(df,\n",
        "                x='Data',\n",
        "                y='Último')\n",
        "fig.show()"
      ]
    },
    {
      "cell_type": "markdown",
      "metadata": {
        "id": "1G9QP9hk9CSq"
      },
      "source": [
        "Para mais informações de outras bibliotecas de visualização de dados para serem usadas com Pandas:\n",
        "\n",
        "https://aeturrell.github.io/coding-for-economists/vis-common-plots.html"
      ]
    },
    {
      "cell_type": "markdown",
      "metadata": {
        "id": "Aur5mIci9CSq"
      },
      "source": [
        "# Pandas Cheat Sheets\n",
        "\n",
        "https://pandas.pydata.org/Pandas_Cheat_Sheet.pdf\n",
        "\n",
        "https://raw.githubusercontent.com/shervinea/mit-15-003-data-science-tools/master/en/study-guide-data-manipulation-with-python.pdf"
      ]
    }
  ],
  "metadata": {
    "celltoolbar": "Slideshow",
    "kernelspec": {
      "display_name": "Python 3 (ipykernel)",
      "language": "python",
      "name": "python3"
    },
    "language_info": {
      "codemirror_mode": {
        "name": "ipython",
        "version": 3
      },
      "file_extension": ".py",
      "mimetype": "text/x-python",
      "name": "python",
      "nbconvert_exporter": "python",
      "pygments_lexer": "ipython3",
      "version": "3.9.12"
    },
    "vscode": {
      "interpreter": {
        "hash": "949777d72b0d2535278d3dc13498b2535136f6dfe0678499012e853ee9abcab1"
      }
    },
    "colab": {
      "provenance": [],
      "include_colab_link": true
    }
  },
  "nbformat": 4,
  "nbformat_minor": 0
}