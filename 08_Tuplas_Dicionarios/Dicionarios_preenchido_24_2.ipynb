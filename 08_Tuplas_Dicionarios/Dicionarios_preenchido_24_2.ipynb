{
  "cells": [
    {
      "cell_type": "markdown",
      "metadata": {
        "id": "view-in-github",
        "colab_type": "text"
      },
      "source": [
        "<a href=\"https://colab.research.google.com/github/filipecalegario/intro-programacao-python/blob/main/08_Tuplas_Dicionarios/Dicionarios_preenchido_24_2.ipynb\" target=\"_parent\"><img src=\"https://colab.research.google.com/assets/colab-badge.svg\" alt=\"Open In Colab\"/></a>"
      ]
    },
    {
      "cell_type": "markdown",
      "metadata": {
        "id": "xHk46o4nZA7i"
      },
      "source": [
        "# Dicionários\n",
        "\n",
        "Assim como conhecemos em sua forma tradicional, um *dicionário* possui um conjunto de palavras chaves associadas às suas respectivas definições (valores)."
      ]
    },
    {
      "cell_type": "code",
      "execution_count": 1,
      "metadata": {
        "id": "GCTqnuTTZA7j",
        "outputId": "6f557ed5-d41c-4e12-d8c0-17be967e219e",
        "colab": {
          "base_uri": "https://localhost:8080/"
        }
      },
      "outputs": [
        {
          "output_type": "stream",
          "name": "stdout",
          "text": [
            "Designação comum de beijo, da ação ou efeito de beijar; beijo.\n"
          ]
        }
      ],
      "source": [
        "meu_dicionario = {'Estreptococos' : 'Bactérias que se apresentam ao microscópio reunidas em forma de cadeias, como as contas de um colar.',\n",
        "                 'Ósculo' : 'Designação comum de beijo, da ação ou efeito de beijar; beijo.',\n",
        "                  'Amplexo' : 'Ação de abraçar, de apertar por entre os braços para demonstrar carinho e afeto; abraço'\n",
        "                 }\n",
        "print(meu_dicionario['Ósculo'])"
      ]
    },
    {
      "cell_type": "code",
      "source": [
        "meu_dicionario = {\"lista\" : ['Valor de 0', 1, 2],\n",
        "                  1 : 'Valor de 1',\n",
        "                  2 : 'Valor de 2'}\n",
        "minha_lista = ['Valor de 0', 'Valor de 1', 'Valor de 2']\n",
        "print(meu_dicionario[\"lista\"])\n",
        "print(type(meu_dicionario))\n",
        "print(dir(meu_dicionario))\n",
        "print(minha_lista[0])\n",
        "print(dir(minha_lista))"
      ],
      "metadata": {
        "id": "DeR7b-xsZ3EZ",
        "outputId": "4613e9dd-f532-4092-c860-63ce932ca692",
        "colab": {
          "base_uri": "https://localhost:8080/"
        }
      },
      "execution_count": 6,
      "outputs": [
        {
          "output_type": "stream",
          "name": "stdout",
          "text": [
            "['Valor de 0', 1, 2]\n",
            "<class 'dict'>\n",
            "['__class__', '__class_getitem__', '__contains__', '__delattr__', '__delitem__', '__dir__', '__doc__', '__eq__', '__format__', '__ge__', '__getattribute__', '__getitem__', '__getstate__', '__gt__', '__hash__', '__init__', '__init_subclass__', '__ior__', '__iter__', '__le__', '__len__', '__lt__', '__ne__', '__new__', '__or__', '__reduce__', '__reduce_ex__', '__repr__', '__reversed__', '__ror__', '__setattr__', '__setitem__', '__sizeof__', '__str__', '__subclasshook__', 'clear', 'copy', 'fromkeys', 'get', 'items', 'keys', 'pop', 'popitem', 'setdefault', 'update', 'values']\n",
            "Valor de 0\n",
            "['__add__', '__class__', '__class_getitem__', '__contains__', '__delattr__', '__delitem__', '__dir__', '__doc__', '__eq__', '__format__', '__ge__', '__getattribute__', '__getitem__', '__getstate__', '__gt__', '__hash__', '__iadd__', '__imul__', '__init__', '__init_subclass__', '__iter__', '__le__', '__len__', '__lt__', '__mul__', '__ne__', '__new__', '__reduce__', '__reduce_ex__', '__repr__', '__reversed__', '__rmul__', '__setattr__', '__setitem__', '__sizeof__', '__str__', '__subclasshook__', 'append', 'clear', 'copy', 'count', 'extend', 'index', 'insert', 'pop', 'remove', 'reverse', 'sort']\n"
          ]
        }
      ]
    },
    {
      "cell_type": "markdown",
      "metadata": {
        "id": "rhKfLl4zZA7k"
      },
      "source": [
        "Esse mesmo conceito é bastante útil para definirmos tipos estruturados, com campos qualificados."
      ]
    },
    {
      "cell_type": "code",
      "execution_count": 7,
      "metadata": {
        "id": "bk7LelF8ZA7k",
        "outputId": "98b3222e-374c-4166-ff92-9ded7b37611c",
        "colab": {
          "base_uri": "https://localhost:8080/"
        }
      },
      "outputs": [
        {
          "output_type": "stream",
          "name": "stdout",
          "text": [
            "{'nome': 'Heloísa', 'idade': 22, 'curso': 'Ciência da Computação'}\n"
          ]
        }
      ],
      "source": [
        "estudante = {'nome': 'Heloísa', 'idade': 22, 'curso': 'Ciência da Computação'}\n",
        "print(estudante)"
      ]
    },
    {
      "cell_type": "code",
      "source": [
        "estudante_lista = ['Heloísa', 22, 'Ciência da Computação']\n",
        "print(estudante_lista[0])"
      ],
      "metadata": {
        "id": "-cnzNgRtb37I",
        "outputId": "02e230fe-0066-4b30-dc45-c030a6b52a04",
        "colab": {
          "base_uri": "https://localhost:8080/"
        }
      },
      "execution_count": 9,
      "outputs": [
        {
          "output_type": "stream",
          "name": "stdout",
          "text": [
            "Heloísa\n"
          ]
        }
      ]
    },
    {
      "cell_type": "markdown",
      "metadata": {
        "id": "sOPh42b0ZA7k"
      },
      "source": [
        "Assim como fizemos no dicionário de palavras, podemos acessar um campo qualquer do dicionário ```estudante```.\n",
        "\n",
        "Para isso, usamos a ```chave de acesso``` desejada. Por exemplo, ```nome```."
      ]
    },
    {
      "cell_type": "code",
      "execution_count": 8,
      "metadata": {
        "id": "GiWdu7hcZA7k",
        "outputId": "d6b09f96-6248-46b4-cd79-c610a1abd6cc",
        "colab": {
          "base_uri": "https://localhost:8080/"
        }
      },
      "outputs": [
        {
          "output_type": "stream",
          "name": "stdout",
          "text": [
            "Heloísa\n"
          ]
        }
      ],
      "source": [
        "print(estudante['nome'])"
      ]
    },
    {
      "cell_type": "markdown",
      "metadata": {
        "id": "A7IHYNpnZA7k"
      },
      "source": [
        "É possível utilizar outros tipos como ```chave de acesso```. Por exemplo, podemos utilizar valores inteiros."
      ]
    },
    {
      "cell_type": "code",
      "execution_count": 10,
      "metadata": {
        "id": "c556JN_sZA7k",
        "outputId": "377e4211-2eea-443e-9f59-2eeac901b0bc",
        "colab": {
          "base_uri": "https://localhost:8080/"
        }
      },
      "outputs": [
        {
          "output_type": "stream",
          "name": "stdout",
          "text": [
            "Ayrton Senna\n"
          ]
        }
      ],
      "source": [
        "F1_campeonato_1990 = {'primeiro': 'Ayrton Senna', 'segundo': 'Alain Prost', 'terceiro': 'Nelson Piquet'}\n",
        "print(F1_campeonato_1990['primeiro'])"
      ]
    },
    {
      "cell_type": "markdown",
      "metadata": {
        "id": "T9HGA-LZZA7k"
      },
      "source": [
        "### Chaves inexistentes\n",
        "\n",
        "Se tentarmos acessar uma chave que não foi definida no dicionário, Python gera uma mensagem de erro. Por exemplo, se tentarmos acessar a chave ```fone``` do dicionário ```estudante```, receberemos uma mensagem que indica um ```KeyError```. Ou seja, um erro de acesso à chave."
      ]
    },
    {
      "cell_type": "code",
      "execution_count": 12,
      "metadata": {
        "id": "VYu-0XknZA7k",
        "outputId": "17866ce4-4554-4168-9d61-b2ce78b120a3",
        "colab": {
          "base_uri": "https://localhost:8080/",
          "height": 176
        }
      },
      "outputs": [
        {
          "output_type": "stream",
          "name": "stdout",
          "text": [
            "{'nome': 'Heloísa', 'idade': 22, 'curso': 'Ciência da Computação'}\n"
          ]
        },
        {
          "output_type": "error",
          "ename": "KeyError",
          "evalue": "'telefone'",
          "traceback": [
            "\u001b[0;31m---------------------------------------------------------------------------\u001b[0m",
            "\u001b[0;31mKeyError\u001b[0m                                  Traceback (most recent call last)",
            "\u001b[0;32m<ipython-input-12-059760de2056>\u001b[0m in \u001b[0;36m<cell line: 0>\u001b[0;34m()\u001b[0m\n\u001b[1;32m      1\u001b[0m \u001b[0mprint\u001b[0m\u001b[0;34m(\u001b[0m\u001b[0mestudante\u001b[0m\u001b[0;34m)\u001b[0m\u001b[0;34m\u001b[0m\u001b[0;34m\u001b[0m\u001b[0m\n\u001b[0;32m----> 2\u001b[0;31m \u001b[0mprint\u001b[0m\u001b[0;34m(\u001b[0m\u001b[0mestudante\u001b[0m\u001b[0;34m[\u001b[0m\u001b[0;34m'telefone'\u001b[0m\u001b[0;34m]\u001b[0m\u001b[0;34m)\u001b[0m\u001b[0;34m\u001b[0m\u001b[0;34m\u001b[0m\u001b[0m\n\u001b[0m",
            "\u001b[0;31mKeyError\u001b[0m: 'telefone'"
          ]
        }
      ],
      "source": [
        "print(estudante)\n",
        "print(estudante['telefone'])"
      ]
    },
    {
      "cell_type": "markdown",
      "metadata": {
        "id": "16PcwjFEZA7k"
      },
      "source": [
        "Para obter uma mensagem de melhor qualidade, que informe o problema com clareza, podemos utilizar o método ```get```, que retorna o valor ```None``` como caso default para acessos a chaves inexistentes."
      ]
    },
    {
      "cell_type": "code",
      "execution_count": 14,
      "metadata": {
        "id": "H1FpGN0dZA7k",
        "outputId": "b3750eb3-af2c-4617-d5cf-5d5b8ec532cc",
        "colab": {
          "base_uri": "https://localhost:8080/"
        }
      },
      "outputs": [
        {
          "output_type": "stream",
          "name": "stdout",
          "text": [
            "Heloísa\n",
            "None\n"
          ]
        }
      ],
      "source": [
        "print(estudante.get('nome'))\n",
        "print(estudante.get('telefone'))"
      ]
    },
    {
      "cell_type": "markdown",
      "metadata": {
        "id": "P-FzR8HZZA7l"
      },
      "source": [
        "É possível modificar o valor default para os casos de acessos a chaves inexistentes.\n",
        "\n",
        "Por exemplo, poderíamos retornar a mensagem ```chave inexistente```, como demonstrado no exemplo abaixo."
      ]
    },
    {
      "cell_type": "code",
      "execution_count": 17,
      "metadata": {
        "id": "u2SuS5ICZA7l",
        "outputId": "cf8b519c-cd30-4387-c76e-04c172aeb9e4",
        "colab": {
          "base_uri": "https://localhost:8080/"
        }
      },
      "outputs": [
        {
          "output_type": "stream",
          "name": "stdout",
          "text": [
            "Heloísa\n",
            "chave inexistente\n",
            "1\n"
          ]
        }
      ],
      "source": [
        "print(estudante.get('nome', 'chave inexistente'))\n",
        "print(estudante.get('telefone', 'chave inexistente'))\n",
        "print(estudante.get('telefone', 1))"
      ]
    },
    {
      "cell_type": "markdown",
      "metadata": {
        "id": "rgviUkUMZA7l"
      },
      "source": [
        "### Adicionar dados ao dicionário\n",
        "\n",
        "Para adicionar novos campos, por exemplo, ```fone``` ao dicionário ```estudante``` basta executar o comando:"
      ]
    },
    {
      "cell_type": "code",
      "execution_count": 25,
      "metadata": {
        "id": "4Xk31nMJZA7l",
        "outputId": "c5aeb405-69a8-418f-aa3b-7dadcb6d50bf",
        "colab": {
          "base_uri": "https://localhost:8080/"
        }
      },
      "outputs": [
        {
          "output_type": "stream",
          "name": "stdout",
          "text": [
            "{'nome': 'Heloísa', 'idade': 22, 'curso': 'Ciência da Computação'}\n",
            "{'nome': 'Heloísa', 'idade': 22, 'curso': 'Ciência da Computação', 'telefone': '(81) 95877 4566'}\n"
          ]
        }
      ],
      "source": [
        "estudante = {'nome': 'Heloísa', 'idade': 22, 'curso': 'Ciência da Computação'}\n",
        "print(estudante)\n",
        "estudante['telefone'] = '(81) 95877 4566'\n",
        "print(estudante)"
      ]
    },
    {
      "cell_type": "markdown",
      "metadata": {
        "id": "Ulg8TueQZA7l"
      },
      "source": [
        "O mesmo resultado é obtido através do comando ```update```:"
      ]
    },
    {
      "cell_type": "code",
      "execution_count": 26,
      "metadata": {
        "id": "Dz_6z7SOZA7l",
        "outputId": "2cb0f74e-27ad-4f4c-9da5-d1d6d001fc73",
        "colab": {
          "base_uri": "https://localhost:8080/"
        }
      },
      "outputs": [
        {
          "output_type": "stream",
          "name": "stdout",
          "text": [
            "{'nome': 'Heloísa', 'idade': 22, 'curso': 'Ciência da Computação', 'telefone': '(81) 95877 4566'}\n",
            "{'nome': 'Heloísa', 'idade': 22, 'curso': 'Direito', 'telefone': '(87) 95665 4200', 'cidade': 'Petrolina'}\n"
          ]
        }
      ],
      "source": [
        "print(estudante)\n",
        "estudante.update({'telefone': '(87) 95665 4200', 'curso': 'Direito', 'cidade': 'Petrolina'})\n",
        "print(estudante)"
      ]
    },
    {
      "cell_type": "markdown",
      "metadata": {
        "id": "eMgx0naJZA7l"
      },
      "source": [
        "### Atualizar dados do dicionário\n",
        "\n",
        "De maneira similar, podemos atualizar o valor de um campo existente do dicionário.\n",
        "\n",
        "Por exemplo, podemos atualizar a ```idade``` com o comando:"
      ]
    },
    {
      "cell_type": "code",
      "execution_count": 28,
      "metadata": {
        "id": "GAt19xEdZA7l",
        "outputId": "411e5d8b-b3e4-4f9d-cf89-e3edab7cc495",
        "colab": {
          "base_uri": "https://localhost:8080/"
        }
      },
      "outputs": [
        {
          "output_type": "stream",
          "name": "stdout",
          "text": [
            "{'nome': 'Heloísa', 'idade': 22, 'curso': 'Direito', 'telefone': '(87) 95665 4200', 'cidade': 'Petrolina'}\n",
            "{'nome': 'Heloísa', 'idade': 23, 'curso': 'Direito', 'telefone': '(87) 95665 4200', 'cidade': 'Petrolina'}\n"
          ]
        }
      ],
      "source": [
        "print(estudante)\n",
        "estudante['idade'] = 23\n",
        "print(estudante)"
      ]
    },
    {
      "cell_type": "markdown",
      "metadata": {
        "id": "E0bfBU8MZA7l"
      },
      "source": [
        "O comando ```update``` pode ser utilizado para atualizar/adicionar vários campos simultaneamente.  "
      ]
    },
    {
      "cell_type": "code",
      "execution_count": 30,
      "metadata": {
        "id": "XC8GOUrSZA7l",
        "outputId": "b5afaa4d-6a26-461c-fb9a-64347f8828f4",
        "colab": {
          "base_uri": "https://localhost:8080/"
        }
      },
      "outputs": [
        {
          "output_type": "execute_result",
          "data": {
            "text/plain": [
              "{'heloisa@uol.com.br': {'nome': 'Heloísa',\n",
              "  'idade': 22,\n",
              "  'curso': 'Direito',\n",
              "  'telefone': '(87) 95665 4200',\n",
              "  'cidade': 'Petrolina'},\n",
              " 'glenildo.santos@gmail.com': {'nome': 'Glenildo',\n",
              "  'idade': 47,\n",
              "  'curso': 'Geografia',\n",
              "  'telefone': '(81) 97200 5877',\n",
              "  'cidade': 'Recife'}}"
            ]
          },
          "metadata": {},
          "execution_count": 30
        }
      ],
      "source": [
        "estudantes = {'heloisa@uol.com.br': {'nome': 'Heloísa', 'idade': 22, 'curso': 'Direito', 'telefone': '(87) 95665 4200', 'cidade': 'Petrolina'},\n",
        "              'glenildo.santos@gmail.com': {'nome': 'Glenildo', 'idade': 47, 'curso': 'Geografia', 'telefone': '(81) 97200 5877', 'cidade': 'Recife'}\n",
        "              }\n",
        "estudantes"
      ]
    },
    {
      "cell_type": "code",
      "source": [
        "estudantes['glenildo.santos@gmail.com']['idade'] = 48\n",
        "estudantes"
      ],
      "metadata": {
        "id": "BJ7duDXdgvRq",
        "outputId": "0ca0fd35-c266-41db-ade8-72ddb87fb6ed",
        "colab": {
          "base_uri": "https://localhost:8080/"
        }
      },
      "execution_count": 31,
      "outputs": [
        {
          "output_type": "execute_result",
          "data": {
            "text/plain": [
              "{'heloisa@uol.com.br': {'nome': 'Heloísa',\n",
              "  'idade': 22,\n",
              "  'curso': 'Direito',\n",
              "  'telefone': '(87) 95665 4200',\n",
              "  'cidade': 'Petrolina'},\n",
              " 'glenildo.santos@gmail.com': {'nome': 'Glenildo',\n",
              "  'idade': 48,\n",
              "  'curso': 'Geografia',\n",
              "  'telefone': '(81) 97200 5877',\n",
              "  'cidade': 'Recife'}}"
            ]
          },
          "metadata": {},
          "execution_count": 31
        }
      ]
    },
    {
      "cell_type": "markdown",
      "metadata": {
        "id": "Gojcc0UwZA7l"
      },
      "source": [
        "### Remover dados do dicionário\n",
        "\n",
        "O comando ```del``` remove campos do dicionário. Digamos que queremos remover o campo ```idade``` do dicionário ```estudante```."
      ]
    },
    {
      "cell_type": "code",
      "execution_count": 43,
      "metadata": {
        "id": "-5jeeyU2ZA7l",
        "outputId": "5138ba9f-b5ed-4014-cb3d-69d69ea0d430",
        "colab": {
          "base_uri": "https://localhost:8080/"
        }
      },
      "outputs": [
        {
          "output_type": "stream",
          "name": "stdout",
          "text": [
            "{'nome': 'Heloísa', 'idade': 22, 'curso': 'Direito', 'telefone': '(87) 95665 4200', 'cidade': 'Petrolina'}\n",
            "{'nome': 'Heloísa', 'curso': 'Direito', 'telefone': '(87) 95665 4200', 'cidade': 'Petrolina'}\n"
          ]
        }
      ],
      "source": [
        "estudante = {'nome': 'Heloísa', 'idade': 22, 'curso': 'Direito', 'telefone': '(87) 95665 4200', 'cidade': 'Petrolina'}\n",
        "print(estudante)\n",
        "del estudante['idade']\n",
        "print(estudante)"
      ]
    },
    {
      "cell_type": "markdown",
      "metadata": {
        "id": "rnM0BiE9ZA7l"
      },
      "source": [
        "É possível também **retornar como resultado** o valor que está sendo removido. Para isso, usamos o comando ```pop```."
      ]
    },
    {
      "cell_type": "code",
      "execution_count": 46,
      "metadata": {
        "id": "mUV1Q1oSZA7l",
        "outputId": "a24a1449-fbb2-4260-d988-9dedbaf1e59f",
        "colab": {
          "base_uri": "https://localhost:8080/"
        }
      },
      "outputs": [
        {
          "output_type": "stream",
          "name": "stdout",
          "text": [
            "{'nome': 'Heloísa', 'idade': 22, 'curso': 'Direito', 'telefone': '(87) 95665 4200', 'cidade': 'Petrolina'}\n",
            "{'nome': 'Heloísa', 'curso': 'Direito', 'telefone': '(87) 95665 4200', 'cidade': 'Petrolina'}\n",
            "22\n"
          ]
        }
      ],
      "source": [
        "estudante = {'nome': 'Heloísa', 'idade': 22, 'curso': 'Direito', 'telefone': '(87) 95665 4200', 'cidade': 'Petrolina'}\n",
        "print(estudante)\n",
        "idade = estudante.pop('idade')\n",
        "print(estudante)\n",
        "print(idade)"
      ]
    },
    {
      "cell_type": "markdown",
      "metadata": {
        "id": "Akqk7hZmZA7l"
      },
      "source": [
        "### Comandos básicos para dicionários\n",
        "\n",
        "- `len(dic)` - retorna o número de campos armazenados no dicionário ```dic```\n",
        "- `dic.keys()` - retorna todas as chaves do dicionário ```dic```\n",
        "- `dic.values()` - retorna todos os valores armazenados no dicionário ```dic```\n",
        "- `dic.items()` - retorna todos pares (chave,valor) armazenados no dicionário ```dic```"
      ]
    },
    {
      "cell_type": "code",
      "execution_count": 51,
      "metadata": {
        "id": "s1u8E3oCZA7l",
        "outputId": "e6ffa4ed-ac7d-4970-91c0-e4e1b7d59640",
        "colab": {
          "base_uri": "https://localhost:8080/"
        }
      },
      "outputs": [
        {
          "output_type": "stream",
          "name": "stdout",
          "text": [
            "5\n",
            "['nome', 'idade', 'curso', 'telefone', 'cidade']\n"
          ]
        }
      ],
      "source": [
        "estudante = {'nome': 'Heloísa', 'idade': 22, 'curso': 'Direito', 'telefone': '(87) 95665 4200', 'cidade': 'Petrolina'}\n",
        "print(len(estudante))\n",
        "print(list(estudante.keys()))\n",
        "print"
      ]
    },
    {
      "cell_type": "markdown",
      "metadata": {
        "id": "tciAqHzwZA7l"
      },
      "source": [
        "### Iterar sobre dicionários\n",
        "\n",
        "Quando usamos o comando ```for``` para iterar sobre um dicionário, temos acesso apenas às chaves.\n",
        "\n",
        "Observe o exemplo a seguir. Apenas as chaves do dicionário ```estudante``` são impressas."
      ]
    },
    {
      "cell_type": "code",
      "execution_count": null,
      "metadata": {
        "id": "Z6NTpIdAZA7l"
      },
      "outputs": [],
      "source": []
    },
    {
      "cell_type": "markdown",
      "metadata": {
        "id": "FFIy1W8CZA7l"
      },
      "source": [
        "Se desejarmos ter acesso aos valores, precisamos utilizar o método ```items```, como demonstrado a seguir:"
      ]
    },
    {
      "cell_type": "code",
      "execution_count": null,
      "metadata": {
        "id": "CObytSmhZA7l"
      },
      "outputs": [],
      "source": []
    }
  ],
  "metadata": {
    "kernelspec": {
      "display_name": "Python 3.10.8 64-bit",
      "language": "python",
      "name": "python3"
    },
    "language_info": {
      "codemirror_mode": {
        "name": "ipython",
        "version": 3
      },
      "file_extension": ".py",
      "mimetype": "text/x-python",
      "name": "python",
      "nbconvert_exporter": "python",
      "pygments_lexer": "ipython3",
      "version": "3.10.8"
    },
    "vscode": {
      "interpreter": {
        "hash": "949777d72b0d2535278d3dc13498b2535136f6dfe0678499012e853ee9abcab1"
      }
    },
    "colab": {
      "provenance": [],
      "include_colab_link": true
    }
  },
  "nbformat": 4,
  "nbformat_minor": 0
}