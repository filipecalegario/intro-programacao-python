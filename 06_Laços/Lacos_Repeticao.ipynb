{
 "cells": [
  {
   "cell_type": "markdown",
   "metadata": {},
   "source": [
    "# Aula 05\n",
    "\n",
    "## Laços de Repetição (Loops)\n",
    "\n",
    "### O comando `while`\n",
    "\n",
    "A execução das instruções no bloco de comandos é repetida enquanto uma condição (EXP_BOOL) for verdadeira.\n",
    "\n",
    "<img  src=\"./imagens/while.png\" width=\"600\" />\n",
    "\n",
    "Vamos ver um exemplo."
   ]
  },
  {
   "cell_type": "code",
   "execution_count": null,
   "metadata": {},
   "outputs": [],
   "source": [
    "resp = input('Deseja continuar?\\n')\n",
    "\n",
    "while( (resp != 'sim') and ( resp != 'não')):\n",
    "    print('Resposta inválida!!!')\n",
    "    resp = input('Deseja continuar?\\n')\n",
    "else:\n",
    "    if(resp == 'sim'):\n",
    "        print('Ok! Vamos continuar.')\n",
    "    else:\n",
    "        print('Obrigado e até logo!')"
   ]
  },
  {
   "cell_type": "markdown",
   "metadata": {},
   "source": [
    "#### Exercício - Adivinhe o número sorteado\n",
    "<img  src=\"./imagens/sorteio.png\" align=\"right\" width=\"100\" />\n",
    "\n",
    "Sua tarefa é criar um jogo que vai sortear um número entre 0 e 100 e perguntar ao jogador qual foi o número sorteado.  \n",
    "\n",
    "Caso ele chute um número maior, você dá uma dica, informando que ele deve tentar um número menor. Faz o inverso, caso ele digite um número menor.  \n",
    "\n",
    "O programa só termina quando o jogador acertar.\n",
    "\n",
    "utilize a função `randint`para gerar um número aleatório. Veja como ela funciona:"
   ]
  },
  {
   "cell_type": "code",
   "execution_count": null,
   "metadata": {},
   "outputs": [],
   "source": [
    "from random import randint\n",
    "\n",
    "# gera número inteiro aleatório entre 0 e 100\n",
    "num = randint(0,100)\n",
    "num"
   ]
  },
  {
   "cell_type": "markdown",
   "metadata": {},
   "source": [
    "#### Solução"
   ]
  },
  {
   "cell_type": "code",
   "execution_count": null,
   "metadata": {},
   "outputs": [],
   "source": [
    "from random import randint\n",
    "\n",
    "# gera número inteiro aleatório entre 0 e 100\n",
    "num = randint(0,100)\n",
    "\n",
    "acertou = False\n",
    "chute = int(input('Digite um número inteiro no intervalo [0-100]: '))\n",
    "\n",
    "# início do while\n",
    "while (not acertou):\n",
    "    if (chute == num):\n",
    "        print('Parabéns, você acertou o número!')\n",
    "        acertou = True\n",
    "    elif(chute > num):\n",
    "        chute = int(input('Tente um número menor: '))\n",
    "    else:  \n",
    "        chute = int(input('Tente um número maior: '))\n",
    "else:\n",
    "    print('Fim de jogo!')\n",
    "# Fim do while\n",
    "\n",
    "print('Seu programa continuaria aqui quando o while terminar')"
   ]
  },
  {
   "cell_type": "markdown",
   "metadata": {},
   "source": [
    "#### Exercício - Números Ímpares\n",
    "Faça um programa para\n",
    "Ler um número inteiro maior que zero e menor que 100\n",
    "Imprimir todos os números ímpares seguintes até 100 (separados por “,” e o último finaliza com um ‘“.”)\n",
    "\n",
    "**Obs:** *O Operador `%` calcula o módulo da divisão:*"
   ]
  },
  {
   "cell_type": "code",
   "execution_count": 2,
   "metadata": {},
   "outputs": [
    {
     "data": {
      "text/plain": [
       "0"
      ]
     },
     "execution_count": 2,
     "metadata": {},
     "output_type": "execute_result"
    }
   ],
   "source": [
    "10%2"
   ]
  },
  {
   "cell_type": "code",
   "execution_count": 3,
   "metadata": {},
   "outputs": [
    {
     "data": {
      "text/plain": [
       "1"
      ]
     },
     "execution_count": 3,
     "metadata": {},
     "output_type": "execute_result"
    }
   ],
   "source": [
    "11%2"
   ]
  },
  {
   "cell_type": "markdown",
   "metadata": {},
   "source": [
    "##### Solução"
   ]
  },
  {
   "cell_type": "code",
   "execution_count": null,
   "metadata": {},
   "outputs": [],
   "source": [
    "num = int(input('Digite um interior no intervalo [0-100]: '))\n",
    "\n",
    "# se for par, vai para o próximo número ímpar\n",
    "if(num%2 == 0):\n",
    "    num += 1\n",
    "\n",
    "while(num<99):\n",
    "    print(f'{num}, ', end=' ')\n",
    "    num += 2\n",
    "else:\n",
    "       print(f'{num}.')"
   ]
  },
  {
   "cell_type": "markdown",
   "metadata": {},
   "source": [
    "Melhore seu programa, fazendo com que ele continue pedindo o número inteiro positivo enquanto o usuário não digitar um número maior que zero.\n",
    "\n",
    "##### Solução"
   ]
  },
  {
   "cell_type": "code",
   "execution_count": null,
   "metadata": {},
   "outputs": [],
   "source": [
    "num = int(input('Digite um interior no intervalo [0-100]: '))\n",
    "\n",
    "while( (num<0) or (num>100)):\n",
    "    print('Intervalo Iválido!!!')\n",
    "    num = int(input('Digite um interior no intervalo [0-100]: '))\n",
    "\n",
    "# se for par, vai para o próximo número ímpar\n",
    "if(num%2 == 0):\n",
    "    num += 1\n",
    "\n",
    "while(num<99):\n",
    "    print(f'{num}, ', end=' ')\n",
    "    num += 2\n",
    "else:\n",
    "       print(f'{num}.')"
   ]
  },
  {
   "cell_type": "markdown",
   "metadata": {},
   "source": [
    "#### Exercício - Multiplicação com while\n",
    "Implemente um programa em Python para realizar uma operação de multiplicação através de múltiplas operações de soma.\n",
    "\n",
    "##### Solução"
   ]
  },
  {
   "cell_type": "code",
   "execution_count": null,
   "metadata": {},
   "outputs": [],
   "source": [
    "op1 = int(input('Digite o 1o operando: '))\n",
    "op2 = int(input('Digite o 2o operando: '))\n",
    "resultado = 0\n",
    "\n",
    "# Início do while\n",
    "while (op1>0):\n",
    "    resultado += op2\n",
    "    op1 -= 1\n",
    "else:\n",
    "    print(f'O resultado da multiplicação foi {resultado}')"
   ]
  },
  {
   "cell_type": "markdown",
   "metadata": {},
   "source": [
    "### Lista de Números\n",
    "\n",
    "Uma lista de números é uma coleção de valores numéricos armazenados em uma variável. Vamos ver um exemplo."
   ]
  },
  {
   "cell_type": "code",
   "execution_count": null,
   "metadata": {},
   "outputs": [],
   "source": [
    "lista_num = [1, 2, 3, 4]\n",
    "lista_num"
   ]
  },
  {
   "cell_type": "markdown",
   "metadata": {},
   "source": [
    "Por enquanto, é só o que precisamos saber para avançarmos no curso.\n",
    "Falaremos em detalhes sobre listas mais adiante!\n",
    "\n",
    "### A função `range`\n",
    "\n",
    "A função `range` foi criada para gerar uma lista de números.\n",
    "\n",
    "**range(start, stop, step)**\n",
    "- start - início da sequência (opcional; default -> 0)\n",
    "- stop - último elemento da sequência (obrigatório)\n",
    "- step - intervalo entre os elementos (opcional; default -> 1)\n",
    "\n",
    "Vamos ver alguns exemplos:"
   ]
  },
  {
   "cell_type": "code",
   "execution_count": null,
   "metadata": {},
   "outputs": [],
   "source": [
    "list(range(5))"
   ]
  },
  {
   "cell_type": "code",
   "execution_count": null,
   "metadata": {},
   "outputs": [],
   "source": [
    "list(range(1,5,2))"
   ]
  },
  {
   "cell_type": "code",
   "execution_count": null,
   "metadata": {},
   "outputs": [],
   "source": [
    "list(range(1,6,2))"
   ]
  },
  {
   "cell_type": "code",
   "execution_count": null,
   "metadata": {},
   "outputs": [],
   "source": [
    "list(range(5,1,-1))"
   ]
  },
  {
   "cell_type": "code",
   "execution_count": null,
   "metadata": {},
   "outputs": [],
   "source": [
    "list(range(1,5))"
   ]
  },
  {
   "cell_type": "markdown",
   "metadata": {},
   "source": [
    "### O comando `for` \n",
    "\n",
    "De maneira similar ao `while` o comando `for` repete um bloco de comandos.\n",
    "\t\t\n",
    "O comando `for` é indicado para situações em que se sabe antecipadamente o número de repetições que serão executadas.\n",
    "\n",
    "O `for` possui a seguinte estrutura:\n",
    "\n",
    "<img  src=\"./imagens/for.png\" width=\"400\" />\n",
    "\n",
    "O exemplo a seguir, executará o comando print(i), com i variando de 1 até 5. Em seguida, imprime Fim."
   ]
  },
  {
   "cell_type": "code",
   "execution_count": null,
   "metadata": {},
   "outputs": [],
   "source": [
    "for i in range(1,5):\n",
    "    print(i)\n",
    "else:\n",
    "    print('Fim')"
   ]
  },
  {
   "cell_type": "markdown",
   "metadata": {},
   "source": [
    "#### Exercício - Ímpares com o comando for\n",
    "\n",
    "Faça um programa que use o comando for para\n",
    "1. Ler um número inteiro maior que zero e menor que 100\n",
    "2. Imprimir todos os números ímpares seguintes até 100   \n",
    "    (separados por “,” e o último finaliza com um ‘“.”)\n"
   ]
  },
  {
   "cell_type": "code",
   "execution_count": null,
   "metadata": {},
   "outputs": [],
   "source": [
    "num = int(input('Digite um interior no intervalo [0-100]: '))\n",
    "\n",
    "while( (num<0) or (num>100)):\n",
    "    print('Intervalo Iválido!!!')\n",
    "    num = int(input('Digite um interior no intervalo [0-100]: '))\n",
    "\n",
    "# se for par, vai para o próximo número ímpar\n",
    "if(num%2 == 0):\n",
    "    num += 1\n",
    "\n",
    "for i in range(num,100,2):\n",
    "    print(f'{i}, ', end=' ')\n",
    "    num += 2\n",
    "else:\n",
    "    print(f'{i}.')"
   ]
  },
  {
   "cell_type": "markdown",
   "metadata": {},
   "source": [
    "<img  src=\"./imagens/migracao.png\" width=\"300\" />Chegou a época de migração. Animais de diferentes tamanhos caminham entre duas localizações geográficas. Ambientalistas precisam calcular o esforço feito por cada animal durante a migração.\n",
    "\n",
    "\n",
    "Seu programa vai ler:\n",
    "1. nome do animal\n",
    "2. distância a ser percorrida (valor inteiro, em cm)\n",
    "3. tamanho do passo do animal (valor inteiro, em cm)\n",
    "\n",
    "No final, imprime uma mensagem, informando quantos passos o animal precisará dar para chegar ao destino.\n",
    "\n",
    "Use o comando for para calcular o número de passos.\n",
    "\n",
    "**Dica:** utilize a função `range`\n",
    "\n",
    "**range(start, stop, step)**\n",
    "- start - início da sequência (opcional; default -> 0)\n",
    "- stop - último elemento da sequência (obrigatório)\n",
    "- step - intervalo entre os elementos (opcional; default -> 1)\n",
    "\n"
   ]
  },
  {
   "cell_type": "code",
   "execution_count": null,
   "metadata": {},
   "outputs": [],
   "source": [
    "nome = input('Digite o nome do animal: ')\n",
    "distancia = int(input('Digite a distância percorrida: '))\n",
    "tam_passo = int(input('Digite o tamanho do passo do animal: '))\n",
    "\n",
    "num_passos = 0\n",
    "for i in range(0,distancia,tam_passo):\n",
    "    num_passos += 1\n",
    "print(f'Cada {nome} precisará dar {num_passos} passos para terminar a jornada')"
   ]
  },
  {
   "cell_type": "markdown",
   "metadata": {},
   "source": [
    "### Comando `for` com dois índices\n",
    "\n",
    "E se desejarmos variar dois índices em um comando for?\n",
    "\n",
    "<img  src=\"./imagens/for_dois_indices.png\" width=\"200\" />\n",
    "\n",
    "A solução é usar uma lista de tuplas:"
   ]
  },
  {
   "cell_type": "code",
   "execution_count": null,
   "metadata": {},
   "outputs": [],
   "source": [
    "for i, j in [(1,5),(2,6),(3,7)]:\n",
    "    print(i * j)\n",
    "else:\n",
    "    print(\"Fim\")"
   ]
  },
  {
   "cell_type": "markdown",
   "metadata": {},
   "source": [
    "`i` será associado ao 1º item da tupla  \n",
    "`j` será assocido ao 2º item da tupla \n",
    "\n",
    "Uma maneira mais prática utiliza a função `zip`, que recebe duas ou mais listas e cria uma lista de tuplas do tamanho da menor lista recebida."
   ]
  },
  {
   "cell_type": "code",
   "execution_count": null,
   "metadata": {},
   "outputs": [],
   "source": [
    "ij = zip(range(1,4),range(5,8))\n",
    "list(ij)"
   ]
  },
  {
   "cell_type": "code",
   "execution_count": null,
   "metadata": {},
   "outputs": [],
   "source": [
    "ijz = zip(range(1,4),range(5,8),range(1,40))\n",
    "list(ijz)"
   ]
  },
  {
   "cell_type": "markdown",
   "metadata": {},
   "source": [
    "Os códigos a seguir fazem a mesma coisa:"
   ]
  },
  {
   "cell_type": "code",
   "execution_count": null,
   "metadata": {},
   "outputs": [],
   "source": [
    "for i, j in [(1,5),(2,6),(3,7)]:\n",
    "    print(i * j)\n",
    "else:\n",
    "    print('Fim')"
   ]
  },
  {
   "cell_type": "code",
   "execution_count": null,
   "metadata": {},
   "outputs": [],
   "source": [
    "for i, j in zip([1,2,3],[5,6,7]):\n",
    "    print(i * j)\n",
    "else:\n",
    "    print('Fim')"
   ]
  },
  {
   "cell_type": "code",
   "execution_count": null,
   "metadata": {},
   "outputs": [],
   "source": [
    "for i, j in zip(range(1,4),range(5,8)):\n",
    "    print(i * j)\n",
    "else:\n",
    "    print('Fim')"
   ]
  },
  {
   "cell_type": "markdown",
   "metadata": {},
   "source": [
    "### Comando `break`\n",
    "\n",
    "Causa uma interrupção imediata do laço, continuando a execução do programa na próxima linha após o laço. \n",
    "\n",
    "O programa a seguir verifica uma senha, que pode conter qualquer símbolo, menos @"
   ]
  },
  {
   "cell_type": "code",
   "execution_count": null,
   "metadata": {},
   "outputs": [],
   "source": [
    "senha = 'senh@ errada'\n",
    "\n",
    "for i in range(0,len(senha)):\n",
    "    if senha[i] == '@':\n",
    "       print('Falhou no teste') \n",
    "       break\n",
    "    print('Letra permitida')\n",
    "else:\n",
    "    print('Passou no teste')"
   ]
  },
  {
   "cell_type": "markdown",
   "metadata": {},
   "source": [
    "Note que o `else` não foi executado, pois a execução do `for` for interrompida."
   ]
  },
  {
   "cell_type": "code",
   "execution_count": null,
   "metadata": {},
   "outputs": [],
   "source": [
    "senha = 'senha correta'\n",
    "\n",
    "for i in range(0,len(senha)):\n",
    "    if senha[i] == '@':\n",
    "       print('Falhou no teste') \n",
    "       break\n",
    "    print('Letra permitida')\n",
    "else:\n",
    "    print('Passou no teste')"
   ]
  },
  {
   "cell_type": "markdown",
   "metadata": {},
   "source": [
    "### O comando `continue`\n",
    "\n",
    "Quando é executado, o laço volta para o teste de condição do laço de repetição. \n",
    "\n",
    "**obs:** pode ser substituído por um comando `if` simples.\n",
    "\n",
    "Em que situação o programa não vai imprimir 10 números?"
   ]
  },
  {
   "cell_type": "code",
   "execution_count": null,
   "metadata": {},
   "outputs": [],
   "source": [
    "import random \n",
    "\n",
    "for i in range(10): \n",
    "    x = random.randint(-10,10) \n",
    "    # evita a divisão por zero\n",
    "    if x == 0: \n",
    "        continue \n",
    "    print (1/x)"
   ]
  },
  {
   "cell_type": "markdown",
   "metadata": {},
   "source": [
    "Tente responder os exercícios a seguir usando comandos de repetição `for` e `while`, quando for possível.\n",
    "\n",
    "#### Exercício 1 - Fatorial\n",
    "\n",
    "<img  src=\"./imagens/exercicio_for1.png\" width=\"360\" />\n",
    "\n",
    "#### Exercício 2 - Série 1\n",
    "\n",
    "<img  src=\"./imagens/exercicio_for2.png\" width=\"320\" />\n",
    "\n",
    "#### Exercício 3 - Quadrados e Cubos\n",
    "\n",
    "<img  src=\"./imagens/exercicio_for3.png\" width=\"500\" />\n",
    "\n",
    "#### Exercício 4 - Série 2\n",
    "\n",
    "<img  src=\"./imagens/exercicio_for4.png\" width=\"450\" />\n",
    "\n"
   ]
  }
 ],
 "metadata": {
  "kernelspec": {
   "display_name": "Python 3",
   "language": "python",
   "name": "python3"
  },
  "language_info": {
   "codemirror_mode": {
    "name": "ipython",
    "version": 3
   },
   "file_extension": ".py",
   "mimetype": "text/x-python",
   "name": "python",
   "nbconvert_exporter": "python",
   "pygments_lexer": "ipython3",
   "version": "3.8.3"
  },
  "toc": {
   "base_numbering": 1,
   "nav_menu": {},
   "number_sections": true,
   "sideBar": true,
   "skip_h1_title": false,
   "title_cell": "Table of Contents",
   "title_sidebar": "Contents",
   "toc_cell": false,
   "toc_position": {},
   "toc_section_display": true,
   "toc_window_display": false
  }
 },
 "nbformat": 4,
 "nbformat_minor": 2
}
