{
  "cells": [
    {
      "cell_type": "markdown",
      "metadata": {
        "id": "view-in-github",
        "colab_type": "text"
      },
      "source": [
        "<a href=\"https://colab.research.google.com/github/filipecalegario/intro-programacao-python/blob/main/08_Tuplas_Dicionarios/Tuplas_preenchido_24_2.ipynb\" target=\"_parent\"><img src=\"https://colab.research.google.com/assets/colab-badge.svg\" alt=\"Open In Colab\"/></a>"
      ]
    },
    {
      "cell_type": "markdown",
      "metadata": {
        "id": "eM-dHYvWx0tI"
      },
      "source": [
        "# Tuplas\n",
        "\n",
        "Tuplas são similares a listas. Ou seja, elas servem para armazenar uma coleção de objetos. Porém, diferente das listas, as tuplas são imutáveis, não permitindo modificar os valores armazenados. Uma consequência dessa propriedade é que muitas das funções disponíveis para listas não podem ser aplicadas em tuplas.\n",
        "\n",
        "O uso de tuplas é recomendado em situações em que existe uma garantia de que os dados armazenados não serão modificados.\n",
        "\n",
        "Para definir uma tupla, utiliza-se um conjunto de objetos entre parênteses (opcional, mas recomendado) e separados por vírgula.\n"
      ]
    },
    {
      "cell_type": "code",
      "execution_count": 5,
      "metadata": {
        "scrolled": true,
        "colab": {
          "base_uri": "https://localhost:8080/"
        },
        "id": "2p9PUEYtx0tJ",
        "outputId": "ff73df99-e186-4543-9956-bba7743fccd2"
      },
      "outputs": [
        {
          "output_type": "stream",
          "name": "stdout",
          "text": [
            "O Brasil teve 4 presidentes no século XIX.\n",
            "O primeiro presidente do Brasil foi Deodoro da Fonseca.\n",
            "A relação completa de presidentes do século XIX é a seguinte:\n",
            "- Deodoro da Fonseca\n",
            "- Floriano Peixoto\n",
            "- Prudente de Morais\n",
            "- Campos Sales\n"
          ]
        }
      ],
      "source": [
        "presidentes_BR_sec_XIX = ('Deodoro da Fonseca', 'Floriano Peixoto','Prudente de Morais','Campos Sales')\n",
        "print(f'O Brasil teve {len(presidentes_BR_sec_XIX)} presidentes no século XIX.')\n",
        "print(f'O primeiro presidente do Brasil foi {presidentes_BR_sec_XIX[0]}.')\n",
        "print(f'A relação completa de presidentes do século XIX é a seguinte:')\n",
        "for presidente in presidentes_BR_sec_XIX:\n",
        "  print(f'- {presidente}')"
      ]
    },
    {
      "cell_type": "code",
      "execution_count": 6,
      "metadata": {
        "colab": {
          "base_uri": "https://localhost:8080/",
          "height": 141
        },
        "id": "FMQS_hMAx0tJ",
        "outputId": "371e67a2-56dc-49af-dec4-65e19bbd6814"
      },
      "outputs": [
        {
          "output_type": "error",
          "ename": "AttributeError",
          "evalue": "'tuple' object has no attribute 'remove'",
          "traceback": [
            "\u001b[0;31m---------------------------------------------------------------------------\u001b[0m",
            "\u001b[0;31mAttributeError\u001b[0m                            Traceback (most recent call last)",
            "\u001b[0;32m<ipython-input-6-0c5dfa297c90>\u001b[0m in \u001b[0;36m<cell line: 0>\u001b[0;34m()\u001b[0m\n\u001b[0;32m----> 1\u001b[0;31m \u001b[0mpresidentes_BR_sec_XIX\u001b[0m\u001b[0;34m.\u001b[0m\u001b[0mremove\u001b[0m\u001b[0;34m(\u001b[0m\u001b[0;34m'Campos Sales'\u001b[0m\u001b[0;34m)\u001b[0m\u001b[0;34m\u001b[0m\u001b[0;34m\u001b[0m\u001b[0m\n\u001b[0m",
            "\u001b[0;31mAttributeError\u001b[0m: 'tuple' object has no attribute 'remove'"
          ]
        }
      ],
      "source": [
        "presidentes_BR_sec_XIX.remove('Campos Sales')"
      ]
    },
    {
      "cell_type": "code",
      "source": [
        "dir(presidentes_BR_sec_XIX)"
      ],
      "metadata": {
        "id": "o_8Hf5ZizJS6",
        "outputId": "8701b185-6fe8-4022-888f-c1a2ee94feb4",
        "colab": {
          "base_uri": "https://localhost:8080/"
        }
      },
      "execution_count": 7,
      "outputs": [
        {
          "output_type": "execute_result",
          "data": {
            "text/plain": [
              "['__add__',\n",
              " '__class__',\n",
              " '__class_getitem__',\n",
              " '__contains__',\n",
              " '__delattr__',\n",
              " '__dir__',\n",
              " '__doc__',\n",
              " '__eq__',\n",
              " '__format__',\n",
              " '__ge__',\n",
              " '__getattribute__',\n",
              " '__getitem__',\n",
              " '__getnewargs__',\n",
              " '__getstate__',\n",
              " '__gt__',\n",
              " '__hash__',\n",
              " '__init__',\n",
              " '__init_subclass__',\n",
              " '__iter__',\n",
              " '__le__',\n",
              " '__len__',\n",
              " '__lt__',\n",
              " '__mul__',\n",
              " '__ne__',\n",
              " '__new__',\n",
              " '__reduce__',\n",
              " '__reduce_ex__',\n",
              " '__repr__',\n",
              " '__rmul__',\n",
              " '__setattr__',\n",
              " '__sizeof__',\n",
              " '__str__',\n",
              " '__subclasshook__',\n",
              " 'count',\n",
              " 'index']"
            ]
          },
          "metadata": {},
          "execution_count": 7
        }
      ]
    },
    {
      "cell_type": "code",
      "source": [
        "minha_lista = [1, 2, 3, 35, 25]\n",
        "dir(minha_lista)"
      ],
      "metadata": {
        "id": "Q3yj_irdzVcv",
        "outputId": "0323ae37-9166-451f-b16a-8f054a49b80a",
        "colab": {
          "base_uri": "https://localhost:8080/"
        }
      },
      "execution_count": 8,
      "outputs": [
        {
          "output_type": "execute_result",
          "data": {
            "text/plain": [
              "['__add__',\n",
              " '__class__',\n",
              " '__class_getitem__',\n",
              " '__contains__',\n",
              " '__delattr__',\n",
              " '__delitem__',\n",
              " '__dir__',\n",
              " '__doc__',\n",
              " '__eq__',\n",
              " '__format__',\n",
              " '__ge__',\n",
              " '__getattribute__',\n",
              " '__getitem__',\n",
              " '__getstate__',\n",
              " '__gt__',\n",
              " '__hash__',\n",
              " '__iadd__',\n",
              " '__imul__',\n",
              " '__init__',\n",
              " '__init_subclass__',\n",
              " '__iter__',\n",
              " '__le__',\n",
              " '__len__',\n",
              " '__lt__',\n",
              " '__mul__',\n",
              " '__ne__',\n",
              " '__new__',\n",
              " '__reduce__',\n",
              " '__reduce_ex__',\n",
              " '__repr__',\n",
              " '__reversed__',\n",
              " '__rmul__',\n",
              " '__setattr__',\n",
              " '__setitem__',\n",
              " '__sizeof__',\n",
              " '__str__',\n",
              " '__subclasshook__',\n",
              " 'append',\n",
              " 'clear',\n",
              " 'copy',\n",
              " 'count',\n",
              " 'extend',\n",
              " 'index',\n",
              " 'insert',\n",
              " 'pop',\n",
              " 'remove',\n",
              " 'reverse',\n",
              " 'sort']"
            ]
          },
          "metadata": {},
          "execution_count": 8
        }
      ]
    },
    {
      "cell_type": "markdown",
      "metadata": {
        "id": "h_V25sPgx0tJ"
      },
      "source": [
        "Uma **tupla vazia** pode ser escrita com um par de parênteses  `tupla_vazia = ()`.\n",
        "\n",
        "Porém, é preciso ter cuidado para criar uma tupla com um elemento apenas. Se tentarmos colocar um elemento entre parênteses apenas `tupla_um_elemento = (2)`, Python vai entender que estamos criando uma expressão. O resultado será o inteiro `2`."
      ]
    },
    {
      "cell_type": "code",
      "execution_count": 10,
      "metadata": {
        "colab": {
          "base_uri": "https://localhost:8080/"
        },
        "id": "Lm1hScEQx0tK",
        "outputId": "649f21c8-60f4-43b4-c81e-80981c23a54c"
      },
      "outputs": [
        {
          "output_type": "stream",
          "name": "stdout",
          "text": [
            "()\n",
            "<class 'tuple'>\n"
          ]
        }
      ],
      "source": [
        "minha_tupla = ()\n",
        "print(minha_tupla)\n",
        "print(type(minha_tupla))"
      ]
    },
    {
      "cell_type": "code",
      "source": [
        "minha_tupla = (2)\n",
        "print(minha_tupla)\n",
        "print(type(minha_tupla))"
      ],
      "metadata": {
        "id": "d9R1ADR4zzmh",
        "outputId": "db3dbe00-57ac-4fb1-d9f8-83047bd91863",
        "colab": {
          "base_uri": "https://localhost:8080/"
        }
      },
      "execution_count": 11,
      "outputs": [
        {
          "output_type": "stream",
          "name": "stdout",
          "text": [
            "2\n",
            "<class 'int'>\n"
          ]
        }
      ]
    },
    {
      "cell_type": "markdown",
      "metadata": {
        "id": "1MNIpUJJx0tK"
      },
      "source": [
        "Para evitar isso, temos que colocar uma vírgula após o **único** elemento da tupla `tupla_um_elemento = (2,)`."
      ]
    },
    {
      "cell_type": "code",
      "source": [
        "minha_tupla = (2,)\n",
        "print(minha_tupla)\n",
        "print(type(minha_tupla))"
      ],
      "metadata": {
        "id": "SCXWgmXTz7js",
        "outputId": "1c91282b-f1f5-45ca-cd24-3abe16c26e49",
        "colab": {
          "base_uri": "https://localhost:8080/"
        }
      },
      "execution_count": 12,
      "outputs": [
        {
          "output_type": "stream",
          "name": "stdout",
          "text": [
            "(2,)\n",
            "<class 'tuple'>\n"
          ]
        }
      ]
    },
    {
      "cell_type": "code",
      "source": [
        "len(minha_tupla)"
      ],
      "metadata": {
        "id": "To1kPQmEz-bs",
        "outputId": "9f6dcd4a-12be-4c4d-95c0-9cff287cf2ee",
        "colab": {
          "base_uri": "https://localhost:8080/"
        }
      },
      "execution_count": 13,
      "outputs": [
        {
          "output_type": "execute_result",
          "data": {
            "text/plain": [
              "1"
            ]
          },
          "metadata": {},
          "execution_count": 13
        }
      ]
    },
    {
      "cell_type": "code",
      "source": [
        "copas_brasil = (1958, 1962, 1970, 1994, 2002)"
      ],
      "metadata": {
        "id": "eMAGapKb0FGm"
      },
      "execution_count": 15,
      "outputs": []
    },
    {
      "cell_type": "code",
      "execution_count": 18,
      "metadata": {
        "colab": {
          "base_uri": "https://localhost:8080/"
        },
        "id": "_RxRhUxHx0tK",
        "outputId": "678d3376-dce5-4dec-bd14-26a14628a8ae"
      },
      "outputs": [
        {
          "output_type": "execute_result",
          "data": {
            "text/plain": [
              "(2002, 1994, 1970, 1962, 1958)"
            ]
          },
          "metadata": {},
          "execution_count": 18
        }
      ],
      "source": [
        "tuple(sorted(copas_brasil, reverse=True))"
      ]
    },
    {
      "cell_type": "code",
      "source": [
        "copas_brasil[6] = 2022"
      ],
      "metadata": {
        "id": "ooEsxFGF0gml",
        "outputId": "4ebd1d8d-3025-4d63-a81b-ec34beecf29d",
        "colab": {
          "base_uri": "https://localhost:8080/",
          "height": 141
        }
      },
      "execution_count": 19,
      "outputs": [
        {
          "output_type": "error",
          "ename": "TypeError",
          "evalue": "'tuple' object does not support item assignment",
          "traceback": [
            "\u001b[0;31m---------------------------------------------------------------------------\u001b[0m",
            "\u001b[0;31mTypeError\u001b[0m                                 Traceback (most recent call last)",
            "\u001b[0;32m<ipython-input-19-1502fd96d4ab>\u001b[0m in \u001b[0;36m<cell line: 0>\u001b[0;34m()\u001b[0m\n\u001b[0;32m----> 1\u001b[0;31m \u001b[0mcopas_brasil\u001b[0m\u001b[0;34m[\u001b[0m\u001b[0;36m6\u001b[0m\u001b[0;34m]\u001b[0m \u001b[0;34m=\u001b[0m \u001b[0;36m2022\u001b[0m\u001b[0;34m\u001b[0m\u001b[0;34m\u001b[0m\u001b[0m\n\u001b[0m",
            "\u001b[0;31mTypeError\u001b[0m: 'tuple' object does not support item assignment"
          ]
        }
      ]
    },
    {
      "cell_type": "code",
      "source": [
        "(3, 10, 1) < (5, 1, 2)"
      ],
      "metadata": {
        "id": "NQmFnl2p06HZ",
        "outputId": "5aa203af-68cb-403f-bc52-d385ae5809c5",
        "colab": {
          "base_uri": "https://localhost:8080/"
        }
      },
      "execution_count": 26,
      "outputs": [
        {
          "output_type": "execute_result",
          "data": {
            "text/plain": [
              "True"
            ]
          },
          "metadata": {},
          "execution_count": 26
        }
      ]
    },
    {
      "cell_type": "code",
      "source": [
        "t1 = (3, 10, 1)\n",
        "t2 = (5, 1, 2)\n",
        "\n",
        "comparacoes = []  # Lista vazia para armazenar os resultados\n",
        "zipped = zip(t1, t2)\n",
        "\n",
        "for a, b in zip(t1, t2):\n",
        "    comparacoes.append(a < b)  # Adiciona o resultado da comparação na lista\n",
        "\n",
        "print(comparacoes)  # Saída: [True, False, True]\n",
        "print(list(zipped))"
      ],
      "metadata": {
        "id": "jqndZYp722jj",
        "outputId": "1e2f2396-81ee-4d63-a2f9-d7eb70a52465",
        "colab": {
          "base_uri": "https://localhost:8080/"
        }
      },
      "execution_count": 29,
      "outputs": [
        {
          "output_type": "stream",
          "name": "stdout",
          "text": [
            "[True, False, True]\n",
            "[(3, 5), (10, 1), (1, 2)]\n"
          ]
        }
      ]
    },
    {
      "cell_type": "code",
      "source": [],
      "metadata": {
        "id": "QOYObGwN3_L5"
      },
      "execution_count": null,
      "outputs": []
    }
  ],
  "metadata": {
    "kernelspec": {
      "display_name": "Python 3",
      "language": "python",
      "name": "python3"
    },
    "language_info": {
      "codemirror_mode": {
        "name": "ipython",
        "version": 3
      },
      "file_extension": ".py",
      "mimetype": "text/x-python",
      "name": "python",
      "nbconvert_exporter": "python",
      "pygments_lexer": "ipython3",
      "version": "3.8.3"
    },
    "colab": {
      "provenance": [],
      "include_colab_link": true
    }
  },
  "nbformat": 4,
  "nbformat_minor": 0
}