{
 "cells": [
  {
   "cell_type": "markdown",
   "metadata": {},
   "source": [
    "# Listas\n",
    "\n",
    "Uma lista é uma estrutura de dados que armazena uma coleção ordenada de itens. Por exemplo, para criar uma lista com nome dos alunos de uma turma, podemos usar o seguinte comando:"
   ]
  },
  {
   "cell_type": "code",
   "execution_count": 30,
   "metadata": {},
   "outputs": [
    {
     "name": "stdout",
     "output_type": "stream",
     "text": [
      "['Rui', 'Heloísa', 'Augusto', 'Letícia']\n"
     ]
    }
   ],
   "source": [
    "lista_alunos = [\"Rui\",\"Heloísa\",\"Augusto\",\"Letícia\"]\n",
    "print(lista_alunos)"
   ]
  },
  {
   "cell_type": "markdown",
   "metadata": {},
   "source": [
    "Como resultado, teremos:\n",
    "\n",
    "<img  src=\"./lista01.png\" width=\"400\" />\n",
    "\n",
    "De forma similar, podemos criar uma lista de frutas:"
   ]
  },
  {
   "cell_type": "code",
   "execution_count": 31,
   "metadata": {},
   "outputs": [
    {
     "name": "stdout",
     "output_type": "stream",
     "text": [
      "['Limão', 'Maçã', 'Uva', 'Acerola', 'Abacaxi']\n"
     ]
    }
   ],
   "source": [
    "lista_frutas = [\"Limão\",\"Maçã\",\"Uva\",\"Acerola\",\"Abacaxi\"]\n",
    "print(lista_frutas)"
   ]
  },
  {
   "cell_type": "markdown",
   "metadata": {},
   "source": [
    "Resultando em:\n",
    "\n",
    "<img  src=\"./lista02.png\" width=\"400\" />"
   ]
  },
  {
   "cell_type": "markdown",
   "metadata": {},
   "source": [
    "### Tamanho da lista -  comando len(nome_lista)\n",
    "\n",
    "O comando `len` é muito útil. Ele serve para calcular o tamanho de uma determinada lista."
   ]
  },
  {
   "cell_type": "code",
   "execution_count": 32,
   "metadata": {},
   "outputs": [
    {
     "name": "stdout",
     "output_type": "stream",
     "text": [
      "A turma possui 4 alunos, cujos nomes são ['Rui', 'Heloísa', 'Augusto', 'Letícia']\n"
     ]
    }
   ],
   "source": [
    "print(f\"A turma possui {len(lista_alunos)} alunos, cujos nomes são {lista_alunos}\")"
   ]
  },
  {
   "cell_type": "markdown",
   "metadata": {},
   "source": [
    "Agora, usando o comando `for` para percorrer a lista."
   ]
  },
  {
   "cell_type": "code",
   "execution_count": 33,
   "metadata": {},
   "outputs": [
    {
     "name": "stdout",
     "output_type": "stream",
     "text": [
      "A turma possui 4 alunos, cujos nomes são:\n",
      "Rui\n",
      "Heloísa\n",
      "Augusto\n",
      "Letícia\n"
     ]
    }
   ],
   "source": [
    "print(f\"A turma possui {len(lista_alunos)} alunos, cujos nomes são:\")\n",
    "for nome in lista_alunos:\n",
    "    print(nome)"
   ]
  },
  {
   "cell_type": "markdown",
   "metadata": {},
   "source": [
    "### Lista é uma estrutura Mutável\n",
    "\n",
    "Permite inserir e remover elementos, que altera a dimensão da lista.\n",
    "\n",
    "#### Comando append\n",
    "\n",
    "O comando `append` acrescenta um elemento no FINAL da lista.\n",
    "\n",
    "**Obs:** veremos adiante como inserir um elemento em qualquer lugar da lista.\n",
    "\n",
    "Por exemplo, assumindo a lista\n",
    "\n",
    "<img  src=\"./lista01.png\" width=\"350\" />\n",
    "\n",
    "Para inserir o aluno *Guilherme* no final da lista e obter o seguinte resultado\n",
    "\n",
    "<img  src=\"./lista03.png\" width=\"400\" />\n",
    "\n",
    "Podemos usar o comando `append`, como segue:"
   ]
  },
  {
   "cell_type": "code",
   "execution_count": 34,
   "metadata": {},
   "outputs": [
    {
     "name": "stdout",
     "output_type": "stream",
     "text": [
      "['Rui', 'Heloísa', 'Augusto', 'Letícia']\n",
      "['Rui', 'Heloísa', 'Augusto', 'Letícia', 'Guilherme']\n"
     ]
    }
   ],
   "source": [
    "lista_alunos = [\"Rui\",\"Heloísa\",\"Augusto\",\"Letícia\"]\n",
    "print(lista_alunos)\n",
    "lista_alunos.append(\"Guilherme\")\n",
    "print(lista_alunos)"
   ]
  },
  {
   "cell_type": "markdown",
   "metadata": {},
   "source": [
    "### Índice de Listas\n",
    "\n",
    "Para acessar elementos específicos da lista, deve-se utilizar a posição (índice) do elemento, que inicia em **0, não em 1**.\n",
    "\n",
    "<img  src=\"./lista04.png\" width=\"400\" />"
   ]
  },
  {
   "cell_type": "code",
   "execution_count": 35,
   "metadata": {},
   "outputs": [
    {
     "name": "stdout",
     "output_type": "stream",
     "text": [
      "Heloísa\n"
     ]
    }
   ],
   "source": [
    "lista_alunos = [\"Rui\",\"Heloísa\",\"Augusto\",\"Letícia\"]\n",
    "print(lista_alunos[1])"
   ]
  },
  {
   "cell_type": "markdown",
   "metadata": {},
   "source": [
    "Para acessar os últimos elementos, utiliza-se o índice -1, -2, ...\n",
    "\n",
    "\n",
    "<img  src=\"./lista05.png\" width=\"400\" />"
   ]
  },
  {
   "cell_type": "code",
   "execution_count": 36,
   "metadata": {},
   "outputs": [
    {
     "name": "stdout",
     "output_type": "stream",
     "text": [
      "Letícia\n",
      "Augusto\n"
     ]
    }
   ],
   "source": [
    "lista_alunos = [\"Rui\",\"Heloísa\",\"Augusto\",\"Letícia\"]\n",
    "print(lista_alunos[-1])\n",
    "print(lista_alunos[-2])"
   ]
  },
  {
   "cell_type": "markdown",
   "metadata": {},
   "source": [
    "### Slicing\n",
    "\n",
    "É possível acessar um intervalo do conteúdo da lista."
   ]
  },
  {
   "cell_type": "code",
   "execution_count": 37,
   "metadata": {},
   "outputs": [
    {
     "name": "stdout",
     "output_type": "stream",
     "text": [
      "['Rui', 'Heloísa']\n"
     ]
    }
   ],
   "source": [
    "lista_alunos = [\"Rui\",\"Heloísa\",\"Augusto\",\"Letícia\"]\n",
    "print(lista_alunos[0:2])"
   ]
  },
  {
   "cell_type": "code",
   "execution_count": 38,
   "metadata": {},
   "outputs": [
    {
     "name": "stdout",
     "output_type": "stream",
     "text": [
      "['Rui', 'Heloísa']\n"
     ]
    }
   ],
   "source": [
    "print(lista_alunos[:2])"
   ]
  },
  {
   "cell_type": "code",
   "execution_count": 39,
   "metadata": {},
   "outputs": [
    {
     "name": "stdout",
     "output_type": "stream",
     "text": [
      "['Augusto', 'Letícia']\n"
     ]
    }
   ],
   "source": [
    "print(lista_alunos[2:])"
   ]
  },
  {
   "cell_type": "markdown",
   "metadata": {},
   "source": [
    "### Operações sobre listas numéricas\n",
    "\n",
    "Vamos assumir a seguinte lista:\n",
    "\n",
    "\n",
    "<img  src=\"./lista06.png\" width=\"400\" />\n",
    "\n",
    "Algumas funções úteis para operar sobre listas numéricas:\n",
    "- len(lista): retorna o tamanho de `lista`\n",
    "- sum(lista): retorna a soma elementos armazenados em `lista`\n",
    "- min(lista): retorna o menor valor armazenado em `lista`\n",
    "- max(lista): retorna o maior valor armazenado em `lista`\n",
    "- lista.count(valor): retorna o número de ocorrências de `valor` em `lista`"
   ]
  },
  {
   "cell_type": "code",
   "execution_count": 40,
   "metadata": {},
   "outputs": [
    {
     "name": "stdout",
     "output_type": "stream",
     "text": [
      "lista_numerica: [1, 3, 5, 1, 4, 3]\n",
      "len: 6\n",
      "sum: 17\n",
      "min: 1\n",
      "max: 5\n",
      "count(3): 2\n"
     ]
    }
   ],
   "source": [
    "lista_numerica = [1, 3, 5, 1, 4, 3]\n",
    "print(f\"lista_numerica: {lista_numerica}\")\n",
    "print(f\"len: {len(lista_numerica)}\")\n",
    "print(f\"sum: {sum(lista_numerica)}\")\n",
    "print(f\"min: {min(lista_numerica)}\")\n",
    "print(f\"max: {max(lista_numerica)}\")\n",
    "print(f\"count(3): {lista_numerica.count(3)}\")"
   ]
  },
  {
   "cell_type": "markdown",
   "metadata": {},
   "source": [
    "### Operações sobre listas não numéricas\n",
    "\n",
    "Vamos assumir a seguinte lista:\n",
    "\n",
    "<img  src=\"./lista07.png\" width=\"400\" />\n",
    "\n",
    "Algumas funções úteis para operar sobre listas numéricas:\n",
    "- len(lista): retorna o tamanho de `lista`\n",
    "- min(lista): retorna o menor valor armazenado em `lista`\n",
    "- max(lista): retorna o maior valor armazenado em `lista`\n",
    "- lista.count(valor): retorna o número de ocorrências de `valor` em `lista` "
   ]
  },
  {
   "cell_type": "code",
   "execution_count": 41,
   "metadata": {},
   "outputs": [
    {
     "name": "stdout",
     "output_type": "stream",
     "text": [
      "lista_alunos: ['Rui', 'Heloísa', 'Augusto', 'Heloísa', 'Letícia']\n",
      "len: 5\n",
      "min: Augusto\n",
      "max: Rui\n",
      "count(Heloísa): 2\n"
     ]
    }
   ],
   "source": [
    "lista_alunos = [\"Rui\",\"Heloísa\",\"Augusto\",\"Heloísa\",\"Letícia\"]\n",
    "print(f\"lista_alunos: {lista_alunos}\")\n",
    "print(f\"len: {len(lista_alunos)}\")\n",
    "print(f\"min: {min(lista_alunos)}\")\n",
    "print(f\"max: {max(lista_alunos)}\")\n",
    "print(f\"count(Heloísa): {lista_alunos.count('Heloísa')}\")"
   ]
  },
  {
   "cell_type": "markdown",
   "metadata": {},
   "source": [
    "lista.index(valor): retorna o índice da primeira ocorrência de `valor` em `lista`  \n",
    "lista.index(valor,idx_inicio): retorna o índice da primeira ocorrência de `valor` em `lista`, a partir da posição `idx_inicio`"
   ]
  },
  {
   "cell_type": "code",
   "execution_count": 42,
   "metadata": {},
   "outputs": [
    {
     "name": "stdout",
     "output_type": "stream",
     "text": [
      "index(Heloísa): 1\n",
      "index(Heloísa,1): 1\n",
      "index(Heloísa,2): 3\n"
     ]
    }
   ],
   "source": [
    "lista_alunos = [\"Rui\",\"Heloísa\",\"Augusto\",\"Heloísa\",\"Letícia\"]\n",
    "print(f\"index(Heloísa): {lista_alunos.index('Heloísa')}\")\n",
    "print(f\"index(Heloísa,1): {lista_alunos.index('Heloísa',1)}\")\n",
    "print(f\"index(Heloísa,2): {lista_alunos.index('Heloísa',2)}\")"
   ]
  },
  {
   "cell_type": "markdown",
   "metadata": {},
   "source": [
    "lista.sort(): ordena `lista` em ordem crescente  \n",
    "lista.sort(reverse = True): ordena `lista` em ordem decrescente"
   ]
  },
  {
   "cell_type": "code",
   "execution_count": 43,
   "metadata": {},
   "outputs": [
    {
     "name": "stdout",
     "output_type": "stream",
     "text": [
      "list.sort(): ['Augusto', 'Heloísa', 'Heloísa', 'Letícia', 'Rui']\n",
      "list.sort(reverse = True): ['Rui', 'Letícia', 'Heloísa', 'Heloísa', 'Augusto']\n"
     ]
    }
   ],
   "source": [
    "lista_alunos = [\"Rui\",\"Heloísa\",\"Augusto\",\"Heloísa\",\"Letícia\"]\n",
    "lista_alunos.sort()\n",
    "print(f\"list.sort(): {lista_alunos}\")\n",
    "lista_alunos.sort(reverse = True)\n",
    "print(f\"list.sort(reverse = True): {lista_alunos}\")\n",
    "      "
   ]
  },
  {
   "cell_type": "markdown",
   "metadata": {},
   "source": [
    "sorted(lista) - ordena em `lista` em ordem crescente sem modificar `lista`"
   ]
  },
  {
   "cell_type": "code",
   "execution_count": 44,
   "metadata": {},
   "outputs": [
    {
     "name": "stdout",
     "output_type": "stream",
     "text": [
      "sorted: ['Augusto', 'Heloísa', 'Heloísa', 'Letícia', 'Rui']\n",
      "lista_alunos: ['Rui', 'Heloísa', 'Augusto', 'Heloísa', 'Letícia']\n"
     ]
    }
   ],
   "source": [
    "lista_alunos = [\"Rui\",\"Heloísa\",\"Augusto\",\"Heloísa\",\"Letícia\"]\n",
    "lista_alunosAtoZ = sorted(lista_alunos)\n",
    "print(f\"sorted: {lista_alunosAtoZ}\")\n",
    "print(f\"lista_alunos: {lista_alunos}\")\n"
   ]
  },
  {
   "cell_type": "markdown",
   "metadata": {},
   "source": [
    "### Listas - Inserção/Remoção de elementos\n",
    "\n",
    "`lista.append(valor)` adiciona `valor` no fim da lista."
   ]
  },
  {
   "cell_type": "code",
   "execution_count": 45,
   "metadata": {},
   "outputs": [
    {
     "name": "stdout",
     "output_type": "stream",
     "text": [
      "['Rui', 'Heloísa', 'Augusto', 'Heloísa', 'Letícia']\n",
      "['Rui', 'Heloísa', 'Augusto', 'Heloísa', 'Letícia', 'Guilherme']\n"
     ]
    }
   ],
   "source": [
    "lista_alunos = [\"Rui\",\"Heloísa\",\"Augusto\",\"Heloísa\",\"Letícia\"]\n",
    "print(lista_alunos)\n",
    "lista_alunos.append(\"Guilherme\")\n",
    "print(lista_alunos)"
   ]
  },
  {
   "cell_type": "markdown",
   "metadata": {},
   "source": [
    "`lista.insert(idx,valor)` adiciona `valor` na posição com índice `idx`"
   ]
  },
  {
   "cell_type": "code",
   "execution_count": 46,
   "metadata": {},
   "outputs": [
    {
     "name": "stdout",
     "output_type": "stream",
     "text": [
      "['Rui', 'Heloísa', 'Augusto', 'Heloísa', 'Letícia']\n",
      "['Rui', 'Heloísa', 'Guilherme', 'Augusto', 'Heloísa', 'Letícia']\n"
     ]
    }
   ],
   "source": [
    "lista_alunos = [\"Rui\",\"Heloísa\",\"Augusto\",\"Heloísa\",\"Letícia\"]\n",
    "print(lista_alunos)\n",
    "lista_alunos.insert(2,\"Guilherme\")\n",
    "print(lista_alunos)"
   ]
  },
  {
   "cell_type": "markdown",
   "metadata": {},
   "source": [
    "`lista.remove(valor)` remove a primeira ocorrência `valor` em `lista`"
   ]
  },
  {
   "cell_type": "code",
   "execution_count": 47,
   "metadata": {},
   "outputs": [
    {
     "name": "stdout",
     "output_type": "stream",
     "text": [
      "['Rui', 'Heloísa', 'Augusto', 'Heloísa', 'Augusto']\n",
      "['Rui', 'Heloísa', 'Heloísa', 'Augusto']\n"
     ]
    }
   ],
   "source": [
    "lista_alunos = [\"Rui\",\"Heloísa\",\"Augusto\",\"Heloísa\",\"Augusto\"]\n",
    "print(lista_alunos)\n",
    "lista_alunos.remove(\"Augusto\")\n",
    "print(lista_alunos)"
   ]
  },
  {
   "cell_type": "markdown",
   "metadata": {},
   "source": [
    "`lista.pop(idx)` remove elemento de `lista` com índice `idx` e retorna o elemento como resultado"
   ]
  },
  {
   "cell_type": "code",
   "execution_count": 48,
   "metadata": {},
   "outputs": [
    {
     "name": "stdout",
     "output_type": "stream",
     "text": [
      "lista_alunos: ['Rui', 'Heloísa', 'Augusto', 'Heloísa', 'Augusto']\n",
      "lista_alunos: ['Rui', 'Heloísa', 'Heloísa', 'Augusto']\n",
      "aluno: Augusto\n"
     ]
    }
   ],
   "source": [
    "lista_alunos = [\"Rui\",\"Heloísa\",\"Augusto\",\"Heloísa\",\"Augusto\"]\n",
    "print(f\"lista_alunos: {lista_alunos}\")\n",
    "aluno = lista_alunos.pop(2)\n",
    "print(f\"lista_alunos: {lista_alunos}\")\n",
    "print(f\"aluno: {aluno}\")"
   ]
  },
  {
   "cell_type": "markdown",
   "metadata": {},
   "source": [
    "Vamos ver agora como podemos acrescentar uma lista no final de outra por meio do comando `append`.  \n",
    "\n",
    "Assuma as seguintes listas:\n",
    "\n",
    "<img  src=\"./lista08.png\" width=\"300\" />\n",
    "\n"
   ]
  },
  {
   "cell_type": "code",
   "execution_count": 49,
   "metadata": {},
   "outputs": [
    {
     "name": "stdout",
     "output_type": "stream",
     "text": [
      "['Rui', 'Heloísa', 'Letícia', ['Heloísa', 'Guilherme']]\n"
     ]
    }
   ],
   "source": [
    "turma1 = [\"Rui\",\"Heloísa\",\"Letícia\"]\n",
    "turma2 = [\"Heloísa\",\"Guilherme\"]\n",
    "turma1.append(turma2)\n",
    "print(turma1)"
   ]
  },
  {
   "cell_type": "markdown",
   "metadata": {},
   "source": [
    "<img  src=\"./lista09.png\" width=\"250\" />\n",
    "Em Python, um lista pode conter elementos de **diferentes tipos**!!!  \n",
    "\n",
    "Isso ocorre porque uma lista é implementada como uma **lista de ponteiros**, que podem referenciar **elementos de qualquer tipo**. O efeito gerado pelo comando `turma1.append(turma2)` será a geração de uma lista com a seguinte estrutira:\n",
    "\n",
    "\n",
    "<img  src=\"./lista10.png\" width=\"400\" />\n",
    "\n",
    "Voltando ao nosso exemplo, para termos o efeito desejado de acrescentar `turma2` no final de `turma1` utilizaremos o operador de concatenação `+` entre listas. "
   ]
  },
  {
   "cell_type": "code",
   "execution_count": 50,
   "metadata": {},
   "outputs": [
    {
     "name": "stdout",
     "output_type": "stream",
     "text": [
      "['Rui', 'Heloísa', 'Letícia', 'Heloísa', 'Guilherme']\n"
     ]
    }
   ],
   "source": [
    "turma1 = [\"Rui\",\"Heloísa\",\"Letícia\"]\n",
    "turma2 = [\"Heloísa\",\"Guilherme\"]\n",
    "turma1 = turma1 + turma2\n",
    "print(turma1)"
   ]
  },
  {
   "cell_type": "markdown",
   "metadata": {},
   "source": [
    "<img  src=\"./lista11.png\" width=\"160\" />\n",
    "\n",
    "# COLOCAR ALGUNS EXERCÍCIOS AQUI\n",
    "\n",
    "### Aliasing\n",
    "\n",
    "Em Python, é possível que uma mesma posição de memória possa ser acessada a partir de duas ou mais variáveis. Esse fenômeno é conhecido com **aliasing**. Uma consequência imediata e perigosa do *aliasing* é que modificações feitas através de uma das variáveis tem efeito em todas as outras variáveis que acessam a posição de memória modificada. Tal comportamento torna o programa difícil de entender, analisar e otimizar.  \n",
    "\n",
    "O código a seguir apresenta um exemplo de *aliasing*. Sua execução tem o efeito observado no diagrama:\n",
    "<img  src=\"./lista12.png\" width=\"260\" />\n",
    "O código *\"tenta\"* armazenar uma **cópia** da lista `turma1` em uma nova lista `turma2`. Porém, ao invés de fazer uma cópia de `turma1`, o código faz com que `turma2` passe a referenciar a mesma lista (posição de memória) que está sendo referenciada por `turma1`. Na sequência, quando o valor `\"Rui\"` é removido da lista referenciada por `turma2`, ocorre também a remoção **indesejada** do valor `\"Rui\"`  da lista `turma1`. "
   ]
  },
  {
   "cell_type": "code",
   "execution_count": 52,
   "metadata": {},
   "outputs": [
    {
     "name": "stdout",
     "output_type": "stream",
     "text": [
      "turma1: ['Augusto', 'Letícia']\n",
      "turma2: ['Augusto', 'Letícia']\n"
     ]
    }
   ],
   "source": [
    "turma1 = [\"Rui\",\"Augusto\",\"Letícia\"]\n",
    "turma2 = turma1\n",
    "turma2.remove(\"Rui\")\n",
    "print(f\"turma1: {turma1}\")\n",
    "print(f\"turma2: {turma2}\")"
   ]
  },
  {
   "cell_type": "markdown",
   "metadata": {},
   "source": [
    "Para evitar o efeito **indesejado** do *aliasing* e obter o resultado do diagrama a seguir, podemos lançar mão da função `lista.copy()`, que cria uma cópia de `lista`. \n",
    "\n",
    "<img  src=\"./lista13.png\" width=\"250\" />\n",
    "\n",
    "Note que, como`turma2` passa a referenciar uma cópia em uma nova posição de memória da lista referenciada por `turma1`, todas as operações feitas através de `turma2` não tem qualquer efeito em `turma1`. Vamos ver como fica no código."
   ]
  },
  {
   "cell_type": "code",
   "execution_count": 53,
   "metadata": {},
   "outputs": [
    {
     "name": "stdout",
     "output_type": "stream",
     "text": [
      "turma1: ['Rui', 'Augusto', 'Letícia']\n",
      "turma2: ['Augusto', 'Letícia']\n"
     ]
    }
   ],
   "source": [
    "turma1 = [\"Rui\",\"Augusto\",\"Letícia\"]\n",
    "turma2 = turma1.copy()\n",
    "turma2.remove(\"Rui\")\n",
    "print(f\"turma1: {turma1}\")\n",
    "print(f\"turma2: {turma2}\")"
   ]
  },
  {
   "cell_type": "markdown",
   "metadata": {},
   "source": [
    "### Iterando sobre listas\n",
    "\n",
    "Toda lista é um objeto **iterável** (iterable). Consequentemente, pode ser usado em um loop `for`."
   ]
  },
  {
   "cell_type": "code",
   "execution_count": 55,
   "metadata": {},
   "outputs": [
    {
     "name": "stdout",
     "output_type": "stream",
     "text": [
      "Rui\n",
      "Augusto\n",
      "Heloísa\n"
     ]
    }
   ],
   "source": [
    "turma1 = [\"Rui\",\"Augusto\",\"Heloísa\"]\n",
    "for aluno in turma1:\n",
    "    print(aluno)"
   ]
  },
  {
   "cell_type": "markdown",
   "metadata": {},
   "source": [
    "Python também permite iterar sobre Strings *(embora String não seja considerado iterable - vermos mais adiante)*\n"
   ]
  },
  {
   "cell_type": "code",
   "execution_count": 56,
   "metadata": {},
   "outputs": [
    {
     "name": "stdout",
     "output_type": "stream",
     "text": [
      "H\n",
      "e\n",
      "l\n",
      "o\n",
      "í\n",
      "s\n",
      "a\n"
     ]
    }
   ],
   "source": [
    "aluna = \"Heloísa\"\n",
    "for letra in aluna:\n",
    "    print(letra)"
   ]
  },
  {
   "cell_type": "markdown",
   "metadata": {},
   "source": [
    "### Exercício: arquivo corrompido\n",
    "\n",
    "Você abriu seu projeto de IP e observou que o arquivo foi corrompido e todas vogais acentuadas com os acentos agudos foram trocados por caracteres especiais:\n",
    "- á foi trocado por @\n",
    "- é foi trocado por &\n",
    "- í foi trocado por !\n",
    "- ó foi trocado por *\n",
    "- ú foi trocado por #\n",
    "\n",
    "Sua tarefa é fazer um programa para corrigir o texto corrompido:  \n",
    "\n",
    "<span style=\"color:purple\"> O comando for & o t*pico de estudo deste projeto. Ele & #til para iterar sobre objetos iter@veis. Muitos problemas podem ser resolvidos com o aux!lio do comando for. </span>\n",
    "\n",
    "<img  src=\"./lista14.png\" width=\"500\" />\n",
    "\n",
    "#### Solução"
   ]
  },
  {
   "cell_type": "code",
   "execution_count": 62,
   "metadata": {},
   "outputs": [
    {
     "name": "stdout",
     "output_type": "stream",
     "text": [
      "Texto corrompido: O comando for & o t*pico de estudo deste projeto. \n",
      "        Ele & #til para iterar sobre objetos iter@veis. \n",
      "        Muitos problemas podem ser resolvidos com o aux!lio do comando for.\n",
      "\n",
      "Texto corrigido: O comando for é o tópico de estudo deste projeto. \n",
      "        Ele é útil para iterar sobre objetos iteráveis. \n",
      "        Muitos problemas podem ser resolvidos com o auxílio do comando for.\n"
     ]
    }
   ],
   "source": [
    "texto = '''O comando for & o t*pico de estudo deste projeto. \n",
    "        Ele & #til para iterar sobre objetos iter@veis. \n",
    "        Muitos problemas podem ser resolvidos com o aux!lio do comando for.'''\n",
    "print(f\"Texto corrompido: {texto}\\n\")\n",
    "for letra in \"@&!*#\":\n",
    "    if(letra == \"@\"):\n",
    "        texto = texto.replace(\"@\",\"á\")\n",
    "    elif(letra == \"&\"):\n",
    "        texto = texto.replace(\"&\",\"é\")\n",
    "    elif(letra == \"!\"):\n",
    "        texto = texto.replace(\"!\",\"í\")\n",
    "    elif(letra == \"*\"):\n",
    "        texto = texto.replace(\"*\",\"ó\")\n",
    "    elif(letra == \"#\"):\n",
    "        texto = texto.replace(\"#\",\"ú\")\n",
    "\n",
    "print(f\"Texto corrigido: {texto}\")"
   ]
  }
 ],
 "metadata": {
  "kernelspec": {
   "display_name": "Python 3",
   "language": "python",
   "name": "python3"
  },
  "language_info": {
   "codemirror_mode": {
    "name": "ipython",
    "version": 3
   },
   "file_extension": ".py",
   "mimetype": "text/x-python",
   "name": "python",
   "nbconvert_exporter": "python",
   "pygments_lexer": "ipython3",
   "version": "3.7.6"
  }
 },
 "nbformat": 4,
 "nbformat_minor": 2
}
