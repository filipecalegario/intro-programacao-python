{
  "cells": [
    {
      "cell_type": "markdown",
      "metadata": {
        "id": "view-in-github",
        "colab_type": "text"
      },
      "source": [
        "<a href=\"https://colab.research.google.com/github/filipecalegario/intro-programacao-python/blob/main/07_Listas/Listas_para_preenchido_24_2.ipynb\" target=\"_parent\"><img src=\"https://colab.research.google.com/assets/colab-badge.svg\" alt=\"Open In Colab\"/></a>"
      ]
    },
    {
      "cell_type": "markdown",
      "metadata": {
        "id": "K_SSYA_rk-1_"
      },
      "source": [
        "# Listas"
      ]
    },
    {
      "cell_type": "markdown",
      "metadata": {
        "id": "XkUUlGQ7k-2B"
      },
      "source": [
        "Continuando a aula sobre listas:"
      ]
    },
    {
      "cell_type": "markdown",
      "metadata": {
        "id": "bcCDid2Pk-2B"
      },
      "source": [
        "\n",
        "Uma lista é uma estrutura de dados que armazena uma coleção ordenada de itens. Por exemplo, para criar uma lista com nome dos alunos de uma turma, podemos usar o seguinte comando:"
      ]
    },
    {
      "cell_type": "code",
      "execution_count": 1,
      "metadata": {
        "id": "m2b65rWak-2B",
        "outputId": "c5b1dcf1-eda5-48d0-955a-c6933a5840f2",
        "colab": {
          "base_uri": "https://localhost:8080/"
        }
      },
      "outputs": [
        {
          "output_type": "stream",
          "name": "stdout",
          "text": [
            "['Rui', 'Heloisa', 'Augusto', 'Letícia']\n"
          ]
        }
      ],
      "source": [
        "lista_alunos = [\"Rui\", \"Heloisa\", \"Augusto\", \"Letícia\"]\n",
        "print(lista_alunos)"
      ]
    },
    {
      "cell_type": "markdown",
      "metadata": {
        "id": "_Nyf-GMAk-2C"
      },
      "source": [
        "Como resultado, teremos:\n",
        "\n",
        "<img  src=\"https://github.com/filipecalegario/intro-programacao-python/blob/main/07_Listas/imgs/lista01.png?raw=1\" width=\"400\" />\n",
        "\n",
        "De forma similar, podemos criar uma lista de frutas:"
      ]
    },
    {
      "cell_type": "code",
      "execution_count": 2,
      "metadata": {
        "id": "A9xYjBnhk-2C",
        "outputId": "b9117857-5439-4c6a-9ad1-f955c90f131f",
        "colab": {
          "base_uri": "https://localhost:8080/"
        }
      },
      "outputs": [
        {
          "output_type": "stream",
          "name": "stdout",
          "text": [
            "['Limão', 'Maçã', 'Uva', 'Acerola', 'Abacaxi']\n"
          ]
        }
      ],
      "source": [
        "lista_frutas = [\"Limão\", \"Maçã\",\"Uva\",\"Acerola\",\"Abacaxi\"]\n",
        "print(lista_frutas)"
      ]
    },
    {
      "cell_type": "markdown",
      "metadata": {
        "id": "-0WbszXJk-2C"
      },
      "source": [
        "Resultando em:\n",
        "\n",
        "<img  src=\"https://github.com/filipecalegario/intro-programacao-python/blob/main/07_Listas/imgs/lista02.png?raw=1\" width=\"400\" />"
      ]
    },
    {
      "cell_type": "markdown",
      "metadata": {
        "id": "qxj2sxhJk-2C"
      },
      "source": [
        "### Tamanho da lista -  comando `len(nome_lista)`\n",
        "\n",
        "O comando `len` é muito útil. Ele serve para calcular o tamanho de uma determinada lista."
      ]
    },
    {
      "cell_type": "code",
      "execution_count": 9,
      "metadata": {
        "id": "PZZjZWJ8k-2C",
        "outputId": "1168169b-da57-4363-fec7-c27cbfefaba2",
        "colab": {
          "base_uri": "https://localhost:8080/"
        }
      },
      "outputs": [
        {
          "output_type": "stream",
          "name": "stdout",
          "text": [
            "3\n",
            "22\n"
          ]
        }
      ],
      "source": [
        "print(len(['nome 1', 'nome 2', 'nome 3']))\n",
        "print(len('nome 1, nome 2, nome 3'))"
      ]
    },
    {
      "cell_type": "markdown",
      "metadata": {
        "id": "ZSx7R4N9k-2C"
      },
      "source": [
        "Agora, usando o comando `for` para percorrer a lista."
      ]
    },
    {
      "cell_type": "code",
      "execution_count": 10,
      "metadata": {
        "id": "zNJ8XadLk-2D",
        "outputId": "cc76e19b-318a-468a-f5b2-5ba71559b890",
        "colab": {
          "base_uri": "https://localhost:8080/"
        }
      },
      "outputs": [
        {
          "output_type": "stream",
          "name": "stdout",
          "text": [
            "Rui\n",
            "Heloisa\n",
            "Augusto\n",
            "Letícia\n"
          ]
        }
      ],
      "source": [
        "for nome in lista_alunos:\n",
        "  print(nome)"
      ]
    },
    {
      "cell_type": "markdown",
      "metadata": {
        "id": "0pCKb8LRk-2D"
      },
      "source": [
        "### Lista é uma estrutura Mutável\n",
        "\n",
        "Permite inserir e remover elementos, que altera a dimensão da lista.\n",
        "\n",
        "#### Comando `append`\n",
        "\n",
        "O comando `append` acrescenta um elemento no FINAL da lista.\n",
        "\n",
        "**Obs:** veremos adiante como inserir um elemento em qualquer lugar da lista.\n",
        "\n",
        "Por exemplo, assumindo a lista\n",
        "\n",
        "<img  src=\"https://github.com/filipecalegario/intro-programacao-python/blob/main/07_Listas/imgs/lista01.png?raw=1\" width=\"350\" />\n",
        "\n",
        "Para inserir o aluno *Guilherme* no final da lista e obter o seguinte resultado\n",
        "\n",
        "<img  src=\"https://github.com/filipecalegario/intro-programacao-python/blob/main/07_Listas/imgs/lista03.png?raw=1\" width=\"400\" />\n",
        "\n",
        "Podemos usar o comando `append`, como segue:"
      ]
    },
    {
      "cell_type": "code",
      "execution_count": 12,
      "metadata": {
        "id": "0Zf53396k-2D",
        "outputId": "9c5cf9c6-b024-406f-efab-d2e113b1d5ac",
        "colab": {
          "base_uri": "https://localhost:8080/"
        }
      },
      "outputs": [
        {
          "output_type": "stream",
          "name": "stdout",
          "text": [
            "['Rui', 'Heloisa', 'Augusto', 'Letícia']\n",
            "['Rui', 'Heloisa', 'Augusto', 'Letícia', 'Guilherme']\n"
          ]
        }
      ],
      "source": [
        "print(lista_alunos)\n",
        "lista_alunos.append('Guilherme')\n",
        "print(lista_alunos)"
      ]
    },
    {
      "cell_type": "code",
      "source": [
        "nome = 'Filipe'\n",
        "lista_nome = []\n",
        "for letra in nome:\n",
        "  lista_nome.append(letra)\n",
        "print(lista_nome)\n",
        "lista_nome.append('s')\n",
        "print(lista_nome)\n",
        "\n",
        "saida = ''\n",
        "for letra in lista_nome:\n",
        "  saida = saida + letra\n",
        "print(saida)"
      ],
      "metadata": {
        "id": "WRXZbX_PnlxB",
        "outputId": "2a9091f1-b5d8-48eb-8e6d-ce9123f28580",
        "colab": {
          "base_uri": "https://localhost:8080/"
        }
      },
      "execution_count": 16,
      "outputs": [
        {
          "output_type": "stream",
          "name": "stdout",
          "text": [
            "['F', 'i', 'l', 'i', 'p', 'e']\n",
            "['F', 'i', 'l', 'i', 'p', 'e', 's']\n",
            "Filipes\n"
          ]
        }
      ]
    },
    {
      "cell_type": "markdown",
      "metadata": {
        "id": "zDxHgWwYk-2D"
      },
      "source": [
        "Da aula de ontem:"
      ]
    },
    {
      "cell_type": "code",
      "execution_count": null,
      "metadata": {
        "id": "MUSMMNC4k-2D"
      },
      "outputs": [],
      "source": [
        "linhas = 3\n",
        "colunas = 4\n",
        "\n",
        "matriz = []\n",
        "\n",
        "for i in range(linhas):\n",
        "    linha = []\n",
        "    for j in range(colunas):\n",
        "        linha.append(1)\n",
        "    matriz.append(linha)\n",
        "\n",
        "for linha in matriz:\n",
        "    print(linha)"
      ]
    },
    {
      "cell_type": "markdown",
      "metadata": {
        "id": "4y3NEhfFk-2D"
      },
      "source": [
        "### Índice de Listas\n",
        "\n",
        "Para acessar elementos específicos da lista, deve-se utilizar a posição (índice) do elemento, que inicia em **0, não em 1**.\n",
        "\n",
        "<img  src=\"https://github.com/filipecalegario/intro-programacao-python/blob/main/07_Listas/imgs/lista04.png?raw=1\" width=\"400\" />"
      ]
    },
    {
      "cell_type": "code",
      "execution_count": null,
      "metadata": {
        "id": "4G4Jk_Gjk-2D"
      },
      "outputs": [],
      "source": []
    },
    {
      "cell_type": "markdown",
      "metadata": {
        "id": "hglO4Ijek-2D"
      },
      "source": [
        "Para acessar os últimos elementos, utiliza-se o índice -1, -2, ...\n",
        "\n",
        "\n",
        "<img  src=\"https://github.com/filipecalegario/intro-programacao-python/blob/main/07_Listas/imgs/lista05.png?raw=1\" width=\"400\" />"
      ]
    },
    {
      "cell_type": "code",
      "execution_count": null,
      "metadata": {
        "id": "FcCu-rnVk-2D"
      },
      "outputs": [],
      "source": []
    },
    {
      "cell_type": "markdown",
      "metadata": {
        "id": "wqRx9Z4Ak-2D"
      },
      "source": [
        "### Slicing\n",
        "\n",
        "É possível acessar um intervalo do conteúdo da lista."
      ]
    },
    {
      "cell_type": "code",
      "execution_count": null,
      "metadata": {
        "id": "HzeTK4Pkk-2D"
      },
      "outputs": [],
      "source": []
    },
    {
      "cell_type": "code",
      "execution_count": null,
      "metadata": {
        "id": "AqXkQZHsk-2D"
      },
      "outputs": [],
      "source": []
    },
    {
      "cell_type": "code",
      "execution_count": null,
      "metadata": {
        "id": "poDIq0yzk-2D"
      },
      "outputs": [],
      "source": []
    },
    {
      "cell_type": "markdown",
      "metadata": {
        "id": "aT81O3HWk-2D"
      },
      "source": [
        "### Operações sobre listas numéricas\n",
        "\n",
        "Vamos assumir a seguinte lista:\n",
        "\n",
        "\n",
        "<img  src=\"https://github.com/filipecalegario/intro-programacao-python/blob/main/07_Listas/imgs/lista06.png?raw=1\" width=\"400\" />\n",
        "\n",
        "Algumas funções úteis para operar sobre listas numéricas:\n",
        "- `len(lista)`: retorna o tamanho de `lista`\n",
        "- `sum(lista)`: retorna a soma elementos armazenados em `lista`\n",
        "- `min(lista)`: retorna o menor valor armazenado em `lista`\n",
        "- `max(lista)`: retorna o maior valor armazenado em `lista`\n",
        "- `lista.count(valor)`: retorna o número de ocorrências de `valor` em `lista`"
      ]
    },
    {
      "cell_type": "code",
      "execution_count": null,
      "metadata": {
        "id": "h2nfeqXAk-2D"
      },
      "outputs": [],
      "source": []
    },
    {
      "cell_type": "markdown",
      "metadata": {
        "id": "DvrXORxBk-2D"
      },
      "source": [
        "### Operações sobre listas não numéricas\n",
        "\n",
        "Vamos assumir a seguinte lista:\n",
        "\n",
        "<img  src=\"https://github.com/filipecalegario/intro-programacao-python/blob/main/07_Listas/imgs/lista07.png?raw=1\" width=\"400\" />\n",
        "\n",
        "Algumas funções úteis para operar sobre listas numéricas:\n",
        "- len(lista): retorna o tamanho de `lista`\n",
        "- min(lista): retorna o menor valor armazenado em `lista`\n",
        "- max(lista): retorna o maior valor armazenado em `lista`\n",
        "- lista.count(valor): retorna o número de ocorrências de `valor` em `lista`"
      ]
    },
    {
      "cell_type": "code",
      "execution_count": null,
      "metadata": {
        "id": "bKNQNgwuk-2D"
      },
      "outputs": [],
      "source": []
    },
    {
      "cell_type": "markdown",
      "metadata": {
        "id": "HeBXGk7Ak-2D"
      },
      "source": [
        "`lista.index(valor)`: retorna o índice da primeira ocorrência de `valor` em `lista`  \n",
        "`lista.index(valor, idx_inicio)`: retorna o índice da primeira ocorrência de `valor` em `lista`, a partir da posição `idx_inicio`"
      ]
    },
    {
      "cell_type": "code",
      "execution_count": null,
      "metadata": {
        "id": "TGKfVMsck-2E"
      },
      "outputs": [],
      "source": []
    },
    {
      "cell_type": "markdown",
      "metadata": {
        "id": "ziwfFpqdk-2E"
      },
      "source": [
        "`lista.sort()`: ordena a `lista` em ordem crescente  \n",
        "`lista.sort(reverse = True)`: ordena a `lista` em ordem decrescente"
      ]
    },
    {
      "cell_type": "code",
      "execution_count": null,
      "metadata": {
        "id": "J_OjTOv-k-2E"
      },
      "outputs": [],
      "source": [
        ""
      ]
    },
    {
      "cell_type": "markdown",
      "metadata": {
        "id": "ElGZx0tbk-2E"
      },
      "source": [
        "`sorted(lista)` - ordena a `lista` em ordem crescente sem modificar `lista`"
      ]
    },
    {
      "cell_type": "code",
      "execution_count": null,
      "metadata": {
        "id": "IcWjRuqfk-2E"
      },
      "outputs": [],
      "source": []
    },
    {
      "cell_type": "markdown",
      "metadata": {
        "id": "zSAjzNxZk-2E"
      },
      "source": [
        "### Listas - Inserção/Remoção de elementos\n",
        "\n",
        "`lista.append(valor)` adiciona `valor` no fim da lista."
      ]
    },
    {
      "cell_type": "code",
      "execution_count": null,
      "metadata": {
        "id": "lmgSUG5wk-2E"
      },
      "outputs": [],
      "source": []
    },
    {
      "cell_type": "markdown",
      "metadata": {
        "id": "xrmt16Ojk-2E"
      },
      "source": [
        "`lista.insert(idx, valor)` adiciona `valor` na posição com índice `idx`"
      ]
    },
    {
      "cell_type": "code",
      "execution_count": null,
      "metadata": {
        "id": "zfx-FKDUk-2E"
      },
      "outputs": [],
      "source": []
    },
    {
      "cell_type": "markdown",
      "metadata": {
        "id": "lTmMUbyhk-2E"
      },
      "source": [
        "`lista.remove(valor)` remove a primeira ocorrência `valor` em `lista`"
      ]
    },
    {
      "cell_type": "code",
      "execution_count": null,
      "metadata": {
        "id": "zDBAiDjNk-2E"
      },
      "outputs": [],
      "source": []
    },
    {
      "cell_type": "markdown",
      "metadata": {
        "id": "t82TdDsfk-2I"
      },
      "source": [
        "`lista.pop(idx)` remove elemento de `lista` com índice `idx` e retorna o elemento como resultado"
      ]
    },
    {
      "cell_type": "code",
      "execution_count": null,
      "metadata": {
        "id": "xE0Sdfwik-2I"
      },
      "outputs": [],
      "source": []
    },
    {
      "cell_type": "markdown",
      "metadata": {
        "id": "5PgIdz4vk-2I"
      },
      "source": [
        "Vamos ver agora como podemos acrescentar uma lista no final de outra por meio do comando `append`.  \n",
        "\n",
        "Assuma as seguintes listas:\n",
        "\n",
        "<img  src=\"https://github.com/filipecalegario/intro-programacao-python/blob/main/07_Listas/imgs/lista08.png?raw=1\" width=\"300\" />\n",
        "\n"
      ]
    },
    {
      "cell_type": "code",
      "execution_count": null,
      "metadata": {
        "id": "Y7OTJyHvk-2I"
      },
      "outputs": [],
      "source": []
    },
    {
      "cell_type": "markdown",
      "metadata": {
        "id": "norTq53Mk-2I"
      },
      "source": [
        "<img  src=\"https://github.com/filipecalegario/intro-programacao-python/blob/main/07_Listas/imgs/lista09.png?raw=1\" width=\"250\" />\n",
        "\n",
        "Em Python, um lista pode conter elementos de __diferentes tipos__\n",
        "\n",
        "Isso ocorre porque uma lista é implementada como uma **lista de ponteiros**, que podem referenciar **elementos de qualquer tipo**. O efeito gerado pelo comando `turma1.append(turma2)` será a geração de uma lista com a seguinte estrutira:\n",
        "\n",
        "\n",
        "<img  src=\"https://github.com/filipecalegario/intro-programacao-python/blob/main/07_Listas/imgs/lista10.png?raw=1\" width=\"400\" />\n",
        "\n",
        "Voltando ao nosso exemplo, para termos o efeito desejado de acrescentar `turma2` no final de `turma1` utilizaremos o operador de concatenação `+` entre listas."
      ]
    },
    {
      "cell_type": "code",
      "execution_count": null,
      "metadata": {
        "id": "wYRWq_4Ak-2I"
      },
      "outputs": [],
      "source": []
    },
    {
      "cell_type": "markdown",
      "metadata": {
        "id": "oTtl1NNwk-2I"
      },
      "source": [
        "## Aliasing\n",
        "\n",
        "Em Python, é possível que uma mesma posição de memória possa ser acessada a partir de duas ou mais variáveis. Esse fenômeno é conhecido com **aliasing**. Uma consequência imediata e perigosa do *aliasing* é que modificações feitas através de uma das variáveis tem efeito em todas as outras variáveis que acessam a posição de memória modificada. Tal comportamento torna o programa difícil de entender, analisar e otimizar.  \n",
        "\n",
        "O código a seguir apresenta um exemplo de *aliasing*. Sua execução tem o efeito observado no diagrama:\n",
        "<img  src=\"https://github.com/filipecalegario/intro-programacao-python/blob/main/07_Listas/imgs/lista12.png?raw=1\" width=\"260\" />\n",
        "O código *\"tenta\"* armazenar uma **cópia** da lista `turma1` em uma nova lista `turma2`. Porém, ao invés de fazer uma cópia de `turma1`, o código faz com que `turma2` passe a referenciar a mesma lista (posição de memória) que está sendo referenciada por `turma1`. Na sequência, quando o valor `\"Rui\"` é removido da lista referenciada por `turma2`, ocorre também a remoção **indesejada** do valor `\"Rui\"`  da lista `turma1`."
      ]
    },
    {
      "cell_type": "code",
      "execution_count": null,
      "metadata": {
        "id": "1E776kaOk-2I"
      },
      "outputs": [],
      "source": []
    },
    {
      "cell_type": "markdown",
      "metadata": {
        "id": "SaVJUuFdk-2I"
      },
      "source": [
        "Para evitar o efeito **indesejado** do *aliasing* e obter o resultado do diagrama a seguir, podemos lançar mão da função `lista.copy()`, que cria uma cópia de `lista`.\n",
        "\n",
        "<img  src=\"https://github.com/filipecalegario/intro-programacao-python/blob/main/07_Listas/imgs/lista13.png?raw=1\" width=\"250\" />\n",
        "\n",
        "Note que, como`turma2` passa a referenciar uma cópia em uma nova posição de memória da lista referenciada por `turma1`, todas as operações feitas através de `turma2` não tem qualquer efeito em `turma1`. Vamos ver como fica no código."
      ]
    },
    {
      "cell_type": "code",
      "execution_count": null,
      "metadata": {
        "id": "822uX8r0k-2I"
      },
      "outputs": [],
      "source": []
    },
    {
      "cell_type": "markdown",
      "metadata": {
        "id": "WArVxT5jk-2J"
      },
      "source": [
        "### Iterando sobre listas\n",
        "\n",
        "Toda lista é um objeto **iterável** (iterable). Consequentemente, pode ser usado em um loop `for`."
      ]
    },
    {
      "cell_type": "code",
      "execution_count": null,
      "metadata": {
        "id": "Baf0HIR8k-2J"
      },
      "outputs": [],
      "source": []
    },
    {
      "cell_type": "markdown",
      "metadata": {
        "id": "Tok4lIA3k-2J"
      },
      "source": [
        "Python também permite iterar sobre strings *(embora string não seja considerada iterable - vermos mais adiante)*\n"
      ]
    },
    {
      "cell_type": "code",
      "execution_count": null,
      "metadata": {
        "id": "_PQt3VALk-2J"
      },
      "outputs": [],
      "source": []
    },
    {
      "cell_type": "markdown",
      "metadata": {
        "id": "AATpno8Tk-2J"
      },
      "source": [
        "### Exercício: arquivo corrompido\n",
        "\n",
        "Você abriu seu projeto e observou que o arquivo foi corrompido e todas vogais acentuadas com os acentos agudos foram trocados por caracteres especiais:\n",
        "- á foi trocado por @\n",
        "- é foi trocado por &\n",
        "- í foi trocado por !\n",
        "- ó foi trocado por *\n",
        "- ú foi trocado por #\n",
        "\n",
        "Sua tarefa é fazer um programa para corrigir o texto corrompido:  \n",
        "\n",
        "<span style=\"color:purple\"> O comando for & o t*pico de estudo deste projeto. Ele & #til para iterar sobre objetos iter@veis. Muitos problemas podem ser resolvidos com o aux!lio do comando for. </span>\n",
        "\n",
        "<img  src=\"https://github.com/filipecalegario/intro-programacao-python/blob/main/07_Listas/imgs/lista14.png?raw=1\" width=\"500\" />\n",
        "\n",
        "#### Solução"
      ]
    },
    {
      "cell_type": "code",
      "execution_count": null,
      "metadata": {
        "id": "2A00r74yk-2J"
      },
      "outputs": [],
      "source": []
    }
  ],
  "metadata": {
    "kernelspec": {
      "display_name": "Python 3.10.8 64-bit",
      "language": "python",
      "name": "python3"
    },
    "language_info": {
      "codemirror_mode": {
        "name": "ipython",
        "version": 3
      },
      "file_extension": ".py",
      "mimetype": "text/x-python",
      "name": "python",
      "nbconvert_exporter": "python",
      "pygments_lexer": "ipython3",
      "version": "3.10.8"
    },
    "vscode": {
      "interpreter": {
        "hash": "949777d72b0d2535278d3dc13498b2535136f6dfe0678499012e853ee9abcab1"
      }
    },
    "colab": {
      "provenance": [],
      "include_colab_link": true
    }
  },
  "nbformat": 4,
  "nbformat_minor": 0
}