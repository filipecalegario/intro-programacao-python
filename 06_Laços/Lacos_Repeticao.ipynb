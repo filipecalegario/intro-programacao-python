{
 "cells": [
  {
   "cell_type": "markdown",
   "metadata": {},
   "source": [
    "# Laços de Repetição (Loops)\n",
    "\n",
    "## O comando `while`\n",
    "\n",
    "A execução das instruções no bloco de comandos é repetida enquanto uma condição (EXP_BOOL) for verdadeira.\n",
    "\n",
    "<img  src=\"./imgs/while.png\" width=\"600\" />\n",
    "\n",
    "Vamos ver um exemplo."
   ]
  },
  {
   "cell_type": "code",
   "execution_count": null,
   "metadata": {},
   "outputs": [],
   "source": [
    "resp = input('Deseja continuar?\\n')\n",
    "\n",
    "while( (resp != 'sim') and ( resp != 'não')):\n",
    "    print('Resposta inválida!!!')\n",
    "    resp = input('Deseja continuar?\\n')\n",
    "else:\n",
    "    if(resp == 'sim'):\n",
    "        print('Ok! Vamos continuar.')\n",
    "    else:\n",
    "        print('Obrigado e até logo!')"
   ]
  },
  {
   "cell_type": "markdown",
   "metadata": {},
   "source": [
    "#### Exercício - Adivinhe o número sorteado\n",
    "<img  src=\"./imagens/sorteio.png\" align=\"right\" width=\"100\" />\n",
    "\n",
    "Sua tarefa é criar um jogo que vai sortear um número entre 0 e 100 e perguntar ao jogador qual foi o número sorteado.  \n",
    "\n",
    "Caso ele chute um número maior, você dá uma dica, informando que ele deve tentar um número menor e faz o inverso, caso ele digite um número menor.  \n",
    "\n",
    "O programa só termina quando o jogador acertar.\n",
    "\n",
    "utilize a função `randint` para gerar um número aleatório. Veja como ela funciona:"
   ]
  },
  {
   "cell_type": "code",
   "execution_count": null,
   "metadata": {},
   "outputs": [],
   "source": [
    "from random import randint\n",
    "\n",
    "# gera número inteiro aleatório entre 0 e 100\n",
    "num = randint(0,100)\n",
    "print(num)"
   ]
  },
  {
   "cell_type": "markdown",
   "metadata": {},
   "source": [
    "#### Solução"
   ]
  },
  {
   "cell_type": "code",
   "execution_count": null,
   "metadata": {},
   "outputs": [],
   "source": [
    "from random import randint\n",
    "\n",
    "# gera número inteiro aleatório entre 0 e 100\n",
    "num = randint(0,100)\n",
    "\n",
    "acertou = False\n",
    "chute = int(input('Digite um número inteiro no intervalo [0-100]: '))\n",
    "\n",
    "# início do while\n",
    "while (not acertou):\n",
    "    if (chute == num):\n",
    "        print('Parabéns, você acertou o número!')\n",
    "        acertou = True\n",
    "    elif(chute > num):\n",
    "        chute = int(input('Tente um número menor: '))\n",
    "    else:  \n",
    "        chute = int(input('Tente um número maior: '))\n",
    "else:\n",
    "    print('Fim de jogo!')\n",
    "# Fim do while\n",
    "\n",
    "print('Seu programa virá para cá quando o while terminar')"
   ]
  },
  {
   "cell_type": "markdown",
   "metadata": {},
   "source": [
    "#### Exercício - Números Ímpares\n",
    "Faça um programa para:\n",
    "- Ler um número inteiro maior que zero e menor que 100\n",
    "- Imprimir todos os números ímpares seguintes até 100 (separados por “,” e o último finaliza com um ‘“.”)\n",
    "\n",
    "**Obs:** *O Operador `%` calcula o módulo da divisão:*"
   ]
  },
  {
   "cell_type": "code",
   "execution_count": null,
   "metadata": {},
   "outputs": [],
   "source": [
    "10%2"
   ]
  },
  {
   "cell_type": "code",
   "execution_count": null,
   "metadata": {},
   "outputs": [],
   "source": [
    "11%2"
   ]
  },
  {
   "cell_type": "markdown",
   "metadata": {},
   "source": [
    "##### Solução"
   ]
  },
  {
   "cell_type": "code",
   "execution_count": null,
   "metadata": {},
   "outputs": [],
   "source": [
    "num = int(input('Digite um interior no intervalo [0-100]: '))\n",
    "\n",
    "# se for par, vai para o próximo número ímpar\n",
    "if(num%2 == 0):\n",
    "    num += 1\n",
    "\n",
    "while(num<99):\n",
    "    print(f'{num},', end=' ')\n",
    "    num += 2\n",
    "else:\n",
    "       print(f'{num}.')"
   ]
  },
  {
   "cell_type": "markdown",
   "metadata": {},
   "source": [
    "Melhore seu programa, fazendo com que ele continue pedindo o número inteiro positivo enquanto o usuário não digitar um número maior que zero.\n",
    "\n",
    "##### Solução"
   ]
  },
  {
   "cell_type": "code",
   "execution_count": null,
   "metadata": {},
   "outputs": [],
   "source": [
    "num = int(input('Digite um interior no intervalo [0-100]: '))\n",
    "\n",
    "while( (num<0) or (num>100)):\n",
    "    print('Intervalo Inválido!!!')\n",
    "    num = int(input('Digite um interior no intervalo [0-100]: '))\n",
    "\n",
    "# se for par, vai para o próximo número ímpar\n",
    "if(num%2 == 0):\n",
    "    num += 1\n",
    "\n",
    "while(num<99):\n",
    "    print(f'{num}, ', end=' ')\n",
    "    num += 2\n",
    "else:\n",
    "       print(f'{num}.')"
   ]
  },
  {
   "cell_type": "markdown",
   "metadata": {},
   "source": [
    "#### Exercício - Multiplicação com while\n",
    "Implemente um programa em Python para realizar uma operação de multiplicação através de múltiplas operações de soma.\n",
    "\n",
    "##### Solução"
   ]
  },
  {
   "cell_type": "code",
   "execution_count": null,
   "metadata": {},
   "outputs": [],
   "source": [
    "op1 = int(input('Digite o 1o operando: '))\n",
    "op2 = int(input('Digite o 2o operando: '))\n",
    "resultado = 0\n",
    "\n",
    "# Início do while\n",
    "while op1 > 0:\n",
    "    resultado += op2\n",
    "    op1 -= 1\n",
    "else:\n",
    "    print(f'O resultado da multiplicação foi {resultado}')"
   ]
  },
  {
   "cell_type": "markdown",
   "metadata": {},
   "source": [
    "### Lista de Números\n",
    "\n",
    "Uma lista de números é uma coleção de valores numéricos armazenados em uma variável. Vamos ver um exemplo."
   ]
  },
  {
   "cell_type": "code",
   "execution_count": null,
   "metadata": {},
   "outputs": [],
   "source": [
    "lista_num = [1, 2, 3, 4]\n",
    "print(lista_num)"
   ]
  },
  {
   "cell_type": "markdown",
   "metadata": {},
   "source": [
    "Por enquanto, é só o que precisamos saber para avançarmos no curso.\n",
    "Falaremos em detalhes sobre listas mais adiante!\n",
    "\n",
    "### A função `range`\n",
    "\n",
    "A função `range` foi criada para gerar uma lista de números.\n",
    "\n",
    "**range(start, stop, step)**\n",
    "- start - início da sequência (opcional; default -> 0)\n",
    "- stop - último elemento da sequência (obrigatório)\n",
    "- step - intervalo entre os elementos (opcional; default -> 1)\n",
    "\n",
    "Vamos ver alguns exemplos:"
   ]
  },
  {
   "cell_type": "code",
   "execution_count": null,
   "metadata": {},
   "outputs": [],
   "source": [
    "list(range(5))"
   ]
  },
  {
   "cell_type": "code",
   "execution_count": null,
   "metadata": {},
   "outputs": [],
   "source": [
    "list(range(1,5,2))"
   ]
  },
  {
   "cell_type": "code",
   "execution_count": null,
   "metadata": {},
   "outputs": [],
   "source": [
    "list(range(1,6,2))"
   ]
  },
  {
   "cell_type": "code",
   "execution_count": null,
   "metadata": {},
   "outputs": [],
   "source": [
    "list(range(5,1,-1))"
   ]
  },
  {
   "cell_type": "code",
   "execution_count": null,
   "metadata": {},
   "outputs": [],
   "source": [
    "list(range(1,5))"
   ]
  },
  {
   "cell_type": "markdown",
   "metadata": {},
   "source": [
    "### O comando `for` \n",
    "\n",
    "De maneira similar ao `while` o comando `for` repete um bloco de comandos.\n",
    "\t\t\n",
    "O comando `for` é indicado para situações em que se sabe antecipadamente o número de repetições que serão executadas.\n",
    "\n",
    "O `for` possui a seguinte estrutura:\n",
    "\n",
    "<img  src=\"./imgs/for.png\" width=\"400\" />\n",
    "\n",
    "O exemplo a seguir, executará o comando print(i), com i variando de 1 até 5. Em seguida, imprime Fim."
   ]
  },
  {
   "cell_type": "code",
   "execution_count": null,
   "metadata": {},
   "outputs": [],
   "source": [
    "for i in range(1,5):\n",
    "    print(i)\n",
    "else:\n",
    "    print('Fim')"
   ]
  },
  {
   "cell_type": "markdown",
   "metadata": {},
   "source": [
    "#### Exercício - Ímpares com o comando `for`\n",
    "\n",
    "Faça um programa que use o comando `for` para:\n",
    "1. Ler um número inteiro maior que zero e menor que 100\n",
    "2. Imprimir todos os números ímpares seguintes até 100   \n",
    "    (separados por “,” e o último finaliza com um ‘“.”)\n"
   ]
  },
  {
   "cell_type": "code",
   "execution_count": null,
   "metadata": {},
   "outputs": [],
   "source": [
    "num = int(input('Digite um interior no intervalo [0-100]: '))\n",
    "\n",
    "while (num < 0) or (num > 100):\n",
    "    print('Intervalo Inválido!!!')\n",
    "    num = int(input('Digite um interior no intervalo [0-100]: '))\n",
    "\n",
    "# se for par, vai para o próximo número ímpar\n",
    "if num % 2 == 0:\n",
    "    num += 1\n",
    "\n",
    "for i in range(num,100,2):\n",
    "    print(f'{i}, ', end=' ')\n",
    "    num += 2\n",
    "else:\n",
    "    print(f'{i}.')"
   ]
  },
  {
   "cell_type": "markdown",
   "metadata": {},
   "source": [
    "### Comando `for` com dois índices\n",
    "\n",
    "E se desejarmos variar dois índices em um comando for?\n",
    "\n",
    "<img  src=\"./imgs/for_dois_indices.png\" width=\"200\" />\n",
    "\n",
    "A solução é usar uma lista de tuplas:"
   ]
  },
  {
   "cell_type": "code",
   "execution_count": null,
   "metadata": {},
   "outputs": [],
   "source": [
    "for i, j in [(1,5),(2,6),(3,7)]:\n",
    "    print(i * j)\n",
    "else:\n",
    "    print(\"Fim\")"
   ]
  },
  {
   "cell_type": "markdown",
   "metadata": {},
   "source": [
    "`i` será associado ao 1º item da tupla  \n",
    "`j` será assocido ao 2º item da tupla \n",
    "\n",
    "Uma maneira mais prática utiliza a função `zip`, que recebe duas ou mais listas e cria uma lista de tuplas do tamanho da menor lista recebida."
   ]
  },
  {
   "cell_type": "code",
   "execution_count": null,
   "metadata": {},
   "outputs": [],
   "source": [
    "ij = zip(range(1,4),range(5,8))\n",
    "list(ij)"
   ]
  },
  {
   "cell_type": "code",
   "execution_count": null,
   "metadata": {},
   "outputs": [],
   "source": [
    "ijz = zip(range(1,4),range(5,8),range(1,40))\n",
    "list(ijz)"
   ]
  },
  {
   "cell_type": "markdown",
   "metadata": {},
   "source": [
    "Os códigos a seguir fazem a mesma coisa:"
   ]
  },
  {
   "cell_type": "code",
   "execution_count": null,
   "metadata": {},
   "outputs": [],
   "source": [
    "for i, j in [(1,5),(2,6),(3,7)]:\n",
    "    print(i * j)\n",
    "else:\n",
    "    print('Fim')"
   ]
  },
  {
   "cell_type": "code",
   "execution_count": null,
   "metadata": {},
   "outputs": [],
   "source": [
    "for i, j in zip([1,2,3],[5,6,7]):\n",
    "    print(i * j)\n",
    "else:\n",
    "    print('Fim')"
   ]
  },
  {
   "cell_type": "code",
   "execution_count": null,
   "metadata": {},
   "outputs": [],
   "source": [
    "for i, j in zip(range(1,4),range(5,8)):\n",
    "    print(i * j)\n",
    "else:\n",
    "    print('Fim')"
   ]
  },
  {
   "cell_type": "markdown",
   "metadata": {},
   "source": [
    "### Comando `break`\n",
    "\n",
    "Causa uma interrupção imediata do laço, continuando a execução do programa na próxima linha após o laço. \n",
    "\n",
    "O programa a seguir verifica uma senha, que pode conter qualquer símbolo, menos @"
   ]
  },
  {
   "cell_type": "code",
   "execution_count": null,
   "metadata": {},
   "outputs": [],
   "source": [
    "senha = 'senh@ errada'\n",
    "\n",
    "for i in range(0,len(senha)):\n",
    "    if senha[i] == '@':\n",
    "       print('Falhou no teste') \n",
    "       break\n",
    "    print('Letra permitida')\n",
    "else:\n",
    "    print('Passou no teste')"
   ]
  },
  {
   "cell_type": "markdown",
   "metadata": {},
   "source": [
    "Note que o `else` não foi executado, pois a execução do `for` for interrompida."
   ]
  },
  {
   "cell_type": "code",
   "execution_count": null,
   "metadata": {},
   "outputs": [],
   "source": [
    "senha = 'senha correta'\n",
    "\n",
    "for i in range(0,len(senha)):\n",
    "    if senha[i] == '@':\n",
    "       print('Falhou no teste') \n",
    "       break\n",
    "    print('Letra permitida')\n",
    "else:\n",
    "    print('Passou no teste')"
   ]
  },
  {
   "cell_type": "markdown",
   "metadata": {},
   "source": [
    "### O comando `continue`\n",
    "\n",
    "Quando é executado, o laço volta para o teste de condição do laço de repetição. \n",
    "\n",
    "**obs:** pode ser substituído por um comando `if` simples.\n",
    "\n",
    "Em que situação o programa não vai imprimir 10 números?"
   ]
  },
  {
   "cell_type": "code",
   "execution_count": null,
   "metadata": {},
   "outputs": [],
   "source": [
    "import random \n",
    "\n",
    "for i in range(10): \n",
    "    x = random.randint(-10,10) \n",
    "    # evita a divisão por zero\n",
    "    if x == 0: \n",
    "        continue \n",
    "    print (1/x)"
   ]
  },
  {
   "cell_type": "markdown",
   "metadata": {},
   "source": [
    "# Exercícios"
   ]
  },
  {
   "cell_type": "markdown",
   "metadata": {},
   "source": [
    "## Contagem de Voltas no Autódromo** 🏎️🏁  \n",
    "\n",
    "Você está treinando em um autódromo e quer registrar o **tempo de cada volta** para calcular o **tempo total e a volta mais rápida**.  \n",
    "\n",
    "#### **Tarefa:**  \n",
    "✅ Peça para o usuário informar **quantas voltas foram completadas**.  \n",
    "✅ Para cada volta, peça o **tempo (em segundos)** e armazene essa informação.  \n",
    "✅ Após coletar os tempos, exiba:  \n",
    "   - **Tempo total da sessão** (soma de todos os tempos).  \n",
    "   - **Volta mais rápida** (menor tempo registrado).\n",
    "   - **Média de tempo por volta** (tempo total dividido pelo número de voltas)  \n",
    "\n",
    "#### **Exemplo de entrada e saída esperada:**  \n",
    "```md\n",
    "Quantas voltas você completou? 4\n",
    "Tempo da volta 1 (segundos): 72\n",
    "Tempo da volta 2 (segundos): 69\n",
    "Tempo da volta 3 (segundos): 75\n",
    "Tempo da volta 4 (segundos): 68\n",
    "\n",
    "Tempo total: 284 segundos\n",
    "Volta mais rápida: 68 segundos\n",
    "```"
   ]
  },
  {
   "cell_type": "code",
   "execution_count": null,
   "metadata": {},
   "outputs": [],
   "source": [
    "voltas = int(input('Quantas voltas você completou? '))\n",
    "\n",
    "tempo_total = 0\n",
    "volta_mais_rapida = float('inf')\n",
    "\n",
    "for i in range(1, voltas + 1):\n",
    "    tempo = float(input(f'Tempo da volta {i} (segundos): '))\n",
    "    tempo_total += tempo\n",
    "    if tempo < volta_mais_rapida:\n",
    "        volta_mais_rapida = tempo\n",
    "\n",
    "print(f'\\nTempo total: {tempo_total:.2f} segundos')\n",
    "print(f'Volta mais rápida: {volta_mais_rapida:.2f} segundos')\n",
    "print(f'Tempo médio por volta: {tempo_total/voltas:.2f} segundos')"
   ]
  }
 ],
 "metadata": {
  "kernelspec": {
   "display_name": "base",
   "language": "python",
   "name": "python3"
  },
  "language_info": {
   "codemirror_mode": {
    "name": "ipython",
    "version": 3
   },
   "file_extension": ".py",
   "mimetype": "text/x-python",
   "name": "python",
   "nbconvert_exporter": "python",
   "pygments_lexer": "ipython3",
   "version": "3.9.12"
  },
  "toc": {
   "base_numbering": 1,
   "nav_menu": {},
   "number_sections": true,
   "sideBar": true,
   "skip_h1_title": false,
   "title_cell": "Table of Contents",
   "title_sidebar": "Contents",
   "toc_cell": false,
   "toc_position": {},
   "toc_section_display": true,
   "toc_window_display": false
  }
 },
 "nbformat": 4,
 "nbformat_minor": 2
}
