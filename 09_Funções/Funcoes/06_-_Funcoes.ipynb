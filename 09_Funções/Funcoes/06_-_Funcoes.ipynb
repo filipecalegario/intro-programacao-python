{
 "cells": [
  {
   "cell_type": "markdown",
   "metadata": {},
   "source": [
    "# Funções\n",
    "\n",
    "Imagine que você criou um código para imprimir todos os dados pessoais de uma pessoa."
   ]
  },
  {
   "cell_type": "code",
   "execution_count": 1,
   "metadata": {},
   "outputs": [
    {
     "name": "stdout",
     "output_type": "stream",
     "text": [
      "Nome: Augusto\n",
      "Idade: 32\n",
      "Edereco: Rua Prof. Luiz Freire, Cidade Universitária, Recife, PE\n",
      "Fone: (81) 2126-8430\n"
     ]
    }
   ],
   "source": [
    "nome = 'Augusto'\n",
    "idade = 32\n",
    "endereco = 'Rua Prof. Luiz Freire, Cidade Universitária, Recife, PE'\n",
    "fone = '(81) 2126-8430'\n",
    "print(f'Nome: {nome}')\n",
    "print(f'Idade: {idade}')\n",
    "print(f'Edereco: {endereco}')\n",
    "print(f'Fone: {fone}')"
   ]
  },
  {
   "cell_type": "markdown",
   "metadata": {},
   "source": [
    "<img  src=\"./funcoes01.png\" width=\"350\" />\n",
    "\n",
    "### Poderíamos usar força bruta e replicar o código ...\n",
    "\n",
    "<img  src=\"./funcoes02a.png\" width=\"600\" />\n",
    "\n",
    "### ...  ou atribuir um nome ao nosso \"pedaço de código\"\n",
    "\n",
    "<img  src=\"./funcoes02.png\" width=\"600\" />\n",
    "\n",
    "### O efeito final será o seguinte:\n",
    "\n",
    "<img  src=\"./funcoes03.png\" width=\"600\" />\n",
    "\n",
    "A essa capacidade de atribuir um nome a um bloco de código, que pode ser reutilizado em diversas partes do programa, é conhecida como **definição de funções**.\n",
    "\n",
    "Após **definida**, uma função pode ser **chamada**, escrevendo o seu nome onde desejarmos executar o bloco de código que ela representa.\n",
    "\n",
    "<img  src=\"./funcoes04.png\" width=\"500\" />\n",
    "\n"
   ]
  },
  {
   "cell_type": "code",
   "execution_count": 2,
   "metadata": {},
   "outputs": [
    {
     "name": "stdout",
     "output_type": "stream",
     "text": [
      "Nome: Augusto\n",
      "Idade: 32\n",
      "Edereco: Rua Prof. Luiz Freire, Cidade Universitária, Recife, PE\n",
      "Fone: (81) 2126-8430\n",
      "\t algum código aqui\n",
      "Nome: Augusto\n",
      "Idade: 32\n",
      "Edereco: Rua Prof. Luiz Freire, Cidade Universitária, Recife, PE\n",
      "Fone: (81) 2126-8430\n",
      "\t algum código aqui\n",
      "Nome: Augusto\n",
      "Idade: 32\n",
      "Edereco: Rua Prof. Luiz Freire, Cidade Universitária, Recife, PE\n",
      "Fone: (81) 2126-8430\n",
      "\t algum código aqui\n",
      "Nome: Augusto\n",
      "Idade: 32\n",
      "Edereco: Rua Prof. Luiz Freire, Cidade Universitária, Recife, PE\n",
      "Fone: (81) 2126-8430\n",
      "\t algum código aqui\n"
     ]
    }
   ],
   "source": [
    "def imprimir_dados_pessoais():\n",
    "    print(f'Nome: {nome}')\n",
    "    print(f'Idade: {idade}')\n",
    "    print(f'Edereco: {endereco}')\n",
    "    print(f'Fone: {fone}')\n",
    "    \n",
    "nome = 'Augusto'\n",
    "idade = 32\n",
    "endereco = 'Rua Prof. Luiz Freire, Cidade Universitária, Recife, PE'\n",
    "fone = '(81) 2126-8430'\n",
    "\n",
    "imprimir_dados_pessoais()\n",
    "print(f'\\t algum código aqui')\n",
    "imprimir_dados_pessoais()\n",
    "print(f'\\t algum código aqui')\n",
    "imprimir_dados_pessoais()\n",
    "print(f'\\t algum código aqui')\n",
    "imprimir_dados_pessoais()\n",
    "print(f'\\t algum código aqui')\n"
   ]
  },
  {
   "cell_type": "markdown",
   "metadata": {},
   "source": [
    "**Obs:** note que a definição da função, por si só, não executa nada; é preciso **chamar** a função! Por exemplo, o código a seguir não imprime os dados pessoais, pois a função `imprime_dados_pessoais()` não é chamada no corpo do programa."
   ]
  },
  {
   "cell_type": "code",
   "execution_count": 3,
   "metadata": {},
   "outputs": [
    {
     "name": "stdout",
     "output_type": "stream",
     "text": [
      "Início\n",
      "Fim\n"
     ]
    }
   ],
   "source": [
    "print('Início')\n",
    "\n",
    "def imprimir_dados_pessoais():\n",
    "    print(f'Nome: {nome}')\n",
    "    print(f'Idade: {idade}')\n",
    "    print(f'Edereco: {endereco}')\n",
    "    print(f'Fone: {fone}')\n",
    "    \n",
    "nome = 'Augusto'\n",
    "idade = 32\n",
    "endereco = 'Rua Prof. Luiz Freire, Cidade Universitária, Recife, PE'\n",
    "fone = '(81) 2126-8430'\n",
    "\n",
    "print('Fim')"
   ]
  },
  {
   "cell_type": "markdown",
   "metadata": {},
   "source": [
    "Vamos chamar a função ```imprimir_dados_pessoais```"
   ]
  },
  {
   "cell_type": "code",
   "execution_count": 4,
   "metadata": {},
   "outputs": [
    {
     "name": "stdout",
     "output_type": "stream",
     "text": [
      "Início\n",
      "Nome: Augusto\n",
      "Idade: 32\n",
      "Edereco: Rua Prof. Luiz Freire, Cidade Universitária, Recife, PE\n",
      "Fone: (81) 2126-8430\n",
      "Fim\n"
     ]
    }
   ],
   "source": [
    "print('Início')\n",
    "\n",
    "def imprimir_dados_pessoais():\n",
    "    print(f'Nome: {nome}')\n",
    "    print(f'Idade: {idade}')\n",
    "    print(f'Edereco: {endereco}')\n",
    "    print(f'Fone: {fone}')\n",
    "    \n",
    "nome = 'Augusto'\n",
    "idade = 32\n",
    "endereco = 'Rua Prof. Luiz Freire, Cidade Universitária, Recife, PE'\n",
    "fone = '(81) 2126-8430'\n",
    "\n",
    "imprimir_dados_pessoais()\n",
    "\n",
    "print('Fim')"
   ]
  },
  {
   "cell_type": "markdown",
   "metadata": {},
   "source": [
    "### Estrutura de funções\n",
    "\n",
    "A definição de uma função utiliza a seguinte estrutura:\n",
    "\n",
    "<img  src=\"./funcoes05.png\" width=\"350\" />\n",
    "\n",
    "### Exercício\n",
    "\n",
    "<img  src=\"./funcoes06.png\" width=\"700\" />\n"
   ]
  },
  {
   "cell_type": "code",
   "execution_count": 5,
   "metadata": {},
   "outputs": [
    {
     "name": "stdout",
     "output_type": "stream",
     "text": [
      "Digite um número inteiro no intervalo [0-100]: 50\n",
      "Tente um número menor: 25\n",
      "Tente um número maior: 37\n",
      "Tente um número maior: 42\n",
      "Tente um número menor: 40\n",
      "Tente um número menor: 38\n",
      "Tente um número maior: 39\n",
      "Parabéns, você acertou o número!\n",
      "Fim de jogo!\n",
      "Tente acertar mais rápido! Vamos jogar novamente!\n",
      "Digite um número inteiro no intervalo [0-100]: 50\n",
      "Tente um número menor: 25\n",
      "Tente um número maior: 37\n",
      "Tente um número menor: 30\n",
      "Tente um número menor: 27\n",
      "Parabéns, você acertou o número!\n",
      "Fim de jogo!\n"
     ]
    }
   ],
   "source": [
    "from random import randint\n",
    "\n",
    "def jogo_adivinhacao():\n",
    "    num = randint(0,100)\n",
    "    acertou = False\n",
    "    chute = int(input('Digite um número inteiro no intervalo [0-100]: '))\n",
    "    while (not acertou):\n",
    "        if (chute == num):\n",
    "            print('Parabéns, você acertou o número!')\n",
    "            acertou = True\n",
    "        elif(chute > num):\n",
    "            chute = int(input('Tente um número menor: '))\n",
    "        else:  \n",
    "            chute = int(input('Tente um número maior: '))\n",
    "    else:\n",
    "        print('Fim de jogo!')\n",
    "\n",
    "jogo_adivinhacao()\n",
    "print('Tente acertar mais rápido! Vamos jogar novamente!')\n",
    "jogo_adivinhacao()"
   ]
  },
  {
   "cell_type": "markdown",
   "metadata": {},
   "source": [
    "### Passagem de Parâmetros\n",
    "\n",
    "Passagem de parâmetros é um mecanismo utilizado pelas linguagens de programação para **passar valores para uma função no momento de sua chamada**.\n",
    "\n",
    "Tais valores são **armazenados** em variáveis, que formam a **lista de parâmetros** da função e que são **criadas** quando a função inicia sua execução e **destruídas** quando ela finaliza.\n"
   ]
  },
  {
   "cell_type": "code",
   "execution_count": 6,
   "metadata": {},
   "outputs": [
    {
     "name": "stdout",
     "output_type": "stream",
     "text": [
      "4 é o maior valor\n",
      "7 é o maior valor\n"
     ]
    }
   ],
   "source": [
    "def print_max(a, b):\n",
    "    if a > b:\n",
    "        print(f'{a} é o maior valor')\n",
    "    elif a == b:\n",
    "        print(f'{a} e {b} são iguais')\n",
    "    else:\n",
    "        print(f'{b} é o maior valor')\n",
    "\n",
    "# chama print_max\n",
    "print_max(3, 4)\n",
    "\n",
    "x = 7\n",
    "y = 5\n",
    "\n",
    "# chama print_max, \n",
    "# passando o valor das variáveis x e y como argumentos\n",
    "print_max(x, y)"
   ]
  },
  {
   "cell_type": "markdown",
   "metadata": {},
   "source": [
    "### Variáveis Locais\n",
    "\n",
    "Variáveis declaradas dentro de uma função são chamadas de variáveis locais\n",
    "- O escopo de uma variável local está limitado ao bloco de código pertencente à função\n",
    "- É possível definir uma variável local com o mesmo nome de uma variável externa à função\n",
    "\n"
   ]
  },
  {
   "cell_type": "code",
   "execution_count": 7,
   "metadata": {},
   "outputs": [
    {
     "name": "stdout",
     "output_type": "stream",
     "text": [
      "o valor de x é: 10\n",
      "mudei o valor da variável local x para: 5\n",
      "o valor de y é: 20\n",
      "x externo ainda é: 10\n",
      "x externo ainda é: 10\n"
     ]
    }
   ],
   "source": [
    "def testa_local(x):\n",
    "    print(f'o valor de x é: {x}')\n",
    "    x = 5\n",
    "    print(f'mudei o valor da variável local x para: {x}')\n",
    "    y = 20\n",
    "    print(f'o valor de y é: {y}')\n",
    "\n",
    "\n",
    "x = 10\n",
    "y = 10\n",
    "testa_local(x)\n",
    "print(f'x externo ainda é: {x}')\n",
    "print(f'x externo ainda é: {y}')"
   ]
  },
  {
   "cell_type": "code",
   "execution_count": null,
   "metadata": {},
   "outputs": [],
   "source": [
    "def print_max(a, b):\n",
    "    if a > b:\n",
    "        print(f'{a} é o maior valor')\n",
    "    elif a == b:\n",
    "        print(f'{a} e {b} são iguais')\n",
    "    else:\n",
    "        print(f'{b} é o maior valor')\n",
    "\n",
    "# chama print_max\n",
    "print_max(3, 4)\n",
    "\n",
    "x = 7\n",
    "y = 5\n",
    "\n",
    "# chama print_max, \n",
    "# passando o valor das variáveis x e y como argumentos\n",
    "print_max(x, y)"
   ]
  },
  {
   "cell_type": "markdown",
   "metadata": {},
   "source": [
    "### Variáveis Globais\n",
    "\n",
    "Variáveis cujo escopo não está limitado a blocos internos de funções ou classes.\n",
    "\n",
    "Para usar uma variável global dentro de uma função, deve-se dizer ao Python que a variável não é local, usando o comando `global`."
   ]
  },
  {
   "cell_type": "code",
   "execution_count": 8,
   "metadata": {},
   "outputs": [
    {
     "name": "stdout",
     "output_type": "stream",
     "text": [
      "o valor de x é: 10\n",
      "mudei o valor da variável global x para: 5\n",
      "x externo mudou para 5 após chamar testa_global\n"
     ]
    }
   ],
   "source": [
    "def testa_global():\n",
    "    global x\n",
    "    print(f'o valor de x é: {x}')\n",
    "    x = 5\n",
    "    print(f'mudei o valor da variável global x para: {x}')\n",
    "\n",
    "x = 10\n",
    "testa_global()  \n",
    "print(f'x externo mudou para {x} após chamar testa_global')"
   ]
  },
  {
   "cell_type": "markdown",
   "metadata": {},
   "source": [
    "### Argumento Default\n",
    "\n",
    "É possível tornar alguns parâmetros opcionais, atribuindo a eles valores default."
   ]
  },
  {
   "cell_type": "code",
   "execution_count": 12,
   "metadata": {},
   "outputs": [
    {
     "name": "stdout",
     "output_type": "stream",
     "text": [
      "o valor de a é: 1\n",
      "o valor de b é: 2\n",
      "o valor de a é: 1\n",
      "o valor de b é: 10\n"
     ]
    }
   ],
   "source": [
    "def testa_default(a,b=2):\n",
    "    print(f'o valor de a é: {a}')\n",
    "    print(f'o valor de b é: {b}')\n",
    "\n",
    "testa_default(1)\n",
    "testa_default(1,10)"
   ]
  },
  {
   "cell_type": "markdown",
   "metadata": {},
   "source": [
    "### Argumento Keyword\n",
    "\n",
    "Se a função possuir muitos argumentos default, é possível definir quais serão passados usando o nome do parâmetro (argumentos keyword) ao invés de sua posição."
   ]
  },
  {
   "cell_type": "code",
   "execution_count": 11,
   "metadata": {},
   "outputs": [
    {
     "name": "stdout",
     "output_type": "stream",
     "text": [
      "o valor de a é: 1\n",
      "o valor de b é: 2\n",
      "o valor de c é: 3\n",
      "o valor de a é: 1\n",
      "o valor de b é: 2\n",
      "o valor de c é: 10\n",
      "o valor de a é: 30\n",
      "o valor de b é: 2\n",
      "o valor de c é: 20\n"
     ]
    }
   ],
   "source": [
    "def testa_keyword(a,b=2,c=3):\n",
    "    print(f'o valor de a é: {a}')\n",
    "    print(f'o valor de b é: {b}')\n",
    "    print(f'o valor de c é: {c}')\n",
    "\n",
    "testa_keyword(1)\n",
    "testa_keyword(1,c=10)\n",
    "testa_keyword(c=20,a=30)"
   ]
  },
  {
   "cell_type": "markdown",
   "metadata": {},
   "source": [
    "### Argumentos Variáveis\n",
    "\n",
    "Veremos mais adiante...\n",
    "\n",
    "### Comando return\n",
    "\n",
    "Utilizado para que a função **retorne** algum resultado para quem a chamou."
   ]
  },
  {
   "cell_type": "code",
   "execution_count": 14,
   "metadata": {},
   "outputs": [
    {
     "name": "stdout",
     "output_type": "stream",
     "text": [
      "6\n"
     ]
    }
   ],
   "source": [
    "def maximo(a, b):\n",
    "    if a > b:\n",
    "        res = a\n",
    "    else:\n",
    "        res = b\n",
    "    return(res)\n",
    "\n",
    "resultado = maximo(6, 4)\n",
    "print(resultado)"
   ]
  }
 ],
 "metadata": {
  "kernelspec": {
   "display_name": "Python 3",
   "language": "python",
   "name": "python3"
  },
  "language_info": {
   "codemirror_mode": {
    "name": "ipython",
    "version": 3
   },
   "file_extension": ".py",
   "mimetype": "text/x-python",
   "name": "python",
   "nbconvert_exporter": "python",
   "pygments_lexer": "ipython3",
   "version": "3.8.3"
  }
 },
 "nbformat": 4,
 "nbformat_minor": 2
}
