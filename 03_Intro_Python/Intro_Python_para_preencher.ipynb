{
  "cells": [
    {
      "cell_type": "markdown",
      "metadata": {
        "id": "z0ZbtlFW-qws"
      },
      "source": [
        "# Introdução a Python\n",
        "\n",
        "Vamos imprimir nossa primeira frase em Python. Para isso, usaremos o comando print.\n"
      ]
    },
    {
      "cell_type": "code",
      "execution_count": 2,
      "metadata": {
        "id": "8dXmBFSG-qwu",
        "outputId": "76477a3e-07d0-4002-ec2c-ed716f2f24b2",
        "colab": {
          "base_uri": "https://localhost:8080/"
        }
      },
      "outputs": [
        {
          "output_type": "stream",
          "name": "stdout",
          "text": [
            "Olá, pessoal!\n"
          ]
        }
      ],
      "source": [
        "print(\"Olá, pessoal!\")"
      ]
    },
    {
      "cell_type": "markdown",
      "metadata": {
        "id": "dAoHPf2d-qww"
      },
      "source": [
        "Agora, vamos utilizar uma variável para guardar a mensagem."
      ]
    },
    {
      "cell_type": "code",
      "execution_count": 6,
      "metadata": {
        "id": "JBdff4Fy-qww",
        "outputId": "1878be5f-dbc1-4c7d-b18f-bda95f8a1e01",
        "colab": {
          "base_uri": "https://localhost:8080/"
        }
      },
      "outputs": [
        {
          "output_type": "stream",
          "name": "stdout",
          "text": [
            "Olá, pessoal!\n",
            "Olá, pessoal!\n"
          ]
        }
      ],
      "source": [
        "mensagem = \"Olá, pessoal!\"\n",
        "print(mensagem)\n",
        "print(mensagem)"
      ]
    },
    {
      "cell_type": "markdown",
      "metadata": {
        "id": "6bPEpHWH-qww"
      },
      "source": [
        "Como faríamos para traduzir nosso algoritmo de Portugol para Python?\n",
        "\n",
        "```python\n",
        "imprima \"Digite um número\"\n",
        "leia x\n",
        "y = (x * 2)\n",
        "imprima y\n",
        "```\n",
        "\n",
        "Vamos testar a versão abaixo:"
      ]
    },
    {
      "cell_type": "code",
      "execution_count": 14,
      "metadata": {
        "id": "5oRRJrCv-qwx",
        "outputId": "f1954d42-2295-4353-bf75-f9eabd590f3c",
        "colab": {
          "base_uri": "https://localhost:8080/"
        }
      },
      "outputs": [
        {
          "output_type": "stream",
          "name": "stdout",
          "text": [
            "Digite um número: \n",
            "2\n",
            "Resultado é: 4\n"
          ]
        }
      ],
      "source": [
        "x = int(input(\"Digite um número: \\n\"))\n",
        "y = x * 2\n",
        "print(\"Resultado é: \" + str(y))"
      ]
    },
    {
      "cell_type": "markdown",
      "metadata": {
        "id": "SDlKHm6z-qwx"
      },
      "source": [
        "O que deu errado?\n",
        "\n",
        "R: O programa fez a leitura de um texto. Ou seja, não fez a leitura do valor inteiro 2. Ele leu o texto \"2\". Quando executou `y = (x * 2)`, duplicou o texto \"2\", resultando no texto \"22\".\n",
        "\n",
        "Para corrigir o problema, vamos indicar que queremos ler um inteiro, através do comando `int()`"
      ]
    },
    {
      "cell_type": "code",
      "execution_count": null,
      "metadata": {
        "id": "RVJy4yV2-qwy"
      },
      "outputs": [],
      "source": []
    },
    {
      "cell_type": "markdown",
      "metadata": {
        "id": "dn9avk8Q-qwy"
      },
      "source": [
        "Corrija o código abaixo para que seja impresso o texto corrija-me:"
      ]
    },
    {
      "cell_type": "code",
      "execution_count": 16,
      "metadata": {
        "id": "vxVnj3pA-qwy",
        "outputId": "c1fe65f1-221a-486a-f45c-cef0a384940b",
        "colab": {
          "base_uri": "https://localhost:8080/"
        }
      },
      "outputs": [
        {
          "output_type": "stream",
          "name": "stdout",
          "text": [
            "corrija-me\n"
          ]
        }
      ],
      "source": [
        "print('corrija-me')"
      ]
    },
    {
      "cell_type": "markdown",
      "metadata": {
        "id": "N6xueXb9-qwz"
      },
      "source": [
        "É possível combinar textos, usando o comando de concatenação `+`. Vamos fazer um teste."
      ]
    },
    {
      "cell_type": "code",
      "execution_count": 28,
      "metadata": {
        "id": "6H8JCR_n-qwz",
        "outputId": "c0aaaab7-4bd4-4aeb-8a85-501cb5d07f4e",
        "colab": {
          "base_uri": "https://localhost:8080/"
        }
      },
      "outputs": [
        {
          "output_type": "stream",
          "name": "stdout",
          "text": [
            "ChronoViz is a tool to aid visualization and analysis of multimodal sets of time-coded information, with a focus on the analysis of video in combination with other data sources.\n"
          ]
        }
      ],
      "source": [
        "print('ChronoViz is a tool to aid visualization and analysis of multimodal sets of time-coded information, with a focus on the analysis of video in combination with other data sources.')"
      ]
    },
    {
      "cell_type": "markdown",
      "metadata": {
        "id": "Zv9CYZJA-qwz"
      },
      "source": [
        "Ajuste o código acima para incluir espaços entre as palavras da frase impressa."
      ]
    },
    {
      "cell_type": "markdown",
      "metadata": {
        "id": "PTUCaFHj-qwz"
      },
      "source": [
        "### Exercício\n",
        "\n",
        "Crie um programa para:\n",
        "1. Armazenar a **string** 2+3 em uma variável\n",
        "2. Armazenar o valor da operação **numérica** 2+3 em outra variável\n",
        "3. Imprimir o valor da string seguida pelo resultado numérico da operação na mesma linha\n",
        "\n",
        "*Atenção! Utilize a função str() para converter o valor numérico em string na hora de imprimir*"
      ]
    },
    {
      "cell_type": "code",
      "execution_count": 31,
      "metadata": {
        "id": "hRDOIHKJ-qw0",
        "outputId": "f25fdd91-e253-4ad2-f2a2-44753a1425c8",
        "colab": {
          "base_uri": "https://localhost:8080/"
        }
      },
      "outputs": [
        {
          "output_type": "stream",
          "name": "stdout",
          "text": [
            "resultado da operação 2 + 3 foi de 5\n",
            "2 + 3 = 5\n"
          ]
        }
      ],
      "source": [
        "texto = '2 + 3'\n",
        "operacao = 2 + 3\n",
        "print('resultado da operação', texto, 'foi de', str(operacao))\n",
        "print(texto + ' = ' + str(operacao))"
      ]
    },
    {
      "cell_type": "markdown",
      "metadata": {
        "id": "7mEoAzWQ-qw0"
      },
      "source": [
        "## Nomes de variáveis e funções\n",
        "\n",
        "* Podem conter letras, dígitos e underscores ( _ )\n",
        "* Não pode iniciar com dígitos\n",
        "* Boas práticas:\n",
        "    - Utilize nomes significativos;\n",
        "    - Escreva todas as letras minúsculas;\n",
        "    - Separe palavras com _ (comum em Python);\n",
        "    - Evite preposições para separar palavras;\n",
        "    - Evite acentos e cedilha.\n",
        "\n",
        "\n",
        "\n",
        "| Código Python                  | Avaliação                      |\n",
        "|:-------------------------------|:------------------------------ |\n",
        "|x = 'Rua Python\"                | ok, mas não recomendável (nome sem significado) |\n",
        "|1endereço = 'Rua Python'        | erro de sintaxe (inicia com número)               |\n",
        "|endereço = 'Rua Python'         | ok, mas não recomendável (uso de cedilha)\n",
        "|endereco = 'Rua Python'         | ok                      |\n",
        "|endereco1 = 'Rua Python'        | ok                             |\n",
        "|endereco_de_rui = 'Rua Python'       | ok, mas não recomendado (uso de preoposição)        |\n",
        "|endereco_rui = 'Rua Python'          | ok                             |\n",
        "|enderecoRui = 'Rua Python'           | ok, mas não é padrão Python    |\n",
        "|def = 'Rua Python'                         | erro de sintaxe, palavra reservada |"
      ]
    },
    {
      "cell_type": "code",
      "source": [
        "numero_string = float('1.0')"
      ],
      "metadata": {
        "id": "EGXP1W7sIBNq"
      },
      "execution_count": 41,
      "outputs": []
    },
    {
      "cell_type": "markdown",
      "metadata": {
        "id": "wJhvCmQS-qw0"
      },
      "source": [
        "## Palavras reseravadas de Python\n",
        "\n",
        "```python\n",
        "and       del       from      None      True\n",
        "as        elif      global    nonlocal  try\n",
        "assert    else      if        not       while\n",
        "break     except    import    or        with\n",
        "class     False     in        pass      yield\n",
        "continue  finally   is        raise     async\n",
        "def       for       lambda    return    await\n",
        "```"
      ]
    },
    {
      "cell_type": "markdown",
      "metadata": {
        "id": "-A4h-QmC-qw0"
      },
      "source": [
        "_______________________"
      ]
    },
    {
      "cell_type": "markdown",
      "metadata": {
        "id": "nYbDppr3-qw0"
      },
      "source": [
        "# Exercício: **Calculadora Pessoal de Consumo e Custo Anual de Combustível**  \n",
        "\n",
        "Você já se perguntou **quanto combustível consome** e **quanto gasta por ano abastecendo**? Com esta ferramenta, você poderá calcular esses valores com base na sua rotina de uso do carro!  \n",
        "\n",
        "### **Passos para o cálculo:**  \n",
        "\n",
        "✅ **Passo 1:** Informe a eficiência do seu veículo (**quantos km/l ele faz**).  \n",
        "✅ **Passo 2:** Insira quantos **quilômetros você percorre por dia**.  \n",
        "✅ **Passo 3:** Informe o **número de dias da semana em que você usa o carro**.  \n",
        "✅ **Passo 4:** Digite o **preço médio do litro do combustível**.  \n",
        "✅ **Passo 5:** Assuma que o **ano tem 52 semanas** e calcule:  \n",
        "   - A quilometragem percorrida no ano.  \n",
        "   - A quantidade de combustível consumida no ano.  \n",
        "   - O custo total gasto com combustível durante o ano.  \n",
        "\n",
        "✅ **Passo 6:** Exiba um relatório com os valores calculados no formato:  \n",
        "   Você utiliza o carro _ dias por semana, consome aproximadamente _ litros de combustível por ano e gasta cerca de R$ _ com abastecimento!\n",
        "\n",
        "✅ **Passo 7:** Analise os resultados:  \n",
        "   - Se seu veículo for **econômico** (consumo maior ou igual a **12 km/l**) e seu gasto anual for menor que **R$ 5000**, exiba uma mensagem positiva.  \n",
        "   - Caso contrário, sugira estratégias para **reduzir os custos**, como dirigir de forma mais eficiente ou considerar um veículo mais econômico.  \n",
        "\n",
        "Agora, personalize seu cálculo e veja o impacto do seu consumo no bolso! 🚗⛽💰"
      ]
    },
    {
      "cell_type": "code",
      "execution_count": 42,
      "metadata": {
        "id": "hNrkT9Vy-qw0",
        "outputId": "30ca4dde-0ce5-4678-fa91-8501399c8023",
        "colab": {
          "base_uri": "https://localhost:8080/"
        }
      },
      "outputs": [
        {
          "name": "stdout",
          "output_type": "stream",
          "text": [
            "Qual é o seu nome? Filipe\n",
            "Olá, Filipe! Vamos calcular o consumo e o custo anual de combustível do seu veículo.\n",
            "Quantos km por litro seu carro faz? 11\n",
            "Quantos km você dirige por dia? 22\n",
            "Quantos dias por semana você usa o carro? 4\n",
            "Qual o preço médio do litro do combustível? 7\n"
          ]
        }
      ],
      "source": [
        "\"\"\"Calcula o consumo e custo anual de combustível baseado no uso semanal do veículo.\"\"\"\n",
        "\n",
        "nome = input('Qual é o seu nome? ')\n",
        "print(f'Olá, {nome}! Vamos calcular o consumo e o custo anual de combustível do seu veículo.')\n",
        "\n",
        "consumo_km_l = float(input('Quantos km por litro seu carro faz? '))\n",
        "km_dia = float(input('Quantos km você dirige por dia? '))\n",
        "dias_semana = int(input('Quantos dias por semana você usa o carro? '))\n",
        "preco_combustivel = float(input('Qual o preço médio do litro do combustível? '))\n",
        "\n",
        "resultado = f'Você utiliza o carro {dias_semana} dias por semana, consome aproximadamente {consumo_ano} litros de combustível por ano e gasta cerca de R$ _ com abastecimento!'"
      ]
    }
  ],
  "metadata": {
    "kernelspec": {
      "display_name": "Python 3.9.13 64-bit",
      "language": "python",
      "name": "python3"
    },
    "language_info": {
      "codemirror_mode": {
        "name": "ipython",
        "version": 3
      },
      "file_extension": ".py",
      "mimetype": "text/x-python",
      "name": "python",
      "nbconvert_exporter": "python",
      "pygments_lexer": "ipython3",
      "version": "3.9.13"
    },
    "toc": {
      "base_numbering": 1,
      "nav_menu": {},
      "number_sections": true,
      "sideBar": true,
      "skip_h1_title": false,
      "title_cell": "Table of Contents",
      "title_sidebar": "Contents",
      "toc_cell": false,
      "toc_position": {},
      "toc_section_display": true,
      "toc_window_display": false
    },
    "vscode": {
      "interpreter": {
        "hash": "aee8b7b246df8f9039afb4144a1f6fd8d2ca17a180786b69acc140d282b71a49"
      }
    },
    "colab": {
      "provenance": []
    }
  },
  "nbformat": 4,
  "nbformat_minor": 0
}