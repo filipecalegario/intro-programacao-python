{
 "cells": [
  {
   "cell_type": "markdown",
   "metadata": {},
   "source": [
    "# Operadores Lógicos e Relacionais, Comandos Condicionais\n",
    "\n",
    "## Operadores Relacionais\n",
    "\n",
    "<img src=\"./imgs/operadoresRelacionais.png\" width=\"400\" />\n",
    "\n",
    "---\n",
    "\n",
    "## Operadores Lógicos e Booleanos\n",
    "\n",
    "<img src=\"./imgs/operadoresLogicos.png\" width=\"400\" />\n",
    "\n",
    "---\n",
    "\n",
    "## Tabela Verdade\n",
    "\n",
    "<img src=\"./imgs/tabelaVerdade.png\" width=\"600\" />\n",
    "\n",
    "Teste o valor de _b_ e _c_ em cada passo:\n"
   ]
  },
  {
   "cell_type": "code",
   "execution_count": null,
   "metadata": {},
   "outputs": [],
   "source": [
    "b = True\n",
    "c = not b  # b = T; c = F\n",
    "c = not (True or b) and c  # b = T; c = F\n",
    "b = c or not(not b)  # b = T; c = F\n",
    "b = True or False  # b = T; c = F\n",
    "c = True and b  # b = T; c = T\n",
    "b = b == c  # b = T; c = T\n",
    "print(b)\n",
    "print(c)\n"
   ]
  },
  {
   "cell_type": "markdown",
   "metadata": {},
   "source": [
    "## Abreviação de Operadores Aritméticos de Atribuição\n"
   ]
  },
  {
   "cell_type": "code",
   "execution_count": null,
   "metadata": {},
   "outputs": [],
   "source": [
    "a = 5\n",
    "a += 2\n",
    "print(a)"
   ]
  },
  {
   "cell_type": "markdown",
   "metadata": {},
   "source": [
    "Cheque a execução do código abaixo. Deu tudo certo?\n"
   ]
  },
  {
   "cell_type": "code",
   "execution_count": null,
   "metadata": {},
   "outputs": [],
   "source": [
    "a = 5\n",
    "a++\n",
    "print(a)"
   ]
  },
  {
   "cell_type": "markdown",
   "metadata": {},
   "source": [
    "Python **não** utiliza o abreviador de incremento `++` e decremento `--` como em outras linguagens, que fazem uso de operações como `for (int i = 0; i < 10; i++)`. Ao invés disso, em operações desse tipo, Python utiliza o comando a seguir, que veremos mais adiante.\n"
   ]
  },
  {
   "cell_type": "code",
   "execution_count": null,
   "metadata": {},
   "outputs": [],
   "source": [
    "for i in range(0, 10):\n",
    "    print(i)"
   ]
  },
  {
   "cell_type": "markdown",
   "metadata": {},
   "source": [
    "## Precedência de Operadores\n",
    "\n",
    "Assim como aprendemos em nossas aulas de matemática, as expressões a seguir são equivalente e avaliam para 14\n"
   ]
  },
  {
   "cell_type": "code",
   "execution_count": null,
   "metadata": {},
   "outputs": [],
   "source": [
    "expr1 = 2 + 3 * 4\n",
    "expr2 = (2 + 3) * 4\n",
    "print(f'expr1 = {expr1}')\n",
    "print(f'expr2 = {expr2}')"
   ]
  },
  {
   "cell_type": "markdown",
   "metadata": {},
   "source": [
    "As linguagens de programação definem uma ordem de avaliação dos operadores, também conhecida como precedência de operadores. Em Python, a ordem de precedência é definida como segue, sendo a **exponenciação** com maior precedência e o **booleano `or`** com menor precedência:\n",
    "\n",
    "1. `**` : Exponenciação\n",
    "2. `+x`, `-x` : Positivo, Negativo\n",
    "3. `*`, `/`, `//`, `%` : Multiplicação, Divisão, Divisão inteira e resto\n",
    "4. `+`, `-` : Adição e subtração\n",
    "5. `<`, `<=`, `>`, `>=`, `!=`, `==`\n",
    "6. `not` : Boolean NOT\n",
    "7. `and` : Boolean AND\n",
    "8. `or` : Boolean OR\n"
   ]
  },
  {
   "cell_type": "markdown",
   "metadata": {},
   "source": [
    "O uso de parênteses para definir a precedência de operadores possui duas vantagens:\n",
    "\n",
    "1. Torna o programa mais legível, pois não requer conhecimento prévio sobre a precedência de operadores em Python\n",
    "\n",
    "   `2 + (3 * 4)`\n",
    "\n",
    "2. Permite modificar a ordem de precedência\n",
    "\n",
    "   `(2 + 3) * 4`\n"
   ]
  },
  {
   "cell_type": "markdown",
   "metadata": {},
   "source": [
    "## Expressões Lógicas/Booleanas\n",
    "\n",
    "Estruturas de controle (seleção e repetição) utilizam expressões booleanas para decidir:\n",
    "\n",
    "1. Qual bloco de comandos será executado:\n",
    "\n",
    "```python\n",
    "if EXPRESSAO_BOOLEANA_1:\n",
    "    # bloco 1\n",
    "elif EXPRESSAO_BOOLEANA_2:\n",
    "    # bloco 2\n",
    "else:\n",
    "    # bloco 3\n",
    "```\n",
    "\n",
    "2. Se o bloco de comandos deverá ser repetido:\n",
    "\n",
    "```python\n",
    "while EXPRESSAO_BOOLEANA:\n",
    "    # bloco\n",
    "```\n",
    "\n",
    "## Comando IF-ELSE\n",
    "\n",
    "<img  src=\"./imgs/comandoIf.png\" width=\"600\" />\n",
    "\n",
    "Vamos escrever um programa que faz a leitura de três números inteiros e imprime o maior dos três.\n"
   ]
  },
  {
   "cell_type": "code",
   "execution_count": null,
   "metadata": {},
   "outputs": [],
   "source": [
    "numero_1 = int(input('Digite o primeiro número: '))\n",
    "numero_2 = int(input('Digite o segundo número: '))\n",
    "numero_3 = int(input('Digite o terceiro número: '))\n",
    "maior = numero_1\n",
    "\n",
    "if numero_2 > maior:\n",
    "  maior = numero_2\n",
    "\n",
    "if numero_3 > maior:\n",
    "  maior = numero_3\n",
    "\n",
    "print(maior)"
   ]
  },
  {
   "cell_type": "markdown",
   "metadata": {},
   "source": [
    "### Exercício\n",
    "\n",
    "Escreva um programa para ler um valor real correspondente a uma nota, tal que 0 ≤ nota ≤ 10, e imprimir o conceito equivalente (A, B, C, D ou E), conforme a seguinte tabela:\n",
    "\n",
    "<img  src=\"./imgs/tabelaAula04.png\" width=\"250\" />\n"
   ]
  },
  {
   "cell_type": "code",
   "execution_count": null,
   "metadata": {},
   "outputs": [],
   "source": [
    "nota = float(input('Digite sua nota: '))\n",
    "if(nota >= 8.5):\n",
    "    print('Conceito A')\n",
    "elif (nota >= 7):\n",
    "    print('Conceito B')\n",
    "elif (nota >= 5):\n",
    "    print('Conceito C')\n",
    "elif (nota >= 3):\n",
    "    print('Conceito D')\n",
    "else:\n",
    "    print('Conceito E')\n"
   ]
  },
  {
   "cell_type": "markdown",
   "metadata": {},
   "source": [
    "### Coerção de Tipos\n",
    "\n",
    "É possível converter um valor de um tipo em outro tipo, desde que faça sentido. Por exemplo, não faria sentido converter a string “Rui” para inteiro. Por outro lado, faria sentido converter a string \"3\" em um valor inteiro.\n",
    "\n",
    "Seguem alguns exemplos de funções que podem ser usadas para fazer converções de valores de um tipo para outro tipo.\n"
   ]
  },
  {
   "cell_type": "code",
   "execution_count": null,
   "metadata": {},
   "outputs": [],
   "source": [
    "x = int('Rui')"
   ]
  },
  {
   "cell_type": "markdown",
   "metadata": {},
   "source": [
    "_________________"
   ]
  },
  {
   "cell_type": "markdown",
   "metadata": {},
   "source": [
    "### Exercício 1\n",
    "\n",
    "Escreva um programa para ler dois valores reais, x e y, correspondentes às coordenadas de um ponto no plano e dizer em que quadrante se encontra, ou se está no eixo-x ou no eixo-y ou se está na origem.\n",
    "\n",
    "<center><img  src=\"./imgs/coordenadas.png\" width=\"150\" /></center>\n"
   ]
  },
  {
   "cell_type": "code",
   "execution_count": null,
   "metadata": {},
   "outputs": [],
   "source": []
  },
  {
   "cell_type": "markdown",
   "metadata": {},
   "source": [
    "### Exercício 2\n",
    "\n",
    "Escreva um programa para ler valores para os três lados de um triângulo e dizer o seu tipo (equilátero, isósceles ou escaleno).\n"
   ]
  },
  {
   "cell_type": "code",
   "execution_count": null,
   "metadata": {},
   "outputs": [],
   "source": []
  },
  {
   "cell_type": "markdown",
   "metadata": {},
   "source": [
    "# Exercício: Sistema de Controle de Reator Nuclear\n",
    "\n",
    "Neste exercício, vamos desenvolver um sistema de controle simples para um reator nuclear.\n",
    "\n",
    "Para que um reator produza energia, ele deve estar em um estado de criticidade. Se estiver abaixo da criticidade, pode ser danificado. Se ultrapassar a criticidade, pode sobrecarregar e causar uma fusão nuclear. Nosso objetivo é minimizar o risco de fusão e gerenciar corretamente o estado do reator.\n",
    "\n",
    "As três tarefas a seguir estão relacionadas à manutenção do estado ideal do reator."
   ]
  },
  {
   "cell_type": "markdown",
   "metadata": {},
   "source": [
    "## 1. Verificar a Criticidade\n",
    "\n",
    "O primeiro passo do sistema de controle é verificar se o reator está equilibrado em criticidade. Um reator é considerado crítico se atender às seguintes condições:\n",
    "\n",
    "- A temperatura é menor que **800 K**.\n",
    "- O número de nêutrons emitidos por segundo é maior que **500**.\n",
    "- O produto da temperatura pelo número de nêutrons emitidos por segundo é menor que **500000**.\n",
    "\n",
    "Implemente a função `is_criticality_balanced()` que recebe a temperatura (em kelvin) e o número de nêutrons emitidos como parâmetros, e retorna `True` se as condições forem atendidas, e `False` caso contrário.\n",
    "\n",
    "**Exemplo:**\n",
    "```python\n",
    ">>> is_criticality_balanced(750, 600)\n",
    "True\n",
    "```"
   ]
  },
  {
   "cell_type": "markdown",
   "metadata": {},
   "source": [
    "### 1.1 Implemente a funcão abaixo"
   ]
  },
  {
   "cell_type": "code",
   "execution_count": null,
   "metadata": {},
   "outputs": [],
   "source": [
    "def is_criticality_balanced(temperatura, neutrons_emitidos):\n",
    "    \"\"\"Verifica se a criticidade está equilibrada.\n",
    "\n",
    "    :param temperatura: int ou float - valor da temperatura em kelvin.\n",
    "    :param neutrons_emitidos: int ou float - número de nêutrons emitidos por segundo.\n",
    "    :return: bool - a criticidade está equilibrada?\n",
    "\n",
    "    Um reator é considerado crítico se atender às seguintes condições:\n",
    "    - A temperatura é menor que 800 K.\n",
    "    - O número de nêutrons emitidos por segundo é maior que 500.\n",
    "    - O produto da temperatura pelo número de nêutrons emitidos por segundo é menor que 500000.\n",
    "    \"\"\"\n",
    "\n",
    "    pass"
   ]
  },
  {
   "cell_type": "markdown",
   "metadata": {},
   "source": [
    "### 1.2 Rode os testes\n",
    "\n",
    "O código abaixo verifica se a função está implementada corretamente.\n",
    "Você não precisa entendê-lo em detalhes, basta rodar a célula e verificar se algum teste falhou."
   ]
  },
  {
   "cell_type": "code",
   "execution_count": null,
   "metadata": {},
   "outputs": [],
   "source": [
    "def testar_criticidade():\n",
    "    \"\"\"Testa a função is_criticality_balanced\"\"\"\n",
    "    test_data = [\n",
    "        (750, 650, True), (799, 501, True), (500, 600, True),\n",
    "        (1000, 800, False), (800, 500, False), (800, 500.01, False),\n",
    "        (799.99, 500, False), (500.01, 999.99, False), (625, 800, False),\n",
    "        (625.99, 800, False), (625.01, 799.99, False), (799.99, 500.01, True)\n",
    "    ]\n",
    "\n",
    "    for temp, neutrons_emetidos, esperado in test_data:\n",
    "        resultado_atual = is_criticality_balanced(temp, neutrons_emetidos)\n",
    "        if resultado_atual != esperado:\n",
    "            print(f'Erro: is_criticality_balanced({temp}, {neutrons_emetidos}) '\n",
    "                  f'retorno {resultado_atual}, esperado {esperado}')\n",
    "        else:\n",
    "            print(f'Teste passou: is_criticality_balanced({temp}, {neutrons_emetidos}) -> {resultado_atual}')\n",
    "\n",
    "# Executar o teste\n",
    "testar_criticidade()"
   ]
  },
  {
   "cell_type": "markdown",
   "metadata": {},
   "source": [
    "## 2. Determinar a Faixa de Eficiência do Reator"
   ]
  },
  {
   "cell_type": "markdown",
   "metadata": {},
   "source": [
    "Uma vez que o reator tenha começado a gerar energia, sua eficiência precisa ser determinada. A eficiência é classificada em quatro categorias:\n",
    "\n",
    "- **Verde** → eficiência de **80% ou mais**.\n",
    "- **Laranja** → eficiência menor que **80%**, mas pelo menos **60%**.\n",
    "- **Vermelho** → eficiência menor que **60%**, mas pelo menos **30%**.\n",
    "- **Preto** → eficiência menor que **30%**.\n",
    "\n",
    "A eficiência pode ser calculada como:\n",
    "\n",
    "$$\n",
    "\\text{eficiência} = \\left(\\frac{\\text{potência gerada}}{\\text{potência teórica máxima}}\\right) \\times 100\n",
    "$$\n",
    "\n",
    "onde:\n",
    "\n",
    "$$\n",
    "\\text{potência gerada} = \\text{voltagem} \\times \\text{corrente}\n",
    "$$\n",
    "\n",
    "Observe que a eficiência geralmente não é um número inteiro, então utilize corretamente as comparações `<` e `<=`.\n",
    "\n",
    "Implemente a função `reactor_efficiency(voltage, current, theoretical_max_power)`, que recebe três parâmetros: **voltagem**, **corrente** e **potência teórica máxima**. A função deve retornar a faixa de eficiência do reator: `'green'`, `'orange'`, `'red'` ou `'black'`.\n",
    "\n",
    "**Exemplo:**\n",
    "```python\n",
    ">>> reactor_efficiency(200, 50, 15000)\n",
    "'orange'\n",
    "```"
   ]
  },
  {
   "cell_type": "markdown",
   "metadata": {},
   "source": [
    "### 2.1 Implemente a funcão abaixo"
   ]
  },
  {
   "cell_type": "code",
   "execution_count": null,
   "metadata": {},
   "outputs": [],
   "source": [
    "def reactor_efficiency(voltage, current, theoretical_max_power):\n",
    "    \"\"\"Avalia a faixa de eficiência do reator.\n",
    "\n",
    "    :param voltage: int ou float - valor da voltagem.\n",
    "    :param current: int ou float - valor da corrente.\n",
    "    :param theoretical_max_power: int ou float - potência que corresponde a 100% de eficiência.\n",
    "    :return: str - uma das opções ('green', 'orange', 'red' ou 'black').\n",
    "\n",
    "    A eficiência pode ser classificada em 4 faixas:\n",
    "\n",
    "    1. green -> eficiência de 80% ou mais,\n",
    "    2. orange -> eficiência menor que 80%, mas pelo menos 60%,\n",
    "    3. red -> eficiência menor que 60%, mas pelo menos 30%,\n",
    "    4. black -> eficiência menor que 30%.\n",
    "\n",
    "    O valor percentual é calculado como:\n",
    "    (potencia_gerada / potencia_teorica_maxima) * 100\n",
    "    onde potencia_gerada = voltagem * corrente.\n",
    "    \"\"\"\n",
    "\n",
    "pass"
   ]
  },
  {
   "cell_type": "markdown",
   "metadata": {},
   "source": [
    "### 2.2 Rode os testes\n",
    "\n",
    "O código abaixo verifica se a função está implementada corretamente.\n",
    "Você não precisa entendê-lo em detalhes, basta rodar a célula e verificar se algum teste falhou."
   ]
  },
  {
   "cell_type": "code",
   "execution_count": null,
   "metadata": {},
   "outputs": [],
   "source": [
    "def testar_eficiencia():\n",
    "    \"\"\"Testa a função reactor_efficiency\"\"\"\n",
    "    voltagem = 10\n",
    "    potencia_teorica_maxima = 10000\n",
    "\n",
    "    # Os números são escolhidos para que corrente == 10 x percentual\n",
    "    test_data = [\n",
    "        (1000, 'green'), (999, 'green'), (800, 'green'),\n",
    "        (799, 'orange'), (700, 'orange'), (600, 'orange'),\n",
    "        (599, 'red'), (560, 'red'), (400, 'red'), (300, 'red'),\n",
    "        (299, 'black'), (200, 'black'), (0, 'black')\n",
    "    ]\n",
    "\n",
    "    for corrente, esperado in test_data:\n",
    "        resultado_atual = reactor_efficiency(voltagem, corrente, potencia_teorica_maxima)\n",
    "        if resultado_atual != esperado:\n",
    "            print(f'Erro: reactor_efficiency({voltagem}, {corrente}, {potencia_teorica_maxima}) '\n",
    "                  f'retorno {resultado_atual}, esperado {esperado}')\n",
    "        else:\n",
    "            print(f'Teste passou: reactor_efficiency({voltagem}, {corrente}, {potencia_teorica_maxima}) -> {resultado_atual}')\n",
    "\n",
    "# Executar o teste\n",
    "testar_eficiencia()"
   ]
  },
  {
   "cell_type": "markdown",
   "metadata": {},
   "source": [
    "## 3. Mecanismo de Segurança contra Falhas"
   ]
  },
  {
   "cell_type": "markdown",
   "metadata": {},
   "source": [
    "\n",
    "A última tarefa é criar um mecanismo de segurança para evitar sobrecarga e fusão nuclear. Esse mecanismo deve determinar se o reator está abaixo, no nível ideal ou acima do limite de criticidade. A criticidade pode ser ajustada inserindo ou removendo barras de controle no reator.\n",
    "\n",
    "Implemente a função `fail_safe()`, que recebe três parâmetros:\n",
    "\n",
    "- `temperature` → temperatura em Kelvin.\n",
    "- `neutrons_produced_per_second` → número de nêutrons produzidos por segundo.\n",
    "- `threshold` → limite crítico aceitável.\n",
    "\n",
    "A função deve retornar um código de status do reator:\n",
    "\n",
    "- Se `temperature * neutrons_produced_per_second` for **menor que 90% do limite**, o status deve ser **'LOW'**, indicando que as barras de controle devem ser removidas para aumentar a produção de energia.\n",
    "- Se `temperature * neutrons_produced_per_second` estiver dentro de **10% do limite** (ou seja, entre **90% e 110%** do limite), o status deve ser **'NORMAL'**, indicando que o reator está operando de maneira ideal.\n",
    "- Se `temperature * neutrons_produced_per_second` estiver **fora dessas faixas**, o status deve ser **'DANGER'**, indicando que o reator está prestes a entrar em fusão e deve ser desligado imediatamente.\n",
    "\n",
    "**Exemplo:**\n",
    "```python\n",
    ">>> fail_safe(temperature=1000, neutrons_produced_per_second=30, threshold=5000)\n",
    "'DANGER'\n",
    "```"
   ]
  },
  {
   "cell_type": "markdown",
   "metadata": {},
   "source": [
    "### 3.1 Implemente a funcão abaixo"
   ]
  },
  {
   "cell_type": "code",
   "execution_count": null,
   "metadata": {},
   "outputs": [],
   "source": [
    "def fail_safe(temperature, neutrons_produced_per_second, threshold):\n",
    "    \"\"\"Avalia e retorna o código de status do reator.\n",
    "\n",
    "    :param temperature: int ou float - valor da temperatura em kelvin.\n",
    "    :param neutrons_produced_per_second: int ou float - fluxo de nêutrons.\n",
    "    :param threshold: int ou float - limite para a categoria.\n",
    "    :return: str - uma das opções ('LOW', 'NORMAL', 'DANGER').\n",
    "\n",
    "    1. 'LOW' -> `temperature * neutrons per second` < 90% do `threshold`\n",
    "    2. 'NORMAL' -> `temperature * neutrons per second` está dentro de +/- 10% do `threshold`\n",
    "    3. 'DANGER' -> `temperature * neutrons per second` não se enquadra nas faixas acima\n",
    "    \"\"\"\n",
    "\n",
    "    pass"
   ]
  },
  {
   "cell_type": "markdown",
   "metadata": {},
   "source": [
    "### 3.2 Rode os testes\n",
    "\n",
    "O código abaixo verifica se a função está implementada corretamente.\n",
    "Você não precisa entendê-lo em detalhes, basta rodar a célula e verificar se algum teste falhou."
   ]
  },
  {
   "cell_type": "code",
   "execution_count": null,
   "metadata": {},
   "outputs": [],
   "source": [
    "def testar_falha_segura():\n",
    "    \"\"\"Testa a função fail_safe\"\"\"\n",
    "    temp = 10\n",
    "    limite = 10000\n",
    "    \n",
    "    test_data = [\n",
    "        (399, 'LOW'), (300, 'LOW'), (1, 'LOW'), (0, 'LOW'),\n",
    "        (901, 'NORMAL'), (1000, 'NORMAL'), (1099, 'NORMAL'),\n",
    "        (899, 'LOW'), (700, 'LOW'), (400, 'LOW'),\n",
    "        (1101, 'DANGER'), (1200, 'DANGER')\n",
    "    ]\n",
    "\n",
    "    for neutrons_por_segundo, esperado in test_data:\n",
    "        resultado_atual = fail_safe(temp, neutrons_por_segundo, limite)\n",
    "        if resultado_atual != esperado:\n",
    "            print(f'Erro: fail_safe({temp}, {neutrons_por_segundo}, {limite}) '\n",
    "                  f'retorno {resultado_atual}, esperado {esperado}')\n",
    "        else:\n",
    "            print(f'Teste passou: fail_safe({temp}, {neutrons_por_segundo}, {limite}) -> {resultado_atual}')\n",
    "\n",
    "# Executar o teste\n",
    "testar_falha_segura()"
   ]
  }
 ],
 "metadata": {
  "kernelspec": {
   "display_name": "base",
   "language": "python",
   "name": "python3"
  },
  "language_info": {
   "codemirror_mode": {
    "name": "ipython",
    "version": 3
   },
   "file_extension": ".py",
   "mimetype": "text/x-python",
   "name": "python",
   "nbconvert_exporter": "python",
   "pygments_lexer": "ipython3",
   "version": "3.9.12"
  },
  "toc": {
   "base_numbering": 1,
   "nav_menu": {},
   "number_sections": true,
   "sideBar": true,
   "skip_h1_title": false,
   "title_cell": "Table of Contents",
   "title_sidebar": "Contents",
   "toc_cell": false,
   "toc_position": {},
   "toc_section_display": true,
   "toc_window_display": false
  }
 },
 "nbformat": 4,
 "nbformat_minor": 2
}
