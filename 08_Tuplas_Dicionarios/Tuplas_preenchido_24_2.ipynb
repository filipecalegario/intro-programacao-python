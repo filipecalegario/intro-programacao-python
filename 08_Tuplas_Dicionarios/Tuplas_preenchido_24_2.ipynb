{
 "cells": [
  {
   "cell_type": "markdown",
   "metadata": {},
   "source": [
    "# Tuplas\n",
    "\n",
    "Tuplas são similares a listas. Ou seja, elas servem para armazenar uma coleção de objetos. Porém, diferente das listas, as tuplas são imutáveis, não permitindo modificar os valores armazenados. Uma consequência dessa propriedade é que muitas das funções disponíveis para listas não podem ser aplicadas em tuplas.\n",
    "\n",
    "O uso de tuplas é recomendado em situações em que existe uma garantia de que os dados armazenados não serão modificados.\n",
    "\n",
    "Para definir uma tupla, utiliza-se um conjunto de objetos entre parênteses (opcional, mas recomendado) e separados por vírgula. \n"
   ]
  },
  {
   "cell_type": "code",
   "execution_count": null,
   "metadata": {
    "scrolled": true
   },
   "outputs": [],
   "source": []
  },
  {
   "cell_type": "code",
   "execution_count": null,
   "metadata": {},
   "outputs": [],
   "source": []
  },
  {
   "cell_type": "markdown",
   "metadata": {},
   "source": [
    "Uma **tupla vazia** pode ser escrita com um par de parênteses  `tupla_vazia = ()`.\n",
    "\n",
    "Porém, é preciso ter cuidado para criar uma tupla com um elemento apenas. Se tentarmos colocar um elemento entre parênteses apenas `tupla_um_elemento = (2)`, Python vai entender que estamos criando uma expressão. O resultado será o inteiro `2`."
   ]
  },
  {
   "cell_type": "code",
   "execution_count": null,
   "metadata": {},
   "outputs": [],
   "source": []
  },
  {
   "cell_type": "markdown",
   "metadata": {},
   "source": [
    "Para evitar isso, temos que colocar uma vírgula após o **único** elemento da tupla `tupla_um_elemento = (2,)`."
   ]
  },
  {
   "cell_type": "code",
   "execution_count": null,
   "metadata": {},
   "outputs": [],
   "source": []
  }
 ],
 "metadata": {
  "kernelspec": {
   "display_name": "Python 3",
   "language": "python",
   "name": "python3"
  },
  "language_info": {
   "codemirror_mode": {
    "name": "ipython",
    "version": 3
   },
   "file_extension": ".py",
   "mimetype": "text/x-python",
   "name": "python",
   "nbconvert_exporter": "python",
   "pygments_lexer": "ipython3",
   "version": "3.8.3"
  }
 },
 "nbformat": 4,
 "nbformat_minor": 2
}
