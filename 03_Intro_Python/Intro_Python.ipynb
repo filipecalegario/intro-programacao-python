{
 "cells": [
  {
   "cell_type": "markdown",
   "metadata": {},
   "source": [
    "# Introdução a Python\n",
    "\n",
    "Vamos imprimir nossa primeira frase em Python. Para isso, usaremos o comando print.\n"
   ]
  },
  {
   "cell_type": "code",
   "execution_count": null,
   "metadata": {},
   "outputs": [],
   "source": [
    "print('Python é massa!')"
   ]
  },
  {
   "cell_type": "markdown",
   "metadata": {},
   "source": [
    "Agora, vamos utilizar uma variável para guardar a mensagem."
   ]
  },
  {
   "cell_type": "code",
   "execution_count": null,
   "metadata": {},
   "outputs": [],
   "source": [
    "mensagem = 'Python é massa!'\n",
    "print(mensagem) \n",
    "print(mensagem) \n",
    "print(mensagem) "
   ]
  },
  {
   "cell_type": "markdown",
   "metadata": {},
   "source": [
    "Como faríamos para traduzir nosso algoritmo de Portugol para Python?\n",
    "\n",
    "```python\n",
    "imprima \"Digite um número\"\n",
    "leia x\n",
    "y = (x * 2)\n",
    "imprima y\n",
    "```\n",
    "\n",
    "Vamos testar a versão abaixo:"
   ]
  },
  {
   "cell_type": "code",
   "execution_count": null,
   "metadata": {},
   "outputs": [],
   "source": [
    "x = (input('Digite um número: '))\n",
    "y = (x * 2)\n",
    "print(y)"
   ]
  },
  {
   "cell_type": "markdown",
   "metadata": {},
   "source": [
    "O que deu errado? \n",
    "\n",
    "R: O programa fez a leitura de um texto. Ou seja, não fez a leitura do valor inteiro 2. Ele leu o texto \"2\". Quando executou `y = (x * 2)`, duplicou o texto \"2\", resultando no texto \"22\".\n",
    "\n",
    "Para corrigir o problema, vamos indicar que queremos ler um inteiro, através do comando `int()`"
   ]
  },
  {
   "cell_type": "code",
   "execution_count": null,
   "metadata": {},
   "outputs": [],
   "source": [
    "x = int(input('Digite um número: '))\n",
    "y = (x * 2)\n",
    "print(y)"
   ]
  },
  {
   "cell_type": "markdown",
   "metadata": {},
   "source": [
    "Corrija o código abaixo para que seja impresso o texto corrija-me:"
   ]
  },
  {
   "cell_type": "code",
   "execution_count": null,
   "metadata": {},
   "outputs": [],
   "source": [
    "print(corrija-me)"
   ]
  },
  {
   "cell_type": "markdown",
   "metadata": {},
   "source": [
    "É possível combinar textos, usando o comando de concatenação `+`. Vamos fazer um teste."
   ]
  },
  {
   "cell_type": "code",
   "execution_count": null,
   "metadata": {},
   "outputs": [],
   "source": [
    "print('Programação ' + 'com ' + 'Python')"
   ]
  },
  {
   "cell_type": "markdown",
   "metadata": {},
   "source": [
    "Ajuste o código acima para incluir espaços entre as palavras da frase impressa."
   ]
  },
  {
   "cell_type": "markdown",
   "metadata": {},
   "source": [
    "### Exercício\n",
    "\n",
    "Crie um programa para: \n",
    "1. Armazenar a **string** 2+3 em uma variável\n",
    "2. Armazenar o valor da operação **numérica** 2+3 em outra variável\n",
    "3. Imprimir o valor da string seguida pelo resultado numérico da operação na mesma linha \n",
    "\n",
    "*Atenção! Utilize a função str() para converter o valor numérico em string na hora de imprimir*"
   ]
  },
  {
   "cell_type": "code",
   "execution_count": null,
   "metadata": {},
   "outputs": [],
   "source": [
    "var_string = ('2+3')\n",
    "var_numero = 2+3\n",
    "print(var_string + '=' + str(var_numero))"
   ]
  },
  {
   "cell_type": "markdown",
   "metadata": {},
   "source": [
    "## Nomes de variáveis e funções\n",
    "\n",
    "* Podem conter letras, dígitos e underscores ( _ )\n",
    "* Não pode iniciar com dígitos\n",
    "* Boas práticas:\n",
    "    - Utilize nomes significativos;\n",
    "    - Escreva todas as letras minúsculas;\n",
    "    - Separe palavras com _ (comum em Python); \n",
    "    - Evite preposições para separar palavras;\n",
    "    - Evite acentos e cedilha.\n",
    "\n",
    "\n",
    "\n",
    "| Código Python                  | Avaliação                      |\n",
    "|:-------------------------------|:------------------------------ |\n",
    "|x = 'Rua Python\"                | ok, mas não recomendável (nome sem significado) |\n",
    "|1endereço = 'Rua Python'        | erro de sintaxe (inicia com número)               |\n",
    "|endereço = 'Rua Python'         | ok, mas não recomendável (uso de cedilha)\n",
    "|endereco = 'Rua Python'         | ok                      |\n",
    "|endereco1 = 'Rua Python'        | ok                             |\n",
    "|endereco_de_rui = 'Rua Python'       | ok, mas não recomendado (uso de preoposição)        |\n",
    "|endereco_rui = 'Rua Python'          | ok                             |\n",
    "|enderecoRui = 'Rua Python'           | ok, mas não é padrão Python    |\n",
    "|def = 'Rua Python'                         | erro de sintaxe, palavra reservada |"
   ]
  },
  {
   "cell_type": "markdown",
   "metadata": {},
   "source": [
    "## Palavras reseravadas de Python\n",
    "\n",
    "```python\n",
    "and       del       from      None      True\n",
    "as        elif      global    nonlocal  try\n",
    "assert    else      if        not       while\n",
    "break     except    import    or        with\n",
    "class     False     in        pass      yield\n",
    "continue  finally   is        raise     async\n",
    "def       for       lambda    return    await\n",
    "```"
   ]
  },
  {
   "cell_type": "markdown",
   "metadata": {},
   "source": [
    "_______________________"
   ]
  },
  {
   "cell_type": "markdown",
   "metadata": {},
   "source": [
    "# Exercício: **Calculadora Pessoal de Consumo e Custo Anual de Combustível**  \n",
    "\n",
    "Você já se perguntou **quanto combustível consome** e **quanto gasta por ano abastecendo**? Com esta ferramenta, você poderá calcular esses valores com base na sua rotina de uso do carro!  \n",
    "\n",
    "### **Passos para o cálculo:**  \n",
    "\n",
    "✅ **Passo 1:** Informe a eficiência do seu veículo (**quantos km/l ele faz**).  \n",
    "✅ **Passo 2:** Insira quantos **quilômetros você percorre por dia**.  \n",
    "✅ **Passo 3:** Informe o **número de dias da semana em que você usa o carro**.  \n",
    "✅ **Passo 4:** Digite o **preço médio do litro do combustível**.  \n",
    "✅ **Passo 5:** Assuma que o **ano tem 52 semanas** e calcule:  \n",
    "   - A quilometragem percorrida no ano.  \n",
    "   - A quantidade de combustível consumida no ano.  \n",
    "   - O custo total gasto com combustível durante o ano.  \n",
    "\n",
    "✅ **Passo 6:** Exiba um relatório com os valores calculados no formato:  \n",
    "   *Você utiliza o carro ___ dias por semana, consome aproximadamente ___ litros de combustível por ano e gasta cerca de R$ ___ com abastecimento!*  \n",
    "\n",
    "✅ **Passo 7:** Analise os resultados:  \n",
    "   - Se seu veículo for **econômico** (consumo maior ou igual a **12 km/l**) e seu gasto anual for menor que **R$ 5000**, exiba uma mensagem positiva.  \n",
    "   - Caso contrário, sugira estratégias para **reduzir os custos**, como dirigir de forma mais eficiente ou considerar um veículo mais econômico.  \n",
    "\n",
    "Agora, personalize seu cálculo e veja o impacto do seu consumo no bolso! 🚗⛽💰"
   ]
  },
  {
   "cell_type": "code",
   "execution_count": null,
   "metadata": {},
   "outputs": [],
   "source": [
    "\"\"\"Calcula o consumo e custo anual de combustível baseado no uso semanal do veículo.\"\"\"\n",
    "   \n",
    "nome = input('Qual é o seu nome? ')\n",
    "print(f'Olá, {nome}! Vamos calcular o consumo e o custo anual de combustível do seu veículo.')\n",
    "\n",
    "consumo_km_l = float(input('Quantos km por litro seu carro faz? '))\n",
    "km_por_dia = float(input('Quantos km você dirige por dia? '))\n",
    "dias_por_semana = int(input('Quantos dias por semana você usa o carro? '))\n",
    "preco_combustivel = float(input('Qual o preço médio do litro do combustível? '))\n",
    "\n",
    "km_ano = km_por_dia * dias_por_semana * 52\n",
    "litros_ano = km_ano / consumo_km_l\n",
    "custo_anual = litros_ano * preco_combustivel\n",
    "\n",
    "print(f'\\nResultados para o seu veículo:')\n",
    "print(f'- Quilometragem percorrida por ano: {km_ano:.0f} km')\n",
    "print(f'- Consumo de combustível por ano: {litros_ano:.2f} litros')\n",
    "print(f'- Gasto anual com combustível: R$ {custo_anual:.2f}')\n",
    "\n",
    "if consumo_km_l >= 12 and custo_anual < 5000:\n",
    "    print('Seu carro tem um consumo eficiente e um custo de abastecimento razoável. Bom trabalho!')\n",
    "elif consumo_km_l < 12 and custo_anual >= 5000:\n",
    "    print('Seu carro consome muito combustível e tem um custo alto de abastecimento. Talvez seja interessante buscar alternativas mais econômicas.')\n",
    "elif consumo_km_l < 12:\n",
    "    print('Seu carro tem um consumo elevado, mas seu custo de abastecimento ainda está razoável.')\n",
    "else:\n",
    "    print('Seu custo de abastecimento é alto, apesar do bom consumo do veículo. Considere reduzir a quilometragem diária ou buscar combustíveis mais baratos.')"
   ]
  }
 ],
 "metadata": {
  "kernelspec": {
   "display_name": "Python 3.10.8 64-bit",
   "language": "python",
   "name": "python3"
  },
  "language_info": {
   "codemirror_mode": {
    "name": "ipython",
    "version": 3
   },
   "file_extension": ".py",
   "mimetype": "text/x-python",
   "name": "python",
   "nbconvert_exporter": "python",
   "pygments_lexer": "ipython3",
   "version": "3.10.8"
  },
  "toc": {
   "base_numbering": 1,
   "nav_menu": {},
   "number_sections": true,
   "sideBar": true,
   "skip_h1_title": false,
   "title_cell": "Table of Contents",
   "title_sidebar": "Contents",
   "toc_cell": false,
   "toc_position": {},
   "toc_section_display": true,
   "toc_window_display": false
  },
  "vscode": {
   "interpreter": {
    "hash": "949777d72b0d2535278d3dc13498b2535136f6dfe0678499012e853ee9abcab1"
   }
  }
 },
 "nbformat": 4,
 "nbformat_minor": 2
}
