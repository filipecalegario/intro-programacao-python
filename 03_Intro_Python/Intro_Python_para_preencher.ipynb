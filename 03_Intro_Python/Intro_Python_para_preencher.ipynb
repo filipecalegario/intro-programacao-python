{
 "cells": [
  {
   "cell_type": "markdown",
   "metadata": {},
   "source": [
    "# Introdução a Python\n",
    "\n",
    "Vamos imprimir nossa primeira frase em Python. Para isso, usaremos o comando print.\n"
   ]
  },
  {
   "cell_type": "code",
   "execution_count": null,
   "metadata": {},
   "outputs": [],
   "source": []
  },
  {
   "cell_type": "markdown",
   "metadata": {},
   "source": [
    "Agora, vamos utilizar uma variável para guardar a mensagem."
   ]
  },
  {
   "cell_type": "code",
   "execution_count": null,
   "metadata": {},
   "outputs": [],
   "source": []
  },
  {
   "cell_type": "markdown",
   "metadata": {},
   "source": [
    "Como faríamos para traduzir nosso algoritmo de Portugol para Python?\n",
    "\n",
    "```python\n",
    "imprima \"Digite um número\"\n",
    "leia x\n",
    "y = (x * 2)\n",
    "imprima y\n",
    "```\n",
    "\n",
    "Vamos testar a versão abaixo:"
   ]
  },
  {
   "cell_type": "code",
   "execution_count": null,
   "metadata": {},
   "outputs": [],
   "source": []
  },
  {
   "cell_type": "markdown",
   "metadata": {},
   "source": [
    "O que deu errado? \n",
    "\n",
    "R: O programa fez a leitura de um texto. Ou seja, não fez a leitura do valor inteiro 2. Ele leu o texto \"2\". Quando executou `y = (x * 2)`, duplicou o texto \"2\", resultando no texto \"22\".\n",
    "\n",
    "Para corrigir o problema, vamos indicar que queremos ler um inteiro, através do comando `int()`"
   ]
  },
  {
   "cell_type": "code",
   "execution_count": null,
   "metadata": {},
   "outputs": [],
   "source": []
  },
  {
   "cell_type": "markdown",
   "metadata": {},
   "source": [
    "Corrija o código abaixo para que seja impresso o texto corrija-me:"
   ]
  },
  {
   "cell_type": "code",
   "execution_count": null,
   "metadata": {},
   "outputs": [],
   "source": []
  },
  {
   "cell_type": "markdown",
   "metadata": {},
   "source": [
    "É possível combinar textos, usando o comando de concatenação `+`. Vamos fazer um teste."
   ]
  },
  {
   "cell_type": "code",
   "execution_count": null,
   "metadata": {},
   "outputs": [],
   "source": []
  },
  {
   "cell_type": "markdown",
   "metadata": {},
   "source": [
    "Ajuste o código acima para incluir espaços entre as palavras da frase impressa."
   ]
  },
  {
   "cell_type": "markdown",
   "metadata": {},
   "source": [
    "### Exercício\n",
    "\n",
    "Crie um programa para: \n",
    "1. Armazenar a **string** 2+3 em uma variável\n",
    "2. Armazenar o valor da operação **numérica** 2+3 em outra variável\n",
    "3. Imprimir o valor da string seguida pelo resultado numérico da operação na mesma linha \n",
    "\n",
    "*Atenção! Utilize a função str() para converter o valor numérico em string na hora de imprimir*"
   ]
  },
  {
   "cell_type": "code",
   "execution_count": null,
   "metadata": {},
   "outputs": [],
   "source": []
  },
  {
   "cell_type": "markdown",
   "metadata": {},
   "source": [
    "## Nomes de variáveis e funções\n",
    "\n",
    "* Podem conter letras, dígitos e underscores ( _ )\n",
    "* Não pode iniciar com dígitos\n",
    "* Boas práticas:\n",
    "    - Utilize nomes significativos;\n",
    "    - Escreva todas as letras minúsculas;\n",
    "    - Separe palavras com _ (comum em Python); \n",
    "    - Evite preposições para separar palavras;\n",
    "    - Evite acentos e cedilha.\n",
    "\n",
    "\n",
    "\n",
    "| Código Python                  | Avaliação                      |\n",
    "|:-------------------------------|:------------------------------ |\n",
    "|x = 'Rua Python\"                | ok, mas não recomendável (nome sem significado) |\n",
    "|1endereço = 'Rua Python'        | erro de sintaxe (inicia com número)               |\n",
    "|endereço = 'Rua Python'         | ok, mas não recomendável (uso de cedilha)\n",
    "|endereco = 'Rua Python'         | ok                      |\n",
    "|endereco1 = 'Rua Python'        | ok                             |\n",
    "|endereco_de_rui = 'Rua Python'       | ok, mas não recomendado (uso de preoposição)        |\n",
    "|endereco_rui = 'Rua Python'          | ok                             |\n",
    "|enderecoRui = 'Rua Python'           | ok, mas não é padrão Python    |\n",
    "|def = 'Rua Python'                         | erro de sintaxe, palavra reservada |"
   ]
  },
  {
   "cell_type": "markdown",
   "metadata": {},
   "source": [
    "## Palavras reseravadas de Python\n",
    "\n",
    "```python\n",
    "and       del       from      None      True\n",
    "as        elif      global    nonlocal  try\n",
    "assert    else      if        not       while\n",
    "break     except    import    or        with\n",
    "class     False     in        pass      yield\n",
    "continue  finally   is        raise     async\n",
    "def       for       lambda    return    await\n",
    "```"
   ]
  },
  {
   "cell_type": "markdown",
   "metadata": {},
   "source": [
    "_______________________"
   ]
  },
  {
   "cell_type": "markdown",
   "metadata": {},
   "source": [
    "## Ajude Rui a alcançar seu peso ideal \n",
    "\n",
    "![](./imgs/RuiRegime.png)\n",
    "\n",
    "Seu amigo Rui está acima do peso ideal e pediu para você ajudá-lo no cálculo de calorias gastas durante um ano.\n",
    "O primeiro passo é armazenar o nome de Rui em uma **variável** e imprimir uma mensagem de boas vindas, utilizando essa variável.\n",
    "\n",
    "*Algo do tipo: Olá, Rui!*\n",
    "\n",
    "* Leia a taxa metabólica basal (calorias gastas sem esforço durante o dia) de Rui e armazene em uma variável;\n",
    "* Leia a quantidade média de calorias que Rui gasta quando faz alguma atividade física e armazene em uma variável;\n",
    "* Leia a quantidade de vezes que Rui faz atividades físicas durante a semana;\n",
    "* Leia a quantidade de meses que Rui descansa durante um ano;\n",
    "* Assuma que todo mês possui 4 semanas;\n",
    "* Calcule e imprima a quantidade de calorias gastas por Rui durante o ano.\n",
    "\n",
    "*Ex: Rui, você gasta ___ calorias por ano!*"
   ]
  },
  {
   "cell_type": "code",
   "execution_count": null,
   "metadata": {},
   "outputs": [],
   "source": [
    "nome = 'Rui'\n",
    "print('Olá! ' + nome)\n",
    "taxa_basal    = int(input('Qual é sua taxa metabólica basal? '))\n",
    "cal_atividade = int(input('Quantas calorias você gasta por atividade física? '))\n",
    "atividade_sem = int(input('Quantas vezes você se exercita por semana? '))\n",
    "descanso      = int(input('Quantos meses do ano você descansa? '))\n",
    "# COMPLETE\n",
    "# OS CÁLCULOS\n",
    "# AQUI\n",
    "print(nome  + ', realizamos o cálculo')\n",
    "print('Você gasta ' + str(calorias_gastas) + ' calorias por ano!')"
   ]
  },
  {
   "cell_type": "markdown",
   "metadata": {},
   "source": [
    "Agora que Rui já sabe quantas calorias gasta por ano, ele precisa saber quanto ele consome de calorias por ano, pois só vai emagrecer se a quantidade que consome for menor do que a que ele gasta.\n",
    "\n",
    "Complemente seu programa com o cálculo do consumo de calorias.\n",
    "\n",
    "* Leia a quantidade média de calorias que Rui consome por refeição;\n",
    "* Leia quantas refeições ele faz por dia;\n",
    "* Assuma novamente que um mês possui 4 semanas;\n",
    "* Calcule e imprima a quantidade de calorias consumidas por Rui em um ano.\n"
   ]
  },
  {
   "cell_type": "code",
   "execution_count": null,
   "metadata": {},
   "outputs": [],
   "source": [
    "nome = 'Rui'\n",
    "print('Olá! ' + nome)\n",
    "taxa_basal    = int(input('Qual é sua taxa metabólica basal? '))\n",
    "cal_atividade = int(input('Quantas calorias você gasta por atividade física? '))\n",
    "atividade_sem = int(input('Quantas vezes você se exercita por semana? '))\n",
    "descanso      = int(input('Quantos meses do ano você descansa? '))\n",
    "# COMPLETE\n",
    "# OS CÁLCULOS\n",
    "# AQUI\n",
    "print(nome  + ', realizamos o cálculo')\n",
    "print('Você gasta ' + str(calorias_gastas) + ' calorias por ano!')\n",
    "calorias_consumidas = int(input('Qual a média de calorias que você consome por refeição?'))\n",
    "num_refeicoes = int(input('Quantas refeições você faz por dia?'))\n",
    "# COMPLETE OS CÁLCULOS AQUI\n",
    "print(nome + ', realizamos o cálculo!')\n",
    "print('Você consome ' + str(calorias_consumidas_ano) + ' calorias por ano!')"
   ]
  },
  {
   "cell_type": "markdown",
   "metadata": {},
   "source": [
    "### Organize seu código! \n",
    "\n",
    "Por exemplo:\n",
    "* Separe cada bloco de código com uma linha;\n",
    "* Inclua um comentário acima de cada bloco de código, explicando o que o código faz."
   ]
  },
  {
   "cell_type": "code",
   "execution_count": null,
   "metadata": {},
   "outputs": [],
   "source": [
    "# mensagem inicial\n",
    "nome = 'Rui'\n",
    "print('Olá! ' + nome)\n",
    "\n",
    "# Cálculo do gasto calórico\n",
    "taxa_basal    = int(input('Qual é sua taxa metabólica basal? '))\n",
    "cal_atividade = int(input('Quantas calorias você gasta por atividade física? '))\n",
    "atividade_sem = int(input('Quantas vezes você se exercita por semana? '))\n",
    "descanso      = int(input('Quantos meses do ano você descansa? '))\n",
    "# COMPLETE\n",
    "# OS CÁLCULOS\n",
    "# AQUI\n",
    "\n",
    "# impressão do relatório do gasto calórico\n",
    "print(nome  + ', realizamos o cálculo')\n",
    "print('Você gasta ' + str(calorias_gastas) + ' calorias por ano!')\n",
    "\n",
    "# Cálculo do consumo calórico\n",
    "# COMPLETE\n",
    "# OS CÁLCULOS\n",
    "# AQUI\n",
    "\n",
    "# impressão do relatório de consumo calórico\n",
    "print(nome + ', realizamos o cálculo!')\n",
    "print('Você consome ' + str(calorias_consumidas_ano) + ' calorias por ano!')"
   ]
  },
  {
   "attachments": {
    "image.png": {
     "image/png": "[encoded data removed]"
    }
   },
   "cell_type": "markdown",
   "metadata": {},
   "source": [
    "Agora que Rui já sabe quantas calorias gasta e consome por ano, será que ele vai ganhar ou perder peso durante um ano?\n",
    "\n",
    "Vamos utilizar o comando if-else para decidir se ele irá ganhar ou perder peso.\n",
    "\n",
    "![image.png](attachment:image.png)"
   ]
  },
  {
   "cell_type": "code",
   "execution_count": null,
   "metadata": {},
   "outputs": [],
   "source": []
  },
  {
   "cell_type": "markdown",
   "metadata": {},
   "source": [
    "Modifique o programa para que ele realize as mesmas operações para um outro amigo seu, chamado Augusto."
   ]
  },
  {
   "cell_type": "code",
   "execution_count": null,
   "metadata": {},
   "outputs": [],
   "source": []
  }
 ],
 "metadata": {
  "kernelspec": {
   "display_name": "Python 3.10.8 64-bit",
   "language": "python",
   "name": "python3"
  },
  "language_info": {
   "codemirror_mode": {
    "name": "ipython",
    "version": 3
   },
   "file_extension": ".py",
   "mimetype": "text/x-python",
   "name": "python",
   "nbconvert_exporter": "python",
   "pygments_lexer": "ipython3",
   "version": "3.10.8"
  },
  "toc": {
   "base_numbering": 1,
   "nav_menu": {},
   "number_sections": true,
   "sideBar": true,
   "skip_h1_title": false,
   "title_cell": "Table of Contents",
   "title_sidebar": "Contents",
   "toc_cell": false,
   "toc_position": {},
   "toc_section_display": true,
   "toc_window_display": false
  },
  "vscode": {
   "interpreter": {
    "hash": "949777d72b0d2535278d3dc13498b2535136f6dfe0678499012e853ee9abcab1"
   }
  }
 },
 "nbformat": 4,
 "nbformat_minor": 2
}
